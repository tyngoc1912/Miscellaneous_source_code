{
 "cells": [
  {
   "cell_type": "markdown",
   "metadata": {},
   "source": [
    "**Câu 1:** Đọc tập dữ liệu Iris dùng hàm `np.genfromtxt()` với `dtype='object'`.  Dữ liệu trả về là một mảng 2 chiều, với các phần tử có kiểu là byte."
   ]
  },
  {
   "cell_type": "code",
   "execution_count": 1,
   "metadata": {},
   "outputs": [],
   "source": [
    "import numpy as np\n",
    "import pandas as pd"
   ]
  },
  {
   "cell_type": "code",
   "execution_count": 2,
   "metadata": {},
   "outputs": [
    {
     "name": "stdout",
     "output_type": "stream",
     "text": [
      "(30, 5)\n"
     ]
    }
   ],
   "source": [
    "# Cach 1: Nhap du lieu su dung thu vien pandas\n",
    "\n",
    "dataFrame = pd.read_csv('iris.csv', header=None)\n",
    "print(dataFrame.shape)"
   ]
  },
  {
   "cell_type": "code",
   "execution_count": 3,
   "metadata": {},
   "outputs": [
    {
     "name": "stdout",
     "output_type": "stream",
     "text": [
      "(30, 5)\n"
     ]
    }
   ],
   "source": [
    "# Cach 2: doc du lieu su dung ham np.genfromtxt()\n",
    "\n",
    "iris = np.genfromtxt('iris.csv', delimiter=',', dtype='object')\n",
    "print(iris.shape)"
   ]
  },
  {
   "cell_type": "code",
   "execution_count": 4,
   "metadata": {},
   "outputs": [
    {
     "name": "stdout",
     "output_type": "stream",
     "text": [
      "[b'5.1' b'3.5' b'1.4' b'0.2' b'Iris-setosa']\n"
     ]
    }
   ],
   "source": [
    "# Lay mot dong du lieu:\n",
    "a_row = iris[0]\n",
    "print(a_row)"
   ]
  },
  {
   "cell_type": "code",
   "execution_count": 5,
   "metadata": {},
   "outputs": [
    {
     "name": "stdout",
     "output_type": "stream",
     "text": [
      "b'5.1' <class 'bytes'>\n",
      "b'3.5' <class 'bytes'>\n",
      "b'1.4' <class 'bytes'>\n",
      "b'0.2' <class 'bytes'>\n",
      "b'Iris-setosa' <class 'bytes'>\n"
     ]
    }
   ],
   "source": [
    "# In kieu du lieu cho phan tu\n",
    "print(a_row[0], type(a_row[0]))\n",
    "print(a_row[1], type(a_row[1]))\n",
    "print(a_row[2], type(a_row[2]))\n",
    "print(a_row[3], type(a_row[3]))\n",
    "print(a_row[4], type(a_row[4]))"
   ]
  },
  {
   "cell_type": "markdown",
   "metadata": {},
   "source": [
    "**Câu 3:**  Tạo một mảng 2 chiểu gồm 4 cột dữ liệu đầu tiên."
   ]
  },
  {
   "cell_type": "code",
   "execution_count": 6,
   "metadata": {},
   "outputs": [
    {
     "name": "stdout",
     "output_type": "stream",
     "text": [
      "(30, 4)\n"
     ]
    }
   ],
   "source": [
    "x = dataFrame.values[:, 0:4]\n",
    "# print(x)\n",
    "print(x.shape)"
   ]
  },
  {
   "cell_type": "code",
   "execution_count": 7,
   "metadata": {},
   "outputs": [
    {
     "name": "stdout",
     "output_type": "stream",
     "text": [
      "[[5.1 3.5 1.4 0.2]\n",
      " [4.9 3.0 1.4 0.2]\n",
      " [4.7 3.2 1.3 0.2]\n",
      " [4.6 3.1 1.5 0.2]]\n"
     ]
    }
   ],
   "source": [
    "# In 4 dong dau\n",
    "print(x[0:4, :])"
   ]
  },
  {
   "cell_type": "markdown",
   "metadata": {},
   "source": [
    "**Câu 4:**  Tìm giá trị trung bình (`mean`), trung vị (`median`), độ lệch chuẩn (`standard deviation`) của cột sepal_length của tập dữ liệu iris (cột thứ 1)."
   ]
  },
  {
   "cell_type": "code",
   "execution_count": 8,
   "metadata": {},
   "outputs": [
    {
     "name": "stdout",
     "output_type": "stream",
     "text": [
      "(30, 1)\n"
     ]
    }
   ],
   "source": [
    "first_col = dataFrame.values[:, 0].reshape(-1, 1)\n",
    "print(first_col.shape)"
   ]
  },
  {
   "cell_type": "code",
   "execution_count": 9,
   "metadata": {},
   "outputs": [
    {
     "name": "stdout",
     "output_type": "stream",
     "text": [
      "5.843333333333333\n"
     ]
    }
   ],
   "source": [
    "mean = np.mean(first_col)\n",
    "print(mean)"
   ]
  },
  {
   "cell_type": "code",
   "execution_count": 10,
   "metadata": {},
   "outputs": [
    {
     "name": "stdout",
     "output_type": "stream",
     "text": [
      "5.75\n"
     ]
    }
   ],
   "source": [
    "median = np.median(first_col)\n",
    "print(median)"
   ]
  },
  {
   "cell_type": "code",
   "execution_count": 11,
   "metadata": {},
   "outputs": [
    {
     "name": "stdout",
     "output_type": "stream",
     "text": [
      "0.947868954843208\n"
     ]
    }
   ],
   "source": [
    "std = np.std(first_col)\n",
    "print(std)"
   ]
  },
  {
   "cell_type": "markdown",
   "metadata": {},
   "source": [
    "**Câu 5:**  Chuẩn hóa (`normalize`) cột sepallength để giá trị nằm trong khoảng từ 0 đến 1.\n",
    "\n",
    "Công thức chuẩn hoá:\n",
    "\n",
    "`(norm_array_a = a(i) - min.a) / (max.a - min.a)`"
   ]
  },
  {
   "cell_type": "code",
   "execution_count": 12,
   "metadata": {},
   "outputs": [
    {
     "name": "stdout",
     "output_type": "stream",
     "text": [
      "[[0.21874999999999983]\n",
      " [0.15625000000000003]\n",
      " [0.09374999999999996]\n",
      " [0.06249999999999979]\n",
      " [0.18749999999999992]]\n"
     ]
    }
   ],
   "source": [
    "norm_first_col = (first_col - first_col.min()) / first_col.ptp()\n",
    "print(norm_first_col[:5])"
   ]
  },
  {
   "cell_type": "markdown",
   "metadata": {},
   "source": [
    "**Câu 6:**  Tính `softmax` cho cột sepallength.\n",
    "\n",
    "Công thức:\n",
    "\n",
    "![Image](https://wikimedia.org/api/rest_v1/media/math/render/svg/11b61d999176b3e8db6efe6632b7cc62fa4d4c53)"
   ]
  },
  {
   "cell_type": "code",
   "execution_count": 13,
   "metadata": {},
   "outputs": [],
   "source": [
    "def softmax(x):\n",
    "    e_x = np.exp(x*1.0 - np.max(x))\n",
    "    return e_x / e_x.sum()"
   ]
  },
  {
   "cell_type": "code",
   "execution_count": 14,
   "metadata": {},
   "outputs": [
    {
     "name": "stdout",
     "output_type": "stream",
     "text": [
      "[[0.0103]\n",
      " [0.0084]\n",
      " [0.0069]\n",
      " [0.0063]\n",
      " [0.0093]\n",
      " [0.0139]\n",
      " [0.0063]\n",
      " [0.0093]\n",
      " [0.0051]\n",
      " [0.0084]\n",
      " [0.069 ]\n",
      " [0.0379]\n",
      " [0.0624]\n",
      " [0.0154]\n",
      " [0.0418]\n",
      " [0.0188]\n",
      " [0.0343]\n",
      " [0.0084]\n",
      " [0.0462]\n",
      " [0.0114]\n",
      " [0.0343]\n",
      " [0.0208]\n",
      " [0.0762]\n",
      " [0.0343]\n",
      " [0.0418]\n",
      " [0.1257]\n",
      " [0.0084]\n",
      " [0.0931]\n",
      " [0.0511]\n",
      " [0.0843]]\n"
     ]
    }
   ],
   "source": [
    "# in chi 4 so sau phan thap phan\n",
    "np.set_printoptions(precision=4)\n",
    "\n",
    "first_col = np.float64(first_col)\n",
    "print(softmax(first_col))"
   ]
  },
  {
   "cell_type": "markdown",
   "metadata": {},
   "source": [
    "**Câu 8:**  Đọc 4 cột dữ liệu đầu tiên, và lọc các dòng có petallength (cột thứ 3) > 1.5 và sepallength (cột thứ 1) < 5.0."
   ]
  },
  {
   "cell_type": "code",
   "execution_count": 15,
   "metadata": {},
   "outputs": [
    {
     "name": "stdout",
     "output_type": "stream",
     "text": [
      "(30, 4)\n",
      "[[4.9 2.4 3.3 1. ]\n",
      " [4.9 2.5 4.5 1.7]]\n"
     ]
    }
   ],
   "source": [
    "iris_2d = np.genfromtxt('iris.csv', delimiter=',', dtype='float', usecols=[0,1,2,3])\n",
    "\n",
    "print(iris_2d.shape)\n",
    "condition = (iris_2d[:, 2] > 1.5) & (iris_2d[:, 0] < 5.0)\n",
    "\n",
    "out = iris_2d[condition]\n",
    "print(out)"
   ]
  },
  {
   "cell_type": "code",
   "execution_count": 16,
   "metadata": {},
   "outputs": [
    {
     "name": "stdout",
     "output_type": "stream",
     "text": [
      "(30, 4)\n",
      "[[4.9 2.4 3.3 1. ]\n",
      " [4.9 2.5 4.5 1.7]]\n"
     ]
    }
   ],
   "source": [
    "# Cách 2\n",
    "print(x.shape)\n",
    "x = np.float64(x)\n",
    "condition2 = (x[:, 2] > 1.5) & (x[:, 0] < 5.0)\n",
    "\n",
    "out2 = x[condition]\n",
    "print(out2)"
   ]
  },
  {
   "cell_type": "markdown",
   "metadata": {},
   "source": [
    "**Câu 9:**  Tìm mối tương quan giữa SepalLength (cột thứ 1) và PetalLength (cột thứ 3).\n",
    "\n",
    "Đọc hiểu: https://docs.scipy.org/doc/numpy/reference/generated/numpy.corrcoef.html"
   ]
  },
  {
   "cell_type": "code",
   "execution_count": 17,
   "metadata": {},
   "outputs": [
    {
     "name": "stdout",
     "output_type": "stream",
     "text": [
      "[[1.     0.8766]\n",
      " [0.8766 1.    ]]\n"
     ]
    }
   ],
   "source": [
    "out_corr = np.corrcoef(x[:, 0], x[:, 2])\n",
    "print(out_corr)"
   ]
  },
  {
   "cell_type": "markdown",
   "metadata": {},
   "source": [
    "**Câu 10:**  Tìm các giá trị duy nhất và số lượng các giá trị duy nhất trong cột species."
   ]
  },
  {
   "cell_type": "code",
   "execution_count": 18,
   "metadata": {},
   "outputs": [
    {
     "name": "stdout",
     "output_type": "stream",
     "text": [
      "(array(['Iris-setosa', 'Iris-versicolor', 'Iris-virginica'], dtype=object), array([10, 10, 10]))\n"
     ]
    }
   ],
   "source": [
    "out = np.unique(dataFrame.values[:, 4], return_counts=True)\n",
    "print(out)"
   ]
  },
  {
   "cell_type": "markdown",
   "metadata": {},
   "source": [
    "**Câu 11:**  Chuyển đổi cột 3 petallength thành mảng như sau:\n",
    "\n",
    "Nhỏ hơn 3   –>   `small`\n",
    "\n",
    "Từ 3->5     –>   `medium`\n",
    "\n",
    "Lớn hơn 5   –>   `large`"
   ]
  },
  {
   "cell_type": "code",
   "execution_count": 19,
   "metadata": {},
   "outputs": [
    {
     "name": "stdout",
     "output_type": "stream",
     "text": [
      "[1.4 1.4 1.3 1.5 1.4 1.7 1.4 1.5 1.4 1.5 4.7 4.5 4.9 4.0 4.6 4.5 4.7 3.3\n",
      " 4.6 3.9 6.0 5.1 5.9 5.6 5.8 6.6 4.5 6.3 5.8 6.1]\n"
     ]
    }
   ],
   "source": [
    "col_3 = dataFrame.values[:,2]\n",
    "print(col_3)"
   ]
  },
  {
   "cell_type": "code",
   "execution_count": 20,
   "metadata": {},
   "outputs": [
    {
     "name": "stdout",
     "output_type": "stream",
     "text": [
      "[1 1 1 1 1 1 1 1 1 1 2 2 2 2 2 2 2 2 2 2 3 3 3 3 3 3 2 3 3 3]\n"
     ]
    }
   ],
   "source": [
    "# Hàm np.digitize: trả về vị trí chỉ số của bin mà mỗi phần tử thuộc khoảng bin tương ứng\n",
    "# chuyển đổi mảng sang mảng bin tương ứng với bảng định nghĩa chuyển đổi \n",
    "\n",
    "bin_pental_length = np.digitize(iris[:,2].astype(float),[0,3,5,10])\n",
    "print(bin_pental_length)"
   ]
  },
  {
   "cell_type": "code",
   "execution_count": 21,
   "metadata": {},
   "outputs": [
    {
     "name": "stdout",
     "output_type": "stream",
     "text": [
      "['small', 'small', 'small', 'small', 'small', 'small', 'small', 'small', 'small', 'small', 'medium', 'medium', 'medium', 'medium', 'medium', 'medium', 'medium', 'medium', 'medium', 'medium', 'large', 'large', 'large', 'large', 'large', 'large', 'medium', 'large', 'large', 'large']\n"
     ]
    }
   ],
   "source": [
    "# ánh xạ bảng bin thành văn bản tương ứng \n",
    "label_map = {1:'small', 2:'medium', 3:'large', 4:np.nan}\n",
    "map_bin_petallength = [label_map[x] for x in bin_pental_length]\n",
    "print(map_bin_petallength)"
   ]
  },
  {
   "cell_type": "markdown",
   "metadata": {},
   "source": [
    "**Câu 12:**  Tạo một cột mới, trong đó giá trị mỗi phần tử là:\n",
    "\n",
    "`(petallength + sepal_length) / 2`"
   ]
  },
  {
   "cell_type": "code",
   "execution_count": 22,
   "metadata": {},
   "outputs": [
    {
     "name": "stdout",
     "output_type": "stream",
     "text": [
      "[3.25 3.1500000000000004 3.0 3.05 3.2 3.5500000000000003 3.0 3.25\n",
      " 2.9000000000000004 3.2 5.85 5.45 5.9 4.75 5.55 5.1 5.5 4.1 5.6 4.55 6.15\n",
      " 5.449999999999999 6.5 5.949999999999999 6.15 7.1 4.7 6.8 6.25 6.65]\n"
     ]
    }
   ],
   "source": [
    "sepal_length = dataFrame.values[:,0]\n",
    "petal_length = dataFrame.values[:,2]\n",
    "new_col = (petal_length + sepal_length) / 2\n",
    "\n",
    "print(new_col)"
   ]
  },
  {
   "cell_type": "code",
   "execution_count": 23,
   "metadata": {},
   "outputs": [
    {
     "name": "stdout",
     "output_type": "stream",
     "text": [
      "(30,)\n",
      "(30, 1)\n"
     ]
    }
   ],
   "source": [
    "# Định dạng cột mới cùng số chiều với iris_2d\n",
    "print(new_col.shape)\n",
    "new_col = new_col[:, np.newaxis]\n",
    "\n",
    "print(new_col.shape)"
   ]
  },
  {
   "cell_type": "code",
   "execution_count": 24,
   "metadata": {},
   "outputs": [
    {
     "name": "stdout",
     "output_type": "stream",
     "text": [
      "(30, 6)\n"
     ]
    }
   ],
   "source": [
    "# Thêm cột mới vào dataFarme dùng hàm hstack\n",
    "out = np.hstack([dataFrame, new_col])\n",
    "print(out.shape)"
   ]
  },
  {
   "cell_type": "code",
   "execution_count": 25,
   "metadata": {},
   "outputs": [
    {
     "name": "stdout",
     "output_type": "stream",
     "text": [
      "[[5.1 3.5 1.4 0.2 'Iris-setosa' 3.25]\n",
      " [4.9 3.0 1.4 0.2 'Iris-setosa' 3.1500000000000004]\n",
      " [4.7 3.2 1.3 0.2 'Iris-setosa' 3.0]\n",
      " [4.6 3.1 1.5 0.2 'Iris-setosa' 3.05]\n",
      " [5.0 3.6 1.4 0.2 'Iris-setosa' 3.2]\n",
      " [5.4 3.9 1.7 0.4 'Iris-setosa' 3.5500000000000003]\n",
      " [4.6 3.4 1.4 0.3 'Iris-setosa' 3.0]\n",
      " [5.0 3.4 1.5 0.2 'Iris-setosa' 3.25]\n",
      " [4.4 2.9 1.4 0.2 'Iris-setosa' 2.9000000000000004]\n",
      " [4.9 3.1 1.5 0.1 'Iris-setosa' 3.2]\n",
      " [7.0 3.2 4.7 1.4 'Iris-versicolor' 5.85]\n",
      " [6.4 3.2 4.5 1.5 'Iris-versicolor' 5.45]\n",
      " [6.9 3.1 4.9 1.5 'Iris-versicolor' 5.9]\n",
      " [5.5 2.3 4.0 1.3 'Iris-versicolor' 4.75]\n",
      " [6.5 2.8 4.6 1.5 'Iris-versicolor' 5.55]\n",
      " [5.7 2.8 4.5 1.3 'Iris-versicolor' 5.1]\n",
      " [6.3 3.3 4.7 1.6 'Iris-versicolor' 5.5]\n",
      " [4.9 2.4 3.3 1.0 'Iris-versicolor' 4.1]\n",
      " [6.6 2.9 4.6 1.3 'Iris-versicolor' 5.6]\n",
      " [5.2 2.7 3.9 1.4 'Iris-versicolor' 4.55]\n",
      " [6.3 3.3 6.0 2.5 'Iris-virginica' 6.15]\n",
      " [5.8 2.7 5.1 1.9 'Iris-virginica' 5.449999999999999]\n",
      " [7.1 3.0 5.9 2.1 'Iris-virginica' 6.5]\n",
      " [6.3 2.9 5.6 1.8 'Iris-virginica' 5.949999999999999]\n",
      " [6.5 3.0 5.8 2.2 'Iris-virginica' 6.15]\n",
      " [7.6 3.0 6.6 2.1 'Iris-virginica' 7.1]\n",
      " [4.9 2.5 4.5 1.7 'Iris-virginica' 4.7]\n",
      " [7.3 2.9 6.3 1.8 'Iris-virginica' 6.8]\n",
      " [6.7 2.5 5.8 1.8 'Iris-virginica' 6.25]\n",
      " [7.2 3.6 6.1 2.5 'Iris-virginica' 6.65]]\n"
     ]
    }
   ],
   "source": [
    "print(out)"
   ]
  },
  {
   "cell_type": "markdown",
   "metadata": {},
   "source": [
    "**Câu 13:**  Lấy mẫu ngẫu nhiên cột `species` của mảng iris sao cho số lượng chọn `setose` gấp đôi số lượng của `versicolor` và `virginica`."
   ]
  },
  {
   "cell_type": "code",
   "execution_count": 26,
   "metadata": {},
   "outputs": [
    {
     "name": "stdout",
     "output_type": "stream",
     "text": [
      "(array(['Iris-setosa', 'Iris-versicolor', 'Iris-virginica'], dtype='<U15'), array([15, 12,  3]))\n"
     ]
    }
   ],
   "source": [
    "species = dataFrame.values[:,4]\n",
    "\n",
    "label = np.array(['Iris-setosa', 'Iris-versicolor', 'Iris-virginica'])\n",
    "\n",
    "out1 = np.random.choice(label, 30, p=[0.5, 0.25, 0.25])\n",
    "print(np.unique(out1, return_counts=True))\n",
    "\n",
    "# Chú ý: với số mẫu của data nhỏ nên độ lệch lớn. Với data lớn hơn sẽ chính xác hơn \n"
   ]
  },
  {
   "cell_type": "markdown",
   "metadata": {},
   "source": [
    "**Câu 14:**  Tìm giá trị lớn thứ hai của petallength trong nhóm `setosa`"
   ]
  },
  {
   "cell_type": "code",
   "execution_count": 27,
   "metadata": {},
   "outputs": [
    {
     "name": "stdout",
     "output_type": "stream",
     "text": [
      "[[5.1 3.5 1.4 0.2 'Iris-setosa']\n",
      " [4.9 3.0 1.4 0.2 'Iris-setosa']\n",
      " [4.7 3.2 1.3 0.2 'Iris-setosa']\n",
      " [4.6 3.1 1.5 0.2 'Iris-setosa']\n",
      " [5.0 3.6 1.4 0.2 'Iris-setosa']\n",
      " [5.4 3.9 1.7 0.4 'Iris-setosa']\n",
      " [4.6 3.4 1.4 0.3 'Iris-setosa']\n",
      " [5.0 3.4 1.5 0.2 'Iris-setosa']\n",
      " [4.4 2.9 1.4 0.2 'Iris-setosa']\n",
      " [4.9 3.1 1.5 0.1 'Iris-setosa']]\n"
     ]
    }
   ],
   "source": [
    "x = dataFrame.values[:, 0:5]\n",
    "# print(x)\n",
    "setosa = x[x[:, 4] == 'Iris-setosa']\n",
    "print(setosa)"
   ]
  },
  {
   "cell_type": "code",
   "execution_count": 28,
   "metadata": {},
   "outputs": [
    {
     "name": "stdout",
     "output_type": "stream",
     "text": [
      "1.5\n"
     ]
    }
   ],
   "source": [
    "# chỉ lấy cột 2 và chuyển thành kiểu float\n",
    "petal_length_setosa = setosa[:,2].astype(float)\n",
    "\n",
    "# Lấy giá trị lớn thứ hai của mảng \n",
    "out = np.unique(np.sort(petal_length_setosa))[-2]\n",
    "print(out)"
   ]
  },
  {
   "cell_type": "markdown",
   "metadata": {},
   "source": [
    "**Câu 15:**  Sắp xếp tập dữ liệu iris dựa trên cột `sepallength`"
   ]
  },
  {
   "cell_type": "code",
   "execution_count": 29,
   "metadata": {},
   "outputs": [
    {
     "name": "stdout",
     "output_type": "stream",
     "text": [
      "[[4.4 2.9 1.4 0.2 'Iris-setosa']\n",
      " [4.6 3.1 1.5 0.2 'Iris-setosa']\n",
      " [4.6 3.4 1.4 0.3 'Iris-setosa']\n",
      " [4.7 3.2 1.3 0.2 'Iris-setosa']\n",
      " [4.9 2.5 4.5 1.7 'Iris-virginica']\n",
      " [4.9 3.0 1.4 0.2 'Iris-setosa']\n",
      " [4.9 2.4 3.3 1.0 'Iris-versicolor']\n",
      " [4.9 3.1 1.5 0.1 'Iris-setosa']\n",
      " [5.0 3.6 1.4 0.2 'Iris-setosa']\n",
      " [5.0 3.4 1.5 0.2 'Iris-setosa']\n",
      " [5.1 3.5 1.4 0.2 'Iris-setosa']\n",
      " [5.2 2.7 3.9 1.4 'Iris-versicolor']\n",
      " [5.4 3.9 1.7 0.4 'Iris-setosa']\n",
      " [5.5 2.3 4.0 1.3 'Iris-versicolor']\n",
      " [5.7 2.8 4.5 1.3 'Iris-versicolor']\n",
      " [5.8 2.7 5.1 1.9 'Iris-virginica']\n",
      " [6.3 2.9 5.6 1.8 'Iris-virginica']\n",
      " [6.3 3.3 4.7 1.6 'Iris-versicolor']\n",
      " [6.3 3.3 6.0 2.5 'Iris-virginica']\n",
      " [6.4 3.2 4.5 1.5 'Iris-versicolor']\n",
      " [6.5 3.0 5.8 2.2 'Iris-virginica']\n",
      " [6.5 2.8 4.6 1.5 'Iris-versicolor']\n",
      " [6.6 2.9 4.6 1.3 'Iris-versicolor']\n",
      " [6.7 2.5 5.8 1.8 'Iris-virginica']\n",
      " [6.9 3.1 4.9 1.5 'Iris-versicolor']\n",
      " [7.0 3.2 4.7 1.4 'Iris-versicolor']\n",
      " [7.1 3.0 5.9 2.1 'Iris-virginica']\n",
      " [7.2 3.6 6.1 2.5 'Iris-virginica']\n",
      " [7.3 2.9 6.3 1.8 'Iris-virginica']\n",
      " [7.6 3.0 6.6 2.1 'Iris-virginica']]\n"
     ]
    }
   ],
   "source": [
    "# Sắp xếp cột 0 (SepalLangth)\n",
    "out = x[x[:, 0].argsort()]\n",
    "print(out)"
   ]
  },
  {
   "cell_type": "markdown",
   "metadata": {},
   "source": [
    "**Câu 16:**  Tìm giá trị xuất hiện nhiều nhất trong cột petallength (cột thứ 3) trong tập dữ liệu iris. Lấy các phần tử duy nhất và số lượng mỗi phần tử."
   ]
  },
  {
   "cell_type": "code",
   "execution_count": 30,
   "metadata": {},
   "outputs": [
    {
     "name": "stdout",
     "output_type": "stream",
     "text": [
      "[1.3 1.4 1.5 1.7 3.3 3.9 4.0 4.5 4.6 4.7 4.9 5.1 5.6 5.8 5.9 6.0 6.1 6.3\n",
      " 6.6]\n"
     ]
    }
   ],
   "source": [
    "values, counts = np.unique(x[:,2], return_counts=True)\n",
    "print(values)"
   ]
  },
  {
   "cell_type": "code",
   "execution_count": 31,
   "metadata": {},
   "outputs": [
    {
     "name": "stdout",
     "output_type": "stream",
     "text": [
      "[1 5 3 1 1 1 1 3 2 2 1 1 1 2 1 1 1 1 1]\n"
     ]
    }
   ],
   "source": [
    "print(counts)"
   ]
  },
  {
   "cell_type": "markdown",
   "metadata": {},
   "source": [
    "**Câu 17:**  Tìm vị trí xuất hiện đầu tiên của một giá trị lớn hơn 1.0 trong cột thứ 4 (petalwidth) của tập dữ liệu iris."
   ]
  },
  {
   "cell_type": "code",
   "execution_count": 32,
   "metadata": {},
   "outputs": [
    {
     "name": "stdout",
     "output_type": "stream",
     "text": [
      "[10]\n"
     ]
    }
   ],
   "source": [
    "petalwidth = x[:,3].astype('float') > 1.0\n",
    "\n",
    "# Hàm argwhere lấy index của mảng thoả mãn điều kiện cho trước \n",
    "index = np.argwhere(petalwidth)[0]\n",
    "print(index)"
   ]
  },
  {
   "cell_type": "markdown",
   "metadata": {},
   "source": [
    "**Câu 18:** Tạo id nhóm dựa trên một biến phân loại cho trước, dùng cột species từ mảng iris."
   ]
  },
  {
   "cell_type": "code",
   "execution_count": 33,
   "metadata": {},
   "outputs": [],
   "source": [
    "output1 = [np.argwhere(np.unique(species) == s).tolist()[0][0] \n",
    "           for val in np.unique(species) \n",
    "           for s in species[species==val]]"
   ]
  },
  {
   "cell_type": "code",
   "execution_count": 34,
   "metadata": {},
   "outputs": [
    {
     "name": "stdout",
     "output_type": "stream",
     "text": [
      "[0, 0, 0, 0, 0, 0, 0, 0, 0, 0, 1, 1, 1, 1, 1, 1, 1, 1, 1, 1, 2, 2, 2, 2, 2, 2, 2, 2, 2, 2]\n"
     ]
    }
   ],
   "source": [
    "print(output1)"
   ]
  }
 ],
 "metadata": {
  "kernelspec": {
   "display_name": "Python 3",
   "language": "python",
   "name": "python3"
  },
  "language_info": {
   "codemirror_mode": {
    "name": "ipython",
    "version": 3
   },
   "file_extension": ".py",
   "mimetype": "text/x-python",
   "name": "python",
   "nbconvert_exporter": "python",
   "pygments_lexer": "ipython3",
   "version": "3.7.3"
  }
 },
 "nbformat": 4,
 "nbformat_minor": 2
}
