{
 "cells": [
  {
   "cell_type": "markdown",
   "metadata": {},
   "source": [
    "<img src=\"images/numpy/numpy.png\" style=\"width:50%;height:50%;\">"
   ]
  },
  {
   "cell_type": "markdown",
   "metadata": {},
   "source": [
    "### 1. Giới thiệu\n",
    "Numpy là một thư viện của Python hỗ trợ việc tính toán trên mảng nhiều chiều. Một mảng Numpy là một tập hợp các giá trị cùng kiểu dữ liệu và được đánh số bằng các số nguyên dương. Numpy là Module quan trọng cho việc sử lý dữ liệu và có thể chuyển đổi qua kiểu dữ liệu Tensor trong Tensorflow và Pytorch.\n",
    "\n",
    "Mọi chi tiết về Numpy đều được công bố trên trang chủ chính thức: https://numpy.org/doc/\n",
    "\n",
    "Các bạn có thể cài đặt Numpy theo hướng dẫn dưới đây:\n",
    "- [Dành cho máy Mac và Linux](https://machinelearningcoban.com/faqs/#-huong-dan-cai-dat-python-va-cac-thu-vien-tren-macos) \n",
    "- [Dành cho Windows](https://machinelearningcoban.com/faqs/#-huong-dan-cai-dat-python-va-cac-thu-vien-tren-windows)"
   ]
  },
  {
   "cell_type": "markdown",
   "metadata": {},
   "source": [
    "Sau khi cài đặt xong, chúng ta cần phải import thư viện vào để sử dụng:"
   ]
  },
  {
   "cell_type": "code",
   "execution_count": 1,
   "metadata": {},
   "outputs": [],
   "source": [
    "import numpy as np"
   ]
  },
  {
   "cell_type": "markdown",
   "metadata": {},
   "source": [
    "Từ khoá `as` trong Python giúp chúng ta viết gọn tên của thư viện giúp tiện lợi cho việc sử dụng về sau."
   ]
  },
  {
   "cell_type": "markdown",
   "metadata": {},
   "source": [
    "### 2. Nội dung \n",
    "\n",
    "Nội dung chính trong bài ngày hôm nay chúng ta sẽ cùng tìm hiểu về:\n",
    "- Tạo mảng Numpy (ndarray) \n",
    "- Kiểu dữ liệu (Datatypes)\n",
    "- Array Indexing \n",
    "- Phép toán trên mảng \n",
    "- Broadcasting"
   ]
  },
  {
   "cell_type": "markdown",
   "metadata": {},
   "source": [
    "#### 2.1 Tạo mảng Numpy (ndarray)\n",
    "\n",
    "Tạo ndarray từ List \n",
    "\n"
   ]
  },
  {
   "cell_type": "code",
   "execution_count": 2,
   "metadata": {},
   "outputs": [
    {
     "name": "stdout",
     "output_type": "stream",
     "text": [
      "[1 2 3]\n",
      "1 2\n"
     ]
    }
   ],
   "source": [
    "# Tạo ndarray từ list\n",
    "\n",
    "import numpy as np\n",
    "\n",
    "# tạo list \n",
    "l = list(range(1, 4))\n",
    "\n",
    "# tạo ndarray\n",
    "data = np.array(l)\n",
    "\n",
    "print(data)\n",
    "print(data[0], data[1])"
   ]
  },
  {
   "cell_type": "markdown",
   "metadata": {},
   "source": [
    "<img src=\"images/numpy/chap5_np_1.png\" style=\"width:20%;height:20%;\">\n"
   ]
  },
  {
   "cell_type": "markdown",
   "metadata": {},
   "source": [
    "Sử dụng thuộc tính `shape` và hàm `type()` cho mảng Numpy "
   ]
  },
  {
   "cell_type": "code",
   "execution_count": 3,
   "metadata": {},
   "outputs": [
    {
     "name": "stdout",
     "output_type": "stream",
     "text": [
      "[1 2 3]\n",
      "<class 'numpy.ndarray'>\n",
      "<class 'numpy.int64'>\n",
      "(3,)\n"
     ]
    }
   ],
   "source": [
    "# Tạo ndarray từ list\n",
    "\n",
    "import numpy as np\n",
    "\n",
    "# tạo list \n",
    "l = list(range(1, 4))\n",
    "\n",
    "# tạo ndarray\n",
    "data = np.array(l)\n",
    "\n",
    "print(data)\n",
    "print(type(data))\n",
    "print(type(data[0]))\n",
    "print(data.shape)"
   ]
  },
  {
   "cell_type": "markdown",
   "metadata": {},
   "source": [
    "Thay đổi `shape` của mảng sử dụng `reshape`"
   ]
  },
  {
   "cell_type": "code",
   "execution_count": 4,
   "metadata": {},
   "outputs": [
    {
     "name": "stdout",
     "output_type": "stream",
     "text": [
      "(12,)\n",
      "(3, 4)\n"
     ]
    }
   ],
   "source": [
    "# thay đổi shape của một mảng\n",
    "\n",
    "import numpy as np\n",
    "\n",
    "arr1 = np.arange(12)\n",
    "print(arr1.shape)\n",
    "\n",
    "arr2 = arr1.reshape((3, 4))\n",
    "print(arr2.shape)"
   ]
  },
  {
   "cell_type": "markdown",
   "metadata": {},
   "source": [
    "Thay đổi giá trị của một phần tử \n",
    "\n"
   ]
  },
  {
   "cell_type": "code",
   "execution_count": 5,
   "metadata": {},
   "outputs": [
    {
     "name": "stdout",
     "output_type": "stream",
     "text": [
      "[1 2 3]\n",
      "[8 2 3]\n"
     ]
    }
   ],
   "source": [
    "# thay đổi giá trị phần tử \n",
    "\n",
    "import numpy as np\n",
    "\n",
    "l = list(range(1, 4))\n",
    "data = np.array(l)\n",
    "print(data)\n",
    "\n",
    "data[0] = 8\n",
    "print(data)"
   ]
  },
  {
   "cell_type": "markdown",
   "metadata": {},
   "source": [
    "<img src=\"images/numpy/chap5_np_2.png\" style=\"width:20%;height:20%;\">\n"
   ]
  },
  {
   "cell_type": "markdown",
   "metadata": {},
   "source": [
    "Tạo ndarray với hàm `zeros()`"
   ]
  },
  {
   "cell_type": "code",
   "execution_count": 6,
   "metadata": {},
   "outputs": [
    {
     "name": "stdout",
     "output_type": "stream",
     "text": [
      "[[0. 0. 0.]\n",
      " [0. 0. 0.]]\n"
     ]
    }
   ],
   "source": [
    "# tạo một numpy array với tất cả các phần tử là 0\n",
    "\n",
    "import numpy as np\n",
    "\n",
    "# shape: 2 dòng, 3 cột \n",
    "arr = np.zeros((2, 3))\n",
    "print(arr)"
   ]
  },
  {
   "cell_type": "markdown",
   "metadata": {},
   "source": [
    "<img src=\"images/numpy/chap5_np_3.png\" style=\"width:20%;height:20%;\">\n"
   ]
  },
  {
   "cell_type": "markdown",
   "metadata": {},
   "source": [
    "Tạo ndarray với hàm `ones()`"
   ]
  },
  {
   "cell_type": "code",
   "execution_count": 7,
   "metadata": {},
   "outputs": [
    {
     "name": "stdout",
     "output_type": "stream",
     "text": [
      "[[1. 1. 1.]\n",
      " [1. 1. 1.]]\n"
     ]
    }
   ],
   "source": [
    "# tạo một numpy array với tất cả phần tử là 1\n",
    "\n",
    "import numpy as np\n",
    "\n",
    "# numpy.ones(shape, dtype=None, order='C')\n",
    "# shape: 2 dòng, 3 cột\n",
    "arr = np.ones((2, 3))\n",
    "print(arr)"
   ]
  },
  {
   "cell_type": "markdown",
   "metadata": {},
   "source": [
    "<img src=\"images/numpy/chap5_np_4.png\" style=\"width:20%;height:20%;\">\n"
   ]
  },
  {
   "cell_type": "markdown",
   "metadata": {},
   "source": [
    "Tạo ndarray với hàm `full()`"
   ]
  },
  {
   "cell_type": "code",
   "execution_count": 8,
   "metadata": {},
   "outputs": [
    {
     "name": "stdout",
     "output_type": "stream",
     "text": [
      "[[9 9 9]\n",
      " [9 9 9]]\n"
     ]
    }
   ],
   "source": [
    "# tạo một numpy array với tất cả phần tử là hằng số K \n",
    "\n",
    "import numpy as np \n",
    "\n",
    "# numpy.full(shape, fill_value, dtype=None, order='C')\n",
    "# shape: 2 dòng, 3 cột - với K = 9\n",
    "arr = np.full((2, 3), 9)\n",
    "print(arr)"
   ]
  },
  {
   "cell_type": "markdown",
   "metadata": {},
   "source": [
    "<img src=\"images/numpy/chap5_np_5.png\" style=\"width:20%;height:20%;\">\n"
   ]
  },
  {
   "cell_type": "markdown",
   "metadata": {},
   "source": [
    "Tạo ma trận đường chéo "
   ]
  },
  {
   "cell_type": "code",
   "execution_count": 9,
   "metadata": {},
   "outputs": [
    {
     "name": "stdout",
     "output_type": "stream",
     "text": [
      "[[1. 0. 0.]\n",
      " [0. 1. 0.]\n",
      " [0. 0. 1.]]\n"
     ]
    }
   ],
   "source": [
    "# tạo một numpy array với đường chéo là số 1\n",
    "# số 0 được điền vào những ô phần tử còn lại \n",
    "\n",
    "import numpy as np\n",
    "\n",
    "# numpy.eye(N, M=None, k=0, dtype=<class 'float'>, order='C')\n",
    "# shape: 2 dòng, 3 cột\n",
    "arr = np.eye(3)\n",
    "print(arr)\n"
   ]
  },
  {
   "cell_type": "markdown",
   "metadata": {},
   "source": [
    "<img src=\"images/numpy/chap5_np_6.png\" style=\"width:20%;height:20%;\">"
   ]
  },
  {
   "cell_type": "markdown",
   "metadata": {},
   "source": [
    "Tạo một numpy array với giá trị ngẫu nhiên "
   ]
  },
  {
   "cell_type": "code",
   "execution_count": 10,
   "metadata": {},
   "outputs": [
    {
     "name": "stdout",
     "output_type": "stream",
     "text": [
      "[[0.55136636 0.90697043 0.80751447]\n",
      " [0.50399661 0.53732573 0.94443   ]]\n"
     ]
    }
   ],
   "source": [
    "# tạo một numpy array với giá trị ngẫu nhiên\n",
    "\n",
    "import numpy as np\n",
    "\n",
    "# numpy.random.random(size=None)\n",
    "# shape: 2 dòng, 3 cột; với phần tử có giá trị ngẫu nhiên \n",
    "\n",
    "arr = np.random.random((2,3))\n",
    "print(arr)"
   ]
  },
  {
   "cell_type": "markdown",
   "metadata": {},
   "source": [
    "Điều kiện cho mảng numpy "
   ]
  },
  {
   "cell_type": "code",
   "execution_count": 11,
   "metadata": {},
   "outputs": [
    {
     "name": "stdout",
     "output_type": "stream",
     "text": [
      "[0 1 2 3 4 5 6 7 8 9]\n",
      "[ 0  1  2  3  4 50 60 70 80 90]\n"
     ]
    }
   ],
   "source": [
    "import numpy as np\n",
    "\n",
    "arr = np.arange(10)\n",
    "print(arr)\n",
    "\n",
    "out = np.where(arr < 5, arr, 10*arr)\n",
    "print(out)"
   ]
  },
  {
   "cell_type": "markdown",
   "metadata": {},
   "source": [
    "Chuyển mảng về một chiều "
   ]
  },
  {
   "cell_type": "code",
   "execution_count": 12,
   "metadata": {},
   "outputs": [
    {
     "name": "stdout",
     "output_type": "stream",
     "text": [
      "[[1 2]\n",
      " [3 4]]\n",
      "[1 2 3 4]\n"
     ]
    }
   ],
   "source": [
    "import numpy as np\n",
    "\n",
    "arr = np.array([[1, 2], [3, 4]])\n",
    "out = arr.flatten()\n",
    "\n",
    "print(arr)\n",
    "print(out)"
   ]
  },
  {
   "cell_type": "markdown",
   "metadata": {},
   "source": [
    "#### 2.2 Kiểu dữ liệu (Datatypes)\n",
    "\n",
    "Mảng numpy chứa các phần tử cùng kiểu dữ liệu. Numpy cung cấp một tập hợp các kiểu dữ liệu mà chúng có thể sử dụng để xây dựng các mảng."
   ]
  },
  {
   "cell_type": "code",
   "execution_count": 13,
   "metadata": {},
   "outputs": [
    {
     "name": "stdout",
     "output_type": "stream",
     "text": [
      "int64\n",
      "float64\n",
      "int64\n"
     ]
    }
   ],
   "source": [
    "import numpy as np\n",
    "\n",
    "# int32\n",
    "arr1 = np.array([1, 2])\n",
    "print(arr1.dtype)\n",
    "\n",
    "# float64\n",
    "arr2 = np.array([1.0, 2.0])\n",
    "print(arr2.dtype)\n",
    "\n",
    "# int64\n",
    "arr3 = np.array([1, 2], dtype = np.int64)\n",
    "print(arr3.dtype)"
   ]
  },
  {
   "cell_type": "markdown",
   "metadata": {},
   "source": [
    "#### 2.3 Array Indexing \n",
    "\n",
    "Numpy cung cấp một số cách để truy xuất phần tử trong mảng. Truy xuất phần tử dùng kỹ thuật slicing tương tự như danh sách (list) trong Python."
   ]
  },
  {
   "cell_type": "markdown",
   "metadata": {},
   "source": [
    "**Ví dụ 1:** Lấy các phần tử từ mảng 2 chiều như sau:"
   ]
  },
  {
   "cell_type": "code",
   "execution_count": 14,
   "metadata": {},
   "outputs": [
    {
     "name": "stdout",
     "output_type": "stream",
     "text": [
      "a_arr: \n",
      " [[1 2 3]\n",
      " [5 6 7]]\n",
      "b_arr: \n",
      " [[2 3]\n",
      " [6 7]]\n"
     ]
    }
   ],
   "source": [
    "import numpy as np\n",
    "\n",
    "# Khởi tạo numpy array có shape = (2, 3) có giá trị như sau:\n",
    "# [[ 1 2 3]\n",
    "#  [ 4 6 7]]\n",
    "a_arr = np.array([[1,2,3],[5,6,7]])\n",
    "print('a_arr: \\n', a_arr)\n",
    "\n",
    "# Sử dụng slicing để tạo mảng b bằng cách lấy 2 hàng đầu tiên\n",
    "# và cột 1, 2. Như vậy b sẽ có shape = (2, 3):\n",
    "# [[2 3]\n",
    "#  [6 7]]\n",
    "b_arr = a_arr[:, 1:3]\n",
    "print('b_arr: \\n', b_arr)"
   ]
  },
  {
   "cell_type": "markdown",
   "metadata": {},
   "source": [
    "<img src=\"images/numpy/chap5_np_9.png\" style=\"width:30%;height:30%;\">"
   ]
  },
  {
   "cell_type": "markdown",
   "metadata": {},
   "source": [
    "Việc một mảng mới được tạo ra từ Slicing sẽ có **cùng địa chỉ** với mảng gốc. Nếu thay đổi một trong hai mảng này thì mảng còn lại cũng thay đổi theo."
   ]
  },
  {
   "cell_type": "code",
   "execution_count": 15,
   "metadata": {},
   "outputs": [
    {
     "name": "stdout",
     "output_type": "stream",
     "text": [
      "a_arr: \n",
      " [[1 2 3]\n",
      " [5 6 7]]\n",
      "b_arr: \n",
      " [[2 3]\n",
      " [6 7]]\n",
      "Truoc khi thay doi: \n",
      " 2\n",
      "Sau khi thay doi: \n",
      " 99\n"
     ]
    }
   ],
   "source": [
    "import numpy as np\n",
    "\n",
    "# Khởi tạo numpy array có shape = (2, 3) có giá trị như sau:\n",
    "# [[ 1 2 3]\n",
    "#  [ 4 6 7]]\n",
    "a_arr = np.array([[1,2,3],[5,6,7]])\n",
    "print('a_arr: \\n', a_arr)\n",
    "\n",
    "# Sử dụng slicing để tạo mảng b bằng cách lấy 2 hàng đầu tiên\n",
    "# và cột 1, 2. Như vậy b sẽ có shape = (2, 3):\n",
    "# [[2 3]\n",
    "#  [6 7]]\n",
    "b_arr = a_arr[:, 1:3]\n",
    "print('b_arr: \\n', b_arr)\n",
    "\n",
    "print('Truoc khi thay doi: \\n', a_arr[0, 1])\n",
    "b_arr[0, 0] = 99\n",
    "print('Sau khi thay doi: \\n', a_arr[0, 1])"
   ]
  },
  {
   "cell_type": "markdown",
   "metadata": {},
   "source": [
    "<img src=\"images/numpy/chap5_np_10.png\"  style=\"width:40%;height:40%;\">"
   ]
  },
  {
   "cell_type": "markdown",
   "metadata": {},
   "source": [
    "**Ví dụ 2:** Lấy một dòng dữ liệu"
   ]
  },
  {
   "cell_type": "code",
   "execution_count": 16,
   "metadata": {},
   "outputs": [
    {
     "name": "stdout",
     "output_type": "stream",
     "text": [
      "[5 6 7] (3,)\n",
      "[[5 6 7]] (1, 3)\n"
     ]
    }
   ],
   "source": [
    "import numpy as np \n",
    "\n",
    "# Tạo một numpy array có shape (3, 4) với giá trị như sau:\n",
    "# [[ 1 2 3 ] \n",
    "#  [ 5 6 7 ]\n",
    "#  [ 9 10 11 ]] \n",
    "arr = np.array([[1, 2, 3], [5, 6, 7], [9, 10, 11]])\n",
    "\n",
    "# Hai cách truy cập dữ liệu ở hàng giữa của mảng\n",
    "# Cách 1: Dùng kết hợp chỉ số và slice -> được array mới có số chiều thấp hơn \n",
    "# Cách 2: Nếu chỉ dùng slice ta sẽ có array mới có cùng số chiều với array gốc \n",
    "\n",
    "# Cách 1: số chiều giảm \n",
    "row_r1 = arr[1, :]\n",
    "\n",
    "# Cách 2: số chiều được giữ nguyên \n",
    "row_r2 = arr[1:2, :]\n",
    "\n",
    "print(row_r1, row_r1.shape)\n",
    "print(row_r2, row_r2.shape)"
   ]
  },
  {
   "cell_type": "markdown",
   "metadata": {},
   "source": [
    "<img src=\"images/numpy/chap5_np_11.png\" style=\"width:40%;height:40%;\">"
   ]
  },
  {
   "cell_type": "markdown",
   "metadata": {},
   "source": [
    "**Ví dụ 3:** Lấy một cột dữ liệu "
   ]
  },
  {
   "cell_type": "code",
   "execution_count": 17,
   "metadata": {},
   "outputs": [
    {
     "name": "stdout",
     "output_type": "stream",
     "text": [
      "[ 2  6 10] (3,)\n",
      "[[ 2]\n",
      " [ 6]\n",
      " [10]] (3, 1)\n"
     ]
    }
   ],
   "source": [
    "import numpy as np \n",
    "\n",
    "# Tạo một numpy array có shape (3, 4) với giá trị như sau:\n",
    "# [[ 1 2 3 ] \n",
    "#  [ 5 6 7 ]\n",
    "#  [ 9 10 11 ]] \n",
    "arr = np.array([[1, 2, 3], [5, 6, 7], [9, 10, 11]])\n",
    "\n",
    "# Hai cách truy cập dữ liệu ở cột giữa của mảng\n",
    "# Cách 1: Dùng kết hợp chỉ số và slice -> được array mới có số chiều thấp hơn \n",
    "# Cách 2: Nếu chỉ dùng slice ta sẽ có array mới có cùng số chiều với array gốc \n",
    "\n",
    "# Cách 1: số chiều giảm \n",
    "col_r1 = arr[:, 1]\n",
    "\n",
    "# Cách 2: số chiều được giữ nguyên \n",
    "col_r2 = arr[:, 1:2]\n",
    "\n",
    "print(col_r1, col_r1.shape)\n",
    "print(col_r2, col_r2.shape)"
   ]
  },
  {
   "cell_type": "markdown",
   "metadata": {},
   "source": [
    "<img src=\"images/numpy/chap5_np_13.png\" style=\"width:30%;height:30%;\">"
   ]
  },
  {
   "cell_type": "markdown",
   "metadata": {},
   "source": [
    "**Boolean indexing:** Cho phép chúng ta chọn ra các phần tử tùy ý của một mảng. Kiểu truy xuất này thường được sử dụng để chọn ra các phần tử thỏa mãn điều kiện nào đó."
   ]
  },
  {
   "cell_type": "markdown",
   "metadata": {},
   "source": [
    "**Ví dụ 4:** Tìm các vị trí thoả mãn điều kiện "
   ]
  },
  {
   "cell_type": "code",
   "execution_count": 18,
   "metadata": {},
   "outputs": [
    {
     "name": "stdout",
     "output_type": "stream",
     "text": [
      "[[1 2]\n",
      " [3 4]\n",
      " [5 6]]\n",
      "[[False False]\n",
      " [ True  True]\n",
      " [ True  True]]\n"
     ]
    }
   ],
   "source": [
    "import numpy as np\n",
    "\n",
    "a_arr = np.array([[1, 2], [3, 4], [5, 6]])\n",
    "print(a_arr)\n",
    "\n",
    "# Tìm các phần tử lớn hơn 2\n",
    "# Trả về 1 mảng Boolean có số chiều như mảng a_arr\n",
    "# và giá trị tại mỗi phần từ là True nếu phần tử của a tại đó > 2,\n",
    "# False cho trường hợp ngược lại \n",
    "\n",
    "bool_idx = (a_arr > 2)\n",
    "print(bool_idx)"
   ]
  },
  {
   "cell_type": "markdown",
   "metadata": {},
   "source": [
    "<img src=\"images/numpy/chap5_np_15.png\" style=\"width:30%;height:30%;\">"
   ]
  },
  {
   "cell_type": "markdown",
   "metadata": {},
   "source": [
    "**Ví dụ 5:** Tìm các vị trí thoả mãn điều kiện và lấy phần tử tương ứng "
   ]
  },
  {
   "cell_type": "code",
   "execution_count": 19,
   "metadata": {},
   "outputs": [
    {
     "name": "stdout",
     "output_type": "stream",
     "text": [
      "[[1 2]\n",
      " [3 4]\n",
      " [5 6]]\n",
      "bool_idx: \n",
      " [[False False]\n",
      " [ True  True]\n",
      " [ True  True]]\n",
      "\n",
      "Method 1:\n",
      " [3 4 5 6]\n",
      "\n",
      "Method 2:\n",
      " [3 4 5 6]\n"
     ]
    }
   ],
   "source": [
    "import numpy as np\n",
    "\n",
    "a_arr = np.array([[1, 2], [3, 4], [5, 6]])\n",
    "print(a_arr)\n",
    "\n",
    "# Tìm các phần tử lớn hơn 2\n",
    "# Trả về 1 mảng Boolean có số chiều như mảng a_arr\n",
    "# và giá trị tại mỗi phần từ là True nếu phần tử của a tại đó > 2,\n",
    "# False cho trường hợp ngược lại \n",
    "\n",
    "bool_idx = (a_arr > 2)\n",
    "print('bool_idx: \\n', bool_idx)\n",
    "\n",
    "# Chúng ta sẽ sử dụng boolean array indexing để xây dựng mảng 1 chiều\n",
    "# Bao gồm các phần tử tương ứng với giá trị True của bool_idx \n",
    "\n",
    "# Ví dụ ở đây in ra các giá trị của a_arr >2, sử dụng array bool_idx đã tạo\n",
    "out = a_arr[bool_idx]\n",
    "print('\\nMethod 1:\\n', out)\n",
    "\n",
    "# một cách ngắn gọn hơn \n",
    "print('\\nMethod 2:\\n', a_arr[a_arr > 2])"
   ]
  },
  {
   "cell_type": "markdown",
   "metadata": {},
   "source": [
    "<img src=\"images/numpy/chap5_np_16.png\" style=\"width:50%;height:50%;\">"
   ]
  },
  {
   "cell_type": "markdown",
   "metadata": {},
   "source": [
    "#### 2.4 Phép toán trên mảng "
   ]
  },
  {
   "cell_type": "markdown",
   "metadata": {},
   "source": [
    "Phép cộng giữa hai mảng "
   ]
  },
  {
   "cell_type": "code",
   "execution_count": 20,
   "metadata": {},
   "outputs": [
    {
     "name": "stdout",
     "output_type": "stream",
     "text": [
      "[[ 6.  8.]\n",
      " [10. 12.]]\n",
      "[[ 6.  8.]\n",
      " [10. 12.]]\n"
     ]
    }
   ],
   "source": [
    "import numpy as np\n",
    "\n",
    "x = np.array([[1,2],[3,4]], dtype=np.float64)\n",
    "y = np.array([[5,6],[7,8]], dtype=np.float64)\n",
    "\n",
    "# Tổng của 2 mảng, cả 2 cách đều cho cùng một kết quả \n",
    "# [[ 6.0  8.0]\n",
    "#  [10.0 12.0]]\n",
    "print(x + y)\n",
    "print(np.add(x, y))"
   ]
  },
  {
   "cell_type": "markdown",
   "metadata": {},
   "source": [
    "<img src=\"images/numpy/chap5_np_18.png\" style=\"width:30%;height:30%;\">"
   ]
  },
  {
   "cell_type": "markdown",
   "metadata": {},
   "source": [
    "Phép trừ giữa hai mảng"
   ]
  },
  {
   "cell_type": "code",
   "execution_count": 21,
   "metadata": {},
   "outputs": [
    {
     "name": "stdout",
     "output_type": "stream",
     "text": [
      "[[-4. -4.]\n",
      " [-4. -4.]]\n",
      "[[-4. -4.]\n",
      " [-4. -4.]]\n"
     ]
    }
   ],
   "source": [
    "import numpy as np\n",
    "\n",
    "x = np.array([[1,2],[3,4]], dtype=np.float64)\n",
    "y = np.array([[5,6],[7,8]], dtype=np.float64)\n",
    "\n",
    "# Phép trừ của 2 mảng, cả 2 cách đều cho cùng một kết quả \n",
    "# [[-4.0 -4.0]\n",
    "#  [-4.0 -4.0]]\n",
    "print(x - y)\n",
    "print(np.subtract(x, y))"
   ]
  },
  {
   "cell_type": "markdown",
   "metadata": {},
   "source": [
    "<img src=\"images/numpy/chap5_np_19.png\" style=\"width:30%;height:30%;\">"
   ]
  },
  {
   "cell_type": "markdown",
   "metadata": {},
   "source": [
    "Phép nhân giữa hai mảng "
   ]
  },
  {
   "cell_type": "code",
   "execution_count": 22,
   "metadata": {},
   "outputs": [
    {
     "name": "stdout",
     "output_type": "stream",
     "text": [
      "[[ 5. 12.]\n",
      " [21. 32.]]\n",
      "[[ 5. 12.]\n",
      " [21. 32.]]\n"
     ]
    }
   ],
   "source": [
    "import numpy as np\n",
    "\n",
    "x = np.array([[1,2],[3,4]], dtype=np.float64)\n",
    "y = np.array([[5,6],[7,8]], dtype=np.float64)\n",
    "\n",
    "# Phép nhân \n",
    "# [[ 5.0 12.0]\n",
    "#  [21.0 32.0]]\n",
    "print(x * y)\n",
    "print(np.multiply(x, y))"
   ]
  },
  {
   "cell_type": "markdown",
   "metadata": {},
   "source": [
    "<img src=\"images/numpy/chap5_np_20.png\" style=\"width:30%;height:30%;\">"
   ]
  },
  {
   "cell_type": "markdown",
   "metadata": {},
   "source": [
    "Phép chia giữa hai mảng"
   ]
  },
  {
   "cell_type": "code",
   "execution_count": 23,
   "metadata": {},
   "outputs": [
    {
     "name": "stdout",
     "output_type": "stream",
     "text": [
      "[[0.2        0.33333333]\n",
      " [0.42857143 0.5       ]]\n",
      "[[0.2        0.33333333]\n",
      " [0.42857143 0.5       ]]\n"
     ]
    }
   ],
   "source": [
    "import numpy as np\n",
    "\n",
    "x = np.array([[1,2],[3,4]], dtype=np.float64)\n",
    "y = np.array([[5,6],[7,8]], dtype=np.float64)\n",
    "\n",
    "# Phép chia \n",
    "# [[ 0.2         0.33333333]\n",
    "#  [ 0.42857143  0.5       ]]\n",
    "print(x / y)\n",
    "print(np.divide(x, y))"
   ]
  },
  {
   "cell_type": "markdown",
   "metadata": {},
   "source": [
    "<img src=\"images/numpy/chap5_np_21.png\" style=\"width:30%;height:30%;\">"
   ]
  },
  {
   "cell_type": "markdown",
   "metadata": {},
   "source": [
    "Tính căn bậc 2 cho từng phần tử"
   ]
  },
  {
   "cell_type": "code",
   "execution_count": 24,
   "metadata": {},
   "outputs": [
    {
     "name": "stdout",
     "output_type": "stream",
     "text": [
      "[[1.         1.41421356]\n",
      " [1.73205081 2.        ]]\n"
     ]
    }
   ],
   "source": [
    "import numpy as np\n",
    "\n",
    "x = np.array([[1,2],[3,4]], dtype=np.float64)\n",
    "y = np.array([[5,6],[7,8]], dtype=np.float64)\n",
    "\n",
    "# Phép lấy căn \n",
    "# [[ 1.          1.41421356]\n",
    "#  [ 1.73205081  2.        ]]\n",
    "print(np.sqrt(x))"
   ]
  },
  {
   "cell_type": "markdown",
   "metadata": {},
   "source": [
    "Nhân giữa hai vector (inner product)"
   ]
  },
  {
   "cell_type": "code",
   "execution_count": 25,
   "metadata": {},
   "outputs": [
    {
     "name": "stdout",
     "output_type": "stream",
     "text": [
      "219\n",
      "219\n"
     ]
    }
   ],
   "source": [
    "import numpy as np\n",
    "\n",
    "v = np.array([9,10])\n",
    "w = np.array([11, 12])\n",
    "\n",
    "# Nhân giữa 2 vector, cả 2 đều cho kết quả 219 \n",
    "print(v.dot(w))\n",
    "print(np.dot(v, w))"
   ]
  },
  {
   "cell_type": "markdown",
   "metadata": {},
   "source": [
    "Nhân giữa vector và ma trận "
   ]
  },
  {
   "cell_type": "code",
   "execution_count": 26,
   "metadata": {},
   "outputs": [
    {
     "name": "stdout",
     "output_type": "stream",
     "text": [
      "[29 67]\n",
      "[29 67]\n"
     ]
    }
   ],
   "source": [
    "import numpy as np\n",
    "\n",
    "X = np.array([[1,2],[3,4]])\n",
    "v = np.array([9,10])\n",
    "\n",
    "# Nhân giữa Matrix và vector, cả 2 đều cho kết quả array [29 67]\n",
    "print(X.dot(v))\n",
    "print(np.dot(X, v))"
   ]
  },
  {
   "cell_type": "markdown",
   "metadata": {},
   "source": [
    "Nhân giữa matrix và matrix "
   ]
  },
  {
   "cell_type": "code",
   "execution_count": 27,
   "metadata": {},
   "outputs": [
    {
     "name": "stdout",
     "output_type": "stream",
     "text": [
      "[[19 22]\n",
      " [43 50]]\n",
      "[[19 22]\n",
      " [43 50]]\n"
     ]
    }
   ],
   "source": [
    "import numpy as np\n",
    "\n",
    "X = np.array([[1,2],[3,4]])\n",
    "Y = np.array([[5,6],[7,8]])\n",
    "\n",
    "# Nhân giữa matrix và matrix; cả 2 cách đều cho cùng kết quả \n",
    "# [[19 22]\n",
    "#  [43 50]]\n",
    "print(X.dot(Y))\n",
    "print(np.dot(X, Y))"
   ]
  },
  {
   "cell_type": "markdown",
   "metadata": {},
   "source": [
    "Tính tổng cho một mảng numpy"
   ]
  },
  {
   "cell_type": "code",
   "execution_count": 28,
   "metadata": {},
   "outputs": [
    {
     "name": "stdout",
     "output_type": "stream",
     "text": [
      "10\n",
      "[4 6]\n",
      "[3 7]\n"
     ]
    }
   ],
   "source": [
    "import numpy as np\n",
    "\n",
    "x = np.array([[1,2],[3,4]])\n",
    "\n",
    "# Tổng các phần tử của mảng; prints \"10\"\n",
    "print(np.sum(x))  \n",
    "\n",
    "# Tính tổng theo từng cột \n",
    "print(np.sum(x, axis=0))  \n",
    "\n",
    "# Tính tổng theo từng hàng\n",
    "print(np.sum(x, axis=1)) "
   ]
  },
  {
   "cell_type": "markdown",
   "metadata": {},
   "source": [
    "<img src=\"images/numpy/chap5_np_27.png\" style=\"width:30%;height:30%;\">"
   ]
  },
  {
   "cell_type": "markdown",
   "metadata": {},
   "source": [
    "Chuyển vị cho một ma trận"
   ]
  },
  {
   "cell_type": "code",
   "execution_count": 29,
   "metadata": {},
   "outputs": [
    {
     "name": "stdout",
     "output_type": "stream",
     "text": [
      "[[1 2]\n",
      " [3 4]]\n",
      "[[1 3]\n",
      " [2 4]]\n"
     ]
    }
   ],
   "source": [
    "import numpy as np\n",
    "\n",
    "x = np.array([[1,2], [3,4]])\n",
    "print(x)    # Prints \"[[1 2]\n",
    "            #          [3 4]]\"\n",
    "print(x.T)  # Prints \"[[1 3]\n",
    "            #          [2 4]]\"\n"
   ]
  },
  {
   "cell_type": "markdown",
   "metadata": {},
   "source": [
    "<img src=\"images/numpy/chap5_np_29.png\" style=\"width:30%;height:30%;\">"
   ]
  },
  {
   "cell_type": "code",
   "execution_count": 30,
   "metadata": {},
   "outputs": [
    {
     "name": "stdout",
     "output_type": "stream",
     "text": [
      "[1 2 3]\n",
      "[1 2 3]\n"
     ]
    }
   ],
   "source": [
    "# Lưu ý rằng việc chuyển vị cho vector sẽ không làm gì cả.\n",
    "v = np.array([1,2,3])\n",
    "print(v)    # Prints \"[1 2 3]\"\n",
    "print(v.T)  # Prints \"[1 2 3]\""
   ]
  },
  {
   "cell_type": "markdown",
   "metadata": {},
   "source": [
    "#### 2.5 Broadcasting\n",
    "\n",
    "Broadcasting cho phép thực thi các phép toán trên các mảng có kích thước khác nhau.\n",
    "\n",
    "Ví dụ: chúng ta muốn cộng vector cho mỗi hàng của ma trận. Chúng ta có thể làm như sau:"
   ]
  },
  {
   "cell_type": "code",
   "execution_count": 31,
   "metadata": {},
   "outputs": [
    {
     "name": "stdout",
     "output_type": "stream",
     "text": [
      "Matrix X: \n",
      " [[ 1  2  3]\n",
      " [ 4  5  6]\n",
      " [ 7  8  9]\n",
      " [10 11 12]]\n",
      "\n",
      "Vector v: \n",
      " [1 0 1]\n",
      "\n",
      "Matrix Y: \n",
      " [[ 2  2  4]\n",
      " [ 5  5  7]\n",
      " [ 8  8 10]\n",
      " [11 11 13]]\n"
     ]
    }
   ],
   "source": [
    "import numpy as np\n",
    "\n",
    "X = np.array([[1,2,3],[4,5,6],[7,8,9],[10,11,12]])\n",
    "v = np.array([1,0,1])\n",
    "Y = np.empty_like(X)\n",
    "\n",
    "# Cách 1: Thêm vector v vào mỗi hàng của ma trận X bằng vòng lặp \n",
    "for i in range(4):\n",
    "    Y[i, :] = X[i, :] + v\n",
    "    \n",
    "print('Matrix X: \\n', X)\n",
    "print('\\nVector v: \\n', v)\n",
    "print('\\nMatrix Y: \\n', Y)"
   ]
  },
  {
   "cell_type": "markdown",
   "metadata": {},
   "source": [
    "Cách này hoạt động bình thường với ma trận X nhỏ. Khi ma trận X lớn, việc sử dụng vòng lặp này sẽ rất chậm.\n",
    "\n",
    "Chúng ta có thể thực hiện mục đích trên bằng cách xếp chồng nhiều bản sao của v theo chiều dọc, sau đó thực hiện phép tính tổng với X. Chúng ta có thể thực hiện phương pháp này như sau:"
   ]
  },
  {
   "cell_type": "code",
   "execution_count": 32,
   "metadata": {},
   "outputs": [
    {
     "name": "stdout",
     "output_type": "stream",
     "text": [
      "Matrix X: \n",
      " [[ 1  2  3]\n",
      " [ 4  5  6]\n",
      " [ 7  8  9]\n",
      " [10 11 12]]\n",
      "\n",
      "Vector v: \n",
      " [1 0 1]\n",
      "\n",
      "Matrix v: \n",
      " [[1 0 1]\n",
      " [1 0 1]\n",
      " [1 0 1]\n",
      " [1 0 1]]\n",
      "\n",
      "Matrix Y: \n",
      " [[ 2  2  4]\n",
      " [ 5  5  7]\n",
      " [ 8  8 10]\n",
      " [11 11 13]]\n"
     ]
    }
   ],
   "source": [
    "import numpy as np\n",
    "\n",
    "X = np.array([[1,2,3],[4,5,6],[7,8,9],[10,11,12]])\n",
    "v = np.array([1,0,1])\n",
    "\n",
    "# Xếp chồng 4 bản sao của v lên nhau:\n",
    "V_t = np.tile(v, (4, 1))\n",
    "\n",
    "# Thực hiện phép cộng\n",
    "Y = X + V_t\n",
    "\n",
    "print('Matrix X: \\n', X)\n",
    "print('\\nVector v: \\n', v)\n",
    "print('\\nMatrix v: \\n', V_t)\n",
    "print('\\nMatrix Y: \\n', Y)"
   ]
  },
  {
   "cell_type": "markdown",
   "metadata": {},
   "source": [
    "<img src=\"images/numpy/chap5_np_31.png\" style=\"width:50%;height:50%;\">"
   ]
  },
  {
   "cell_type": "markdown",
   "metadata": {},
   "source": [
    "Numpy broadcasting cho phép chúng ta thực thi tính toán này mà không cần phải làm thêm các bước thêm nào."
   ]
  },
  {
   "cell_type": "code",
   "execution_count": 33,
   "metadata": {},
   "outputs": [
    {
     "name": "stdout",
     "output_type": "stream",
     "text": [
      "[[ 2  2  4]\n",
      " [ 5  5  7]\n",
      " [ 8  8 10]\n",
      " [11 11 13]]\n"
     ]
    }
   ],
   "source": [
    "import numpy as np\n",
    "\n",
    "X = np.array([[1,2,3],[4,5,6],[7,8,9],[10,11,12]])\n",
    "v = np.array([1,0,1])\n",
    "Y = X + v \n",
    "print(Y)"
   ]
  },
  {
   "cell_type": "markdown",
   "metadata": {},
   "source": [
    "<img src=\"images/numpy/chap5_np_32.png\" style=\"width:50%;height:50%;\">"
   ]
  },
  {
   "cell_type": "markdown",
   "metadata": {},
   "source": [
    "### Tài liệu tham khảo \n",
    "\n",
    "[1] [CS231n Convolutional Neural Networks - Python Numpy Tutorial](http://cs231n.github.io/python-numpy-tutorial/#numpy-datatypes)"
   ]
  }
 ],
 "metadata": {
  "kernelspec": {
   "display_name": "Python 3",
   "language": "python",
   "name": "python3"
  },
  "language_info": {
   "codemirror_mode": {
    "name": "ipython",
    "version": 3
   },
   "file_extension": ".py",
   "mimetype": "text/x-python",
   "name": "python",
   "nbconvert_exporter": "python",
   "pygments_lexer": "ipython3",
   "version": "3.7.3"
  }
 },
 "nbformat": 4,
 "nbformat_minor": 2
}
