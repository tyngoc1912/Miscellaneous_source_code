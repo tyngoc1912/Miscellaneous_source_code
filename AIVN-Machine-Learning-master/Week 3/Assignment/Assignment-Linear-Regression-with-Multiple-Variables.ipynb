{
 "cells": [
  {
   "cell_type": "markdown",
   "metadata": {},
   "source": [
    "## Programming Assignment: Linear Regression with Multiple Variable\n",
    "\n",
    "Chào mừng các bạn đến với bài tập lập trình Linear Regression with Multiple Variable (Hồi quy tuyến tính đa biến). Trước khi thực hiện bài tập này, các bạn nên học kỹ các kiến thức lý thuyết. Nếu có bất kỳ câu hỏi hay vấn đề nào xảy ra, các bạn hãy để lại comment trực tiếp bên dưới bài đăng hoặc liên hệ qua Fanpage AIVIETNAM.\n",
    "\n",
    "Trong bài tập này, các bạn sẽ thực hiện dự giá nhà từ diện tích và số phòng ngủ.\n",
    "\n",
    "### Hướng dẫn làm bài \n",
    "- Trong bài tập này bạn sẽ sử dụng Python 3.\n",
    "- Cố gắng không sử dụng các vòng lặp (for, while). \n",
    "- Hãy sử dụng các hàm của thư viện numpy.\n",
    "- Chúng ta cũng sẽ sử dụng thư viện __scikit-learn__ để kiểm tra kết quả\n",
    "- Sau khi bạn viết Code của mình xong, hãy chạy dòng Code đó để xem kết quả bên dưới. \n",
    "\n",
    "Các bạn sẽ bắt đầu Code trong phần `### START CODE HERE ###` và `### END CODE HERE ###`. Các bạn nhớ đừng sửa bất kỳ dòng Code nào bên ngoài những câu lệnh này. \n",
    "\n",
    "Sau khi viết xong Code của bạn, bạn hãy ấn \"SHIFT\"+\"ENTER\" để thực hiện chạy lệnh của Cell đó. \n",
    "\n",
    "Trong phần Code: các bạn hãy cố gắng thực hiện ít dòng Code nhất theo chỉ định \"(≈ X lines of code)\". Mặc dù đây không phải là hạn chế về số dòng Code của bạn, nhưng hãy tối ưu sao cho ít nhất có thể."
   ]
  },
  {
   "cell_type": "code",
   "execution_count": null,
   "metadata": {},
   "outputs": [],
   "source": [
    "# import các thư viện \n",
    "%matplotlib inline\n",
    "import matplotlib.pyplot as plt\n",
    "import numpy as np\n",
    "import seaborn; seaborn.set_style(\"whitegrid\")"
   ]
  },
  {
   "cell_type": "markdown",
   "metadata": {},
   "source": [
    "### Linear Regressiong đa biến\n",
    "\n",
    "Về cơ bản, bài toán hồi quy tuyến tính đa biến cũng tương tự bài toán hồi quy tuyến tính đơn biến. Tuy nhiên, trong bài này, chúng ta sẽ sử dụng Vecto hoá thay vì sử dụng vòng lặp."
   ]
  },
  {
   "cell_type": "code",
   "execution_count": null,
   "metadata": {},
   "outputs": [],
   "source": [
    "# đọc dữ liệu từ file data.txt \n",
    "data = np.loadtxt('data/data.txt', delimiter=',')\n",
    "x, y = data[:, :2], data[:, 2]"
   ]
  },
  {
   "cell_type": "code",
   "execution_count": null,
   "metadata": {},
   "outputs": [],
   "source": [
    "# xem trước 5 dữ liệu đầu tiên\n",
    "print(x[:5])\n",
    "print(y[:5])"
   ]
  },
  {
   "cell_type": "markdown",
   "metadata": {},
   "source": [
    "### 1. Trực quan hoá dữ liệu\n",
    "\n",
    "Việc trực quan hoá dữ liệu sẽ phần nào giúp chúng ta hình dung bộ dữ liệu ra sao."
   ]
  },
  {
   "cell_type": "code",
   "execution_count": null,
   "metadata": {},
   "outputs": [],
   "source": [
    "fig = plt.figure(figsize=(14, 5))\n",
    "fig.subplots_adjust(wspace=0.3)\n",
    "\n",
    "ax1 = fig.add_subplot(121)\n",
    "ax2 = fig.add_subplot(122)\n",
    "\n",
    "# Scatter plots:\n",
    "ax1.scatter(x[:,0], y, marker='x', c='r', alpha=0.5, s=20)\n",
    "ax1.set_xlabel('Sq.ft of house')\n",
    "ax1.set_ylabel('House price')\n",
    "ax1.set_xlim(0, 6000)\n",
    "\n",
    "ax3 = ax1.twiny()\n",
    "ax3.scatter(x[:,1], y, marker='o', c='b', alpha=0.4, s=20)\n",
    "ax3.set_xlabel('Number of bedrooms')\n",
    "ax3.set_xlim(0, 6)\n",
    "\n",
    "# Histograms:\n",
    "ax2.hist(x[:,0], alpha=0.4, edgecolor='b', linewidth=0.8)\n",
    "ax2.set_xlabel('Sq.ft of house')\n",
    "ax2.set_ylabel('Total count')\n",
    "ax2.set_xlim(0, 6000)\n",
    "\n",
    "ax4 = ax2.twiny()\n",
    "ax4.hist(x[:,1], alpha=0.4, color='r', edgecolor='r', linewidth=0.8)\n",
    "ax4.set_xlabel('Number of bedrooms')\n",
    "ax4.set_xlim(0, 6);"
   ]
  },
  {
   "cell_type": "markdown",
   "metadata": {},
   "source": [
    "### 2. Chuẩn hoá dữ liệu "
   ]
  },
  {
   "cell_type": "markdown",
   "metadata": {},
   "source": [
    "**Bài tập 1:** Chuẩn hoá dữ liệu \n",
    "\n",
    "Nhắc lại: Standardization (còn được gọi là z-score normalization) biến đổi dữ liệu sao cho phân phối của kết quả có giá trị trung bình ($\\mu$) bằng 0 và độ lệch chuẩn ($\\sigma$) bằng 1. Khi đó, công thức chuẩn hoá là:\n",
    "\n",
    "<center> $x' = \\frac{x - x_{mean}}{\\sigma}$ </center>\n",
    "\n",
    "Trong đó:\n",
    "- $x'$: giá trị sau chuẩn hoá.\n",
    "- $x$: giá trị ban đầu.\n",
    "- $x_{mean}$: giá trị mean của bộ dữ liệu.\n",
    "- $\\sigma$: phương sai (standard deviation).\n",
    "\n",
    "Công thức z-score trong thống kê được định nghĩa:\n",
    "\n",
    "<center> $x' = \\frac{x - \\mu}{\\sigma}$ </center>"
   ]
  },
  {
   "cell_type": "code",
   "execution_count": null,
   "metadata": {},
   "outputs": [],
   "source": [
    "def featureNormalize(X):\n",
    "    \"\"\"\n",
    "    mu: giá trị mean\n",
    "    sigma: phương sai (standard deviation)\n",
    "    X_norm: giá trị sau chuẩn hoá\n",
    "    \"\"\"\n",
    "    ### START CODE HERE ### (≈ 3 line of code)\n",
    "    mu = None\n",
    "    sigma = None\n",
    "    X_norm = None\n",
    "    ### END CODE HERE ###\n",
    "    \n",
    "    return X_norm, mu, sigma"
   ]
  },
  {
   "cell_type": "markdown",
   "metadata": {},
   "source": [
    "Chuẩn hoá dữ liệu Training:"
   ]
  },
  {
   "cell_type": "code",
   "execution_count": null,
   "metadata": {},
   "outputs": [],
   "source": [
    "# In dữ liệu trước khi chuẩn hoá\n",
    "print(x[:5])"
   ]
  },
  {
   "cell_type": "code",
   "execution_count": null,
   "metadata": {},
   "outputs": [],
   "source": [
    "# Chuẩn hoá dữ liệu \n",
    "X, mean, sigma = featureNormalize(x)"
   ]
  },
  {
   "cell_type": "code",
   "execution_count": null,
   "metadata": {},
   "outputs": [],
   "source": [
    "# Dữ liệu sau khi chuẩn hoá\n",
    "print(X[:5])"
   ]
  },
  {
   "cell_type": "markdown",
   "metadata": {},
   "source": [
    "**Đầu ra kỳ vọng**: \n",
    "<table>\n",
    "    <tr><td> [[ 0.13141542 -0.22609337] <td></tr>\n",
    "    <tr><td>  [-0.5096407  -0.22609337] <td></tr>\n",
    "    <tr><td> [ 0.5079087  -0.22609337] <td></tr>\n",
    "    <tr><td> [ 1.27107075  1.10220517]] <td></tr>\n",
    "</table> "
   ]
  },
  {
   "cell_type": "markdown",
   "metadata": {},
   "source": [
    "Trực quan hoá dữ liệu sau khi chuẩn hoá"
   ]
  },
  {
   "cell_type": "code",
   "execution_count": null,
   "metadata": {},
   "outputs": [],
   "source": [
    "fig = plt.figure(figsize=(7, 5))\n",
    "\n",
    "# Histograms:\n",
    "plt.hist(X[:,0], alpha=0.4, edgecolor='b', linewidth=0.8, label='sq.ft')\n",
    "plt.hist(X[:,1], alpha=0.4, color='r', edgecolor='r', linewidth=0.8, label='bedrooms')\n",
    "plt.xlabel('Features normalized')\n",
    "plt.ylabel('Total count')\n",
    "plt.xlim(-4, 4)\n",
    "pst = plt.legend(loc='best', frameon=True)\n",
    "pst.get_frame().set_edgecolor('k');"
   ]
  },
  {
   "cell_type": "markdown",
   "metadata": {},
   "source": [
    "### 3. Gradient Descent"
   ]
  },
  {
   "cell_type": "markdown",
   "metadata": {},
   "source": [
    "**Bài tập 2**: Thực hiện thêm cột 1 vào X"
   ]
  },
  {
   "cell_type": "markdown",
   "metadata": {},
   "source": [
    "Để thuận tiện cho việc tính toán, chúng ta coi $\\theta_0 \\times x_0$ với $x_0 = 1$. Khi đó:\n",
    "\n",
    "<br><center> $\\hat{y} = h_{\\theta}(x) = \\theta_0{x_0} + \\theta_1{x_1} + \\theta_2{x_2} + \\theta_3{x_3} + ... +    \\theta_n{x_n}$</center>\n",
    "\n",
    "**Chú ý:** $x_0 = 1$\n",
    "\n",
    "\n",
    ">$ X = \\begin{bmatrix}\n",
    " 1 & x_1 ^{(1)} & \\cdots \\\\ \n",
    " 1 & x_1^{(2)} & \\cdots \\\\ \n",
    " 1 & x_1^{(3)} & \\cdots \n",
    "\\end{bmatrix}; \\theta = \\begin{bmatrix}\n",
    "\\theta_0\\\\ \n",
    "\\theta_1\\\\\n",
    "\\vdots\n",
    "\\end{bmatrix} $"
   ]
  },
  {
   "cell_type": "code",
   "execution_count": null,
   "metadata": {},
   "outputs": [],
   "source": [
    "\"\"\"\n",
    "Gợi ý sử dụng: np.ones và np.hstack\n",
    "\"\"\"\n",
    "\n",
    "### START CODE HERE ### (≈ 1 line of code)\n",
    "X = None\n",
    "### END CODE HERE ###"
   ]
  },
  {
   "cell_type": "code",
   "execution_count": null,
   "metadata": {},
   "outputs": [],
   "source": [
    "print(X[:5])"
   ]
  },
  {
   "cell_type": "markdown",
   "metadata": {},
   "source": [
    "**Đầu ra kỳ vọng**: \n",
    "```Python \n",
    "[[ 1.          0.13141542 -0.22609337]\n",
    "[ 1.         -0.5096407  -0.22609337]\n",
    "[ 1.          0.5079087  -0.22609337]\n",
    "[ 1.         -0.74367706 -1.5543919 ]\n",
    "[ 1.          1.27107075  1.10220517]]\n",
    "```"
   ]
  },
  {
   "cell_type": "markdown",
   "metadata": {},
   "source": [
    "Khởi tạo tham số:"
   ]
  },
  {
   "cell_type": "code",
   "execution_count": null,
   "metadata": {},
   "outputs": [],
   "source": [
    "theta = np.zeros(3)\n",
    "iterations = 1500\n",
    "alpha = 0.01"
   ]
  },
  {
   "cell_type": "markdown",
   "metadata": {},
   "source": [
    "### Tính Cost Function J\n",
    "\n",
    "**Bài tập 3:** Tính Cost Function J\n",
    "\n",
    "Sử dụng Vector hoá:\n",
    "\n",
    "<br><center>$J(\\theta) = \\dfrac{1}{2m} (X\\theta - \\vec{y} )^T(X\\theta - \\vec{y})$</center>\n",
    "\n",
    "*Chú ý:* phép nhân Vector."
   ]
  },
  {
   "cell_type": "code",
   "execution_count": null,
   "metadata": {},
   "outputs": [],
   "source": [
    "def computeCost(X, y, theta):\n",
    "    m = len(y)\n",
    "    \n",
    "    ### START CODE HERE ### (≈ 1 line of code)   \n",
    "    cost = None\n",
    "    ### END CODE HERE ###    \n",
    "    \n",
    "    return cost"
   ]
  },
  {
   "cell_type": "code",
   "execution_count": null,
   "metadata": {},
   "outputs": [],
   "source": [
    "computeCost(X, y, theta)"
   ]
  },
  {
   "cell_type": "markdown",
   "metadata": {},
   "source": [
    "**Đầu ra kỳ vọng**: \n",
    "<table>\n",
    "    <tr><td> 65591548106.45744 <td></tr>\n",
    "</table> "
   ]
  },
  {
   "cell_type": "markdown",
   "metadata": {},
   "source": [
    "**Bài tập 4:** Định nghĩa hàm Gradient Descent\n",
    "\n",
    "> $\\theta:= \\theta - \\frac{\\alpha}{m} X^T (X\\theta - \\vec{y}) $\n"
   ]
  },
  {
   "cell_type": "code",
   "execution_count": null,
   "metadata": {},
   "outputs": [],
   "source": [
    "def gradientDescent(X, y, theta, alpha, iterations):\n",
    "    m = len(y)\n",
    "    cost = np.zeros(iterations)\n",
    "    thetaMod = theta.copy()\n",
    "    thetaHist = np.zeros(iterations)\n",
    "    \n",
    "    for i in range(iterations):\n",
    "        \n",
    "        ### START CODE HERE ### (≈ 1 line of code)\n",
    "        thetaMod = None\n",
    "        ### END CODE HERE ### \n",
    "        \n",
    "        thetaHist[i] = thetaMod[1]\n",
    "        cost[i] = computeCost(X, y, thetaMod)\n",
    "    \n",
    "    return thetaMod, thetaHist, cost"
   ]
  },
  {
   "cell_type": "code",
   "execution_count": null,
   "metadata": {},
   "outputs": [],
   "source": [
    "gradient, thetaHist, cost = gradientDescent(X, y, theta, alpha, iterations)  \n",
    "print('theta[0]: {}\\ntheta[1]: {}\\ntheta[2]: {}'.format(gradient[0], gradient[1], gradient[2]))"
   ]
  },
  {
   "cell_type": "markdown",
   "metadata": {},
   "source": [
    "**Đầu ra kỳ vọng**: \n",
    "<table>\n",
    "    <tr><td> theta[0]: 340412.563014392 <td></tr>\n",
    "    <tr><td> theta[1]: 109370.05670466014 <td></tr>\n",
    "    <tr><td> theta[2]: -6500.615095066833 <td></tr>\n",
    "</table> "
   ]
  },
  {
   "cell_type": "markdown",
   "metadata": {},
   "source": [
    "Vẽ hàm Loss:"
   ]
  },
  {
   "cell_type": "code",
   "execution_count": null,
   "metadata": {},
   "outputs": [],
   "source": [
    "plt.plot(cost)"
   ]
  },
  {
   "cell_type": "markdown",
   "metadata": {},
   "source": [
    "### 4 Nghiệm với Scikit-learn"
   ]
  },
  {
   "cell_type": "code",
   "execution_count": null,
   "metadata": {},
   "outputs": [],
   "source": [
    "from sklearn.linear_model import LinearRegression\n",
    "reg = LinearRegression(fit_intercept=True)\n",
    "\n",
    "model = reg.fit(x, y)\n",
    "\n",
    "print('theta[0]: {}\\ntheta[1]: {}\\ntheta[2]: {}'.format(model.intercept_, model.coef_[0], model.coef_[1]))"
   ]
  },
  {
   "cell_type": "markdown",
   "metadata": {},
   "source": [
    "**Nhận xét:** kết quả Loss khi sử dụng Gradient Descent mặc dù giảm dần nhưng vẫn chưa tối ưu. Theta khi sử dụng Gradient Descent và Scikit-learn khác nhau khá lớn."
   ]
  },
  {
   "cell_type": "markdown",
   "metadata": {},
   "source": [
    "### 4. Tuỳ chọn Learning Rate cho Gradient Descent \n",
    "\n",
    "Bằng cách tuỳ chọn các Learning Rate khác nhau, chúng ta sẽ đi tìm Learning Rate tối ưu nhất."
   ]
  },
  {
   "cell_type": "code",
   "execution_count": null,
   "metadata": {},
   "outputs": [],
   "source": [
    "learningRates = [0.3, 0.1, 0.03, 0.01, 0.003, 0.001]\n",
    "\n",
    "fig, ax = plt.subplots(figsize=(7, 5))\n",
    "\n",
    "for alpha in learningRates:\n",
    "    gradientNew, thetaHistNew, costNew = gradientDescent(X, y, theta, alpha, 50) \n",
    "    ax.plot(costNew, label='alpha = {0}'.format(alpha))\n",
    "\n",
    "ax.set_ylabel(r\"Cost function - $J(\\theta)$\")\n",
    "ax.set_xlabel('Iterations')\n",
    "pst = plt.legend(loc='best', frameon=True)\n",
    "pst.get_frame().set_edgecolor('k');"
   ]
  },
  {
   "cell_type": "markdown",
   "metadata": {},
   "source": [
    "Ta nhận thấy learning rate phù hợp nhất ở đây là __0.03__"
   ]
  },
  {
   "cell_type": "markdown",
   "metadata": {},
   "source": [
    "### 5. Thực hiện dự đoán "
   ]
  },
  {
   "cell_type": "code",
   "execution_count": null,
   "metadata": {},
   "outputs": [],
   "source": [
    "# Chạy lại thuật toán với LR tối ưu = 0.03\n",
    "gradient, thetaHist, cost = gradientDescent(X, y, theta, 0.03, 500)  \n",
    "\n",
    "# normalizing parameters:\n",
    "paramsNorm = (np.array([1650, 3]) - mean) / sigma\n",
    "\n",
    "# thêm cột 1 vào paramsNorm\n",
    "params = np.hstack((np.array([1]), paramsNorm))\n",
    "\n",
    "# Dự đoán giá nhà\n",
    "predict = np.dot(gradient, params)\n",
    "print ('A 3 bedroom / 1650 sqft house will cost $%0.2f' % predict)"
   ]
  },
  {
   "cell_type": "markdown",
   "metadata": {},
   "source": [
    "**Đầu ra kỳ vọng**: \n",
    "<table>\n",
    "    <tr><td> A 3 bedroom / 1650 sqft house will cost $293097.99 <td></tr>\n",
    "</table> "
   ]
  },
  {
   "cell_type": "markdown",
   "metadata": {},
   "source": [
    "### 6. Nghiệm bằng Normal Equation\n",
    "\n",
    "Normal Equation là phương pháp tìm nghiệm của bài toán Linear Regression mà không cần tới vòng lặp, không cần lựa chọn Learning Rate. Và cũng không cần phải Scaling dữ liệu.\n",
    "\n",
    "Và công thức quan trọng nhất của chúng ta:\n",
    "\n",
    "<center> $\\theta = (X^T X)^{-1} X^Ty $ </center>\n",
    "\n",
    "So sánh giữa Normal Equation và Gradient Descent:\n",
    "\n",
    "<table>\n",
    "  <tr>\n",
    "    <td> Gradient Descent </td>\n",
    "    <td> Normal Equation </td>\n",
    "  </tr>\n",
    "\n",
    "  <tr>\n",
    "    <td> Cần phải chọn Learning Rate </td>\n",
    "    <td> Không cần chọn Learning Rate </td> \n",
    "  </tr>\n",
    "  \n",
    "  <tr>\n",
    "    <td> Cần nhiều vòng lặp </td>\n",
    "    <td> Không cần vòng lặp </td>\n",
    "  </tr>\n",
    "  \n",
    "  <tr>\n",
    "    <td> Thời gian tính: $O(kn^2)$ </td>\n",
    "    <td> Thời gian tính: $O(n^3)$, cần phải tính ma trận nghịch đảo </td> \n",
    "  </tr>\n",
    "  \n",
    "   <tr>\n",
    "    <td> Hoạt động tốt với dữ liệu lớn  </td>\n",
    "    <td> Rất chậm với dữ liệu lớn </td> \n",
    "  </tr>\n",
    "  \n",
    "</table>"
   ]
  },
  {
   "cell_type": "code",
   "execution_count": null,
   "metadata": {},
   "outputs": [],
   "source": [
    "from numpy.linalg import inv\n",
    "\n",
    "\"\"\"\n",
    "Gợi ý sử dụng inv để tính ma trận nghịch đảo.\n",
    "\"\"\"\n",
    "\n",
    "# Định nghĩa hàm normal equation\n",
    "def normalEqn(X, y):\n",
    "    ### START CODE HERE ### (≈ 1 line of code) \n",
    "    theta = None\n",
    "    ### END CODE HERE ###\n",
    "    \n",
    "    return theta"
   ]
  },
  {
   "cell_type": "code",
   "execution_count": null,
   "metadata": {},
   "outputs": [],
   "source": [
    "# Với Normal Equation ta cũng cần thêm vector cột 1 vào ma trận x\n",
    "X = np.ones((len(x), 3))\n",
    "X[:, 1:] = x\n",
    "\n",
    "thetaN = normalEqn(X, y)"
   ]
  },
  {
   "cell_type": "code",
   "execution_count": null,
   "metadata": {},
   "outputs": [],
   "source": [
    "thetaN = normalEqn(X, y)\n",
    "print('theta[0]: {}\\ntheta[1]: {}\\ntheta[2]: {}'.format(thetaN[0], thetaN[1], thetaN[2]))"
   ]
  },
  {
   "cell_type": "markdown",
   "metadata": {},
   "source": [
    "**Đầu ra kỳ vọng**: \n",
    "<table>\n",
    "    <tr><td> theta[0]: 89597.90954279806 <td></tr>\n",
    "    <tr><td> theta[1]: 139.21067401762548 <td></tr>\n",
    "    <tr><td> theta[2]: -8738.019112327602 <td></tr>\n",
    "</table> "
   ]
  },
  {
   "cell_type": "markdown",
   "metadata": {},
   "source": [
    "**Nhận xét:** Nghiệm bài toán khá sát với kết quả khi sử dụng thư viện __Scikit-learn__"
   ]
  },
  {
   "cell_type": "code",
   "execution_count": null,
   "metadata": {},
   "outputs": [],
   "source": [
    "# Dự đoán với căn nhà 1650 feet, 3 phòng ngủ \n",
    "params = np.array([1, 1650, 3]) \n",
    "\n",
    "predict = np.dot(thetaN, params)\n",
    "print ('A 3 bedroom / 1650 sqft house will cost $%0.2f' % predict)"
   ]
  },
  {
   "cell_type": "markdown",
   "metadata": {},
   "source": [
    "**Đầu ra kỳ vọng**: \n",
    "<table>\n",
    "    <tr><td> A 3 bedroom / 1650 sqft house will cost $293081.46 <td></tr>\n",
    "</table> "
   ]
  },
  {
   "cell_type": "markdown",
   "metadata": {},
   "source": [
    "### Tổng kết\n",
    "\n",
    "Thông qua bài tập này, các bạn đã nắm vững các kiến thức về:\n",
    "\n",
    "- Hồi quy tuyến tính đa biến\n",
    "- Thực hiện tính toán trên các matrix / vector\n",
    "- Đánh giá sự khác nhau giữ Gradient Descent và Normal Equation\n"
   ]
  },
  {
   "cell_type": "markdown",
   "metadata": {},
   "source": [
    "### Tài liệu tham khảo \n",
    "\n",
    "[1] [CS220 - Machine Leanring]()"
   ]
  }
 ],
 "metadata": {
  "kernelspec": {
   "display_name": "Python 3",
   "language": "python",
   "name": "python3"
  },
  "language_info": {
   "codemirror_mode": {
    "name": "ipython",
    "version": 3
   },
   "file_extension": ".py",
   "mimetype": "text/x-python",
   "name": "python",
   "nbconvert_exporter": "python",
   "pygments_lexer": "ipython3",
   "version": "3.7.3"
  }
 },
 "nbformat": 4,
 "nbformat_minor": 2
}
