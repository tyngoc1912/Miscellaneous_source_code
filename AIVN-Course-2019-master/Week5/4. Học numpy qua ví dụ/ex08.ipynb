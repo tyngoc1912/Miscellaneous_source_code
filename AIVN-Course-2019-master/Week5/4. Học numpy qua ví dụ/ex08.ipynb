{
 "cells": [
  {
   "cell_type": "markdown",
   "metadata": {},
   "source": [
    "Cho 2 mảng sau:\n",
    "\n",
    "`arr1 = np.arange(10).reshape(2,-1)`\n",
    "\n",
    "`arr2 = np.arange(10,0,-1).reshape(2,-1)`\n",
    "\n",
    "hãy xếp chồng 2 mảng theo chiều ngang."
   ]
  },
  {
   "cell_type": "code",
   "execution_count": 1,
   "metadata": {},
   "outputs": [
    {
     "name": "stdout",
     "output_type": "stream",
     "text": [
      "[[ 0  1  2  3  4 10  9  8  7  6]\n",
      " [ 5  6  7  8  9  5  4  3  2  1]]\n"
     ]
    }
   ],
   "source": [
    "import numpy as np \n",
    "\n",
    "arr1 = np.arange(10).reshape(2,-1)\n",
    "arr2 = np.arange(10,0,-1).reshape(2,-1)\n",
    "\n",
    "out = np.concatenate([arr1, arr2], axis = 1)\n",
    "print(out)"
   ]
  }
 ],
 "metadata": {
  "kernelspec": {
   "display_name": "Python 3",
   "language": "python",
   "name": "python3"
  },
  "language_info": {
   "codemirror_mode": {
    "name": "ipython",
    "version": 3
   },
   "file_extension": ".py",
   "mimetype": "text/x-python",
   "name": "python",
   "nbconvert_exporter": "python",
   "pygments_lexer": "ipython3",
   "version": "3.7.3"
  }
 },
 "nbformat": 4,
 "nbformat_minor": 2
}
