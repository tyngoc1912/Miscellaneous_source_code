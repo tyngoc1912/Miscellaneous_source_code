{
  "nbformat": 4,
  "nbformat_minor": 0,
  "metadata": {
    "kernelspec": {
      "name": "python3",
      "display_name": "Python 3"
    },
    "language_info": {
      "codemirror_mode": {
        "name": "ipython",
        "version": 3
      },
      "file_extension": ".py",
      "mimetype": "text/x-python",
      "name": "python",
      "nbconvert_exporter": "python",
      "pygments_lexer": "ipython3",
      "version": "3.7.3"
    },
    "colab": {
      "name": "Tips Google Colab (Sử dụng GPU miễn phí).ipynb",
      "provenance": [],
      "collapsed_sections": []
    },
    "accelerator": "GPU"
  },
  "cells": [
    {
      "cell_type": "markdown",
      "metadata": {
        "id": "Cr_rW6RbuWoG",
        "colab_type": "text"
      },
      "source": [
        "## Giới thiệu \n",
        "Google Colab (Google Colaboratory) là một dịch vụ miễn phí của Google nhằm hỗ trợ nghiên cứu và học tập về AI. Colaboratory cung cấp môi trường Code như Jupyter Notebook và có thể sử dụng GPU và TPU miễn phí.\n",
        "\n",
        "![alt text](https://imgur.com/PiDQaSz.png)\n",
        "\n",
        "Hướng dẫn sử dụng - tổng quan về Colaboratory đã được AIVIETNAM viết tại [đây](https://www.facebook.com/notes/ai-viet-nam/t%E1%BB%95ng-quan-v%E1%BB%81-google-colab/354433738517097/?fref=mentions&hc_location=group).\n",
        "\n",
        "Trong bài viết này sẽ chỉ tập trung vào một số mẹo để sử dụng Colaboratory hiệu quả hơn.\n",
        "\n",
        "> Một số câu hỏi thường gặp đã được cung cấp sẵn, nếu có bất kỳ vấn đề gì, các bạn hãy xem tại: [Frequently Asked Questions](https://research.google.com/colaboratory/faq.html)\n",
        "\n",
        "\n"
      ]
    },
    {
      "cell_type": "markdown",
      "metadata": {
        "id": "MqqUbqPwuYdQ",
        "colab_type": "text"
      },
      "source": [
        "\n",
        "\n",
        "---\n",
        "\n",
        "\n",
        "Sau bài viết này, các bạn sẽ có thêm một số kỹ năng sau đây:\n",
        "1.   Kết nối Colab với Google Drive \n",
        "2.   Mở Notebook từ Google Drive, Github, Upload \n",
        "3.   Thực thi lệnh Shell, cài đặt thư viện, thư mục hiện tại \n",
        "4.   Thời gian cho đến khi kết thúc phiên làm việc (Quy tắc 90 phút và 12 giờ)\n",
        "5.   Tránh ngắt kết nối Google Colab\n",
        "6.   Dung lượng còn lại, bộ nhớ chính và bộ nhớ GPU\n",
        "7.   Lưu Model (Kỹ năng quan trọng, cần thiết khi train trên Colab)\n",
        "8.   Giám sát quá trình Train trên điện thoại\n",
        "\n",
        "---\n",
        "\n",
        "\n"
      ]
    },
    {
      "cell_type": "markdown",
      "metadata": {
        "id": "UmhDC2iB0YBF",
        "colab_type": "text"
      },
      "source": [
        "## 1. Kết nối Colab với Google Drive \n",
        "\n",
        "Colab cung cấp cho chúng ta 12 tiếng để train Model, nên sẽ hữu ích hơn khi bạn kết nối dữ liệu với Google Drive.\n",
        "\n",
        "- Thực hiện kết nối Colab với Google Drive\n",
        "\n",
        "1.   Cách 1:\n",
        "```\n",
        "# Copy và thực thi lệnh bên dưới \n",
        "from google.colab import drive\n",
        "drive.mount('/content/drive')\n",
        "```\n",
        "2.   Cách 2:\n",
        "\n",
        "Click vào \u001dSlidebar bên trái, chọn `MOUNT DRIVE` và thực thi lệnh.\n",
        "> ![alt text](https://imgur.com/IIy9wWS.png)\n",
        "\n",
        "> Kết quả:\n",
        "> ![alt text](https://imgur.com/biSGjaH.png)\n",
        "\n",
        "- Hiển thị các file / thư mục hiện hành đang có trong `My Drive`:\n",
        "\n",
        "```\n",
        "!ls \"/content/drive/My Drive\"\n",
        "```\n",
        "> Kết quả: \n",
        "> ![alt text](https://imgur.com/yl29z4w.png)\n",
        "\n",
        "- Bạn cũng có thể thấy được danh sách các file / thư mục ở Slidebar bên trái:\n",
        "\n",
        "> ![alt text](https://imgur.com/sJqsyUP.png)\n",
        "\n",
        "\n",
        "\n"
      ]
    },
    {
      "cell_type": "markdown",
      "metadata": {
        "id": "DJTHd9DJ9CyI",
        "colab_type": "text"
      },
      "source": [
        "## 2. Mở Notebook từ Google Drive, Github, Upload\n",
        "\n",
        "Các bạn truy cập:\n",
        "\n",
        "```\n",
        "https://colab.research.google.com\n",
        "```\n",
        "khi đó bạn có thể lựa chọn mở Notebook từ Google Drive, Github hoặc tạo mới, ...\n",
        "\n",
        "![alt text](https://imgur.com/OkxIuj0.png)\n"
      ]
    },
    {
      "cell_type": "markdown",
      "metadata": {
        "colab_type": "text",
        "id": "ONJNr7U1w9wh"
      },
      "source": [
        "## 3. Thực thi lệnh Shell, cài đặt thư viện, thư mục hiện tại \n",
        "\n",
        "### 3.1 Thực thi lệnh Shell \n",
        "Sử dụng dấu `!` khi muốn thực thi.\n",
        "\n",
        "```\n",
        "!{ Lệnh }\n",
        "```\n",
        "### 3.2 Cài đặt thư viện \n",
        "Khi khởi động Colab, mỗi phiên làm việc của bạn sẽ ở trạng thái ban đầu. \n",
        "\n",
        "Mặc dù đã có 1 số thư viện đã được cài đặt sẵn như **`numpy`, `tensorflow`,...**\n",
        "\n",
        "Tuy nhiên, trong một số trường hợp, bạn muốn sử dụng thêm các thư viện khác.\n",
        "Sử dụng `pip` khi muốn cài đặt thêm thư viện\n",
        "\n",
        "*   `pip`: cài đặt thêm thư viện\n",
        "*   `apt-get`: cài đặt thêm package\n",
        "\n",
        "\n",
        " Ví dụ như bạn muốn cài đặt thư viện xử lý tiếng Việt:\n",
        "\n",
        "```\n",
        "!pip install pyvi\n",
        "```\n",
        "\n",
        "> Kết quả:\n",
        "> ![alt text](https://imgur.com/bU190Ae.png)\n",
        "\n",
        "### 3.3 Thư mục hiện tại \n",
        "\n",
        "Trong Colab - Jupyter (iPython) chúng ta **không** sử dụng `!` để di chuyển thư mục, mà thay vào đó sử dụng `%`. \n",
        "\n",
        "Trên Colab, các bạn có thể sử dụng `%` hoặc không sử dụng vẫn có thể di chuyển được thư mục. \n",
        "\n",
        "Bảng Cheat sheet các bạn tham khảo tại \n",
        "[Ipython-quick-ref-sheets](https://damontallen.github.io/IPython-quick-ref-sheets/)\n",
        "\n",
        "Ví dụ: \n",
        "\n",
        "- Hiển thị thư mục hiện hành:\n",
        "```\n",
        "%pwd\n",
        "hoặc: pwd \n",
        "```\n",
        "Khuyến khích các bạn nên sử dụng dấu `%`, dòng code của bạn sẽ thay đổi màu và bạn dễ dàng nhận diện hơn:\n",
        "\n",
        "> ![alt text](https://imgur.com/Yfb3eg3.png)"
      ]
    },
    {
      "cell_type": "markdown",
      "metadata": {
        "id": "3CESVEnK98xh",
        "colab_type": "text"
      },
      "source": [
        "## 4. Thời gian cho đến khi kết thúc phiên làm việc (Quy tắc 90 phút và 12 giờ)\n",
        "\n",
        "Hiển thị thời gian hoạt động bằng lệnh sau:\n",
        "\n",
        "```\n",
        "!cat /proc/uptime | awk '{print $1 /60 /60 /24 \"days (\" $1 \"sec)\"}'\n",
        "```\n",
        "\n",
        "**Chú ý:** nếu thời gian vượt quá `0.5 days` thì Colab sẽ tự động Restart lại phiên làm việc hiện tại của bạn.\n",
        "\n",
        "> Kết quả:\n",
        "> ![alt text](https://imgur.com/Tquzfux.png)\n",
        "\n",
        "Trước tiên, bạn hãy hiểu quy tắc 90 phút của Colab qua hình ảnh sau đây: \n",
        "\n",
        "![alt text](https://imgur.com/OuGE8a0.png)\n",
        "\n",
        "![alt text](https://imgur.com/njtQtSu.png)"
      ]
    },
    {
      "cell_type": "markdown",
      "metadata": {
        "id": "wmeh26VQAVGV",
        "colab_type": "text"
      },
      "source": [
        "## 5. Tránh ngắt kết nối khỏi Google Colab \n",
        "\n",
        "**Vấn đề:** Trong một số trường hợp, Colab có thể bị ngắt kết nối trước 90 phút, bạn có thể ấn `RECONNECT` để tiếp tục train hoặc khắc phục như sau:\n",
        "\n",
        "Ấn `Ctrl+ Shift + i` và vào tab `Console` paste dòng lệnh sau:\n",
        "\n",
        "```\n",
        "function ClickConnect(){\n",
        "console.log(\"Working\"); \n",
        "document.querySelector(\"colab-toolbar-button#connect\").click() \n",
        "}\n",
        "setInterval(ClickConnect,60000)\n",
        "```\n",
        "Nguồn: [ShIvam Rawat](https://medium.com/@shivamrawat_756/how-to-prevent-google-colab-from-disconnecting-717b88a128c0)\n",
        "\n",
        "\n"
      ]
    },
    {
      "cell_type": "markdown",
      "metadata": {
        "id": "kCSZ0seFF1SE",
        "colab_type": "text"
      },
      "source": [
        "## 6. Dung lượng còn lại, bộ nhớ chính và bộ nhớ GPU\n",
        "\n",
        "- Colab cung cấp 40GB dung lượng lưu trữ khi không sử dụng GPU hoặc sử dụng TPU, với GPU chúng ta có 360GB.\n",
        "- Bộ nhớ chính: 13GB RAM \n",
        "- Bộ nhớ GPU: 12GB RAM \n",
        "\n",
        "```\n",
        "#Sử dụng lệnh `!df -h` để kiểm tra dung lượng chúng ta đã sử dụng.\n",
        "!df -h\n",
        "```\n",
        "> Kết quả:\n",
        "> ![alt text](https://imgur.com/CiRcAAl.png)\n",
        "\n",
        "- Khi bộ nhớ chính sử dụng quá 80% sẽ có hội thoại cảnh báo. Khi đó chúng ta sử dụng `free` để giải phỏng bộ nhớ.\n",
        "\n",
        "```\n",
        "!free -h\n",
        "```\n",
        "\n",
        "> Kết quả:\n",
        "> ![alt text](https://imgur.com/oxrzH6i.png)\n",
        "\n",
        "- Kiểm tra trạng thái sư dụng GPU:\n",
        "\n",
        "```\n",
        "!nvidia-smi\n",
        "```\n",
        "\n",
        "> Kết quả:\n",
        "> ![alt text](https://imgur.com/KFkAzkj.png)\n",
        "\n",
        "- Ngoài ra, chúng ta có thể xem trạng thái RAM và Disk đang sử dụng ở góc trên cùng bên phải:\n",
        "\n",
        "> ![alt text](https://imgur.com/O1R74Ki.png)"
      ]
    },
    {
      "cell_type": "markdown",
      "metadata": {
        "id": "3yrxKIi4Jurg",
        "colab_type": "text"
      },
      "source": [
        "## 7. Lưu Model \n",
        "\n",
        "Nhằm tránh Model bạn đang train bị disconnect với máy chủ, kỹ thuật lưu Model sẽ giúp bạn có thể sử dụng cái bộ trọng số đang train dở để tiếp tục train. \n",
        "\n",
        "Các bạn có thể lên Google tìm hiểu cách lưu Model cho từng thư viện bạn đang sử dụng:\n",
        "\n",
        "Ví dụ dưới đây trong trường hợp sử dụng Keras:\n",
        "\n",
        "![alt text](https://imgur.com/UOzFgWi.png)\n",
        "\n",
        "- Chẳng hạn sau khi bạn bị disconnect, có thể train lại như sau. (Ví dụ này trong trường hợp dùng Keras)\n",
        "\n",
        "![alt text](https://imgur.com/Y2UgI7v.png)\n"
      ]
    },
    {
      "cell_type": "markdown",
      "metadata": {
        "id": "1zmVEPUINHnz",
        "colab_type": "text"
      },
      "source": [
        "## 8. Giám sát quá trình Train trên điện thoại\n",
        "\n",
        "- Ứng dụng `Hyperdash | Machine Learning Monitoring` cho phép bạn giám sát quá trình train của mình từ xa.\n",
        "\n",
        "- Hiện tại ứng dụng có sẵn trên AppStore và CH Play - Download [tại đây](https://hyperdash.io/)\n",
        "\n",
        "![alt text](https://imgur.com/oboRnWu.png)\n",
        "\n",
        "- Thực hiện kết nối:\n",
        "\n",
        "```\n",
        "# Bước 1: cài đặt hyperdash trên Colab\n",
        "\n",
        "  !pip install hyperdash \n",
        "\n",
        "# Bước 2: login bằng Email hoặc Github\n",
        "\n",
        "  !hyperdash login --email \n",
        "  hoặc: !hyperdash login --github\n",
        "```\n",
        "\n",
        "> **Chú ý: Các bạn tìm hiểu thêm về thư viện mình đang sử dụng để train model**\n",
        "\n",
        "```\n",
        "# Bước 3: \n",
        "  # Trường hợp dùng tensorflow, vào session run của bạn thêm:\n",
        "  from hyperdash import monitor_cell\n",
        "  %%monitor_cell \"Tên Model\"\n",
        "```\n",
        "\n",
        "- Cài đặt: \n",
        "![alt text](https://imgur.com/psBlefw.png)\n",
        "![alt text](https://imgur.com/dcNNd7A.png)\n",
        "\n",
        "- Trong trường hợp Code Keras: \n"
      ]
    },
    {
      "cell_type": "code",
      "metadata": {
        "id": "cu_vH1ux-Bku",
        "colab_type": "code",
        "outputId": "5c1315c0-1e45-4d41-9671-d19f2061e4b1",
        "colab": {
          "base_uri": "https://localhost:8080/",
          "height": 34
        }
      },
      "source": [
        "from keras.callbacks import Callback\n",
        "\n",
        "class Hyperdash(Callback):\n",
        "    def __init__(self, exp):\n",
        "        super(Hyperdash, self).__init__()\n",
        "        self.exp = exp\n",
        "\n",
        "    def on_epoch_end(self, epoch, logs=None):\n",
        "        val_acc = logs.get('val_acc')\n",
        "        val_loss = logs.get('val_loss')\n",
        "\n",
        "        if val_acc is not None:\n",
        "            self.exp.metric(\"val_acc\", val_acc)\n",
        "        if val_loss is not None:\n",
        "            self.exp.metric(\"val_loss\", val_loss)"
      ],
      "execution_count": 0,
      "outputs": [
        {
          "output_type": "stream",
          "text": [
            "Using TensorFlow backend.\n"
          ],
          "name": "stderr"
        }
      ]
    },
    {
      "cell_type": "code",
      "metadata": {
        "id": "mUtoookeOyNG",
        "colab_type": "code",
        "colab": {}
      },
      "source": [
        "from hyperdash import Experiment\n",
        "from hyperdash_callback import Hyperdash\n",
        "\n",
        "def main():\n",
        "    exp = Experiment(\"Experiment 1\") # Quá trình sẽ gửi đến điện thoại\n",
        "\n",
        "    # Code train data - model \n",
        "    # ...\n",
        "\n",
        "    hd_callback = Hyperdash(exp=exp)\n",
        "    callbacks = [hd_callback] \n",
        "    history = model.fit(x_train, y_train, batch_size=32, verbose=1, epochs=50,\n",
        "                        validation_split=0.1, shuffle=True,\n",
        "                        callbacks=callbacks)\n",
        "\n",
        "    exp.end() # Kết thúc\n",
        "\n",
        "if __name__ == \"__main__\":\n",
        "    main()"
      ],
      "execution_count": 0,
      "outputs": []
    },
    {
      "cell_type": "markdown",
      "metadata": {
        "id": "EQQG37GzWZEv",
        "colab_type": "text"
      },
      "source": [
        "## Tổng kết \n",
        "\n",
        "Bên trên là một số mẹo giúp bạn sử dụng Google Colab hiệu quả hơn. Ngoài ra, trong quá trình học tập, bạn cũng sẽ tự đúc rút ra được các mẹo khác. \n",
        "\n",
        "Chúc các bạn học tập tốt !"
      ]
    }
  ]
}