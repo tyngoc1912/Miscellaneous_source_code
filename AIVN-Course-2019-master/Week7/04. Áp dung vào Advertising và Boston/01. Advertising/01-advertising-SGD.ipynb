{
 "cells": [
  {
   "cell_type": "code",
   "execution_count": 12,
   "metadata": {},
   "outputs": [],
   "source": [
    "import numpy as np\n",
    "import matplotlib.pyplot as plt\n",
    "import pandas as pd\n",
    "from sklearn import preprocessing"
   ]
  },
  {
   "cell_type": "code",
   "execution_count": 13,
   "metadata": {},
   "outputs": [],
   "source": [
    "# Input data\n",
    "\n",
    "data = pd.read_csv('advertising.csv', header=0)\n",
    "m = data.shape[0]\n",
    "n = data.shape[1]"
   ]
  },
  {
   "cell_type": "code",
   "execution_count": 9,
   "metadata": {},
   "outputs": [],
   "source": [
    "X = data.values[:, :3]\n",
    "y = data.values[:, -1]"
   ]
  },
  {
   "cell_type": "code",
   "execution_count": null,
   "metadata": {},
   "outputs": [],
   "source": [
    "normalized_X = preprocessing.normalize(X)"
   ]
  },
  {
   "cell_type": "code",
   "execution_count": null,
   "metadata": {},
   "outputs": [],
   "source": [
    "np.mean(normalized_X, axis = 0 )"
   ]
  },
  {
   "cell_type": "code",
   "execution_count": null,
   "metadata": {},
   "outputs": [],
   "source": [
    "def normalize_feature(X, mode, mean=None, std=None):\n",
    "    if mode == 'train':\n",
    "        mean = X.mean()\n",
    "        std = X.std()\n",
    "        X_norm = (X - mean) / std\n",
    "\n",
    "        return X_norm, mean, std\n",
    "\n",
    "    elif mode == 'test':\n",
    "        assert mean is not None and std is not None\n",
    "        X_norm = (X - mean) / std\n",
    "        return X_norm\n",
    "\n",
    "    else:\n",
    "        raise NotImplementedError"
   ]
  },
  {
   "cell_type": "code",
   "execution_count": null,
   "metadata": {},
   "outputs": [],
   "source": [
    "X, mean, std = normalize_feature(X, 'train')"
   ]
  },
  {
   "cell_type": "code",
   "execution_count": null,
   "metadata": {},
   "outputs": [],
   "source": [
    "X = np.c_[np.ones((m, 1)), X]"
   ]
  },
  {
   "cell_type": "code",
   "execution_count": null,
   "metadata": {},
   "outputs": [],
   "source": [
    "# khoi tao tham so theta\n",
    "theta = np.random.randn(n, 1)\n",
    "losses = []"
   ]
  },
  {
   "cell_type": "code",
   "execution_count": null,
   "metadata": {},
   "outputs": [],
   "source": [
    "def stochastic_gradient_descent(X, y, theta, learning_rate=0.01, epochs=5):\n",
    "    for epoch in range(epochs):\n",
    "        for i in range(m):\n",
    "            # lay ngau nhien 1 sample\n",
    "            random_index = np.random.randint(m)\n",
    "            \n",
    "            # dùng cách này sẽ giữ nguyên được số chiều của vecto \n",
    "            xi = X[random_index:random_index + 1]\n",
    "            yi = y[random_index:random_index+1]\n",
    "            \n",
    "            # tinh output \n",
    "            oi = np.dot(xi, theta)\n",
    "            \n",
    "            # tinh loss li (l = (output - y)^2)\n",
    "            li = (oi - yi) **2\n",
    "            \n",
    "            # tinh gradient cho loss\n",
    "            g_li = 2 * (oi - yi)\n",
    "            \n",
    "            gradients = np.dot(xi.T, g_li)\n",
    "            \n",
    "            theta = theta - learning_rate * gradients\n",
    "            \n",
    "            losses.append(sum(li))\n",
    "    return theta, losses"
   ]
  },
  {
   "cell_type": "code",
   "execution_count": null,
   "metadata": {},
   "outputs": [],
   "source": [
    "theta, losses = stochastic_gradient_descent(X, y, theta)"
   ]
  },
  {
   "cell_type": "code",
   "execution_count": null,
   "metadata": {},
   "outputs": [],
   "source": [
    "plt.plot(losses[:])\n",
    "plt.show()"
   ]
  },
  {
   "cell_type": "code",
   "execution_count": null,
   "metadata": {},
   "outputs": [],
   "source": []
  },
  {
   "cell_type": "code",
   "execution_count": null,
   "metadata": {},
   "outputs": [],
   "source": []
  }
 ],
 "metadata": {
  "kernelspec": {
   "display_name": "Python 3",
   "language": "python",
   "name": "python3"
  },
  "language_info": {
   "codemirror_mode": {
    "name": "ipython",
    "version": 3
   },
   "file_extension": ".py",
   "mimetype": "text/x-python",
   "name": "python",
   "nbconvert_exporter": "python",
   "pygments_lexer": "ipython3",
   "version": "3.7.3"
  }
 },
 "nbformat": 4,
 "nbformat_minor": 2
}
