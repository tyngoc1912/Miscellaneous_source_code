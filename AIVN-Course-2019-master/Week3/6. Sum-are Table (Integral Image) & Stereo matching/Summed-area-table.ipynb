{
 "cells": [
  {
   "attachments": {},
   "cell_type": "markdown",
   "metadata": {},
   "source": [
    "## Thuật toán Summed-area Table \n",
    "\n",
    "Tính tổng các thành phần của 1 ma trận hình chữ nhật một cách nhanh chóng và hiệu quả.\n",
    "\n",
    "Ví dụ: Tính tổng các số trong khung hình chữ nhật `màu tím`\n",
    "![image](https://upload.wikimedia.org/wikipedia/commons/thumb/b/bd/Integral_image_application_example.svg/340px-Integral_image_application_example.svg.png)\n",
    "\n",
    "Kết quả:\n",
    "![image.png](https://upload.wikimedia.org/wikipedia/commons/5/58/Summed_area_table.png)"
   ]
  },
  {
   "cell_type": "markdown",
   "metadata": {},
   "source": [
    "Xây dựng thuật toán Summed-area Table cơ bản:"
   ]
  },
  {
   "cell_type": "markdown",
   "metadata": {},
   "source": [
    "### 1. Xây dựng bằng matrix "
   ]
  },
  {
   "cell_type": "code",
   "execution_count": 1,
   "metadata": {},
   "outputs": [
    {
     "name": "stdout",
     "output_type": "stream",
     "text": [
      "[[8 4 1 7 2 5 8 5 8 2]\n",
      " [5 4 5 6 1 2 2 3 7 7]\n",
      " [7 5 9 3 3 4 4 6 6 5]\n",
      " [8 9 9 5 5 6 4 8 4 8]\n",
      " [9 4 1 2 7 8 2 1 7 9]\n",
      " [6 8 6 1 3 5 4 2 6 6]\n",
      " [7 9 8 4 8 9 9 1 9 9]\n",
      " [4 2 6 9 3 9 9 1 4 5]\n",
      " [3 3 4 1 1 2 4 2 4 4]\n",
      " [5 9 3 4 1 5 5 9 8 5]]\n",
      "[[  8.  12.  13.  20.  22.  27.  35.  40.  48.  50.]\n",
      " [ 13.  21.  27.  40.  43.  50.  60.  68.  83.  92.]\n",
      " [ 20.  33.  48.  64.  70.  81.  95. 109. 130. 144.]\n",
      " [ 28.  50.  74.  95. 106. 123. 141. 163. 188. 210.]\n",
      " [ 37.  63.  88. 111. 129. 154. 174. 197. 229. 260.]\n",
      " [ 43.  77. 108. 132. 153. 183. 207. 232. 270. 307.]\n",
      " [ 50.  93. 132. 160. 189. 228. 261. 287. 334. 380.]\n",
      " [ 54.  99. 144. 181. 213. 261. 303. 330. 381. 432.]\n",
      " [ 57. 105. 154. 192. 225. 275. 321. 350. 405. 460.]\n",
      " [ 62. 119. 171. 213. 247. 302. 353. 391. 454. 514.]]\n"
     ]
    }
   ],
   "source": [
    "# Ma trận ban đầu & bảng Sum \n",
    "\n",
    "import numpy as np\n",
    "\n",
    "height, width = 10, 10\n",
    "\n",
    "# build sum-area table for each disparity\n",
    "data = np.random.randint(1, 10, (height, width))\n",
    "memory = np.ones((height, width))\n",
    "\n",
    "# first item\n",
    "memory[0, 0] = data[0, 0]\n",
    "\n",
    "# first row\n",
    "# Voi x: truc hoanh, y: truc tung\n",
    "for y in range(1):\n",
    "    for x in range(1, width):\n",
    "        # the first: memory[0, 1] = memory[0, 0] + data[0, 1]\n",
    "        memory[y, x] = memory[y, x - 1] + data[y, x]\n",
    "\n",
    "# first column\n",
    "for x in range(1):\n",
    "    for y in range(1, height):\n",
    "        memory[y, x] = memory[y - 1, x] + data[y, x]\n",
    "\n",
    "for y in range(1, height):\n",
    "    for x in range(1, width):\n",
    "        # memory[1, 1] = memory[1, 0] + memory[0, 1] - memory[0, 0] + data[1, 1]\n",
    "        memory[y, x] = memory[y, x - 1] + memory[y - 1, x] - memory[y - 1, x - 1] + data[y, x]\n",
    "\n",
    "print(data)\n",
    "print(memory)"
   ]
  },
  {
   "attachments": {},
   "cell_type": "markdown",
   "metadata": {},
   "source": [
    "Tính giá trị trong miền `màu tím`:\n",
    "\n",
    "![image.png](https://imgur.com/VOknuM1.png)"
   ]
  },
  {
   "cell_type": "code",
   "execution_count": 2,
   "metadata": {},
   "outputs": [
    {
     "name": "stdout",
     "output_type": "stream",
     "text": [
      "Result: 55.0\n"
     ]
    }
   ],
   "source": [
    "kernel_half = 1\n",
    "x, y = 5, 5\n",
    "x0 = x - kernel_half  # x0 = 4\n",
    "x1 = x + kernel_half  # x0 = 6\n",
    "y0 = y - kernel_half  # y0 = 4\n",
    "y1 = y + kernel_half  # y0 = 6\n",
    "\n",
    "a = memory[y0 - 1, x0 - 1]  # memory[3, 3]\n",
    "b = memory[y1, x0 - 1]  # memory[6, 3]\n",
    "c = memory[y0 - 1, x1]  # memory[3, 6]\n",
    "d = memory[y1, x1]  # memory[6, 6]\n",
    "ssd = d - b - c + a\n",
    "print('Result:', ssd)"
   ]
  },
  {
   "cell_type": "markdown",
   "metadata": {},
   "source": [
    "### 2. Xây dựng bằng Numpy \n",
    "- Đọc thêm về thư viện numpy.cumsum [Tại đây](https://github.com/thanhhff/AIVietnam_Basic/blob/master/Python%20Doc/02.%20Th%C6%B0%20vi%E1%BB%87n%20Numpy/numpy.cumsum.ipynb)"
   ]
  },
  {
   "cell_type": "code",
   "execution_count": 3,
   "metadata": {},
   "outputs": [
    {
     "name": "stdout",
     "output_type": "stream",
     "text": [
      "[[  8  12  13  20  22  27  35  40  48  50]\n",
      " [ 13  21  27  40  43  50  60  68  83  92]\n",
      " [ 20  33  48  64  70  81  95 109 130 144]\n",
      " [ 28  50  74  95 106 123 141 163 188 210]\n",
      " [ 37  63  88 111 129 154 174 197 229 260]\n",
      " [ 43  77 108 132 153 183 207 232 270 307]\n",
      " [ 50  93 132 160 189 228 261 287 334 380]\n",
      " [ 54  99 144 181 213 261 303 330 381 432]\n",
      " [ 57 105 154 192 225 275 321 350 405 460]\n",
      " [ 62 119 171 213 247 302 353 391 454 514]]\n"
     ]
    }
   ],
   "source": [
    "memory_np = data.cumsum(axis=0).cumsum(axis=1)\n",
    "print(memory_np)"
   ]
  },
  {
   "cell_type": "markdown",
   "metadata": {},
   "source": [
    "Tính kết quả trên `memory_np`:"
   ]
  },
  {
   "cell_type": "code",
   "execution_count": 4,
   "metadata": {},
   "outputs": [
    {
     "name": "stdout",
     "output_type": "stream",
     "text": [
      "Result: 55.0\n"
     ]
    }
   ],
   "source": [
    "kernel_half = 1\n",
    "x, y = 5, 5\n",
    "x0 = x - kernel_half  # x0 = 4\n",
    "x1 = x + kernel_half  # x0 = 6\n",
    "y0 = y - kernel_half  # y0 = 4\n",
    "y1 = y + kernel_half  # y0 = 6\n",
    "\n",
    "a = memory[y0 - 1, x0 - 1]  # memory[3, 3]\n",
    "b = memory[y1, x0 - 1]  # memory[6, 3]\n",
    "c = memory[y0 - 1, x1]  # memory[3, 6]\n",
    "d = memory[y1, x1]  # memory[6, 6]\n",
    "ssd = d - b - c + a\n",
    "print('Result:', ssd)"
   ]
  }
 ],
 "metadata": {
  "kernelspec": {
   "display_name": "Python 3",
   "language": "python",
   "name": "python3"
  },
  "language_info": {
   "codemirror_mode": {
    "name": "ipython",
    "version": 3
   },
   "file_extension": ".py",
   "mimetype": "text/x-python",
   "name": "python",
   "nbconvert_exporter": "python",
   "pygments_lexer": "ipython3",
   "version": "3.7.3"
  }
 },
 "nbformat": 4,
 "nbformat_minor": 2
}
