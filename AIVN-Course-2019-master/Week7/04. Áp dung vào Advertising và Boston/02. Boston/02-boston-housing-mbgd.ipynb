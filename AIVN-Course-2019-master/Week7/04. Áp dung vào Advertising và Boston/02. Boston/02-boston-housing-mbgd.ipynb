{
 "cells": [
  {
   "cell_type": "code",
   "execution_count": 1,
   "metadata": {},
   "outputs": [],
   "source": [
    "import pandas as pd\n",
    "import numpy as np\n",
    "import matplotlib.pyplot as plt\n",
    "\n",
    "data = pd.read_csv('boston.csv')\n",
    "\n",
    "def normal(x:list):\n",
    "    maxi = max(x)\n",
    "    mini = min(x)\n",
    "    avg = np.mean(x)\n",
    "    new = [(i - avg)/(maxi - mini) for i in x]\n",
    "    \n",
    "    return new\n",
    "\n",
    "df = data.copy()\n",
    "df = df.apply(normal, axis=0)\n",
    "df = df.drop('ID', axis=1)\n",
    "\n",
    "Xd = df.drop(columns=['medv'])\n",
    "Xd.insert(0, 'X0', 1) # bias \n",
    "\n",
    "# numpy array format\n",
    "y = df.medv.values\n",
    "y = np.expand_dims(y, axis=1)\n",
    "X = Xd.values\n",
    "\n",
    "# sample size\n",
    "m = len(df.index)\n",
    "n = X.shape[1]\n",
    "theta = np.random.randn(n, 1)"
   ]
  },
  {
   "cell_type": "code",
   "execution_count": 2,
   "metadata": {},
   "outputs": [],
   "source": [
    "def mini_batch_gd(X, y, theta, learning_rate = 0.01, epochs = 200, minibatch_size = 64):\n",
    "    losses = []\n",
    "    \n",
    "    for epoch in range(epochs):\n",
    "        shuffled_indices = np.random.permutation(m)\n",
    "        X_shuffled = X[shuffled_indices]\n",
    "        y_shuffled = y[shuffled_indices]\n",
    "        \n",
    "        for i in range(0, m, minibatch_size):\n",
    "            xi = X_shuffled[i:i+minibatch_size]\n",
    "            yi = y_shuffled[i:i+minibatch_size]\n",
    "            \n",
    "            output = np.dot(xi, theta)\n",
    "            \n",
    "            loss = 1/2 * (output - yi)**2 \n",
    "            \n",
    "            loss_grd = (output - yi) \n",
    "            gradients = np.dot(xi.T, loss_grd)\n",
    "            \n",
    "            theta = theta - learning_rate*gradients\n",
    "            \n",
    "            loss_mean = np.sum(loss) / minibatch_size\n",
    "            losses.append(loss_mean)\n",
    "            \n",
    "    return theta, losses"
   ]
  },
  {
   "cell_type": "code",
   "execution_count": 3,
   "metadata": {},
   "outputs": [],
   "source": [
    "theta, losses = mini_batch_gd(X, y, theta)"
   ]
  },
  {
   "cell_type": "code",
   "execution_count": 4,
   "metadata": {},
   "outputs": [
    {
     "data": {
      "text/plain": [
       "[<matplotlib.lines.Line2D at 0x11c065780>]"
      ]
     },
     "execution_count": 4,
     "metadata": {},
     "output_type": "execute_result"
    },
    {
     "data": {
      "image/png": "[encoded data removed]",
      "text/plain": [
       "<Figure size 432x288 with 1 Axes>"
      ]
     },
     "metadata": {
      "needs_background": "light"
     },
     "output_type": "display_data"
    }
   ],
   "source": [
    "plt.plot(losses[:200])"
   ]
  },
  {
   "cell_type": "code",
   "execution_count": null,
   "metadata": {},
   "outputs": [],
   "source": []
  },
  {
   "cell_type": "code",
   "execution_count": null,
   "metadata": {},
   "outputs": [],
   "source": []
  }
 ],
 "metadata": {
  "kernelspec": {
   "display_name": "Python 3",
   "language": "python",
   "name": "python3"
  },
  "language_info": {
   "codemirror_mode": {
    "name": "ipython",
    "version": 3
   },
   "file_extension": ".py",
   "mimetype": "text/x-python",
   "name": "python",
   "nbconvert_exporter": "python",
   "pygments_lexer": "ipython3",
   "version": "3.7.3"
  }
 },
 "nbformat": 4,
 "nbformat_minor": 2
}
