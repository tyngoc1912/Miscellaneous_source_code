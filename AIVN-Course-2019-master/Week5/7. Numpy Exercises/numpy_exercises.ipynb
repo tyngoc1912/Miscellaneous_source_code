{
 "cells": [
  {
   "cell_type": "code",
   "execution_count": 2,
   "metadata": {},
   "outputs": [],
   "source": [
    "import numpy as np"
   ]
  },
  {
   "cell_type": "markdown",
   "metadata": {},
   "source": [
    "**Câu 1:** Thay thế tất cả các phần tử trong một mảng có giá trị lớn hơn 30 thành 30 và dưới 10 thành 10."
   ]
  },
  {
   "cell_type": "code",
   "execution_count": 2,
   "metadata": {},
   "outputs": [],
   "source": [
    "# input: [28. 15. 22. 42.  1.  7. 34. 41.  8. 29.]\n",
    "# output: [28. 15. 22. 30. 10. 10. 30. 30. 10. 29.]"
   ]
  },
  {
   "cell_type": "code",
   "execution_count": 3,
   "metadata": {},
   "outputs": [],
   "source": [
    "ex1 = np.array([28, 15, 22, 42,  1,  7, 34, 41,  8, 29], dtype=np.float64)"
   ]
  },
  {
   "cell_type": "code",
   "execution_count": 4,
   "metadata": {},
   "outputs": [
    {
     "data": {
      "text/plain": [
       "array([28., 15., 22., 30., 10., 10., 30., 30., 10., 29.])"
      ]
     },
     "execution_count": 4,
     "metadata": {},
     "output_type": "execute_result"
    }
   ],
   "source": [
    "# Trả về những phần tử < 30; những phần tử > 30 thay bằng 30\n",
    "ex1 = np.where(ex1 < 30, ex1, 30)\n",
    "\n",
    "# Trả về những phần tử > 10; những phần tử < 10 thay bằng 10\n",
    "ex1 = np.where(ex1 > 10, ex1, 10)\n",
    "ex1"
   ]
  },
  {
   "cell_type": "markdown",
   "metadata": {},
   "source": [
    "**Câu 2:** Lấy vị trí của 3 giá trị lớn nhất trong một mảng numpy\n",
    "\n",
    "Readmore: https://docs.scipy.org/doc/numpy/reference/generated/numpy.argpartition.html"
   ]
  },
  {
   "cell_type": "code",
   "execution_count": 5,
   "metadata": {},
   "outputs": [],
   "source": [
    "# input: [28. 15. 22. 42.  1.  7. 34. 41.  8. 29.]\n",
    "# output: [6 7 3]"
   ]
  },
  {
   "cell_type": "code",
   "execution_count": 6,
   "metadata": {},
   "outputs": [
    {
     "data": {
      "text/plain": [
       "array([6, 3, 7])"
      ]
     },
     "execution_count": 6,
     "metadata": {},
     "output_type": "execute_result"
    }
   ],
   "source": [
    "ex2 = np.array([28, 15, 22, 42,  1,  7, 34, 41,  8, 29], dtype=np.float64)\n",
    "\n",
    "# Sử dụng `np.argpartition` \n",
    "np.argpartition(ex2, -3)[-3:]"
   ]
  },
  {
   "cell_type": "markdown",
   "metadata": {},
   "source": [
    "**Câu 3:** Chuyển một mảng nhiều chiều thành một mảng 1 chiều"
   ]
  },
  {
   "cell_type": "code",
   "execution_count": 7,
   "metadata": {},
   "outputs": [],
   "source": [
    "# input: [array([0, 1, 2]) array([3, 4, 5, 6]) array([7, 8, 9])]\n",
    "# output: [0 1 2 3 4 5 6 7 8 9]"
   ]
  },
  {
   "cell_type": "code",
   "execution_count": 8,
   "metadata": {},
   "outputs": [
    {
     "data": {
      "text/plain": [
       "array([0, 1, 2, 3, 4, 5, 7, 8, 9])"
      ]
     },
     "execution_count": 8,
     "metadata": {},
     "output_type": "execute_result"
    }
   ],
   "source": [
    "ex3 = np.array([\n",
    "    [0, 1, 2],\n",
    "    [3, 4, 5],\n",
    "    [7, 8, 9]\n",
    "])\n",
    "\n",
    "ex3.flatten()"
   ]
  },
  {
   "cell_type": "markdown",
   "metadata": {},
   "source": [
    "**Câu 4:** Tạo one-hot encoding cho một mảng numpy. One-hot encoding nhằm chuyển đổi mỗi giá trị (số nguyên) n thành một vector v mà vị trí thứ n trong vector v mang giá trị 1 và  tất cả vị trí khác đều mang giá trị 0."
   ]
  },
  {
   "cell_type": "code",
   "execution_count": 9,
   "metadata": {},
   "outputs": [],
   "source": [
    "# input: [2 1 3 3 1 2]\n",
    "# output: array([[0., 1., 0.],\n",
    "#               [1., 0., 0.],\n",
    "#               [0., 0., 1.],\n",
    "#               [0., 0., 1.],\n",
    "#               [1., 0., 0.],\n",
    "#               [0., 1., 0.]])"
   ]
  },
  {
   "cell_type": "code",
   "execution_count": 7,
   "metadata": {},
   "outputs": [],
   "source": [
    "ex4 = np.array([2, 1, 3, 3, 1, 2])\n",
    "index = ex4 - 1\n",
    "get_max_value = np.max(ex4)\n",
    "\n",
    "result = np.zeros((ex4.shape[0], get_max_value))"
   ]
  },
  {
   "cell_type": "code",
   "execution_count": 8,
   "metadata": {},
   "outputs": [
    {
     "name": "stdout",
     "output_type": "stream",
     "text": [
      "[[0. 1. 0.]\n",
      " [1. 0. 0.]\n",
      " [0. 0. 1.]\n",
      " [0. 0. 1.]\n",
      " [1. 0. 0.]\n",
      " [0. 1. 0.]]\n"
     ]
    }
   ],
   "source": [
    "result[np.arange(index.shape[0]), index] = 1\n",
    "print(result)"
   ]
  },
  {
   "cell_type": "markdown",
   "metadata": {},
   "source": [
    "**Câu 5:** Sắp xếp các phần tử trong một mảng 1 chiều"
   ]
  },
  {
   "cell_type": "code",
   "execution_count": 12,
   "metadata": {},
   "outputs": [],
   "source": [
    "# input: [3 6 4 8]\n",
    "# output: [3 4 6 8]"
   ]
  },
  {
   "cell_type": "code",
   "execution_count": 13,
   "metadata": {},
   "outputs": [
    {
     "data": {
      "text/plain": [
       "array([3, 4, 6, 8])"
      ]
     },
     "execution_count": 13,
     "metadata": {},
     "output_type": "execute_result"
    }
   ],
   "source": [
    "ex5 = np.array([3, 6, 4, 8])\n",
    "np.sort(ex5)"
   ]
  },
  {
   "cell_type": "markdown",
   "metadata": {},
   "source": [
    "**Câu 6:** Tìm giá trị lớn nhất trong mỗi hàng và mỗi cột của một mảng 2d"
   ]
  },
  {
   "cell_type": "code",
   "execution_count": 14,
   "metadata": {},
   "outputs": [],
   "source": [
    "# input\n",
    "# [[5 1 7]\n",
    "#  [3 5 2]\n",
    "#  [6 4 5]]\n",
    " \n",
    "# output\n",
    "# Max by column\n",
    "# [6 5 7]\n",
    "# Max by row\n",
    "# [7 5 6]"
   ]
  },
  {
   "cell_type": "code",
   "execution_count": 15,
   "metadata": {},
   "outputs": [],
   "source": [
    "ex6 = np.array([\n",
    "    [5, 1, 7],\n",
    "    [3, 5, 2],\n",
    "    [6, 4, 5]\n",
    "])"
   ]
  },
  {
   "cell_type": "code",
   "execution_count": 16,
   "metadata": {},
   "outputs": [
    {
     "data": {
      "text/plain": [
       "array([6, 5, 7])"
      ]
     },
     "execution_count": 16,
     "metadata": {},
     "output_type": "execute_result"
    }
   ],
   "source": [
    "# Max by column\n",
    "np.ndarray.max(ex6, axis=0)"
   ]
  },
  {
   "cell_type": "code",
   "execution_count": 17,
   "metadata": {},
   "outputs": [
    {
     "data": {
      "text/plain": [
       "array([7, 5, 6])"
      ]
     },
     "execution_count": 17,
     "metadata": {},
     "output_type": "execute_result"
    }
   ],
   "source": [
    "# Max by row\n",
    "np.ndarray.max(ex6, axis=1)"
   ]
  },
  {
   "cell_type": "markdown",
   "metadata": {},
   "source": [
    "**Câu 7:** Tìm các phần tử trùng lặp (lần xuất hiện thứ 2 trở đi) trong mảng đã cho\n",
    "và đánh dấu chúng là True. Lần đầu tiên xuất hiện là False."
   ]
  },
  {
   "cell_type": "code",
   "execution_count": 18,
   "metadata": {},
   "outputs": [],
   "source": [
    "# [0 3 3 1 2 0 2 0]\n",
    "# [False False  True False False  True  True  True]"
   ]
  },
  {
   "cell_type": "code",
   "execution_count": 50,
   "metadata": {},
   "outputs": [
    {
     "name": "stdout",
     "output_type": "stream",
     "text": [
      "[False False  True False False  True  True  True]\n"
     ]
    }
   ],
   "source": [
    "ex7 = np.array([0, 3, 3, 1, 2, 0, 2, 0])\n",
    "\n",
    "z = np.unique(ex7)\n",
    "\n",
    "ex7_2 = np.ones((ex7.shape[0]), dtype=bool)\n",
    "\n",
    "# Xuất hiện lần đầu -> False \n",
    "for i in range(ex7.shape[0]):\n",
    "    if ex7[i] in z:\n",
    "        index = np.argwhere(z == ex7[i])\n",
    "        ex7_2[i] = False\n",
    "        z = np.delete(z, index)\n",
    "        \n",
    "print(ex7_2)"
   ]
  },
  {
   "cell_type": "markdown",
   "metadata": {},
   "source": [
    "**Câu 8:** Trừ theo dòng mảng 2 chiều arr2d bằng mảng 1 chiều arr1d\n",
    "\n"
   ]
  },
  {
   "cell_type": "code",
   "execution_count": 20,
   "metadata": {},
   "outputs": [],
   "source": [
    "# arr2d\n",
    "# [[3 3 3]\n",
    "#  [4 4 4]\n",
    "#  [5 5 5]]\n",
    "# arr1d\n",
    "# [1 1 1]\n",
    "# output\n",
    "# [[2 2 2]\n",
    "#  [3 3 3]\n",
    "#  [4 4 4]]"
   ]
  },
  {
   "cell_type": "code",
   "execution_count": 21,
   "metadata": {},
   "outputs": [],
   "source": [
    "arr2d = np.array([\n",
    "    [3, 3, 3],\n",
    "    [4, 4, 4],\n",
    "    [5, 5, 5]\n",
    "])\n",
    "\n",
    "arr1d = np.array([1, 1, 1])"
   ]
  },
  {
   "cell_type": "code",
   "execution_count": 22,
   "metadata": {},
   "outputs": [
    {
     "data": {
      "text/plain": [
       "array([[2, 2, 2],\n",
       "       [3, 3, 3],\n",
       "       [4, 4, 4]])"
      ]
     },
     "execution_count": 22,
     "metadata": {},
     "output_type": "execute_result"
    }
   ],
   "source": [
    "arr2d - arr1d"
   ]
  },
  {
   "cell_type": "markdown",
   "metadata": {},
   "source": [
    "**Câu 9:** Bỏ tất cả các giá trị nan từ một mảng numpy\n",
    "\n",
    "Readmore: https://docs.scipy.org/doc/numpy-1.15.0/reference/generated/numpy.isfinite.html"
   ]
  },
  {
   "cell_type": "code",
   "execution_count": 23,
   "metadata": {},
   "outputs": [],
   "source": [
    "#  input: [1.  2.  3. nan  5.  6.  7. nan]\n",
    "# output: [1., 2., 3., 5., 6., 7.]"
   ]
  },
  {
   "cell_type": "code",
   "execution_count": 24,
   "metadata": {},
   "outputs": [
    {
     "data": {
      "text/plain": [
       "array([ 1.,  2.,  3., nan,  5.,  6.,  7., nan])"
      ]
     },
     "execution_count": 24,
     "metadata": {},
     "output_type": "execute_result"
    }
   ],
   "source": [
    "from numpy import nan\n",
    "ex9 = np.array([1, 2, 3, nan, 5, 6, 7, nan], dtype=np.float64)\n",
    "ex9"
   ]
  },
  {
   "cell_type": "code",
   "execution_count": 25,
   "metadata": {},
   "outputs": [
    {
     "data": {
      "text/plain": [
       "array([1., 2., 3., 5., 6., 7.])"
      ]
     },
     "execution_count": 25,
     "metadata": {},
     "output_type": "execute_result"
    }
   ],
   "source": [
    "ex9[np.isfinite(ex9)]"
   ]
  },
  {
   "cell_type": "markdown",
   "metadata": {},
   "source": [
    "**Câu 10:** Lấy tất cả vị trí nơi các phần tử có giá trị khác nhau"
   ]
  },
  {
   "cell_type": "code",
   "execution_count": 26,
   "metadata": {},
   "outputs": [],
   "source": [
    "# input\n",
    "# arr1: [3 4 5 6 7 8]\n",
    "# arr2: [3 3 6 6 7 7]\n",
    "# output\n",
    "# [1, 2, 5]"
   ]
  },
  {
   "cell_type": "code",
   "execution_count": 27,
   "metadata": {},
   "outputs": [
    {
     "data": {
      "text/plain": [
       "array([1, 2, 5])"
      ]
     },
     "execution_count": 27,
     "metadata": {},
     "output_type": "execute_result"
    }
   ],
   "source": [
    "arr1 = np.array([3, 4, 5, 6, 7, 8])\n",
    "arr2 = np.array([3, 3, 6, 6, 7, 7])\n",
    "\n",
    "np.where(arr1 != arr2)[0]"
   ]
  }
 ],
 "metadata": {
  "kernelspec": {
   "display_name": "Python 3",
   "language": "python",
   "name": "python3"
  },
  "language_info": {
   "codemirror_mode": {
    "name": "ipython",
    "version": 3
   },
   "file_extension": ".py",
   "mimetype": "text/x-python",
   "name": "python",
   "nbconvert_exporter": "python",
   "pygments_lexer": "ipython3",
   "version": "3.7.3"
  }
 },
 "nbformat": 4,
 "nbformat_minor": 2
}
