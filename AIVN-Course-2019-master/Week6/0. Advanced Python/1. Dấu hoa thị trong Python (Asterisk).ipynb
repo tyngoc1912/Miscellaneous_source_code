{
 "cells": [
  {
   "cell_type": "markdown",
   "metadata": {},
   "source": [
    "## Mở đầu "
   ]
  },
  {
   "cell_type": "code",
   "execution_count": 1,
   "metadata": {},
   "outputs": [
    {
     "name": "stdout",
     "output_type": "stream",
     "text": [
      "ones two three four\n",
      "['ones', 'two', 'three', 'four']\n"
     ]
    }
   ],
   "source": [
    "number = ['ones', 'two', 'three', 'four']\n",
    "print(number[0], number[1], number[2], number[3])\n",
    "\n",
    "print(number)"
   ]
  },
  {
   "cell_type": "code",
   "execution_count": 2,
   "metadata": {},
   "outputs": [
    {
     "name": "stdout",
     "output_type": "stream",
     "text": [
      "ones two three four\n"
     ]
    }
   ],
   "source": [
    "print(*number)"
   ]
  },
  {
   "cell_type": "markdown",
   "metadata": {},
   "source": [
    "### Những trường hợp sử dụng `*` và `**`\n",
    "\n",
    "Sử dụng `*` và `**` để truyền đối số cho hàm\n",
    "\n",
    "Sử dung `*` và `**` để nắm bắt các đối số được truyền vào một hàm\n",
    "\n",
    "Sử dung `*` để chấp nhận các đối số chỉ từ khóa\n",
    "\n",
    "Sử dung `*` để unpack iterables trong list/tuple\n",
    "\n",
    "Sử dụng `**` để unpack dictionary bên trong các dictionary khác\n",
    "\n"
   ]
  },
  {
   "cell_type": "markdown",
   "metadata": {},
   "source": [
    "### 1. Dấu hoa thị * cho unpacking trong chức năng gọi hàm\n",
    "Gọi một hàm của toán tử `*` có thể giải nén một intarable bên trong tham số của hàm"
   ]
  },
  {
   "cell_type": "code",
   "execution_count": 3,
   "metadata": {},
   "outputs": [
    {
     "name": "stdout",
     "output_type": "stream",
     "text": [
      "ones two three four\n"
     ]
    }
   ],
   "source": [
    "number = ['ones', 'two', 'three', 'four']\n",
    "print(*number)"
   ]
  },
  {
   "cell_type": "code",
   "execution_count": 4,
   "metadata": {},
   "outputs": [],
   "source": [
    "# More\n",
    "\n",
    "def transpose_list(list_of_lists):\n",
    "    return [\n",
    "        list(row)\n",
    "        for row in zip(*list_of_lists)\n",
    "    ]"
   ]
  },
  {
   "cell_type": "code",
   "execution_count": 5,
   "metadata": {},
   "outputs": [
    {
     "data": {
      "text/plain": [
       "[[1, 4, 3], [2, 7, 6], [8, 8, 9]]"
      ]
     },
     "execution_count": 5,
     "metadata": {},
     "output_type": "execute_result"
    }
   ],
   "source": [
    "transpose_list([[1, 2, 8], [4, 7, 8], [3, 6, 9]])"
   ]
  },
  {
   "cell_type": "markdown",
   "metadata": {},
   "source": [
    "Cách thực hiện toán tử `**` tương tự như toán tử `*`, nhưng đối với các đối số arguments. Toán tử `**` cho phép chúng ta lấy một từ trong dictionary của cặp từ khoá và giải né nó bên trong các câu lệnh gọi hàm."
   ]
  },
  {
   "cell_type": "code",
   "execution_count": 6,
   "metadata": {},
   "outputs": [
    {
     "data": {
      "text/plain": [
       "'2019-08-17.txt'"
      ]
     },
     "execution_count": 6,
     "metadata": {},
     "output_type": "execute_result"
    }
   ],
   "source": [
    "data_info = {'year': \"2019\", 'month': \"08\", 'day': \"17\"}\n",
    "\n",
    "filename = \"{year}-{month}-{day}.txt\".format(**data_info)\n",
    "\n",
    "filename"
   ]
  },
  {
   "cell_type": "markdown",
   "metadata": {},
   "source": [
    "### Có thể sử dụng `*` nhiều lần:"
   ]
  },
  {
   "cell_type": "code",
   "execution_count": 7,
   "metadata": {},
   "outputs": [
    {
     "name": "stdout",
     "output_type": "stream",
     "text": [
      "2 3 4 5 monday tuesday wednesday thursday\n"
     ]
    }
   ],
   "source": [
    "days = ['monday', 'tuesday', 'wednesday', 'thursday']\n",
    "\n",
    "numbers = [2, 3, 4 , 5]\n",
    "\n",
    "print(*numbers, *days)"
   ]
  },
  {
   "cell_type": "markdown",
   "metadata": {},
   "source": [
    "### Tương tự với sử dụng `**`:"
   ]
  },
  {
   "cell_type": "code",
   "execution_count": 8,
   "metadata": {},
   "outputs": [
    {
     "data": {
      "text/plain": [
       "'2019-08-17-beethoven-Symphony No 5.txt'"
      ]
     },
     "execution_count": 8,
     "metadata": {},
     "output_type": "execute_result"
    }
   ],
   "source": [
    "data_infor = {'year': \"2019\", 'month': \"08\", 'day': \"17\"}\n",
    "track_info = {'artist': \"beethoven\", 'title': \"Symphony No 5\"}\n",
    "filename = \"{year}-{month}-{day}-{artist}-{title}.txt\".format(**data_info, **track_info)\n",
    "\n",
    "filename"
   ]
  },
  {
   "cell_type": "markdown",
   "metadata": {},
   "source": [
    "### 2. Dấu hoa thị để packing argument được cung cấp cho các function \n",
    "\n",
    "Khi định nghĩa các hàm, toán tử `*` có thể được sử dụng để thu được số lượng đối số vị trí không giới hạn được cung cấp cho hàm. Những lập luận này từ tuple "
   ]
  },
  {
   "cell_type": "code",
   "execution_count": 9,
   "metadata": {},
   "outputs": [],
   "source": [
    "from random import randint\n",
    "\n",
    "def roll(*dice):\n",
    "    return sum(randint(1, die) for die in dice)"
   ]
  },
  {
   "cell_type": "code",
   "execution_count": 10,
   "metadata": {},
   "outputs": [
    {
     "data": {
      "text/plain": [
       "12"
      ]
     },
     "execution_count": 10,
     "metadata": {},
     "output_type": "execute_result"
    }
   ],
   "source": [
    "roll(20)"
   ]
  },
  {
   "cell_type": "code",
   "execution_count": 11,
   "metadata": {},
   "outputs": [
    {
     "data": {
      "text/plain": [
       "12"
      ]
     },
     "execution_count": 11,
     "metadata": {},
     "output_type": "execute_result"
    }
   ],
   "source": [
    "roll(6, 6)"
   ]
  },
  {
   "cell_type": "code",
   "execution_count": 12,
   "metadata": {},
   "outputs": [
    {
     "data": {
      "text/plain": [
       "12"
      ]
     },
     "execution_count": 12,
     "metadata": {},
     "output_type": "execute_result"
    }
   ],
   "source": [
    "roll(6, 6, 6)"
   ]
  },
  {
   "cell_type": "markdown",
   "metadata": {},
   "source": [
    "Toán tử `**` cũng có một mặt khác của nó: chúng ta có thể sử dụng `**` khi định nghĩa một function, để nhận biết các đối số từ khoá nào cung cấp cho các argument được cho trong các function trong dictionary"
   ]
  },
  {
   "cell_type": "code",
   "execution_count": 13,
   "metadata": {},
   "outputs": [],
   "source": [
    "def tag(tag_name, **attributes):\n",
    "    attribute_list = [\n",
    "        f'{name}=\"{value}\"'\n",
    "        for name, value in attributes.items()\n",
    "    ]\n",
    "    return f\"<{tag_name} {' '.join(attribute_list)}>\""
   ]
  },
  {
   "cell_type": "code",
   "execution_count": 14,
   "metadata": {},
   "outputs": [
    {
     "data": {
      "text/plain": [
       "'<a href=\"https://aivietnam.ai/\">'"
      ]
     },
     "execution_count": 14,
     "metadata": {},
     "output_type": "execute_result"
    }
   ],
   "source": [
    "tag('a', href=\"https://aivietnam.ai/\")"
   ]
  },
  {
   "cell_type": "code",
   "execution_count": 15,
   "metadata": {},
   "outputs": [
    {
     "data": {
      "text/plain": [
       "'<img height=\"20\" width=\"40\" src=\"face.png\">'"
      ]
     },
     "execution_count": 15,
     "metadata": {},
     "output_type": "execute_result"
    }
   ],
   "source": [
    "tag('img', height = 20, width = 40, src=\"face.png\")"
   ]
  },
  {
   "cell_type": "markdown",
   "metadata": {},
   "source": [
    "### 3. Postional arguments with keyword-only arguments \n",
    "Từ python 3 chúng ta sử dụng cú pháp đặc biệt để chấp nhận các đối số chỉ từ khoá cho các hàm. Đối số chỉ từ khoá là đối số chức năng chỉ có thể chỉ định bằng từ khoá cú pháp - nghĩa là: chúng không thể được chỉ định theo vị trí.\n",
    "\n",
    "Để nhận các số chỉ từ khoá, chúng ta có thể đặt các đối số được đặt tên sau khi sử dụng `*` khi xác định hàm."
   ]
  },
  {
   "cell_type": "code",
   "execution_count": 16,
   "metadata": {},
   "outputs": [],
   "source": [
    "def get_multiple(*keys, dictionary, default=None):\n",
    "    return [\n",
    "        dictionary.get(key, default)\n",
    "        for key in keys\n",
    "    ]"
   ]
  },
  {
   "cell_type": "code",
   "execution_count": 17,
   "metadata": {},
   "outputs": [
    {
     "data": {
      "text/plain": [
       "['yellow', 'orange', 'unknown']"
      ]
     },
     "execution_count": 17,
     "metadata": {},
     "output_type": "execute_result"
    }
   ],
   "source": [
    "number = {'number 1': 'yellow', 'number 2': 'orange', 'number 3': 'red'}\n",
    "get_multiple('number 1', 'number 2', 'number 4', dictionary=number, default='unknown')"
   ]
  },
  {
   "cell_type": "markdown",
   "metadata": {},
   "source": [
    "### 4. Keyword-only arguments without positional arguments \n",
    "\n",
    "Khi muốn yêu cầu đối số chỉ từ khoá mà không nắm bắt được đối số vị trí không giới hạn.\n",
    "\n",
    "Python cho phép sử dụng cú pháp `*-on-its-own`"
   ]
  },
  {
   "cell_type": "code",
   "execution_count": 18,
   "metadata": {},
   "outputs": [],
   "source": [
    "def with_previous(iterable, *, fillvalue=None):\n",
    "    previous = fillvalue\n",
    "    for item in iterable:\n",
    "        yield previous, item\n",
    "        previous = item"
   ]
  },
  {
   "cell_type": "code",
   "execution_count": 19,
   "metadata": {},
   "outputs": [
    {
     "data": {
      "text/plain": [
       "[(0, 5), (5, 4), (4, 3)]"
      ]
     },
     "execution_count": 19,
     "metadata": {},
     "output_type": "execute_result"
    }
   ],
   "source": [
    "list(with_previous([5, 4, 3], fillvalue=0))"
   ]
  },
  {
   "cell_type": "markdown",
   "metadata": {},
   "source": [
    "### 5. Asterisks in tuple unpacking\n",
    "\n",
    "Toán tử `*` cũng có thẻ được sử dụng trong tuple unpacking:"
   ]
  },
  {
   "cell_type": "code",
   "execution_count": 20,
   "metadata": {},
   "outputs": [
    {
     "data": {
      "text/plain": [
       "['number 3', 'number 4']"
      ]
     },
     "execution_count": 20,
     "metadata": {},
     "output_type": "execute_result"
    }
   ],
   "source": [
    "number = ['number 1', 'number 2', 'number 3', 'number 4']\n",
    "first, second, *remaining = number\n",
    "remaining"
   ]
  },
  {
   "cell_type": "code",
   "execution_count": 21,
   "metadata": {},
   "outputs": [
    {
     "data": {
      "text/plain": [
       "['number 2', 'number 3', 'number 4']"
      ]
     },
     "execution_count": 21,
     "metadata": {},
     "output_type": "execute_result"
    }
   ],
   "source": [
    "first, *remaining = number\n",
    "remaining"
   ]
  },
  {
   "cell_type": "code",
   "execution_count": 22,
   "metadata": {},
   "outputs": [],
   "source": [
    "first, *middle, last = number"
   ]
  },
  {
   "cell_type": "markdown",
   "metadata": {},
   "source": [
    "**Lưu ý:** chỉ có thể sử dụng một biểu thức `*` trong một lệnh gọi nhiều lần."
   ]
  },
  {
   "cell_type": "code",
   "execution_count": 23,
   "metadata": {},
   "outputs": [
    {
     "data": {
      "text/plain": [
       "['u', 'm', 'b', 'e', 'r', ' ', '1']"
      ]
     },
     "execution_count": 23,
     "metadata": {},
     "output_type": "execute_result"
    }
   ],
   "source": [
    "number = ['number 1', 'number 2', 'number 3', 'number 4']\n",
    "((first_letter, *remaining), *other_number) = number\n",
    "remaining"
   ]
  },
  {
   "cell_type": "code",
   "execution_count": 24,
   "metadata": {},
   "outputs": [
    {
     "data": {
      "text/plain": [
       "['number 2', 'number 3', 'number 4']"
      ]
     },
     "execution_count": 24,
     "metadata": {},
     "output_type": "execute_result"
    }
   ],
   "source": [
    "other_number"
   ]
  },
  {
   "cell_type": "markdown",
   "metadata": {},
   "source": [
    "### 6. Asterisks in list literals\n",
    "\n",
    "Sử dụng `*` để chuyển một interable vào danh sách mới."
   ]
  },
  {
   "cell_type": "markdown",
   "metadata": {},
   "source": [
    "- Một hàm nhận bất kỳ chuỗi nào và trả về một danh sách với chuỗi và đảo ngược của chuỗi đó được nối với nhau.\n",
    "- Convert mọi thứ thành danh sách, nối các danh sách rồi trả kết quả:"
   ]
  },
  {
   "cell_type": "code",
   "execution_count": 25,
   "metadata": {},
   "outputs": [],
   "source": [
    "def palindromify(sequence):\n",
    "    return list(sequence) + list(reversed(sequence))"
   ]
  },
  {
   "cell_type": "code",
   "execution_count": 26,
   "metadata": {},
   "outputs": [
    {
     "data": {
      "text/plain": [
       "[1, 3, 5, 5, 3, 1]"
      ]
     },
     "execution_count": 26,
     "metadata": {},
     "output_type": "execute_result"
    }
   ],
   "source": [
    "palindromify([1, 3, 5])"
   ]
  },
  {
   "cell_type": "markdown",
   "metadata": {},
   "source": [
    "- Loại bỏ những hàm không cần thiết:"
   ]
  },
  {
   "cell_type": "code",
   "execution_count": 27,
   "metadata": {},
   "outputs": [],
   "source": [
    "def palindromify(sequence):\n",
    "    return [*sequence, *reversed(sequence)]"
   ]
  },
  {
   "cell_type": "code",
   "execution_count": 28,
   "metadata": {},
   "outputs": [
    {
     "data": {
      "text/plain": [
       "[1, 3, 5, 5, 3, 1]"
      ]
     },
     "execution_count": 28,
     "metadata": {},
     "output_type": "execute_result"
    }
   ],
   "source": [
    "palindromify([1, 3, 5])"
   ]
  },
  {
   "cell_type": "markdown",
   "metadata": {},
   "source": [
    "- Ví dụ khác: Hàm này trả về một danh sách mới trong đó mục đầu tiên trong danh sách đã cho (hoặc chuỗi khác) được chuyển đến cuối danh sách mới."
   ]
  },
  {
   "cell_type": "code",
   "execution_count": 29,
   "metadata": {},
   "outputs": [],
   "source": [
    "def palindromify(sequence):\n",
    "    return [*sequence[1:], sequence[0]]"
   ]
  },
  {
   "cell_type": "code",
   "execution_count": 30,
   "metadata": {},
   "outputs": [
    {
     "data": {
      "text/plain": [
       "[3, 5, 1]"
      ]
     },
     "execution_count": 30,
     "metadata": {},
     "output_type": "execute_result"
    }
   ],
   "source": [
    "palindromify([1, 3, 5])"
   ]
  },
  {
   "cell_type": "markdown",
   "metadata": {},
   "source": [
    " Toán tử * hoạt động cho bất kỳ lần lặp nào, trong khi sử dụng toán tử + chỉ hoạt động trên các chuỗi cụ thể mà tất cả phải cùng loại."
   ]
  },
  {
   "cell_type": "code",
   "execution_count": 31,
   "metadata": {},
   "outputs": [
    {
     "data": {
      "text/plain": [
       "('number 2', 'number 3', 'number 4', 'number 1')"
      ]
     },
     "execution_count": 31,
     "metadata": {},
     "output_type": "execute_result"
    }
   ],
   "source": [
    "number = ['number 1', 'number 2', 'number 3', 'number 4']\n",
    "(*number[1:], number[0])"
   ]
  },
  {
   "cell_type": "markdown",
   "metadata": {},
   "source": [
    "- Cách tạo một list:"
   ]
  },
  {
   "cell_type": "code",
   "execution_count": 32,
   "metadata": {},
   "outputs": [
    {
     "data": {
      "text/plain": [
       "{'NUMBER 1',\n",
       " 'NUMBER 2',\n",
       " 'NUMBER 3',\n",
       " 'NUMBER 4',\n",
       " 'number 1',\n",
       " 'number 2',\n",
       " 'number 3',\n",
       " 'number 4'}"
      ]
     },
     "execution_count": 32,
     "metadata": {},
     "output_type": "execute_result"
    }
   ],
   "source": [
    "# Cách 1:\n",
    "uppercase_number = (f.upper() for f in number)\n",
    "{*number, *uppercase_number}"
   ]
  },
  {
   "cell_type": "code",
   "execution_count": 33,
   "metadata": {},
   "outputs": [
    {
     "data": {
      "text/plain": [
       "{'NUMBER 1',\n",
       " 'NUMBER 2',\n",
       " 'NUMBER 3',\n",
       " 'NUMBER 4',\n",
       " 'number 1',\n",
       " 'number 2',\n",
       " 'number 3',\n",
       " 'number 4'}"
      ]
     },
     "execution_count": 33,
     "metadata": {},
     "output_type": "execute_result"
    }
   ],
   "source": [
    "# Cách 2:\n",
    "uppercase_number = (f.upper() for f in number)\n",
    "set().union(number, uppercase_number)"
   ]
  },
  {
   "cell_type": "markdown",
   "metadata": {},
   "source": [
    "### 7. Double asterisks in dictionary literals\n",
    "\n",
    "PEP 448 cũng mở rộng khả năng của `**` bằng cách cho phép toán tử này được sử dụng để kết xuất các cặp khoá / giá trị từ một từ điển vào từ điển mới "
   ]
  },
  {
   "cell_type": "code",
   "execution_count": 34,
   "metadata": {},
   "outputs": [
    {
     "data": {
      "text/plain": [
       "{'year': '2019',\n",
       " 'month': '08',\n",
       " 'day': '17',\n",
       " 'artist': 'Beethoven',\n",
       " 'title': 'Symphony No 5'}"
      ]
     },
     "execution_count": 34,
     "metadata": {},
     "output_type": "execute_result"
    }
   ],
   "source": [
    "data_info = {'year': '2019', 'month': '08', 'day': '17'}\n",
    "track_info = {'artist': 'Beethoven', 'title': 'Symphony No 5'}\n",
    "all_info = {**data_info, **track_info}\n",
    "all_info"
   ]
  },
  {
   "cell_type": "markdown",
   "metadata": {},
   "source": [
    "Ngoài cách kết hợp 2 từ điển với nhau, hoa thị `*` được sử dụng thêm trong các chức năng khác:"
   ]
  },
  {
   "cell_type": "code",
   "execution_count": 35,
   "metadata": {},
   "outputs": [
    {
     "data": {
      "text/plain": [
       "{'year': '2019', 'month': '08', 'day': '17', 'group': 'Python Meetup'}"
      ]
     },
     "execution_count": 35,
     "metadata": {},
     "output_type": "execute_result"
    }
   ],
   "source": [
    "data_info = {'year': '2019', 'month': '08', 'day': '17'}\n",
    "event_info = {**data_info, 'group': 'Python Meetup'}\n",
    "event_info"
   ]
  },
  {
   "cell_type": "markdown",
   "metadata": {},
   "source": [
    "Copy / Merge dictionary trong khi ghi đè các giá trị cụ thể:"
   ]
  },
  {
   "cell_type": "code",
   "execution_count": 36,
   "metadata": {},
   "outputs": [
    {
     "data": {
      "text/plain": [
       "{'year': '2019', 'month': '08', 'day': '20', 'group': 'Python Meetup'}"
      ]
     },
     "execution_count": 36,
     "metadata": {},
     "output_type": "execute_result"
    }
   ],
   "source": [
    "new_info = {**event_info, 'day': '20'}\n",
    "new_info"
   ]
  }
 ],
 "metadata": {
  "kernelspec": {
   "display_name": "Python 3",
   "language": "python",
   "name": "python3"
  },
  "language_info": {
   "codemirror_mode": {
    "name": "ipython",
    "version": 3
   },
   "file_extension": ".py",
   "mimetype": "text/x-python",
   "name": "python",
   "nbconvert_exporter": "python",
   "pygments_lexer": "ipython3",
   "version": "3.7.3"
  }
 },
 "nbformat": 4,
 "nbformat_minor": 2
}
