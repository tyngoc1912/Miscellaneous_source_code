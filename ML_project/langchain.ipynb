{
 "cells": [
  {
   "cell_type": "markdown",
   "id": "3bb8540e",
   "metadata": {},
   "source": [
    "## **SỬ DỤNG RAPID API THAY CHO API GPT**"
   ]
  },
  {
   "cell_type": "code",
   "execution_count": 17,
   "id": "b3edaa7f",
   "metadata": {},
   "outputs": [],
   "source": [
    "from langchain.llms.base import LLM\n",
    "from langchain.chat_models.base import BaseChatModel\n",
    "from langchain.prompts import PromptTemplate\n",
    "from langchain.chains import LLMChain\n",
    "from langchain.schema import AIMessage, ChatResult, ChatGeneration, BaseMessage\n",
    "from langchain.callbacks.manager import CallbackManager, CallbackManagerForLLMRun\n",
    "from langchain.memory import ConversationSummaryMemory\n",
    "from typing import Optional, List\n",
    "from dataclasses import dataclass, field\n",
    "import requests"
   ]
  },
  {
   "cell_type": "code",
   "execution_count": 13,
   "id": "41d07b81",
   "metadata": {},
   "outputs": [],
   "source": [
    "class RapidAPIChatGPT(BaseChatModel):\n",
    "    # ✅ Không truyền vào constructor – LangChain tự xử lý\n",
    "    @property\n",
    "    def _llm_type(self) -> str:\n",
    "        return \"rapidapi-chat-model\"\n",
    "\n",
    "    def _map_role(self, role: str) -> str:\n",
    "        if role == \"human\":\n",
    "            return \"user\"\n",
    "        elif role == \"ai\":\n",
    "            return \"assistant\"\n",
    "        elif role == \"system\":\n",
    "            return \"system\"\n",
    "        else:\n",
    "            return role\n",
    "\n",
    "    def _generate(self, messages: List[BaseMessage], **kwargs) -> AIMessage:\n",
    "        print(messages)\n",
    "        # Convert LangChain messages to API format\n",
    "        formatted_messages = [{\"role\": self._map_role(m.type), \"content\": m.content} for m in messages]\n",
    "        print(formatted_messages)\n",
    "\n",
    "        headers = {\n",
    "            \"x-rapidapi-key\": \"d35f23c2d5msh4c23959a265167cp135bdcjsnc3d3333c3b97\",\n",
    "            \"x-rapidapi-host\": \"chatgpt-42.p.rapidapi.com\",\n",
    "            \"Content-Type\": \"application/json\"\n",
    "        }\n",
    "\n",
    "        payload = {\n",
    "            \"messages\": formatted_messages,\n",
    "            \"web_access\": False,\n",
    "        }\n",
    "\n",
    "        response = requests.post(\"https://chatgpt-42.p.rapidapi.com/gpt4\", json=payload, headers=headers)\n",
    "        if response.status_code != 200:\n",
    "            raise Exception(f\"API call failed: {response.status_code} - {response.text}\")\n",
    "\n",
    "        result = response.json()['result']\n",
    "        ai_message = AIMessage(content=result)\n",
    "    \n",
    "        return ChatResult(\n",
    "            generations=[ChatGeneration(message=ai_message)]\n",
    "        )   "
   ]
  },
  {
   "cell_type": "code",
   "execution_count": null,
   "id": "4479d560",
   "metadata": {},
   "outputs": [
    {
     "name": "stdout",
     "output_type": "stream",
     "text": [
      "[HumanMessage(content='Tôi cần mua một thiết bị phù hợp với nhu cầu: chơi game và chụp ảnh đẹp, giá dưới 10 triệu', additional_kwargs={}, response_metadata={})]\n",
      "[{'role': 'user', 'content': 'Tôi cần mua một thiết bị phù hợp với nhu cầu: chơi game và chụp ảnh đẹp, giá dưới 10 triệu'}]\n"
     ]
    }
   ],
   "source": [
    "from langchain.prompts.chat import ChatPromptTemplate\n",
    "from langchain.chains import LLMChain\n",
    "\n",
    "llm = RapidAPIChatGPT()\n",
    "\n",
    "prompt_template = ChatPromptTemplate.from_messages(\n",
    "    [('user', '''Tôi cần mua một thiết bị phù hợp với nhu cầu: {need}''')]\n",
    ")\n",
    "\n",
    "chain = prompt_template | llm    # tạo ra một \"RunnableSequence\", là cách LangChain khuyến khích dùng từ v0.1.0 trở đi.\n",
    "response = chain.invoke({\n",
    "    'need': \"chơi game và chụp ảnh đẹp, giá dưới 10 triệu\"\n",
    "})\n"
   ]
  },
  {
   "cell_type": "code",
   "execution_count": 16,
   "id": "970d3030",
   "metadata": {},
   "outputs": [
    {
     "data": {
      "text/plain": [
       "'Để tìm một thiết bị phù hợp với nhu cầu chơi game và chụp ảnh đẹp trong mức giá dưới 10 triệu đồng, bạn có thể cân nhắc các lựa chọn sau:\\n\\n### 1. **Điện thoại thông minh**\\n- **Xiaomi Redmi Note 11 Pro**:\\n  - Màn hình: 6.67 inch FHD+\\n  - Chip xử lý: MediaTek Dimensity 920\\n  - Camera: Camera chính 108MP, camera góc rộng 8MP, camera macro 2MP, camera xóa phông 2MP\\n  - Pin: 5000 mAh, hỗ trợ sạc nhanh\\n  - Giá: Khoảng 7-8 triệu đồng\\n\\n- **Samsung Galaxy A32**:\\n  - Màn hình: 6.4 inch FHD+\\n  - Chip xử lý: MediaTek Helio G80\\n  - Camera: Camera chính 64MP, camera góc rộng 8MP, camera macro 5MP, camera xóa phông 5MP\\n  - Pin: 5000 mAh\\n  - Giá: Khoảng 6-7 triệu đồng\\n\\n### 2. **Laptop**\\nNếu bạn muốn tìm một chiếc laptop có khả năng chơi game và tương đối tốt cho việc chụp ảnh (thông qua webcam tốt), bạn có thể tham khảo:\\n\\n- **Asus VivoBook 15 (M514)**:\\n  - CPU: AMD Ryzen 5\\n  - RAM: 8GB\\n  - Card đồ họa: AMD Radeon Graphics\\n  - Màn hình: 15.6 inch FHD\\n  - Giá: Khoảng 9-10 triệu đồng\\n\\nLưu ý rằng với laptop trong tầm giá này, khả năng chơi game có thể bị hạn chế với các tựa game nặng. Tuy nhiên, bạn vẫn có thể chơi các game nhẹ hoặc trung bình.\\n\\n### 3. **Máy chụp ảnh**\\nNếu bạn muốn có chất lượng hình ảnh tốt hơn từ một máy chụp ảnh chuyên dụng, bạn có thể tham khảo các mẫu máy ảnh như:\\n\\n- **Canon PowerShot SX620 HS**:\\n  - 20.2MP\\n  - Zoom quang 25x\\n  - Giá: Khoảng 7-8 triệu đồng\\n  - Thích hợp cho việc chụp ảnh du lịch và hàng ngày.\\n\\n### Kết luận\\nTùy thuộc vào sở thích và ưu tiên của bạn, bạn có thể lựa chọn điện thoại thông minh cho tính linh hoạt hoặc laptop cho khả năng đa nhiệm. Hy vọng bạn sẽ tìm được sản phẩm ưng ý!'"
      ]
     },
     "execution_count": 16,
     "metadata": {},
     "output_type": "execute_result"
    }
   ],
   "source": [
    "response.content"
   ]
  },
  {
   "cell_type": "markdown",
   "id": "9f187a25",
   "metadata": {},
   "source": [
    "## **SỬ DỤNG DEEPSEEK LOCAL**"
   ]
  },
  {
   "cell_type": "code",
   "execution_count": null,
   "id": "992f141e",
   "metadata": {},
   "outputs": [],
   "source": []
  }
 ],
 "metadata": {
  "kernelspec": {
   "display_name": "venv",
   "language": "python",
   "name": "python3"
  },
  "language_info": {
   "codemirror_mode": {
    "name": "ipython",
    "version": 3
   },
   "file_extension": ".py",
   "mimetype": "text/x-python",
   "name": "python",
   "nbconvert_exporter": "python",
   "pygments_lexer": "ipython3",
   "version": "3.13.0"
  }
 },
 "nbformat": 4,
 "nbformat_minor": 5
}
