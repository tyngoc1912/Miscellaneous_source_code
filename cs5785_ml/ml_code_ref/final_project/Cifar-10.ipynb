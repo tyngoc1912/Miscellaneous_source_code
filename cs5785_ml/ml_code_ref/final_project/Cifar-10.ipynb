{
 "cells": [
  {
   "cell_type": "markdown",
   "metadata": {},
   "source": [
    "## Code sau đây mô phỏng lại quá trình thí nghiệm của em:\n",
    "*Các tham số và log của lần train cuối cùng được lưu lại trong thư mục experiments_stuff*"
   ]
  },
  {
   "cell_type": "code",
   "execution_count": 1,
   "metadata": {},
   "outputs": [
    {
     "name": "stderr",
     "output_type": "stream",
     "text": [
      "/home/lego1st/.virtualenvs/py3/lib/python3.5/site-packages/h5py/__init__.py:36: FutureWarning: Conversion of the second argument of issubdtype from `float` to `np.floating` is deprecated. In future, it will be treated as `np.float64 == np.dtype(float).type`.\n",
      "  from ._conv import register_converters as _register_converters\n",
      "Using TensorFlow backend.\n"
     ]
    }
   ],
   "source": [
    "from __future__ import print_function\n",
    "import keras\n",
    "from keras.datasets import cifar10\n",
    "from keras.preprocessing.image import ImageDataGenerator\n",
    "from keras.models import Sequential\n",
    "from keras.layers import Dense, Dropout, Activation, Flatten, BatchNormalization\n",
    "from keras.layers import Conv2D, MaxPooling2D\n",
    "from keras.models import load_model\n",
    "from keras.callbacks import ModelCheckpoint, EarlyStopping\n",
    "from keras import backend as K\n",
    "from keras import regularizers, optimizers\n",
    "import os"
   ]
  },
  {
   "cell_type": "code",
   "execution_count": 2,
   "metadata": {},
   "outputs": [],
   "source": [
    "batch_size = 32\n",
    "num_classes = 10"
   ]
  },
  {
   "cell_type": "code",
   "execution_count": 3,
   "metadata": {},
   "outputs": [],
   "source": [
    "(x_train, y_train), (x_test, y_test) = cifar10.load_data()"
   ]
  },
  {
   "cell_type": "markdown",
   "metadata": {},
   "source": [
    "Chia nhỏ dữ liệu để khảo sát kiến trúc"
   ]
  },
  {
   "cell_type": "code",
   "execution_count": 4,
   "metadata": {},
   "outputs": [],
   "source": [
    "x_train_sm = x_train[:5000]\n",
    "y_train_sm = y_train[:5000]\n",
    "x_test_sm = x_test[:1000]\n",
    "y_test_sm = y_test[:1000] "
   ]
  },
  {
   "cell_type": "markdown",
   "metadata": {},
   "source": [
    "Chuẩn hóa dữ liệu"
   ]
  },
  {
   "cell_type": "code",
   "execution_count": 5,
   "metadata": {},
   "outputs": [],
   "source": [
    "x_train = x_train.astype('float32') / 255\n",
    "x_test = x_test.astype('float32') / 255\n",
    "y_train = keras.utils.to_categorical(y_train, num_classes)\n",
    "y_test = keras.utils.to_categorical(y_test, num_classes)\n",
    "\n",
    "x_train_sm = x_train_sm.astype('float32') / 255\n",
    "x_test_sm = x_test_sm.astype('float32') / 255\n",
    "y_train_sm = keras.utils.to_categorical(y_train_sm, num_classes)\n",
    "y_test_sm = keras.utils.to_categorical(y_test_sm, num_classes)"
   ]
  },
  {
   "cell_type": "markdown",
   "metadata": {},
   "source": [
    "Kiến trúc đầu tiên sử dụng mạng CNN đơn giản với:\n",
    "- 4 tầng convolution và 2 tầng fully connected\n",
    "- Dropout với rate = 0.25 được thêm vào sau mỗi 2 lớp CNN \n",
    "- Hàm activation được sử dụng là Relu\n",
    "- Activation softmax ở lớp cuối cho đầu ra output"
   ]
  },
  {
   "cell_type": "code",
   "execution_count": 7,
   "metadata": {},
   "outputs": [],
   "source": [
    "def SimpleCNN():\n",
    "    model = Sequential()\n",
    "\n",
    "    model.add(Conv2D(32, (3, 3), padding='same', input_shape=x_train.shape[1:]))\n",
    "    model.add(Activation('relu'))\n",
    "    model.add(Conv2D(32, (3, 3)))\n",
    "    model.add(Activation('relu'))\n",
    "    model.add(MaxPooling2D(pool_size=(2, 2)))\n",
    "    model.add(Dropout(0.25))\n",
    "\n",
    "    model.add(Conv2D(64, (3, 3), padding='same'))\n",
    "    model.add(Activation('relu'))\n",
    "    model.add(Conv2D(64, (3, 3)))\n",
    "    model.add(Activation('relu'))\n",
    "    model.add(MaxPooling2D(pool_size=(2, 2)))\n",
    "    model.add(Dropout(0.25))\n",
    "\n",
    "    model.add(Flatten())\n",
    "    model.add(Dense(512))\n",
    "    model.add(Activation('relu'))\n",
    "    model.add(Dropout(0.5))\n",
    "    model.add(Dense(num_classes))\n",
    "    model.add(Activation('softmax'))\n",
    "\n",
    "    return model"
   ]
  },
  {
   "cell_type": "markdown",
   "metadata": {},
   "source": [
    "Hàm đánh giá mô hình đơn giản "
   ]
  },
  {
   "cell_type": "code",
   "execution_count": 8,
   "metadata": {},
   "outputs": [],
   "source": [
    "def evaluate(to_load_model, x_test, y_test):\n",
    "    model = load_model(to_load_model)\n",
    "    scores = model.evaluate(x_test, y_test, verbose=1)\n",
    "    print('Test loss: {}\\tTest accuracy: {}'.format(scores[0], scores[1]))\n",
    "    K.clear_session()"
   ]
  },
  {
   "cell_type": "markdown",
   "metadata": {},
   "source": [
    "Hàm huấn luyện được sử dụng với các model\n",
    "- Để tiện quan sát và huấn luyện, hàm train được truyền vào weight của model để có thể train tiếp từ epoch trước đã dừng\n",
    "- Nếu tham số to_load_model không được truyền vào, script sẽ tạo ra một instance mới của model và thực hiện train từ đầu\n",
    "- Quá trình train sử dụng tập test để làm validation và earlyStopping để dừng khi loss không còn giảm.\n",
    "- Việc sử dụng test làm validation chỉ để quan sát chứ không ảnh hưởng đến việc tune tham số hay quyết định thay đổi kiến trúc"
   ]
  },
  {
   "cell_type": "code",
   "execution_count": 10,
   "metadata": {},
   "outputs": [],
   "source": [
    "def train(to_load_model = None):\n",
    "    if to_load_model:\n",
    "        model = load_model(to_load_model)\n",
    "    else:\n",
    "        #model = SimpleCNN()\n",
    "        model = AdvancedCNN()\n",
    "    opt = optimizers.rmsprop(lr=0.0003, decay=1e-6)\n",
    "    model.compile(loss='categorical_crossentropy', optimizer=opt, metrics=['accuracy'])\n",
    "\n",
    "    earlyStopping = EarlyStopping(monitor='val_loss', patience=10, verbose=0, mode='min')\n",
    "    mcp_save = ModelCheckpoint(model_path, save_best_only=True, monitor='val_loss', mode='min')\n",
    "\n",
    "    model.fit(x_train, y_train, batch_size=batch_size, epochs=epochs, callbacks=[earlyStopping, mcp_save], validation_data=(x_test, y_test), shuffle=True)"
   ]
  },
  {
   "cell_type": "markdown",
   "metadata": {},
   "source": [
    "Khảo sát mô hình trên tập test nhỏ trước để tìm ra kiến trúc phù hợp"
   ]
  },
  {
   "cell_type": "code",
   "execution_count": 11,
   "metadata": {},
   "outputs": [
    {
     "name": "stdout",
     "output_type": "stream",
     "text": [
      "1000/1000 [==============================] - 2s 2ms/step\n",
      "Test loss: 1.2325805826187133\tTest accuracy: 0.583\n"
     ]
    }
   ],
   "source": [
    "evaluate(os.path.join(os.getcwd(), 'experiments_stuff/cifar10_model_3.h5'), x_test_sm, y_test_sm)"
   ]
  },
  {
   "cell_type": "markdown",
   "metadata": {},
   "source": [
    "Đề xuất mô hình mới:\n",
    "- Có thêm 2 tầng convolution nữa \n",
    "- Dropout rate giữa 2 tầng một tăng dần 0.2, 0.3, 0.4\n",
    "- Thêm Batch Normalization và Regulrization"
   ]
  },
  {
   "cell_type": "code",
   "execution_count": 13,
   "metadata": {},
   "outputs": [],
   "source": [
    "def AdvancedCNN(baseMapNum = 32, weight_decay = 1e-4):\n",
    "    model = Sequential()\n",
    "\n",
    "    model.add(Conv2D(32, (3,3), padding='same', kernel_regularizer=regularizers.l2(weight_decay), input_shape=x_train.shape[1:]))\n",
    "    model.add(Activation('relu'))\n",
    "    model.add(BatchNormalization())\n",
    "    model.add(Conv2D(32, (3,3), padding='same', kernel_regularizer=regularizers.l2(weight_decay)))\n",
    "    model.add(Activation('relu'))\n",
    "    model.add(BatchNormalization())\n",
    "    model.add(MaxPooling2D(pool_size=(2,2)))\n",
    "    model.add(Dropout(0.2))\n",
    "\n",
    "    model.add(Conv2D(64, (3,3), padding='same', kernel_regularizer=regularizers.l2(weight_decay)))\n",
    "    model.add(Activation('relu'))\n",
    "    model.add(BatchNormalization())\n",
    "    model.add(Conv2D(64, (3,3), padding='same', kernel_regularizer=regularizers.l2(weight_decay)))\n",
    "    model.add(Activation('relu'))\n",
    "    model.add(BatchNormalization())\n",
    "    model.add(MaxPooling2D(pool_size=(2,2)))\n",
    "    model.add(Dropout(0.3))\n",
    "\n",
    "    model.add(Conv2D(128, (3,3), padding='same', kernel_regularizer=regularizers.l2(weight_decay)))\n",
    "    model.add(Activation('relu'))\n",
    "    model.add(BatchNormalization())\n",
    "    model.add(Conv2D(128, (3,3), padding='same', kernel_regularizer=regularizers.l2(weight_decay)))\n",
    "    model.add(Activation('relu'))\n",
    "    model.add(BatchNormalization())\n",
    "    model.add(MaxPooling2D(pool_size=(2,2)))ơn\n",
    "    model.add(Dropout(0.4))\n",
    "\n",
    "    model.add(Flatten())\n",
    "    model.add(Dense(num_classes, activation='softmax'))\n",
    "\n",
    "    model.summary()\n",
    "    return model"
   ]
  },
  {
   "cell_type": "markdown",
   "metadata": {},
   "source": [
    "Sau khi huấn luyện trên tập dữ liệu nhỏ và so sánh, model được đề xuất có kết quả trên tập test trội hơn hẳn"
   ]
  },
  {
   "cell_type": "code",
   "execution_count": 14,
   "metadata": {},
   "outputs": [
    {
     "name": "stdout",
     "output_type": "stream",
     "text": [
      "SimpleCNN with small data\n",
      "1000/1000 [==============================] - 1s 680us/step\n",
      "Test loss: 1.2325805826187133\tTest accuracy: 0.583\n",
      "AdvancedCNN with small data\n",
      "1000/1000 [==============================] - 2s 2ms/step\n",
      "Test loss: 1.1409394645690918\tTest accuracy: 0.633\n"
     ]
    }
   ],
   "source": [
    "# SimpleCNN\n",
    "print(\"SimpleCNN with small data\")\n",
    "evaluate(os.path.join(os.getcwd(), 'experiments_stuff/cifar10_model_3.h5'), x_test_sm, y_test_sm)\n",
    "# AdvancedCNN\n",
    "print(\"AdvancedCNN with small data\")\n",
    "evaluate(os.path.join(os.getcwd(), 'experiments_stuff/advanced_cifar10_model_1.h5'), x_test_sm, y_test_sm)"
   ]
  },
  {
   "cell_type": "markdown",
   "metadata": {},
   "source": [
    "Huấn luyện trên toàn bộ tập dữ liệu:\n",
    "- SimpleCNN được chạy trên toàn bộ tập dữ liệu từ đầu và dừng lại ở epoch thứ 73\n",
    "- AdvacedCNN được chạy trên toàn bộ tập dữ liệu với khởi tạo tham số từ model train với tập dữ liệu nhỏ, train với 50 epoch tiếp theo với learning rate = 0.0001, sau đó train với 50 epoch nữa với learning rate = 0.0003 (do em muốn đẩy nhanh quá trình giảm loss) và dừng lại ở epoch 33"
   ]
  },
  {
   "cell_type": "code",
   "execution_count": 16,
   "metadata": {},
   "outputs": [
    {
     "name": "stdout",
     "output_type": "stream",
     "text": [
      "SimpleCNN with full data\n",
      "10000/10000 [==============================] - 8s 753us/step\n",
      "Test loss: 0.7480912349700928\tTest accuracy: 0.7467\n",
      "AdvancedCNN with full data\n",
      "10000/10000 [==============================] - 14s 1ms/step\n",
      "Test loss: 0.5762299317836761\tTest accuracy: 0.8482\n"
     ]
    }
   ],
   "source": [
    "# SimpleCNN\n",
    "print(\"SimpleCNN with full data\")\n",
    "evaluate(os.path.join(os.getcwd(), 'experiments_stuff/cifar10_model_0.h5'), x_test, y_test)\n",
    "# AdvancedCNN\n",
    "print(\"AdvancedCNN with full data\")\n",
    "evaluate(os.path.join(os.getcwd(), 'experiments_stuff/advanced_cifar10_model_0.h5'), x_test, y_test)"
   ]
  },
  {
   "cell_type": "markdown",
   "metadata": {},
   "source": [
    "### Kết luận\n",
    "Như vậy bằng cách thay đổi kiến trúc mới và một số tuning tham số, kết quả đạt được trên tập test la 84.82%. Để xuất tiếp theo có thể augment thêm cho training dataset với hy vọng làm đa dạng được dữ liệu hoặc thử những kiến trúc phức tạp hơn."
   ]
  }
 ],
 "metadata": {
  "kernelspec": {
   "display_name": "Python 3",
   "language": "python",
   "name": "python3"
  },
  "language_info": {
   "codemirror_mode": {
    "name": "ipython",
    "version": 3
   },
   "file_extension": ".py",
   "mimetype": "text/x-python",
   "name": "python",
   "nbconvert_exporter": "python",
   "pygments_lexer": "ipython3",
   "version": "3.5.2"
  }
 },
 "nbformat": 4,
 "nbformat_minor": 2
}
