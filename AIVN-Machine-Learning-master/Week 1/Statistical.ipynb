{
 "cells": [
  {
   "cell_type": "markdown",
   "metadata": {},
   "source": [
    "<img src=\"images/Statistical/statistical-analysis-hero.jpg\" style=\"width:50%;height:50%;\"> "
   ]
  },
  {
   "cell_type": "markdown",
   "metadata": {},
   "source": [
    "Chúng ta dùng Python để khám phá các số liệu thống kê, giúp ta hiểu hơn về dữ liệu mà ta đang có. Trong bài này, chúng ta sẽ học các thước đo từ đơn giản như trung bình (Mean), trung vị (Median), phân bố đến những phần nâng cao như Phương sai (Variance), Độ lệch chuẩn (Standard Deviation), và phần cuối trình bày thuật toán tính hệ số tương quan (Correlation Coefficient)."
   ]
  },
  {
   "cell_type": "markdown",
   "metadata": {},
   "source": [
    "### 1. Mean - Trung bình \n",
    "\n",
    "Giá trị trung bình là một khái niệm tổng quát khi nói đến một tập số liệu. Khi nói đến bộ số liệu nào đó, chúng ta hay nhắc đến trung bình của bộ số liệu đó. Chúng ta đều hiểu bản chất của khái niệm trung bình là lấy tổng của dãy số cho trước sau đó chia cho độ dài của dãy số. \n",
    "\n",
    "Công thức tính mean cho một list $X$ các số như sau:\n",
    "\n",
    "<img src=\"images/Statistical/Arithmetic-Mean-Formula.jpg\" style=\"width:50%;height:50%;\"> \n",
    "\n",
    "Trong đó: $x_i$ là phần tử thứ $i$ của $X$."
   ]
  },
  {
   "cell_type": "markdown",
   "metadata": {},
   "source": [
    "**Ví dụ:** Chúng ta có dãy số bên dưới đây thể hiện số tiền quyên góp của một tổ chức từ thiện trong 12 ngày qua, đơn vị USD:\n",
    "\n",
    ">$ 100, 60, 70, 900, 100, 200, 500, 500, 503, 600, 1000, 1200.$\n",
    "\n",
    "Viết hàm để tính trung bình của một dãy số:"
   ]
  },
  {
   "cell_type": "code",
   "execution_count": 1,
   "metadata": {},
   "outputs": [
    {
     "name": "stdout",
     "output_type": "stream",
     "text": [
      "Trung bình số tiền quyên góp là:  477.75\n"
     ]
    }
   ],
   "source": [
    "def calculate_mean(numbers): #1\n",
    "    s = sum(numbers)         #2\n",
    "    N = len(numbers)         #3\n",
    "    mean = s/N               #4\n",
    "    return mean              #5\n",
    "\n",
    "# Tạo mảng donations đại diện cho số tiền quyên góp trong 12 ngày\n",
    "donations = [100, 60, 70, 900, 100, 200, 500, 500, 503, 600, 1000,1200]\n",
    "mean_value = calculate_mean(donations)\n",
    "\n",
    "print('Trung bình số tiền quyên góp là: ', mean_value)"
   ]
  },
  {
   "cell_type": "markdown",
   "metadata": {},
   "source": [
    "1. Bước đầu tiên ta xác định hàm cần tính, đặt tên là `calculate_mean()`, hàm này sẽ nhận đối số numbers, là chuỗi các số cần tính trung bình.\n",
    "\n",
    "2. Sử dụng hàm `sum()` để tính tổng dãy số cho trước.\n",
    "\n",
    "3. Sử dụng hàm `len()` để tính chiều dài của dãy số cần tính.\n",
    "\n",
    "4. Tính trung bình của dãy số trên bằng cách lấy tổng chia cho chiều dài.\n",
    "\n",
    "5. Cuối cùng ta cho hàm trả về giá trị mean tính được."
   ]
  },
  {
   "cell_type": "markdown",
   "metadata": {},
   "source": [
    "Kết quả: \n",
    "\n",
    "> Trung bình số tiền quyên góp là: 477.75"
   ]
  },
  {
   "cell_type": "markdown",
   "metadata": {},
   "source": [
    "### 2. Median\n",
    "\n",
    "Số trung vị là một số đứng ở vị trí giữa trong dãy số đã được sắp xếp theo thứ tự tăng dần, median chia dãy số cho trước thành 2 nửa bằng nhau:\n",
    "\n",
    "- Nếu độ dài của dãy số là số lẻ, thì số ở giữa là median.\n",
    "- Nếu chiều dài của dãy số là số chẵn thì median được xác định bằng cách lấy trung bình của hai số ở giữa."
   ]
  },
  {
   "cell_type": "markdown",
   "metadata": {},
   "source": [
    "**Ví dụ:** Chúng ta sử dụng lại dãy số liệu thể hiện số tiền quyên góp của một tổ chức từ thiện trong 12 ngày qua, đơn vị USD:\n",
    "\n",
    "> $100, 60, 70, 900, 100, 200, 500, 500, 503, 600, 1000, 1200$\n",
    "\n",
    "Xây dựng hàm tính median: "
   ]
  },
  {
   "cell_type": "code",
   "execution_count": 2,
   "metadata": {},
   "outputs": [
    {
     "name": "stdout",
     "output_type": "stream",
     "text": [
      "Trung vị số tiền quyên góp là:  500.0\n"
     ]
    }
   ],
   "source": [
    "import numpy as np \n",
    "def calculate_median(numbers):                      #1\n",
    "    N = len(numbers)                                #2\n",
    "    numbers.sort()                                  #3\n",
    "    if N%2 == 0:                                    #4\n",
    "        m1 = N/2\n",
    "        m2 = (N/2) + 1\n",
    "        m1 = int(m1)-1\n",
    "        m2 = int(m2)-1\n",
    "        median = (numbers[m1] + numbers[m2])/2\n",
    "    else:                                           #5\n",
    "        m = (N+1)/2\n",
    "        m = int(m)-1\n",
    "        median = numbers[m]\n",
    "    return median                                   #6\n",
    "\n",
    "donations = np.array([100, 60, 70, 900, 100, 200, 500, 500, 503, 600, 1000,1200])\n",
    "meadian_value = calculate_median(donations)\n",
    "print('Trung vị số tiền quyên góp là: ', meadian_value)"
   ]
  },
  {
   "cell_type": "markdown",
   "metadata": {},
   "source": [
    "1. Xác định hàm cần tính, đặt tên `calculate_median`; hàm này sẽ nhận đối số là chuỗi số numbers.\n",
    "\n",
    "2. Tính chiều dài của chuỗi số numbers, đại diện bởi biến N\n",
    "\n",
    "3. Sắp xếp chuỗi số numbers từ nhỏ đến lớn.\n",
    "\n",
    "4. Tính median: Nếu chiều dài của chuỗi số numbers là số lẻ, thì số trung vị là số ở vị trí chính giữa, nghĩa là `(N + 1)/2`. Nếu chiều dài của numbers là số chẵn thì lấy 2 phần tử ở giữa là `N/2` và `(N/2) + 1`, đại diện bởi biến m1 và m2. Sau đó, lấy phần nguyên của phép chia rồi trừ một để lấy được vị trí của 2 phần tử. Cuối cùng ta lấy giá trị trung bình của 2 phần từ vừa tìm được.\n",
    "\n",
    "5. Hàm trả về giá trị trung vị tính ở bước 4"
   ]
  },
  {
   "cell_type": "markdown",
   "metadata": {},
   "source": [
    "Kết quả:\n",
    "\n",
    "> Trung vị số tiền quyên góp là:  500.0"
   ]
  },
  {
   "cell_type": "markdown",
   "metadata": {},
   "source": [
    "### 3. Mode \n",
    "\n",
    "Mode trả về phần tử có số lần xuất hiện nhiều nhất trong dãy số cho trước. \n",
    "\n",
    "Ví dụ, ta có điểm thi toán của 20 học sinh với thang 10 điểm:\n",
    "\n",
    "> $7, 8, 9, 2, 10, 9, 9, 9, 9, 4, 5, 6, 1, 5, 6, 7, 8, 6, 1, 10$\n",
    "\n",
    "Mode sẽ giúp ta trả lời câu hỏi: “Điểm số nào được học sinh đạt nhiều nhất?”. Ở ví dụ trên, quan sát cho chúng ta thấy được điểm 9 xuất hiện nhiều nhất. Do đó, `mode = 9`.\n",
    "\n",
    "Cách tính mode được thực hiện như sau: với mỗi giá trị trong chuỗi số, đếm số lần xuất hiện của giá trị đó. Sau đó, trả về giá trị mà có số lần xuất hiện nhiều nhất.\n",
    "\n",
    "Python cung cấp hàm `most_common()` để tính để tính số lần xuất hiện của một phần tử. Hàm này trả về một list các tuple (phần_tử, số_lần_xuất_hiện) được sắp xếp theo thứ tự giảm dần theo số_lần_xuất_hiện.\n",
    "\n",
    "**Chú ý:** trong trường hợp dãy số truyền vào có nhiều phần tử có mật độ xuất hiện giống nhau, chúng ta cần trả về toàn bộ các mode đó."
   ]
  },
  {
   "cell_type": "code",
   "execution_count": 3,
   "metadata": {},
   "outputs": [
    {
     "name": "stdout",
     "output_type": "stream",
     "text": [
      "Mode của dãy số points_1:  [9]\n",
      "Mode của dãy số points_2:  [9, 6]\n"
     ]
    }
   ],
   "source": [
    "# import packages Counter để đếm số lần xuất hiện của mỗi giá trị trong chuỗi\n",
    "from collections import Counter\n",
    "\n",
    "# data\n",
    "points_1 = points = [7, 8, 9, 2, 10, 9, 9, 9, 9, 4, 5, 6, 1, 5, 6, 7, 8, 6, 1, 10]\n",
    "points_2 = [7, 8, 9, 2, 10, 9, 9, 9, 9, 4, 5, 6, 1, 5, 6, 7, 8, 6, 1, 10, 6, 6]\n",
    "\n",
    "def calculate_mode(numbers):            #1\n",
    "    c = Counter(numbers)                #2 \n",
    "    numbers_freq = c.most_common()      #3\n",
    "    max_count = numbers_freq[0][1]      #4\n",
    "    modes = []                          #5\n",
    "    for num in numbers_freq:\n",
    "        if num[1] == max_count:         #6\n",
    "             modes.append(num[0])\n",
    "    return modes\n",
    "\n",
    "print('Mode của dãy số points_1: ', calculate_mode(points_1))\n",
    "print('Mode của dãy số points_2: ', calculate_mode(points_2))"
   ]
  },
  {
   "cell_type": "markdown",
   "metadata": {},
   "source": [
    "1. Xác đinh hàm cần tìm, đặt tên `calculate_mode`, hàm này nhận đối số numbers truyền vào.\n",
    "\n",
    "2. Dùng hàm counter để đếm số lần xuất hiện của mỗi phần tử trong chuỗi, đại diện bởi biến c.\n",
    "\n",
    "3. Dùng `most_common()`, trả về giá trị và số lần xuất hiện của mỗi phần tử, đại diện bởi biến number_freq.\n",
    "\n",
    "4. Theo sắp xếp của hàm `most_common`, vị trí đầu tiên chứa giá trị và số lần xuất hiện nhiền nhất, nên ta cần lấy số lần xuất hiện của giá trị xuất hiện nhiều nhất, đại diện bởi biến `max_count`.\n",
    "\n",
    "5. Tạo một chuỗi rỗng để chứa giá trị.\n",
    "\n",
    "6. Với lần lượt từng cặp giá trị trong bước 3 tính được, so sánh với `max_count` của bước 4 trả về, nếu bằng `max_count` thì bỏ giá trị phần tử vào mảng rỗng tạo ở bước 5.\n",
    "\n",
    "Kết quả: \n",
    "> Mode của dãy số points_1:  [9]\n",
    "> <br>Mode của dãy số points_2:  [9, 6]\n"
   ]
  },
  {
   "cell_type": "markdown",
   "metadata": {},
   "source": [
    "### 4. Range of data\n",
    "\n",
    "Độ phân tán (range) của dữ liệu cho biết dữ liệu chúng ta có giá trị trải rộng như thế nào. \n",
    "\n",
    "Ví dụ, nếu chỉ quan tâm đến trung bình thì có khi ta đánh giá sai dữ liệu. Độ phân tán dữ liệu đơn giản là độ lệch giữa giá trị lớn nhất và giá trị nhỏ nhất của tập dữ liệu."
   ]
  },
  {
   "cell_type": "code",
   "execution_count": 4,
   "metadata": {},
   "outputs": [
    {
     "name": "stdout",
     "output_type": "stream",
     "text": [
      "Lowest: 1\tHighest: 10\tRange: 9\n"
     ]
    }
   ],
   "source": [
    "def find_range(numbers):        #1\n",
    "    lowest  = min(numbers)      #2\n",
    "    highest = max(numbers)      #3\n",
    "    r = highest-lowest          #4\n",
    "    print('Lowest: {0}\\tHighest: {1}\\tRange: {2}'.format(lowest, highest, r))\n",
    "    \n",
    "# data\n",
    "points = [7, 8, 9, 2, 10, 9, 9, 9, 9, 4, 5, 6, 1, 5, 6, 7, 8, 6, 1, 10, 6, 6]\n",
    "find_range(points)"
   ]
  },
  {
   "cell_type": "markdown",
   "metadata": {},
   "source": [
    "1. Xác đinh hàm cần tìm, đặt đến là `find_range`, hàm nhận đối số numbers cho trước.\n",
    "\n",
    "2. Dùng hàm min tính giá trị nhỏ nhất của list numbers, đại diện bởi biến `lowest`.\n",
    "\n",
    "3. Dùng hàm max tính giá trị lớn nhất của list numbers, đại diện bởi biến `highest`.\n",
    "\n",
    "4. Tính range của list numbers bằng cách lấy giá trị lớn nhất trừ giá trị nhỏ nhất, đại diện bởi biến r.\n",
    "\n",
    "Kết quả:\n",
    "\n",
    "> Lowest: 1\tHighest: 10\tRange: 9"
   ]
  },
  {
   "cell_type": "markdown",
   "metadata": {},
   "source": [
    "### 5. Variance\n",
    "\n",
    "Phương sai (variance) cho ta biết các giá trị trong tập dữ liệu có khác biệt nhiều với giá trị trung bình của cả tập hay không? Đánh giá mức độ phân tán của dữ liệu so với giá trị trung bình. \n",
    "\n",
    "**Chú ý:** nếu muốn tính **độ lệch chuẩn** chỉ cần lấy căn bậc hai của phương sai.\n",
    "\n",
    "Công thức của variance: Lấy từng giá trị của tập dữ liệu trừ cho giá trị trung bình của cả tập, bình phương và chia cho số lượng phần tử có trong chuỗi.\n",
    "\n",
    "<img src=\"images/Statistical/Population-Variance-Formula.jpg\" style=\"width:50%;height:50%;\"> \n",
    "\n",
    "Trong đó:\n",
    "- $\\mu$ là giá trị `mean` của tập dữ liệu $X$; \n",
    "- $x_i$ là giá trị thứ $i$ trong tập dữ liệu;\n",
    "- $N$ là số lượng dữ liệu."
   ]
  },
  {
   "cell_type": "markdown",
   "metadata": {},
   "source": [
    "Code để tính Variance như sau:"
   ]
  },
  {
   "cell_type": "code",
   "execution_count": 5,
   "metadata": {},
   "outputs": [
    {
     "name": "stdout",
     "output_type": "stream",
     "text": [
      "Phương sai của dãy số là:  7.647499999999999\n",
      "Độ lệch chuẩn của dãy số là:  2.7654113618049663\n"
     ]
    }
   ],
   "source": [
    "# data\n",
    "points = [7, 8, 9, 2, 10, 9, 9, 9, 9, 4, 5, 6, 1, 5, 6, 7, 8, 6, 1, 10]\n",
    "\n",
    "def calculate_mean(numbers):                    #1\n",
    "    s = sum(numbers)\n",
    "    N = len(numbers)\n",
    "    mean = s/N\n",
    "    return mean\n",
    "def caculate_variance(numbers):                 #2\n",
    "    mean = calculate_mean(numbers)              #3\n",
    "    \n",
    "    diff = []                                   #4\n",
    "    for num in numbers: \n",
    "         diff.append(num-mean)\n",
    "            \n",
    "    squared_diff = []                           #5\n",
    "    for d in diff:\n",
    "        squared_diff.append(d**2)\n",
    "        sum_squared_diff = sum(squared_diff)\n",
    "        variance = sum_squared_diff/len(numbers)\n",
    "        \n",
    "    return variance\n",
    "print('Phương sai của dãy số là: ', caculate_variance(points))\n",
    "print('Độ lệch chuẩn của dãy số là: ', caculate_variance(points)**0.5)"
   ]
  },
  {
   "cell_type": "markdown",
   "metadata": {},
   "source": [
    "1. Trong công thức cần phép tính trung bình nên ta dùng lại hàm `calculate_mean()` phía trên.\n",
    "\n",
    "2. Xác định hàm cần tìm, đặt đến là `caculate_variance`, hàm nhận đối số numbers cho trước.\n",
    "\n",
    "3. Tính giá trị trung bình của dãy numbers cho trước, đại diện bởi biến mean.\n",
    "\n",
    "4. Tạo mảng diff rỗng, với mỗi giá trị của dãy numbers, đem trừ cho mean rồi bỏ kết quả vào mảng diff\n",
    "\n",
    "5. Tạo mảng squared_diff rỗng, với mỗi giá trị của mảng diff ở bước 4, bình phương mỗi giá trị, cộng dồn toàn bộ giá trị của mảng và chia cho chiều dài của mảng.\n",
    "\n",
    "6. Trả kết quả phương sai.\n",
    "\n",
    "Kết quả:\n",
    "\n",
    "> Phương sai của dãy số là:  7.647499999999999\n",
    "> <br> Độ lệch chuẩn của dãy số là:  2.7654113618049663"
   ]
  },
  {
   "cell_type": "markdown",
   "metadata": {},
   "source": [
    "### 6. Correlation Coeffecient (Hệ số tương quan)\n",
    "\n",
    "Khi phân tích hồi quy tuyến tính thì yêu cầu hai biến độc lập phải có mối quan hệ tuyến tính với nhau. Khi đó ta đánh giá qua hệ số tương quan. Hệ số tương quan thể hiện mối quan hệ tương quan tuyến tính giữa hai biến, hệ số tương quan nằm trong khoảng [-1; 1],\n",
    "\n",
    "- Khi hệ số tương quan bằng 0 thì ta kết luận hai biến không có tương quan tuyến tính với nhau (nhưng không chắc chúng độc lập).\n",
    "\n",
    "- Khi hệ số gần bằng 1 thì ta nói có mối quan hệ tuyến tính dương (cùng tăng hoặc cùng giảm).\n",
    "\n",
    "- khi hệ số gần bằng -1 thì ta nói hai biến số có mối quan hệ tuyến tính âm (x giảm y tăng và ngược lại).\n",
    "\n",
    "Lưu ý rằng tương quan tuyến tinh khác với mối quan hệ nhân quả, giả sử khi hệ số tương quan là dương thì ta chỉ được kết luận hai biến có mối quan hệ tuyến tính dương thôi. Ví dụ vào mùa hè, doanh số bán đồ tắm tăng mạnh và số lượng kem bán ra cũng tăng mạnh, khi xét hệ số tuyến tính có kết quả dương gần 1 ta không thể kết luận do lượng kem bán ra nhiều làm tăng doanh số bán áo tắm.\n",
    "\n",
    "Công thức tính hệ số tương quan của hai biến `X` và `Y`:\n",
    "\n",
    "<img src=\"images/Statistical/Correlation-Coefficient-Formula.jpg\" style=\"width:50%;height:50%;\"> \n",
    "\n"
   ]
  },
  {
   "cell_type": "markdown",
   "metadata": {},
   "source": [
    "Chúng ta sẽ thực hiện phần Code về hệ số tương quan này trong phần [bài tập](https://github.com/thanhhff/AIVN-Machine-Learning/blob/master/Week%201/Assignment/Assignment-Tinh-He-So-Tuong-Quan.ipynb) ! "
   ]
  },
  {
   "cell_type": "markdown",
   "metadata": {},
   "source": [
    "### Tổng kết\n",
    "\n",
    "Sau khi hoàn thành bài này, các bạn nên nhớ một số kiến thức sau:\n",
    "- Mean\n",
    "- Media \n",
    "- Variance\n",
    "- Standard Deviation\n",
    "- Correlation Coefficient"
   ]
  }
 ],
 "metadata": {
  "kernelspec": {
   "display_name": "Python 3",
   "language": "python",
   "name": "python3"
  },
  "language_info": {
   "codemirror_mode": {
    "name": "ipython",
    "version": 3
   },
   "file_extension": ".py",
   "mimetype": "text/x-python",
   "name": "python",
   "nbconvert_exporter": "python",
   "pygments_lexer": "ipython3",
   "version": "3.7.3"
  }
 },
 "nbformat": 4,
 "nbformat_minor": 2
}
