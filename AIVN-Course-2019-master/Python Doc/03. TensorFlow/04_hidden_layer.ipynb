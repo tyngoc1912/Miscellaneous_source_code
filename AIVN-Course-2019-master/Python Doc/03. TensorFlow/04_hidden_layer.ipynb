{
 "cells": [
  {
   "cell_type": "code",
   "execution_count": 1,
   "metadata": {},
   "outputs": [],
   "source": [
    "import tensorflow as tf\n",
    "import numpy as np"
   ]
  },
  {
   "cell_type": "code",
   "execution_count": 2,
   "metadata": {},
   "outputs": [],
   "source": [
    "x = tf.placeholder(tf.float32, (100, 784))"
   ]
  },
  {
   "cell_type": "code",
   "execution_count": 3,
   "metadata": {},
   "outputs": [],
   "source": [
    "W = tf.Variable(tf.random_uniform((784, 100), -1, 1))"
   ]
  },
  {
   "cell_type": "code",
   "execution_count": 4,
   "metadata": {},
   "outputs": [],
   "source": [
    "b = tf.Variable(tf.zeros((100)))"
   ]
  },
  {
   "attachments": {},
   "cell_type": "markdown",
   "metadata": {},
   "source": [
    "![image.png](https://camo.githubusercontent.com/00581f527afda0950bdce59379aaac5cbda86db9/68747470733a2f2f63616d6f2e67697468756275736572636f6e74656e742e636f6d2f363365383437306166313631656464356435343332366235303962663534343635633336393634392f36383734373437303733336132663266366336313734363537383265363336663634363536333666363737333265363336663664326637333736363732653663363137343635373833663563363936653663363936653635323637333730363136333635336236383236373337303631363336353362336432363733373036313633363533623532363534633535323835373738326236323239)"
   ]
  },
  {
   "cell_type": "code",
   "execution_count": 5,
   "metadata": {},
   "outputs": [],
   "source": [
    "h = tf.nn.relu(tf.matmul(x, W) + b)"
   ]
  },
  {
   "cell_type": "code",
   "execution_count": 6,
   "metadata": {},
   "outputs": [
    {
     "name": "stdout",
     "output_type": "stream",
     "text": [
      "Tensor(\"Relu:0\", shape=(100, 100), dtype=float32)\n"
     ]
    }
   ],
   "source": [
    "# Kiem tra chieu cua h\n",
    "print(h)"
   ]
  },
  {
   "cell_type": "code",
   "execution_count": 7,
   "metadata": {},
   "outputs": [],
   "source": [
    "sess = tf.Session()"
   ]
  },
  {
   "cell_type": "code",
   "execution_count": 9,
   "metadata": {},
   "outputs": [],
   "source": [
    "sess.run(tf.global_variables_initializer())"
   ]
  },
  {
   "cell_type": "markdown",
   "metadata": {},
   "source": [
    "### sess.run(fetches, feeds)\n",
    "\n",
    "**fetches**: Liệt kê tất cả các đỉnh (nodes) bạn muốn trả về giá trị, trong trường hợp này trả về giá trị của h\n",
    "\n",
    "**feeds**: một dictionary chứa tên biến đầu vào và giá trị của nó truyền vào trong Graph, ở đây có biến `x` và giá trị khởi tạo ngẫu nhiên bằng hàm np.random.random "
   ]
  },
  {
   "cell_type": "code",
   "execution_count": 13,
   "metadata": {},
   "outputs": [
    {
     "data": {
      "text/plain": [
       "array([[ 4.2531815 ,  0.6327939 , 11.90932   , ..., 10.250559  ,\n",
       "         0.        , 11.315559  ],\n",
       "       [ 8.0542345 ,  0.        ,  5.4802856 , ...,  0.77369356,\n",
       "         0.        , 10.170164  ],\n",
       "       [11.387554  ,  4.347645  , 11.174663  , ...,  4.6909113 ,\n",
       "         0.        ,  6.6854286 ],\n",
       "       ...,\n",
       "       [ 6.4445305 ,  0.71266747,  8.980605  , ...,  0.        ,\n",
       "         0.        ,  6.666956  ],\n",
       "       [ 6.519061  ,  0.        , 11.066954  , ...,  5.788389  ,\n",
       "         0.        ,  0.        ],\n",
       "       [ 4.5795603 ,  1.0886669 , 16.791021  , ...,  2.735126  ,\n",
       "         0.        ,  0.40302324]], dtype=float32)"
      ]
     },
     "execution_count": 13,
     "metadata": {},
     "output_type": "execute_result"
    }
   ],
   "source": [
    "sess.run(h, {x: np.random.random((100, 784))})"
   ]
  },
  {
   "cell_type": "code",
   "execution_count": null,
   "metadata": {},
   "outputs": [],
   "source": []
  }
 ],
 "metadata": {
  "kernelspec": {
   "display_name": "Python 3",
   "language": "python",
   "name": "python3"
  },
  "language_info": {
   "codemirror_mode": {
    "name": "ipython",
    "version": 3
   },
   "file_extension": ".py",
   "mimetype": "text/x-python",
   "name": "python",
   "nbconvert_exporter": "python",
   "pygments_lexer": "ipython3",
   "version": "3.7.3"
  }
 },
 "nbformat": 4,
 "nbformat_minor": 2
}
