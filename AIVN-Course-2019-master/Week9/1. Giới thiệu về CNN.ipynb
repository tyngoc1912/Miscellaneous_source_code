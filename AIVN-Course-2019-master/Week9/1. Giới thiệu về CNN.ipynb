{
 "cells": [
  {
   "cell_type": "markdown",
   "metadata": {},
   "source": [
    "### Giới thiệu về Convolutional Neural Networks \n",
    "\n",
    "Trong những năm gần đây, mạng Convolutional Neural Networks (CNN) đã làm thay đổi lớn ngành Computer Vision. Là 1 trong những mô hình Neural Networks tiên tiến. \n",
    "\n",
    "Ban đầu CNN được sử dụng hầu hết trong các vấn đề về sử lý ảnh như: chức năng nhận diện trên Facebook, sử dụng hình ảnh để tìm kiếm trên Google, ... Nhưng CNN ngày nay không chỉ giải quyết các vấn đề về xử lý ảnh, nó còn xử lý nhiều vấn đề khác: xử lý ngôn ngữ tự nhiên, phân tích cảm xúc, dịch thuật, hệ thống khuyến nghị... Chẳng hạn: Spotify và LINE sử dụng CNN cho hệ thống khuyến nghị.\n",
    "\n",
    "Series này sẽ giới thiệu chi tiết về CNN và sau đó sẽ có ví dụ minh hoạ sử dụng TensorFlow."
   ]
  },
  {
   "cell_type": "markdown",
   "metadata": {},
   "source": [
    "**Sau series này các bạn sẽ:**\n",
    "- Hiểu rõ về CNN \n",
    "- Đặc trưng của CNN \n",
    "- Thành phần của CNN\n",
    "    - Tầng Convolutional \n",
    "        - Filter \n",
    "        - 2D convolution \n",
    "        - Stride \n",
    "        - Padding \n",
    "        - Feature detector \n",
    "    - Tầng Activation - Hàm ReLU \n",
    "    - Tầng Pooling \n",
    "        - Max Pooling \n",
    "        - Average Pooling \n",
    "    - Tầng Fully Connected - Flattening \n",
    "- Có thể thực hành sử dụng CNN cho các bài toán xử lý ảnh."
   ]
  },
  {
   "cell_type": "markdown",
   "metadata": {},
   "source": [
    "### 1. Convolutional Neural Networks \n",
    "Khác với mạng Neural Networks thông thường, mạng CNN gồm nhiều tầng Convolutional (lớp tích chập) + Non-linear layer (RELU, ...), Pooling (lớp gộp) và cuối cùng là tầng Fully Connected. \n",
    "\n",
    "Thông thường, một ảnh sẽ được lan truyền qua tầng convolutional layer + Non-linear layer đầu tiên, sau đó các giá trị tính toán được sẽ lan truyền qua pooling layer, bộ ba convolutional layer + nonlinear layer + pooling layer có thể được lặp lại nhiều lần trong network. Và sau đó được lan truyền qua tầng fully connected layer và softmax để tính xác suất ảnh đó thuộc lớp nào.\n",
    "\n",
    "Hình ảnh minh hoạ:\n",
    "\n",
    "<img src=\"images/cnn.png\">"
   ]
  },
  {
   "cell_type": "markdown",
   "metadata": {},
   "source": [
    "### Cấu trúc cơ bản của CNN gồm:\n",
    "- Tầng Convolutional\n",
    "- Tầng Activation (ReLU)\n",
    "- Tầng Pooling (optional)\n",
    "- Tầng Fully Connected \n",
    "\n",
    "Trong tầng Convolution và Pooling, 1 phần của Neural đầu vào được thu hẹp và liên kết với các tầng tiếp theo. Cùng với các Filter giúp nhận diện được các đặc tính nào đó của ảnh. Nghĩa là: mỗi neural ở layer tiếp theo được sinh ra từ việc đặt Filter lên 1 vùng ảnh cục bộ của Neural layer trước.\n",
    "\n",
    "Trong 1 ví dụ về nhận diện xe oto như bên dưới, trong các tầng đầu tiên CNN sẽ giúp nhận diện viền của oto và trong các tầng tiếp theo sẽ nhận diện được các đặc trưng khác như: bánh xe, ...\n",
    "CNN sẽ tự động tìm các tham số và Filter trong quá trình học. "
   ]
  },
  {
   "cell_type": "markdown",
   "metadata": {},
   "source": [
    "<img src=\"images/cnn_2.png\">"
   ]
  },
  {
   "cell_type": "markdown",
   "metadata": {},
   "source": [
    "### 2. Đặc trưng của CNN\n",
    "3 điểm đặc biệt cần chú ý quan trọng trong CNN:\n",
    "- Convolution (tích chập)\n",
    "- Translation Invariance (bất biến)\n",
    "- Compositionality (kết hợp)\n",
    "\n"
   ]
  },
  {
   "cell_type": "markdown",
   "metadata": {},
   "source": [
    "#### 2.1 Convolution "
   ]
  },
  {
   "cell_type": "markdown",
   "metadata": {},
   "source": [
    "Convolution rất dễ hiểu nếu bạn nghĩ về nó như là một phép toán với ma trận.\n",
    "\n",
    "Ví dụ, xét ảnh xám (grayscale image). Chúng ta coi ảnh là 1 matrix như sau:\n",
    "\n",
    "<img src=\"images/con_digit.gif\">\n"
   ]
  },
  {
   "cell_type": "markdown",
   "metadata": {},
   "source": [
    "Để đơn giản hoá vấn đề, ta nén ảnh trên về ảnh có kích thước 5x5.\n",
    "<img src=\"images/con_1.jpg\">\n"
   ]
  },
  {
   "cell_type": "markdown",
   "metadata": {},
   "source": [
    "Xét bộ Filter có kích thước 3x3 như sau để thực hiện Convolution.\n",
    "\n",
    "<img src=\"images/con_2.jpg\">"
   ]
  },
  {
   "cell_type": "markdown",
   "metadata": {},
   "source": [
    "Hình ảnh ban đầu được nhân với Filter trượt từ trái sang phải, từ trên xuống dưới (Chú ý: nhân từng phần tử - phép element-wise). \n",
    "\n",
    "Vì Convolution được trượt theo cách này, nên đôi khi được coi như là 1 cửa sổ trượt (sliding window) áp lên một ma trận. \n",
    "\n",
    "<img src=\"images/con_3.gif\" style=\"width:500px;height:228px;\">"
   ]
  },
  {
   "cell_type": "markdown",
   "metadata": {},
   "source": [
    "Kết quả ta được 1 matrix chứa các đặc trưng của ảnh. "
   ]
  },
  {
   "cell_type": "markdown",
   "metadata": {},
   "source": [
    "#### 2.2 Translation Invariance\n",
    "\n",
    "Như trong ví dụ Convolution ở bên trên, Filter sẽ phát các đối tượng theo cục bộ. Vì vậy, có thể phát hiện được các đặc trưng từ đầu vào. (Cùng với tính kết hợp Compositionality - mạng sẽ cho ra kết quả là 1 đối tượng)\n",
    "\n",
    "-> Dù bạn có thay đổi theo một cách nào đó. Mạng CNN vẫn nhận ra được sự xuất hiện của đối tượng. \n",
    "\n",
    "Ví dụ: hình ảnh dưới đây được thay đổi theo nhiều góc độ khác nhau, nhưng bạn (hay mạng CNN) vẫn có thể nhận ra được cùng một đối tượng xuất hiện trong ảnh.\n",
    "\n",
    "<img src=\"images/translation_invariance.png\" style=\"width:300px;height:400px;\">"
   ]
  },
  {
   "cell_type": "markdown",
   "metadata": {},
   "source": [
    "#### 2.3 Compositionality\n",
    "\n",
    "Khi CNN hiểu được từng thành phần, nó sẽ kết hợp các thành phần này. Các tầng phía sau sẽ tìm được những đặc trưng chi tiết hơn.\n",
    "\n",
    "Ví dụ trong nhận diện giọng nói: tầng đầu tiên phát hiện sự thay đổi âm lượng và tần số, tầng tiếp theo kết hợp chúng để phát hiện tiếng ồn và giọng nói. Từ đó phát hiện chi tiết hơn âm thanh do nam hay nữ nói."
   ]
  }
 ],
 "metadata": {
  "kernelspec": {
   "display_name": "Python 3",
   "language": "python",
   "name": "python3"
  },
  "language_info": {
   "codemirror_mode": {
    "name": "ipython",
    "version": 3
   },
   "file_extension": ".py",
   "mimetype": "text/x-python",
   "name": "python",
   "nbconvert_exporter": "python",
   "pygments_lexer": "ipython3",
   "version": "3.7.3"
  }
 },
 "nbformat": 4,
 "nbformat_minor": 2
}
