{
 "cells": [
  {
   "cell_type": "code",
   "execution_count": 21,
   "metadata": {
    "pycharm": {
     "is_executing": false
    }
   },
   "outputs": [],
   "source": [
    "# Cho list data = [1, 2, 3, 4, 5, 6, 7, 8, 9].\n",
    "# Các giá trị trong list thể hiện điểm số của mỗi phần tử. \n",
    "# Phần tử đầu có điểm số nhỏ nhất là 1 và phần tử cuối có điểm số lớn nhất là 9."
   ]
  },
  {
   "cell_type": "code",
   "execution_count": 22,
   "metadata": {
    "pycharm": {
     "is_executing": false,
     "name": "#%%\n"
    }
   },
   "outputs": [],
   "source": [
    "import random\n",
    "import numpy as np\n",
    "import collections\n",
    "\n",
    "m = 1000\n",
    "\n",
    "list_data = np.array([1, 2, 3, 4, 5, 6, 7, 8, 9])\n",
    "\n",
    "result = np.random.choice(list_data, size=m, replace=True, p=list_data / list_data.sum())"
   ]
  },
  {
   "cell_type": "code",
   "execution_count": 23,
   "metadata": {
    "pycharm": {
     "is_executing": false
    }
   },
   "outputs": [
    {
     "name": "stdout",
     "text": [
      "Result: (array([1, 2, 3, 4, 5, 6, 7, 8, 9]), array([ 21,  52,  60, 101, 115, 128, 146, 172, 205]))\n"
     ],
     "output_type": "stream"
    }
   ],
   "source": [
    "# Đếm bằng np.unique trong thư viện numpy \n",
    "count_result = np.unique(result, return_counts=True)\n",
    "print('Result:', count_result)"
   ]
  },
  {
   "cell_type": "code",
   "execution_count": 24,
   "metadata": {
    "pycharm": {
     "is_executing": false
    }
   },
   "outputs": [
    {
     "name": "stdout",
     "text": [
      "Counter({9: 205, 8: 172, 7: 146, 6: 128, 5: 115, 4: 101, 3: 60, 2: 52, 1: 21})\n"
     ],
     "output_type": "stream"
    }
   ],
   "source": [
    "# Đếm bằng Counter trong thư viện collections \n",
    "print(collections.Counter(result))"
   ]
  },
  {
   "cell_type": "code",
   "execution_count": 24,
   "metadata": {
    "pycharm": {
     "is_executing": false
    }
   },
   "outputs": [],
   "source": []
  }
 ],
 "metadata": {
  "kernelspec": {
   "display_name": "Python 3",
   "language": "python",
   "name": "python3"
  },
  "language_info": {
   "codemirror_mode": {
    "name": "ipython",
    "version": 3
   },
   "file_extension": ".py",
   "mimetype": "text/x-python",
   "name": "python",
   "nbconvert_exporter": "python",
   "pygments_lexer": "ipython3",
   "version": "3.7.3"
  },
  "pycharm": {
   "stem_cell": {
    "cell_type": "raw",
    "metadata": {
     "collapsed": false
    },
    "source": []
   }
  }
 },
 "nbformat": 4,
 "nbformat_minor": 1
}