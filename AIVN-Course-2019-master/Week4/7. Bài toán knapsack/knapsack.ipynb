{
 "cells": [
  {
   "cell_type": "code",
   "execution_count": 1,
   "metadata": {
    "pycharm": {
     "is_executing": false
    }
   },
   "outputs": [
    {
     "name": "stdout",
     "text": [
      "cach cho do vao:  [0, 0, 0, 0, 0, 0, 1, 1, 1, 0, 0, 0]\nkhoi luong:  70\ngia tri:  101\n"
     ],
     "output_type": "stream"
    }
   ],
   "source": [
    "# phát biểu: có n = 12 vật có giá trị và cân nặng có trước\n",
    "# hãy để n vật này vào một cái túi có sức chứa tối đa max_weight = 70kg\n",
    "# sao cho giá trị trong chiếc túi là lớn nhất.\n",
    "\n",
    "import random\n",
    "\n",
    "n = 12   # so luong vat\n",
    "m = 1000  # so luong ca the trong quan the\n",
    "n_generations = 1000 # so doi\n",
    "fitnesses = []  # de ve do thi fitnesses\n",
    "max_weight = 70 # khối lượng tối đa cái túi có thể đựng được\n",
    "\n",
    "# cho truoc du lieu\n",
    "weights = [1, 2, 5, 7, 10, 12, 15, 23, 32, 33, 35, 37]  # can nang cac vat\n",
    "prices =  [1, 3, 6, 7, 12, 15, 25, 32, 44, 45, 47, 50]  # gia tri cua cac vat tuong ung\n",
    "\n",
    "# tao gia tri gen ngau nhien\n",
    "def generate_random_value():  \n",
    "    return random.randint(0, 1)   \n",
    "\n",
    "# tinh fitness\n",
    "def compute_fitness(individual):\n",
    "    fitness = sum(c*x for c, x in zip(individual, prices))\n",
    "\n",
    "    # kiem tra xem individual co vuot qua khoi luong khong\n",
    "    if compute_weight(individual) > max_weight:\n",
    "        # penalty\n",
    "        fitness /= 1000\n",
    "    \n",
    "    return fitness\n",
    "\n",
    "# tinh can nang\n",
    "def compute_weight(individual):\n",
    "    sum_weight = sum(c*x for c, x in zip(individual, weights))\n",
    "    return sum_weight\n",
    "\n",
    "# tao nhiem sac the\n",
    "def create_individual():\n",
    "    return [generate_random_value() for _ in range(n)]\n",
    "\n",
    "# lua chon\n",
    "def selection(sorted_population):\n",
    "    index1 = random.randint(0, m-1)\n",
    "    while True:\n",
    "        index2 = random.randint(0, m-1)\n",
    "        if index2 != index1:\n",
    "            break\n",
    "    individual = sorted_population[index1]\n",
    "    if index1 < index2:\n",
    "        individual = sorted_population[index2]\n",
    "    return individual\n",
    "\n",
    "# lai ghep\n",
    "def crossover(individual1, individual2, crossover_rate = 0.9):\n",
    "    individual_c1 = individual1.copy()\n",
    "    individual_c2 = individual2.copy()\n",
    "    if random.random() < crossover_rate:\n",
    "        index = random.randint(1, n - 2)\n",
    "        for i in range(index):\n",
    "            individual_c1[i] = individual2[i]\n",
    "            individual_c2[i] = individual1[i]\n",
    "    return individual_c1, individual_c2\n",
    "\n",
    "# dot bien\n",
    "def mutate(individual, mutation_rate = 0.05):\n",
    "    individual_new = individual.copy()\n",
    "    if random.random() < mutation_rate:\n",
    "        index = random.randint(0, n-1)\n",
    "        individual_new[index] = generate_random_value()\n",
    "    return individual_new\n",
    "\n",
    "# tao quan the moi\n",
    "def create_new_population(old_popuation):\n",
    "    sorted_old_popuation = sorted(old_popuation, key = compute_fitness)\n",
    "    fitnesses.append(compute_fitness(sorted_old_popuation[-1]))\n",
    "    #print('fitness', fitnesses[-1])\n",
    "\n",
    "    new_population = []\n",
    "    while len(new_population) < m - 2:\n",
    "        # chon loc\n",
    "        individual1 = selection(sorted_old_popuation)\n",
    "        individual2 = selection(sorted_old_popuation)\n",
    "\n",
    "        # lai ghep\n",
    "        individual_c1, individual_c2 = crossover(individual1, individual2)\n",
    "\n",
    "        # dot bien\n",
    "        individual_m1 = mutate(individual_c1)\n",
    "        individual_m2 = mutate(individual_c2)\n",
    "\n",
    "        # cho vao quan the moi\n",
    "        new_population.append(individual_m1)\n",
    "        new_population.append(individual_m2)\n",
    "        \n",
    "    new_population.append(sorted_old_popuation[-1])\n",
    "    new_population.append(sorted_old_popuation[-2])\n",
    "\n",
    "    return new_population\n",
    "\n",
    "# tao quan the ban dau\n",
    "population = [create_individual() for _ in range(m)]\n",
    "\n",
    "for _ in range(n_generations):\n",
    "    population = create_new_population(population)\n",
    "\n",
    "sorted_population = sorted(population, key = compute_fitness)\n",
    "print('cach cho do vao: ', sorted_population[-1])\n",
    "print('khoi luong: ', compute_weight(sorted_population[-1]))\n",
    "print('gia tri: ', compute_fitness(sorted_population[-1]))"
   ]
  },
  {
   "cell_type": "code",
   "execution_count": 1,
   "metadata": {
    "pycharm": {
     "is_executing": false
    }
   },
   "outputs": [],
   "source": []
  }
 ],
 "metadata": {
  "kernelspec": {
   "display_name": "Python 3",
   "language": "python",
   "name": "python3"
  },
  "language_info": {
   "codemirror_mode": {
    "name": "ipython",
    "version": 3
   },
   "file_extension": ".py",
   "mimetype": "text/x-python",
   "name": "python",
   "nbconvert_exporter": "python",
   "pygments_lexer": "ipython3",
   "version": "3.7.3"
  }
 },
 "nbformat": 4,
 "nbformat_minor": 2
}