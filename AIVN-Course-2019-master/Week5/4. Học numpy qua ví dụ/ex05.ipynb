{
 "cells": [
  {
   "cell_type": "markdown",
   "metadata": {},
   "source": [
    "Thay thế phần tử thoả mãn điều kiện cho trước bằng 1 một giá khác nhưng không thay đổi mảng ban đầu. Cho mảng một chiều có giá trị từ 0 đến 9, thay thế tất cả số chẵn bằng giá trị 11 nhưng mảng ban đầu không thay đổi.\n",
    "\n",
    "Đọc: https://docs.scipy.org/doc/numpy-1.15.0/reference/generated/numpy.where.html"
   ]
  },
  {
   "cell_type": "code",
   "execution_count": 1,
   "metadata": {},
   "outputs": [
    {
     "name": "stdout",
     "output_type": "stream",
     "text": [
      "[11  1 11  3 11  5 11  7 11  9]\n",
      "[0 1 2 3 4 5 6 7 8 9]\n"
     ]
    }
   ],
   "source": [
    "import numpy as np \n",
    "\n",
    "arr = np.arange(10)\n",
    "\n",
    "out = np.where(arr % 2 == 0, 11, arr)\n",
    "\n",
    "print(out)\n",
    "print(arr)"
   ]
  }
 ],
 "metadata": {
  "kernelspec": {
   "display_name": "Python 3",
   "language": "python",
   "name": "python3"
  },
  "language_info": {
   "codemirror_mode": {
    "name": "ipython",
    "version": 3
   },
   "file_extension": ".py",
   "mimetype": "text/x-python",
   "name": "python",
   "nbconvert_exporter": "python",
   "pygments_lexer": "ipython3",
   "version": "3.7.3"
  }
 },
 "nbformat": 4,
 "nbformat_minor": 2
}
