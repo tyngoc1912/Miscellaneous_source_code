{
 "cells": [
  {
   "cell_type": "markdown",
   "metadata": {},
   "source": [
    "## Programming Assignment: Linear Regression with One Variable \n",
    "\n",
    "Chào mừng các bạn đến với bài tập lập trình Linear Regression with One Variable (Hồi quy tuyến tính đơn biến). Trước khi thực hiện bài tập này, các bạn nên học kỹ các kiến thức lý thuyết. Nếu có bất kỳ câu hỏi hay vấn đề nào xảy ra, các bạn hãy để lại comment trực tiếp bên dưới bài đăng hoặc liên hệ qua Fanpage AIVIETNAM.\n",
    "\n",
    "Trong bài tập này, các bạn sẽ thực hiện dự đoán lợi nhuận từ việc bán hàng từ dân số trong thành phố. \n",
    "\n",
    "### Hướng dẫn làm bài \n",
    "- Trong bài tập này bạn sẽ sử dụng Python 3.\n",
    "- Cố gắng không sử dụng các vòng lặp (for, while). \n",
    "- Hãy sử dụng các hàm của thư viện numpy.\n",
    "- Sau khi bạn viết Code của mình xong, hãy chạy dòng Code đó để xem kết quả bên dưới. \n",
    "\n",
    "Các bạn sẽ bắt đầu Code trong phần `### START CODE HERE ###` và `### END CODE HERE ###`. Các bạn nhớ đừng sửa bất kỳ dòng Code nào bên ngoài những câu lệnh này. \n",
    "\n",
    "Sau khi viết xong Code của bạn, bạn hãy ấn \"SHIFT\"+\"ENTER\" để thực hiện chạy lệnh của Cell đó. \n",
    "\n",
    "Trong phần Code: các bạn hãy cố gắng thực hiện ít dòng Code nhất theo chỉ định \"(≈ X lines of code)\". Mặc dù đây không phải là hạn chế về số dòng Code của bạn, nhưng hãy tối ưu sao cho ít nhất có thể."
   ]
  },
  {
   "cell_type": "code",
   "execution_count": 1,
   "metadata": {},
   "outputs": [],
   "source": [
    "# Import thư viện \n",
    "%matplotlib inline\n",
    "import numpy as np\n",
    "import matplotlib.pyplot as plt\n",
    "import seaborn; seaborn.set_style(\"whitegrid\")"
   ]
  },
  {
   "cell_type": "markdown",
   "metadata": {},
   "source": [
    "### 1. Plotting the Data (Hiển thị dữ liệu)\n",
    "\n",
    "Trước khi thực hiện bất cứ nhiệm vụ nào, việc hiển thi dữ liệu và trực quan hoá sẽ giúp bạn phần nào hình dung được sự phân bố của dữ liệu."
   ]
  },
  {
   "cell_type": "code",
   "execution_count": 2,
   "metadata": {
    "scrolled": false
   },
   "outputs": [
    {
     "data": {
      "text/plain": [
       "(array([6.1101, 5.5277, 8.5186, 7.0032, 5.8598]),\n",
       " array([17.592 ,  9.1302, 13.662 , 11.854 ,  6.8233]))"
      ]
     },
     "execution_count": 2,
     "metadata": {},
     "output_type": "execute_result"
    }
   ],
   "source": [
    "# Import dữ liệu từ file .txt\n",
    "data = 'data/ex2data.txt'\n",
    "\n",
    "# Đọc file bằng hàm numpy.loadtxt\n",
    "x, y = np.loadtxt(data, delimiter=',', usecols=(0, 1), unpack=True)\n",
    "\n",
    "# Xem 5 giá trị đầu tiên \n",
    "x[:5], y[:5]"
   ]
  },
  {
   "cell_type": "markdown",
   "metadata": {},
   "source": [
    "Biểu đồ phân tán dữ liệu"
   ]
  },
  {
   "cell_type": "code",
   "execution_count": 3,
   "metadata": {},
   "outputs": [
    {
     "data": {
      "image/png": "[encoded data removed]",
      "text/plain": [
       "<Figure size 432x288 with 1 Axes>"
      ]
     },
     "metadata": {
      "needs_background": "light"
     },
     "output_type": "display_data"
    }
   ],
   "source": [
    "plt.scatter(x, y, marker='x', c='r', s=20)\n",
    "plt.xlabel(\"Population of City in 10,000s\")\n",
    "plt.ylabel(\"Profit in $10,000s\");"
   ]
  },
  {
   "cell_type": "markdown",
   "metadata": {},
   "source": [
    "Những dòng lệnh sau sử dụng thư viện **scikit-learn** để tìm ra kết quả bài toán. Các bạn không cần quá bận tâm về điều này, nó chỉ là một phép thử để xem kết quả chúng ta thực hiện đúng hay sai."
   ]
  },
  {
   "cell_type": "code",
   "execution_count": null,
   "metadata": {},
   "outputs": [],
   "source": [
    "from sklearn.linear_model import LinearRegression\n",
    "model = LinearRegression(fit_intercept=True)\n",
    "\n",
    "X = np.ones((len(x), 2))\n",
    "X[:,1] = x\n",
    "\n",
    "model.fit(X[:,1][:, np.newaxis], y)\n",
    "\n",
    "xfit = np.linspace(5, 23, 1000)\n",
    "yfit = model.predict(xfit[:, np.newaxis])\n",
    "\n",
    "plt.scatter(X[:,1], y, marker='x', c='r', s=20, label='data')\n",
    "plt.plot(xfit, yfit, label='h(x) = %0.2f + %0.2fx'%(model.intercept_, model.coef_[0]))\n",
    "plt.xlabel(\"Population of City in 10,000s\")\n",
    "plt.ylabel(\"Profit in $10,000s\")\n",
    "pst = plt.legend(loc='lower right', frameon=True)\n",
    "pst.get_frame().set_edgecolor('k');\n",
    "print(\"Model intercept: \", model.intercept_)\n",
    "print(\"Model slope:     \", model.coef_[0])"
   ]
  },
  {
   "cell_type": "markdown",
   "metadata": {},
   "source": [
    "### 2. Gradient Descent\n",
    "#### 2.1 Khởi tạo giá trị theta"
   ]
  },
  {
   "cell_type": "code",
   "execution_count": null,
   "metadata": {},
   "outputs": [],
   "source": [
    "iters = 3000\n",
    "learning_rate = 0.01\n",
    "\n",
    "# Khởi tạo theta0, theta1 ban đầu ngẫu nhiên \n",
    "# Hàm numpy.random.seed sẽ giúp kết quả random không thay đổi khi chạy lại \n",
    "np.random.seed(2020)\n",
    "\n",
    "# Sử dụng hàm numpy.random.randn()\n",
    "### START CODE HERE ### (≈ 2 line of code)\n",
    "theta0 = None\n",
    "theta1 = None\n",
    "### END CODE HERE ###"
   ]
  },
  {
   "cell_type": "code",
   "execution_count": null,
   "metadata": {},
   "outputs": [],
   "source": [
    "print('Theta 0: ', theta0)\n",
    "print('Theta 1: ', theta1)"
   ]
  },
  {
   "cell_type": "markdown",
   "metadata": {},
   "source": [
    "**Đầu ra kỳ vọng**: \n",
    "<table>\n",
    "    <tr> \n",
    "        <td> Theta 0: </td> \n",
    "        <td> -1.7688457055759508</td>\n",
    "    </tr>\n",
    "    <tr> \n",
    "        <td> Theta 1: </td> \n",
    "        <td> 0.07555227120810952</td> \n",
    "    </tr>\n",
    "</table> "
   ]
  },
  {
   "cell_type": "code",
   "execution_count": null,
   "metadata": {},
   "outputs": [],
   "source": [
    "# Đếm giá trị số lượng dữ liệu \n",
    "\n",
    "### START CODE HERE ### (≈ 1 line of code)\n",
    "m = None\n",
    "### END CODE HERE ###\n",
    "\n",
    "print('Số lượng: ', m)"
   ]
  },
  {
   "cell_type": "markdown",
   "metadata": {},
   "source": [
    "**Đầu ra kỳ vọng**: \n",
    "<table>\n",
    "    <tr> \n",
    "        <td> Số lượng: </td> \n",
    "        <td> 97 </td>\n",
    "    </tr>\n",
    "</table> "
   ]
  },
  {
   "cell_type": "markdown",
   "metadata": {},
   "source": [
    "#### 2.2 Tính Cost Function J(θ)\n",
    "\n",
    "<center>$J(\\theta_0, \\theta_1) = \\dfrac{1}{2m} \\sum_{i=1}^m {(h_{\\theta}(x_i) - y)^2} = \\dfrac{1}{2m} \\sum_{i=1}^m {((\\theta_0 + \\theta_1{x}) - y)^2}$</center>\n",
    "\n",
    "Gợi ý: sử dụng hàm `numpy.sum` để tính tổng "
   ]
  },
  {
   "cell_type": "code",
   "execution_count": null,
   "metadata": {},
   "outputs": [],
   "source": [
    "def cost_function(x, y, theta0, theta1):\n",
    "    \n",
    "    ### START CODE HERE ### (≈ 1 line of code)\n",
    "    total_error = None\n",
    "    ### END CODE HERE ###\n",
    "\n",
    "    return total_error"
   ]
  },
  {
   "cell_type": "code",
   "execution_count": null,
   "metadata": {},
   "outputs": [],
   "source": [
    "# Với 2 giá trị theta0, theta1 random theo như ở trên \n",
    "cost_function(x, y, theta0, theta1)"
   ]
  },
  {
   "cell_type": "markdown",
   "metadata": {},
   "source": [
    "**Đầu ra kỳ vọng**: \n",
    "<table>\n",
    "    <tr> \n",
    "        <td>total_error: 38.171782006110064 </td> \n",
    "    </tr>\n",
    "</table> "
   ]
  },
  {
   "cell_type": "markdown",
   "metadata": {},
   "source": [
    "#### 2.3 Gradient Descent\n",
    "\n",
    "Cập nhật tham số (weight)\n",
    "\n",
    "> $\\theta_0 := \\theta_0 - \\alpha \\dfrac{1}{m} \\sum_{i=1}^m {(h_{\\theta}(x_i) - y)} $\n",
    ">\n",
    "> $\\theta_1 := \\theta_1 - \\alpha \\dfrac{1}{m} \\sum_{i=1}^m {((h_{\\theta}(x_i) - y)*x_i)} $\n"
   ]
  },
  {
   "cell_type": "code",
   "execution_count": null,
   "metadata": {},
   "outputs": [],
   "source": [
    "def update_weights(x, y, theta0, theta1, learning_rate):\n",
    "\n",
    "    theta0_deriv = 0\n",
    "    theta1_deriv = 0\n",
    "    \n",
    "    # Thực hiện tính đạo hàm và Sum trước\n",
    "    for i in range(m):\n",
    "    ### START CODE HERE ### (≈ 2 line of code)    \n",
    "        theta0_deriv += None\n",
    "        theta1_deriv += None\n",
    "    ### END CODE HERE ###\n",
    "    \n",
    "    # Thực hiện di chuyển ngược dấu đạo hàm \n",
    "    \n",
    "    ### START CODE HERE ### (≈ 2 line of code) \n",
    "    theta0 -= None\n",
    "    theta1 -= None\n",
    "    ### END CODE HERE ###\n",
    "\n",
    "    return theta0, theta1"
   ]
  },
  {
   "cell_type": "code",
   "execution_count": null,
   "metadata": {},
   "outputs": [],
   "source": [
    "update_weights(x, y, theta0, theta1, learning_rate)"
   ]
  },
  {
   "cell_type": "markdown",
   "metadata": {},
   "source": [
    "**Đầu ra kỳ vọng**: \n",
    "<table>\n",
    "    <tr> \n",
    "        <td> theta0: -1.6989308122307667 </td> \n",
    "    </tr>\n",
    "    <tr> \n",
    "        <td> theta1: 0.8116725128922441 </td> \n",
    "    </tr> \n",
    "</table> "
   ]
  },
  {
   "cell_type": "markdown",
   "metadata": {},
   "source": [
    "### 3 Thực hiện train"
   ]
  },
  {
   "cell_type": "code",
   "execution_count": null,
   "metadata": {},
   "outputs": [],
   "source": [
    "def train(x, y, theta0, theta1, learning_rate, iters):\n",
    "    cost_history = []\n",
    "\n",
    "    for i in range(iters):\n",
    "        \n",
    "        ### START CODE HERE ### (≈ 1 line of code) \n",
    "        theta0, theta1 = None\n",
    "        ### END CODE HERE ###\n",
    "        \n",
    "        # Tính hàm cost\n",
    "        \n",
    "        ### START CODE HERE ### (≈ 1 line of code)\n",
    "        cost = None\n",
    "        ### END CODE HERE ###\n",
    "        \n",
    "        # Lưu giá trị cost\n",
    "        cost_history.append(cost)\n",
    "\n",
    "    return theta0, theta1, cost_history"
   ]
  },
  {
   "cell_type": "markdown",
   "metadata": {},
   "source": [
    "Train: "
   ]
  },
  {
   "cell_type": "code",
   "execution_count": null,
   "metadata": {},
   "outputs": [],
   "source": [
    "### START CODE HERE ### (≈ 1 line of code)\n",
    "theta0, theta1, cost_history = None\n",
    "### END CODE HERE ###\n",
    "\n",
    "# Hiển thị giá trị theta0, theta1 học được sau quá trình train\n",
    "print('h(x) = %0.2f + %0.2fx'%(theta0, theta1))"
   ]
  },
  {
   "cell_type": "markdown",
   "metadata": {},
   "source": [
    "**Đầu ra kỳ vọng**: \n",
    "<table>\n",
    "    <tr> \n",
    "        <td> h(x) = -3.89 + 1.19x </td> \n",
    "    </tr>\n",
    "</table> "
   ]
  },
  {
   "cell_type": "code",
   "execution_count": null,
   "metadata": {},
   "outputs": [],
   "source": [
    "# Vẽ hàm lỗi \n",
    "plt.plot(cost_history)"
   ]
  },
  {
   "cell_type": "code",
   "execution_count": null,
   "metadata": {},
   "outputs": [],
   "source": [
    "# Đường thẳng linear regression tìm được sau khi huấn luyện\n",
    "plt.scatter(x, y, marker='x', c='r', s=20, label='data')\n",
    "plt.plot(xfit, yfit, label='h(x) = %0.2f + %0.2fx'%(theta0, theta1))\n",
    "plt.xlabel(\"Population of City in 10,000s\")\n",
    "plt.ylabel(\"Profit in $10,000s\")\n",
    "pst = plt.legend(loc='lower right', frameon=True)\n",
    "pst.get_frame().set_edgecolor('k');"
   ]
  },
  {
   "cell_type": "markdown",
   "metadata": {
    "scrolled": true
   },
   "source": [
    "### 4. Thực hiện dự đoán \n",
    "\n",
    "Hàm dự đoán: \n",
    "<center>$\\hat{y} = h_{\\theta}(x) = \\theta_0 + \\theta_1{x}$ </center>"
   ]
  },
  {
   "cell_type": "code",
   "execution_count": null,
   "metadata": {},
   "outputs": [],
   "source": [
    "def predict(x, theta0, theta1):\n",
    "    \n",
    "    ### START CODE HERE ### (≈ 1 line of code)\n",
    "    y_hat = None\n",
    "    ### END CODE HERE ###\n",
    "    \n",
    "    return y_hat"
   ]
  },
  {
   "cell_type": "markdown",
   "metadata": {},
   "source": [
    "Thực hiện dự đoán doanh thu ở thành phố có 35000 và 70000 dân !"
   ]
  },
  {
   "cell_type": "code",
   "execution_count": null,
   "metadata": {},
   "outputs": [],
   "source": [
    "print(\"Profit for pop. 35000: %0.2f\"%(predict(3.5, theta0, theta1)*10000))\n",
    "print(\"Profit for pop. 70000: %0.2f\"%(predict(7, theta0, theta1)*10000))"
   ]
  },
  {
   "cell_type": "markdown",
   "metadata": {},
   "source": [
    "**Đầu ra kỳ vọng**: \n",
    "<table>\n",
    "    <tr> \n",
    "        <td> Profit for pop. 35000: 2862.47 </td> \n",
    "    </tr>\n",
    "    <tr> \n",
    "        <td> Profit for pop. 70000: 44583.89 </td> \n",
    "    </tr> \n",
    "</table> "
   ]
  },
  {
   "cell_type": "markdown",
   "metadata": {},
   "source": [
    "### 5. Visualizing J(θ)\n",
    "\n",
    "Trực quan hoá Cost Function"
   ]
  },
  {
   "cell_type": "code",
   "execution_count": null,
   "metadata": {},
   "outputs": [],
   "source": [
    "# Tạo Grid để tính giá trị Cost \n",
    "theta0_vals = np.linspace(-10, 10, 80)\n",
    "theta1_vals = np.linspace(-1, 4, 80)\n",
    "\n",
    "# Khởi tạo J_vals thành matrix 0\n",
    "J_vals = np.zeros((len(theta0_vals), len(theta1_vals)))\n",
    "\n",
    "# Điền giá trị vào J_vals\n",
    "for i in np.arange(theta0_vals.size):\n",
    "    for j in np.arange(theta1_vals.size):\n",
    "        J_vals[i, j] = cost_function(x, y, theta0_vals[i], theta1_vals[j])"
   ]
  },
  {
   "cell_type": "code",
   "execution_count": null,
   "metadata": {},
   "outputs": [],
   "source": [
    "from mpl_toolkits.mplot3d import Axes3D\n",
    "\n",
    "fig = plt.figure(figsize=(14, 5))\n",
    "fig.subplots_adjust(wspace=0.3)\n",
    "ax1 = fig.add_subplot(121, projection='3d')\n",
    "ax2 = fig.add_subplot(122)\n",
    "\n",
    "theta_0, theta_1 = np.meshgrid(theta0_vals, theta1_vals)\n",
    "\n",
    "# Surface plot:\n",
    "ax1.set_title('Surface plot')\n",
    "ax1.plot_surface(theta_1, theta_0, J_vals.T, cmap='jet', rstride=3, cstride=3, antialiased=True)\n",
    "ax1.view_init(elev=20, azim=318)\n",
    "ax1.set_xlabel(r'$\\theta_1$', labelpad=8)\n",
    "ax1.set_xlim(4,-1)\n",
    "ax1.set_ylabel(r'$\\theta_0$', labelpad=8)\n",
    "ax1.set_yticks(np.linspace(-10, 10, 5))\n",
    "ax1.set_zlabel(r'$J(\\theta)$', labelpad=8);\n",
    "\n",
    "# Contour plot:\n",
    "ax2.set_title('Contour plot, showing minimum')\n",
    "ax2.contour(theta_0, theta_1, J_vals.T, np.logspace(-2, 3, 20),  cmap='jet')\n",
    "ax2.scatter(theta0, theta1, marker='x', color='r', s=40)\n",
    "ax2.set_xlabel(r'$\\theta_0$')\n",
    "ax2.set_ylabel(r'$\\theta_1$')\n",
    "ax2.set_yticks(np.arange(-1,4.5,0.5));"
   ]
  },
  {
   "cell_type": "markdown",
   "metadata": {},
   "source": [
    "**Đầu ra kỳ vọng:**\n",
    "\n",
    "<img src=\"data/vi-J.png\" style=\"width:60%;height:60%;\">\n"
   ]
  },
  {
   "cell_type": "markdown",
   "metadata": {},
   "source": [
    "### Tổng kết\n",
    "\n",
    "Thông qua bài tập này, các bạn đã nắm vững các kiến thức về:\n",
    "\n",
    "- Linear Regression with One Variable (Hồi quy tuyến tính đơn biến)\n",
    "- Gradient Descent cho hàm đơn biến\n",
    "- Tính Cost Function J(θ)\n",
    "\n",
    "\n",
    "Các bạn hãy cố gắng sử dụng hàm của thư viện numpy để việc tính toán dễ dàng hơn.\n",
    "\n",
    "Với hàm đơn biến, việc tính toán còn đơn giản. Trong bài tiếp theo, chúng ta sẽ thực hiện trên hàm đa biến và thực hiện vecto hoá dữ liệu. "
   ]
  },
  {
   "cell_type": "markdown",
   "metadata": {},
   "source": [
    "### Tài liệu tham khảo \n",
    "\n",
    "[1] [Machine Learning – Programming: Linear Regression](http://codewithmax.com/2017/09/21/machine-learning-programming-exercise-1-linear-regression/)"
   ]
  }
 ],
 "metadata": {
  "kernelspec": {
   "display_name": "Python 3",
   "language": "python",
   "name": "python3"
  },
  "language_info": {
   "codemirror_mode": {
    "name": "ipython",
    "version": 3
   },
   "file_extension": ".py",
   "mimetype": "text/x-python",
   "name": "python",
   "nbconvert_exporter": "python",
   "pygments_lexer": "ipython3",
   "version": "3.7.3"
  }
 },
 "nbformat": 4,
 "nbformat_minor": 2
}
