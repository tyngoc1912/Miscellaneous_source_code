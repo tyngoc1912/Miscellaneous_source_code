{
 "cells": [
  {
   "cell_type": "code",
   "execution_count": 1,
   "id": "8330db69",
   "metadata": {},
   "outputs": [],
   "source": [
    "import numpy as np\n",
    "import matplotlib.pyplot as plt\n",
    "import pandas as pd"
   ]
  },
  {
   "cell_type": "code",
   "execution_count": 2,
   "id": "cd369003",
   "metadata": {
    "scrolled": true
   },
   "outputs": [
    {
     "name": "stdout",
     "output_type": "stream",
     "text": [
      "(918, 12)\n"
     ]
    },
    {
     "data": {
      "text/html": [
       "<div>\n",
       "<style scoped>\n",
       "    .dataframe tbody tr th:only-of-type {\n",
       "        vertical-align: middle;\n",
       "    }\n",
       "\n",
       "    .dataframe tbody tr th {\n",
       "        vertical-align: top;\n",
       "    }\n",
       "\n",
       "    .dataframe thead th {\n",
       "        text-align: right;\n",
       "    }\n",
       "</style>\n",
       "<table border=\"1\" class=\"dataframe\">\n",
       "  <thead>\n",
       "    <tr style=\"text-align: right;\">\n",
       "      <th></th>\n",
       "      <th>Age</th>\n",
       "      <th>Sex</th>\n",
       "      <th>ChestPainType</th>\n",
       "      <th>RestingBP</th>\n",
       "      <th>Cholesterol</th>\n",
       "      <th>FastingBS</th>\n",
       "      <th>RestingECG</th>\n",
       "      <th>MaxHR</th>\n",
       "      <th>ExerciseAngina</th>\n",
       "      <th>Oldpeak</th>\n",
       "      <th>ST_Slope</th>\n",
       "      <th>HeartDisease</th>\n",
       "    </tr>\n",
       "  </thead>\n",
       "  <tbody>\n",
       "    <tr>\n",
       "      <th>0</th>\n",
       "      <td>40</td>\n",
       "      <td>M</td>\n",
       "      <td>ATA</td>\n",
       "      <td>140</td>\n",
       "      <td>289</td>\n",
       "      <td>0</td>\n",
       "      <td>Normal</td>\n",
       "      <td>172</td>\n",
       "      <td>N</td>\n",
       "      <td>0.0</td>\n",
       "      <td>Up</td>\n",
       "      <td>0</td>\n",
       "    </tr>\n",
       "    <tr>\n",
       "      <th>1</th>\n",
       "      <td>49</td>\n",
       "      <td>F</td>\n",
       "      <td>NAP</td>\n",
       "      <td>160</td>\n",
       "      <td>180</td>\n",
       "      <td>0</td>\n",
       "      <td>Normal</td>\n",
       "      <td>156</td>\n",
       "      <td>N</td>\n",
       "      <td>1.0</td>\n",
       "      <td>Flat</td>\n",
       "      <td>1</td>\n",
       "    </tr>\n",
       "    <tr>\n",
       "      <th>2</th>\n",
       "      <td>37</td>\n",
       "      <td>M</td>\n",
       "      <td>ATA</td>\n",
       "      <td>130</td>\n",
       "      <td>283</td>\n",
       "      <td>0</td>\n",
       "      <td>ST</td>\n",
       "      <td>98</td>\n",
       "      <td>N</td>\n",
       "      <td>0.0</td>\n",
       "      <td>Up</td>\n",
       "      <td>0</td>\n",
       "    </tr>\n",
       "    <tr>\n",
       "      <th>3</th>\n",
       "      <td>48</td>\n",
       "      <td>F</td>\n",
       "      <td>ASY</td>\n",
       "      <td>138</td>\n",
       "      <td>214</td>\n",
       "      <td>0</td>\n",
       "      <td>Normal</td>\n",
       "      <td>108</td>\n",
       "      <td>Y</td>\n",
       "      <td>1.5</td>\n",
       "      <td>Flat</td>\n",
       "      <td>1</td>\n",
       "    </tr>\n",
       "    <tr>\n",
       "      <th>4</th>\n",
       "      <td>54</td>\n",
       "      <td>M</td>\n",
       "      <td>NAP</td>\n",
       "      <td>150</td>\n",
       "      <td>195</td>\n",
       "      <td>0</td>\n",
       "      <td>Normal</td>\n",
       "      <td>122</td>\n",
       "      <td>N</td>\n",
       "      <td>0.0</td>\n",
       "      <td>Up</td>\n",
       "      <td>0</td>\n",
       "    </tr>\n",
       "  </tbody>\n",
       "</table>\n",
       "</div>"
      ],
      "text/plain": [
       "   Age Sex ChestPainType  RestingBP  Cholesterol  FastingBS RestingECG  MaxHR  \\\n",
       "0   40   M           ATA        140          289          0     Normal    172   \n",
       "1   49   F           NAP        160          180          0     Normal    156   \n",
       "2   37   M           ATA        130          283          0         ST     98   \n",
       "3   48   F           ASY        138          214          0     Normal    108   \n",
       "4   54   M           NAP        150          195          0     Normal    122   \n",
       "\n",
       "  ExerciseAngina  Oldpeak ST_Slope  HeartDisease  \n",
       "0              N      0.0       Up             0  \n",
       "1              N      1.0     Flat             1  \n",
       "2              N      0.0       Up             0  \n",
       "3              Y      1.5     Flat             1  \n",
       "4              N      0.0       Up             0  "
      ]
     },
     "execution_count": 2,
     "metadata": {},
     "output_type": "execute_result"
    }
   ],
   "source": [
    "data = pd.read_csv('heart.csv')\n",
    "print(data.shape)\n",
    "data.head()"
   ]
  },
  {
   "cell_type": "code",
   "execution_count": null,
   "id": "217af00e",
   "metadata": {},
   "outputs": [],
   "source": []
  },
  {
   "cell_type": "code",
   "execution_count": 3,
   "id": "7643445d",
   "metadata": {},
   "outputs": [],
   "source": [
    "X = data.iloc[:,:-1]\n",
    "y = data.iloc[:,-1]"
   ]
  },
  {
   "cell_type": "code",
   "execution_count": 4,
   "id": "99b8795a",
   "metadata": {},
   "outputs": [],
   "source": [
    "from sklearn.model_selection import train_test_split\n",
    "X_train,X_test,y_train,y_test = train_test_split(X,y,test_size=0.2,random_state=0)"
   ]
  },
  {
   "cell_type": "code",
   "execution_count": 5,
   "id": "6d30496a",
   "metadata": {},
   "outputs": [],
   "source": [
    "categorical_cols = data.select_dtypes(include = ['object_'])\n",
    "categorical_cols_names = categorical_cols.keys()\n",
    "\n",
    "num_cols = data.select_dtypes(include = ['integer'])\n",
    "num_cols_names = num_cols.keys()\n",
    "\n"
   ]
  },
  {
   "cell_type": "code",
   "execution_count": 6,
   "id": "cd4111b5",
   "metadata": {},
   "outputs": [
    {
     "name": "stdout",
     "output_type": "stream",
     "text": [
      "    Sex ChestPainType RestingECG ExerciseAngina ST_Slope\n",
      "0     M           ATA     Normal              N       Up\n",
      "1     F           NAP     Normal              N     Flat\n",
      "2     M           ATA         ST              N       Up\n",
      "3     F           ASY     Normal              Y     Flat\n",
      "4     M           NAP     Normal              N       Up\n",
      "..   ..           ...        ...            ...      ...\n",
      "913   M            TA     Normal              N     Flat\n",
      "914   M           ASY     Normal              N     Flat\n",
      "915   M           ASY     Normal              Y     Flat\n",
      "916   F           ATA        LVH              N     Flat\n",
      "917   M           NAP     Normal              N       Up\n",
      "\n",
      "[918 rows x 5 columns]\n"
     ]
    }
   ],
   "source": [
    "print(categorical_cols)"
   ]
  },
  {
   "cell_type": "code",
   "execution_count": 7,
   "id": "4db4941a",
   "metadata": {},
   "outputs": [
    {
     "name": "stdout",
     "output_type": "stream",
     "text": [
      "Index(['Sex', 'ChestPainType', 'RestingECG', 'ExerciseAngina', 'ST_Slope'], dtype='object')\n"
     ]
    }
   ],
   "source": [
    "print(categorical_cols_names)"
   ]
  },
  {
   "cell_type": "code",
   "execution_count": 8,
   "id": "44d2ef46",
   "metadata": {},
   "outputs": [
    {
     "name": "stdout",
     "output_type": "stream",
     "text": [
      "     Age  RestingBP  Cholesterol  FastingBS  MaxHR  HeartDisease\n",
      "0     40        140          289          0    172             0\n",
      "1     49        160          180          0    156             1\n",
      "2     37        130          283          0     98             0\n",
      "3     48        138          214          0    108             1\n",
      "4     54        150          195          0    122             0\n",
      "..   ...        ...          ...        ...    ...           ...\n",
      "913   45        110          264          0    132             1\n",
      "914   68        144          193          1    141             1\n",
      "915   57        130          131          0    115             1\n",
      "916   57        130          236          0    174             1\n",
      "917   38        138          175          0    173             0\n",
      "\n",
      "[918 rows x 6 columns]\n"
     ]
    }
   ],
   "source": [
    "print(num_cols)"
   ]
  },
  {
   "cell_type": "code",
   "execution_count": 9,
   "id": "11dd19b0",
   "metadata": {},
   "outputs": [
    {
     "name": "stdout",
     "output_type": "stream",
     "text": [
      "Index(['Age', 'RestingBP', 'Cholesterol', 'FastingBS', 'MaxHR',\n",
      "       'HeartDisease'],\n",
      "      dtype='object')\n"
     ]
    }
   ],
   "source": [
    "print(num_cols_names)"
   ]
  },
  {
   "cell_type": "code",
   "execution_count": 10,
   "id": "135168e8",
   "metadata": {},
   "outputs": [
    {
     "name": "stdout",
     "output_type": "stream",
     "text": [
      "        Sex ChestPainType RestingECG ExerciseAngina ST_Slope\n",
      "count   918           918        918            918      918\n",
      "unique    2             4          3              2        3\n",
      "top       M           ASY     Normal              N     Flat\n",
      "freq    725           496        552            547      460\n"
     ]
    }
   ],
   "source": [
    "print(categorical_cols.describe())"
   ]
  },
  {
   "cell_type": "code",
   "execution_count": 11,
   "id": "6c195a7c",
   "metadata": {},
   "outputs": [
    {
     "name": "stdout",
     "output_type": "stream",
     "text": [
      "    Sex ExerciseAngina\n",
      "0     M              N\n",
      "1     F              N\n",
      "2     M              N\n",
      "3     F              Y\n",
      "4     M              N\n",
      "..   ..            ...\n",
      "913   M              N\n",
      "914   M              N\n",
      "915   M              Y\n",
      "916   F              N\n",
      "917   M              N\n",
      "\n",
      "[918 rows x 2 columns]\n"
     ]
    }
   ],
   "source": [
    "tobe_labelencoded = list(i for i in categorical_cols_names if categorical_cols[i].nunique() == 2)\n",
    "print(X[tobe_labelencoded])"
   ]
  },
  {
   "cell_type": "code",
   "execution_count": 12,
   "id": "81e09344",
   "metadata": {},
   "outputs": [],
   "source": [
    "from sklearn.preprocessing import LabelEncoder,OneHotEncoder,StandardScaler"
   ]
  },
  {
   "cell_type": "code",
   "execution_count": 13,
   "id": "36a9807b",
   "metadata": {},
   "outputs": [
    {
     "data": {
      "text/html": [
       "<div>\n",
       "<style scoped>\n",
       "    .dataframe tbody tr th:only-of-type {\n",
       "        vertical-align: middle;\n",
       "    }\n",
       "\n",
       "    .dataframe tbody tr th {\n",
       "        vertical-align: top;\n",
       "    }\n",
       "\n",
       "    .dataframe thead th {\n",
       "        text-align: right;\n",
       "    }\n",
       "</style>\n",
       "<table border=\"1\" class=\"dataframe\">\n",
       "  <thead>\n",
       "    <tr style=\"text-align: right;\">\n",
       "      <th></th>\n",
       "      <th>Age</th>\n",
       "      <th>Sex</th>\n",
       "      <th>ChestPainType</th>\n",
       "      <th>RestingBP</th>\n",
       "      <th>Cholesterol</th>\n",
       "      <th>FastingBS</th>\n",
       "      <th>RestingECG</th>\n",
       "      <th>MaxHR</th>\n",
       "      <th>ExerciseAngina</th>\n",
       "      <th>Oldpeak</th>\n",
       "      <th>ST_Slope</th>\n",
       "    </tr>\n",
       "  </thead>\n",
       "  <tbody>\n",
       "    <tr>\n",
       "      <th>0</th>\n",
       "      <td>-1.433140</td>\n",
       "      <td>M</td>\n",
       "      <td>ATA</td>\n",
       "      <td>0.410909</td>\n",
       "      <td>0.825070</td>\n",
       "      <td>-0.551341</td>\n",
       "      <td>Normal</td>\n",
       "      <td>1.382928</td>\n",
       "      <td>N</td>\n",
       "      <td>0.0</td>\n",
       "      <td>Up</td>\n",
       "    </tr>\n",
       "    <tr>\n",
       "      <th>1</th>\n",
       "      <td>-0.478484</td>\n",
       "      <td>F</td>\n",
       "      <td>NAP</td>\n",
       "      <td>1.491752</td>\n",
       "      <td>-0.171961</td>\n",
       "      <td>-0.551341</td>\n",
       "      <td>Normal</td>\n",
       "      <td>0.754157</td>\n",
       "      <td>N</td>\n",
       "      <td>1.0</td>\n",
       "      <td>Flat</td>\n",
       "    </tr>\n",
       "    <tr>\n",
       "      <th>2</th>\n",
       "      <td>-1.751359</td>\n",
       "      <td>M</td>\n",
       "      <td>ATA</td>\n",
       "      <td>-0.129513</td>\n",
       "      <td>0.770188</td>\n",
       "      <td>-0.551341</td>\n",
       "      <td>ST</td>\n",
       "      <td>-1.525138</td>\n",
       "      <td>N</td>\n",
       "      <td>0.0</td>\n",
       "      <td>Up</td>\n",
       "    </tr>\n",
       "    <tr>\n",
       "      <th>3</th>\n",
       "      <td>-0.584556</td>\n",
       "      <td>F</td>\n",
       "      <td>ASY</td>\n",
       "      <td>0.302825</td>\n",
       "      <td>0.139040</td>\n",
       "      <td>-0.551341</td>\n",
       "      <td>Normal</td>\n",
       "      <td>-1.132156</td>\n",
       "      <td>Y</td>\n",
       "      <td>1.5</td>\n",
       "      <td>Flat</td>\n",
       "    </tr>\n",
       "    <tr>\n",
       "      <th>4</th>\n",
       "      <td>0.051881</td>\n",
       "      <td>M</td>\n",
       "      <td>NAP</td>\n",
       "      <td>0.951331</td>\n",
       "      <td>-0.034755</td>\n",
       "      <td>-0.551341</td>\n",
       "      <td>Normal</td>\n",
       "      <td>-0.581981</td>\n",
       "      <td>N</td>\n",
       "      <td>0.0</td>\n",
       "      <td>Up</td>\n",
       "    </tr>\n",
       "    <tr>\n",
       "      <th>...</th>\n",
       "      <td>...</td>\n",
       "      <td>...</td>\n",
       "      <td>...</td>\n",
       "      <td>...</td>\n",
       "      <td>...</td>\n",
       "      <td>...</td>\n",
       "      <td>...</td>\n",
       "      <td>...</td>\n",
       "      <td>...</td>\n",
       "      <td>...</td>\n",
       "      <td>...</td>\n",
       "    </tr>\n",
       "    <tr>\n",
       "      <th>913</th>\n",
       "      <td>-0.902775</td>\n",
       "      <td>M</td>\n",
       "      <td>TA</td>\n",
       "      <td>-1.210356</td>\n",
       "      <td>0.596393</td>\n",
       "      <td>-0.551341</td>\n",
       "      <td>Normal</td>\n",
       "      <td>-0.188999</td>\n",
       "      <td>N</td>\n",
       "      <td>1.2</td>\n",
       "      <td>Flat</td>\n",
       "    </tr>\n",
       "    <tr>\n",
       "      <th>914</th>\n",
       "      <td>1.536902</td>\n",
       "      <td>M</td>\n",
       "      <td>ASY</td>\n",
       "      <td>0.627078</td>\n",
       "      <td>-0.053049</td>\n",
       "      <td>1.813758</td>\n",
       "      <td>Normal</td>\n",
       "      <td>0.164684</td>\n",
       "      <td>N</td>\n",
       "      <td>3.4</td>\n",
       "      <td>Flat</td>\n",
       "    </tr>\n",
       "    <tr>\n",
       "      <th>915</th>\n",
       "      <td>0.370100</td>\n",
       "      <td>M</td>\n",
       "      <td>ASY</td>\n",
       "      <td>-0.129513</td>\n",
       "      <td>-0.620168</td>\n",
       "      <td>-0.551341</td>\n",
       "      <td>Normal</td>\n",
       "      <td>-0.857069</td>\n",
       "      <td>Y</td>\n",
       "      <td>1.2</td>\n",
       "      <td>Flat</td>\n",
       "    </tr>\n",
       "    <tr>\n",
       "      <th>916</th>\n",
       "      <td>0.370100</td>\n",
       "      <td>F</td>\n",
       "      <td>ATA</td>\n",
       "      <td>-0.129513</td>\n",
       "      <td>0.340275</td>\n",
       "      <td>-0.551341</td>\n",
       "      <td>LVH</td>\n",
       "      <td>1.461525</td>\n",
       "      <td>N</td>\n",
       "      <td>0.0</td>\n",
       "      <td>Flat</td>\n",
       "    </tr>\n",
       "    <tr>\n",
       "      <th>917</th>\n",
       "      <td>-1.645286</td>\n",
       "      <td>M</td>\n",
       "      <td>NAP</td>\n",
       "      <td>0.302825</td>\n",
       "      <td>-0.217696</td>\n",
       "      <td>-0.551341</td>\n",
       "      <td>Normal</td>\n",
       "      <td>1.422226</td>\n",
       "      <td>N</td>\n",
       "      <td>0.0</td>\n",
       "      <td>Up</td>\n",
       "    </tr>\n",
       "  </tbody>\n",
       "</table>\n",
       "<p>918 rows × 11 columns</p>\n",
       "</div>"
      ],
      "text/plain": [
       "          Age Sex ChestPainType  RestingBP  Cholesterol  FastingBS RestingECG  \\\n",
       "0   -1.433140   M           ATA   0.410909     0.825070  -0.551341     Normal   \n",
       "1   -0.478484   F           NAP   1.491752    -0.171961  -0.551341     Normal   \n",
       "2   -1.751359   M           ATA  -0.129513     0.770188  -0.551341         ST   \n",
       "3   -0.584556   F           ASY   0.302825     0.139040  -0.551341     Normal   \n",
       "4    0.051881   M           NAP   0.951331    -0.034755  -0.551341     Normal   \n",
       "..        ...  ..           ...        ...          ...        ...        ...   \n",
       "913 -0.902775   M            TA  -1.210356     0.596393  -0.551341     Normal   \n",
       "914  1.536902   M           ASY   0.627078    -0.053049   1.813758     Normal   \n",
       "915  0.370100   M           ASY  -0.129513    -0.620168  -0.551341     Normal   \n",
       "916  0.370100   F           ATA  -0.129513     0.340275  -0.551341        LVH   \n",
       "917 -1.645286   M           NAP   0.302825    -0.217696  -0.551341     Normal   \n",
       "\n",
       "        MaxHR ExerciseAngina  Oldpeak ST_Slope  \n",
       "0    1.382928              N      0.0       Up  \n",
       "1    0.754157              N      1.0     Flat  \n",
       "2   -1.525138              N      0.0       Up  \n",
       "3   -1.132156              Y      1.5     Flat  \n",
       "4   -0.581981              N      0.0       Up  \n",
       "..        ...            ...      ...      ...  \n",
       "913 -0.188999              N      1.2     Flat  \n",
       "914  0.164684              N      3.4     Flat  \n",
       "915 -0.857069              Y      1.2     Flat  \n",
       "916  1.461525              N      0.0     Flat  \n",
       "917  1.422226              N      0.0       Up  \n",
       "\n",
       "[918 rows x 11 columns]"
      ]
     },
     "execution_count": 13,
     "metadata": {},
     "output_type": "execute_result"
    }
   ],
   "source": [
    "from sklearn.preprocessing import StandardScaler\n",
    "scaler = StandardScaler()\n",
    "X[num_cols_names[:-1]] = scaler.fit_transform(X[num_cols_names[:-1]])\n",
    "X"
   ]
  },
  {
   "cell_type": "code",
   "execution_count": 14,
   "id": "5ffc1ef1",
   "metadata": {},
   "outputs": [],
   "source": [
    "le = LabelEncoder()\n",
    "# X['Sex'] = le.fit_transform(X['Sex'])\n",
    "# X['ExerciseAngina'] = le.fit_transform(X['ExerciseAngina'])\n",
    "X[tobe_labelencoded] = le.fit_transform(tobe_labelencoded)"
   ]
  },
  {
   "cell_type": "code",
   "execution_count": 62,
   "id": "4f5f97a6",
   "metadata": {},
   "outputs": [
    {
     "ename": "AttributeError",
     "evalue": "'Series' object has no attribute 'nuique'",
     "output_type": "error",
     "traceback": [
      "\u001b[1;31m---------------------------------------------------------------------------\u001b[0m",
      "\u001b[1;31mAttributeError\u001b[0m                            Traceback (most recent call last)",
      "\u001b[1;32m~\\AppData\\Local\\Temp/ipykernel_15164/36509752.py\u001b[0m in \u001b[0;36m<module>\u001b[1;34m\u001b[0m\n\u001b[1;32m----> 1\u001b[1;33m \u001b[0mprint\u001b[0m\u001b[1;33m(\u001b[0m\u001b[0mX\u001b[0m\u001b[1;33m.\u001b[0m\u001b[0miloc\u001b[0m\u001b[1;33m[\u001b[0m\u001b[1;33m:\u001b[0m\u001b[1;33m,\u001b[0m\u001b[1;36m1\u001b[0m\u001b[1;33m]\u001b[0m\u001b[1;33m.\u001b[0m\u001b[0mnuique\u001b[0m\u001b[1;33m(\u001b[0m\u001b[1;33m)\u001b[0m\u001b[1;33m)\u001b[0m\u001b[1;33m\u001b[0m\u001b[1;33m\u001b[0m\u001b[0m\n\u001b[0m",
      "\u001b[1;32mc:\\users\\dell\\appdata\\local\\programs\\python\\python39\\lib\\site-packages\\pandas\\core\\generic.py\u001b[0m in \u001b[0;36m__getattr__\u001b[1;34m(self, name)\u001b[0m\n\u001b[0;32m   5485\u001b[0m         ):\n\u001b[0;32m   5486\u001b[0m             \u001b[1;32mreturn\u001b[0m \u001b[0mself\u001b[0m\u001b[1;33m[\u001b[0m\u001b[0mname\u001b[0m\u001b[1;33m]\u001b[0m\u001b[1;33m\u001b[0m\u001b[1;33m\u001b[0m\u001b[0m\n\u001b[1;32m-> 5487\u001b[1;33m         \u001b[1;32mreturn\u001b[0m \u001b[0mobject\u001b[0m\u001b[1;33m.\u001b[0m\u001b[0m__getattribute__\u001b[0m\u001b[1;33m(\u001b[0m\u001b[0mself\u001b[0m\u001b[1;33m,\u001b[0m \u001b[0mname\u001b[0m\u001b[1;33m)\u001b[0m\u001b[1;33m\u001b[0m\u001b[1;33m\u001b[0m\u001b[0m\n\u001b[0m\u001b[0;32m   5488\u001b[0m \u001b[1;33m\u001b[0m\u001b[0m\n\u001b[0;32m   5489\u001b[0m     \u001b[1;32mdef\u001b[0m \u001b[0m__setattr__\u001b[0m\u001b[1;33m(\u001b[0m\u001b[0mself\u001b[0m\u001b[1;33m,\u001b[0m \u001b[0mname\u001b[0m\u001b[1;33m:\u001b[0m \u001b[0mstr\u001b[0m\u001b[1;33m,\u001b[0m \u001b[0mvalue\u001b[0m\u001b[1;33m)\u001b[0m \u001b[1;33m->\u001b[0m \u001b[1;32mNone\u001b[0m\u001b[1;33m:\u001b[0m\u001b[1;33m\u001b[0m\u001b[1;33m\u001b[0m\u001b[0m\n",
      "\u001b[1;31mAttributeError\u001b[0m: 'Series' object has no attribute 'nuique'"
     ]
    }
   ],
   "source": [
    "print(X.iloc[:,1].nuique())"
   ]
  },
  {
   "cell_type": "code",
   "execution_count": 41,
   "id": "28076b10",
   "metadata": {},
   "outputs": [],
   "source": [
    "tobe_oh_encoded = pd.DataFrame({'ChestPainType':X.iloc[:,2],'RestingECG':X.iloc[:,6],'ST_Slope' : X.iloc[:,10]})"
   ]
  },
  {
   "cell_type": "code",
   "execution_count": 42,
   "id": "0a600763",
   "metadata": {},
   "outputs": [
    {
     "name": "stdout",
     "output_type": "stream",
     "text": [
      "    ChestPainType RestingECG ST_Slope\n",
      "0             ATA     Normal       Up\n",
      "1             NAP     Normal     Flat\n",
      "2             ATA         ST       Up\n",
      "3             ASY     Normal     Flat\n",
      "4             NAP     Normal       Up\n",
      "..            ...        ...      ...\n",
      "913            TA     Normal     Flat\n",
      "914           ASY     Normal     Flat\n",
      "915           ASY     Normal     Flat\n",
      "916           ATA        LVH     Flat\n",
      "917           NAP     Normal       Up\n",
      "\n",
      "[918 rows x 3 columns]\n"
     ]
    }
   ],
   "source": [
    "print(tobe_oh_encoded)"
   ]
  },
  {
   "cell_type": "code",
   "execution_count": 19,
   "id": "c0246b9c",
   "metadata": {},
   "outputs": [
    {
     "name": "stdout",
     "output_type": "stream",
     "text": [
      "          Age  Sex ChestPainType  RestingBP  Cholesterol  FastingBS  \\\n",
      "0   -1.433140    1           ATA   0.410909     0.825070  -0.551341   \n",
      "1   -0.478484    1           NAP   1.491752    -0.171961  -0.551341   \n",
      "2   -1.751359    1           ATA  -0.129513     0.770188  -0.551341   \n",
      "3   -0.584556    1           ASY   0.302825     0.139040  -0.551341   \n",
      "4    0.051881    1           NAP   0.951331    -0.034755  -0.551341   \n",
      "..        ...  ...           ...        ...          ...        ...   \n",
      "913 -0.902775    1            TA  -1.210356     0.596393  -0.551341   \n",
      "914  1.536902    1           ASY   0.627078    -0.053049   1.813758   \n",
      "915  0.370100    1           ASY  -0.129513    -0.620168  -0.551341   \n",
      "916  0.370100    1           ATA  -0.129513     0.340275  -0.551341   \n",
      "917 -1.645286    1           NAP   0.302825    -0.217696  -0.551341   \n",
      "\n",
      "    RestingECG     MaxHR  ExerciseAngina  Oldpeak ST_Slope  \n",
      "0       Normal  1.382928               0      0.0       Up  \n",
      "1       Normal  0.754157               0      1.0     Flat  \n",
      "2           ST -1.525138               0      0.0       Up  \n",
      "3       Normal -1.132156               0      1.5     Flat  \n",
      "4       Normal -0.581981               0      0.0       Up  \n",
      "..         ...       ...             ...      ...      ...  \n",
      "913     Normal -0.188999               0      1.2     Flat  \n",
      "914     Normal  0.164684               0      3.4     Flat  \n",
      "915     Normal -0.857069               0      1.2     Flat  \n",
      "916        LVH  1.461525               0      0.0     Flat  \n",
      "917     Normal  1.422226               0      0.0       Up  \n",
      "\n",
      "[918 rows x 11 columns]\n"
     ]
    }
   ],
   "source": [
    "print(X)"
   ]
  },
  {
   "cell_type": "code",
   "execution_count": 43,
   "id": "ec8903d7",
   "metadata": {},
   "outputs": [],
   "source": [
    "tobe_oh_encoded = ohe.fit_transform(tobe_oh_encoded)"
   ]
  },
  {
   "cell_type": "code",
   "execution_count": 45,
   "id": "1ce65e8f",
   "metadata": {},
   "outputs": [
    {
     "ename": "AttributeError",
     "evalue": "'numpy.ndarray' object has no attribute 'keys'",
     "output_type": "error",
     "traceback": [
      "\u001b[1;31m---------------------------------------------------------------------------\u001b[0m",
      "\u001b[1;31mAttributeError\u001b[0m                            Traceback (most recent call last)",
      "\u001b[1;32m~\\AppData\\Local\\Temp/ipykernel_15164/2544220479.py\u001b[0m in \u001b[0;36m<module>\u001b[1;34m\u001b[0m\n\u001b[1;32m----> 1\u001b[1;33m \u001b[0mtobe_oh_encoded_list\u001b[0m \u001b[1;33m=\u001b[0m \u001b[0mtobe_oh_encoded\u001b[0m\u001b[1;33m.\u001b[0m\u001b[0mkeys\u001b[0m\u001b[1;33m(\u001b[0m\u001b[1;33m)\u001b[0m\u001b[1;33m\u001b[0m\u001b[1;33m\u001b[0m\u001b[0m\n\u001b[0m",
      "\u001b[1;31mAttributeError\u001b[0m: 'numpy.ndarray' object has no attribute 'keys'"
     ]
    }
   ],
   "source": []
  },
  {
   "cell_type": "code",
   "execution_count": 44,
   "id": "fe3812a6",
   "metadata": {},
   "outputs": [
    {
     "name": "stdout",
     "output_type": "stream",
     "text": [
      "[[0. 1. 0. ... 0. 0. 1.]\n",
      " [0. 0. 1. ... 0. 1. 0.]\n",
      " [0. 1. 0. ... 0. 0. 1.]\n",
      " ...\n",
      " [1. 0. 0. ... 0. 1. 0.]\n",
      " [0. 1. 0. ... 0. 1. 0.]\n",
      " [0. 0. 1. ... 0. 0. 1.]]\n"
     ]
    }
   ],
   "source": [
    "print(tobe_oh_encoded)"
   ]
  },
  {
   "cell_type": "code",
   "execution_count": 54,
   "id": "9befe412",
   "metadata": {},
   "outputs": [],
   "source": [
    "X = pd.DataFrame(X)"
   ]
  },
  {
   "cell_type": "code",
   "execution_count": 55,
   "id": "2139db43",
   "metadata": {},
   "outputs": [],
   "source": [
    "X = X.drop(['ChestPainType','RestingECG','ST_Slope'],axis = 1)"
   ]
  },
  {
   "cell_type": "code",
   "execution_count": 56,
   "id": "71870573",
   "metadata": {},
   "outputs": [
    {
     "name": "stdout",
     "output_type": "stream",
     "text": [
      "          Age  Sex  RestingBP  Cholesterol  FastingBS     MaxHR  \\\n",
      "0   -1.433140    1   0.410909     0.825070  -0.551341  1.382928   \n",
      "1   -0.478484    1   1.491752    -0.171961  -0.551341  0.754157   \n",
      "2   -1.751359    1  -0.129513     0.770188  -0.551341 -1.525138   \n",
      "3   -0.584556    1   0.302825     0.139040  -0.551341 -1.132156   \n",
      "4    0.051881    1   0.951331    -0.034755  -0.551341 -0.581981   \n",
      "..        ...  ...        ...          ...        ...       ...   \n",
      "913 -0.902775    1  -1.210356     0.596393  -0.551341 -0.188999   \n",
      "914  1.536902    1   0.627078    -0.053049   1.813758  0.164684   \n",
      "915  0.370100    1  -0.129513    -0.620168  -0.551341 -0.857069   \n",
      "916  0.370100    1  -0.129513     0.340275  -0.551341  1.461525   \n",
      "917 -1.645286    1   0.302825    -0.217696  -0.551341  1.422226   \n",
      "\n",
      "     ExerciseAngina  Oldpeak  \n",
      "0                 0      0.0  \n",
      "1                 0      1.0  \n",
      "2                 0      0.0  \n",
      "3                 0      1.5  \n",
      "4                 0      0.0  \n",
      "..              ...      ...  \n",
      "913               0      1.2  \n",
      "914               0      3.4  \n",
      "915               0      1.2  \n",
      "916               0      0.0  \n",
      "917               0      0.0  \n",
      "\n",
      "[918 rows x 8 columns]\n"
     ]
    }
   ],
   "source": [
    "print(X)"
   ]
  },
  {
   "cell_type": "code",
   "execution_count": 47,
   "id": "b8261ca0",
   "metadata": {},
   "outputs": [],
   "source": [
    "# data_prepared = np.concatenate([X,tobe_oh_encoded],axis = 1)"
   ]
  },
  {
   "cell_type": "code",
   "execution_count": 49,
   "id": "8f507f08",
   "metadata": {},
   "outputs": [
    {
     "name": "stdout",
     "output_type": "stream",
     "text": [
      "(918, 21)\n"
     ]
    }
   ],
   "source": [
    "# print(data_prepared.shape)"
   ]
  },
  {
   "cell_type": "code",
   "execution_count": 53,
   "id": "f0c9ea7f",
   "metadata": {},
   "outputs": [],
   "source": [
    "# data_prepared = pd.DataFrame(data_prepared)\n",
    "# # data_prepared = data_prepared.drop(['ChestPainType','RestingECG','ST_Slope'],axis = 1)\n",
    "# print(data_prepared)"
   ]
  },
  {
   "cell_type": "code",
   "execution_count": 57,
   "id": "3e609373",
   "metadata": {},
   "outputs": [],
   "source": [
    "tobe_oh_encoded = pd.DataFrame(tobe_oh_encoded)\n",
    "data_prepared = pd.concat([X,tobe_oh_encoded],axis = 1)"
   ]
  },
  {
   "cell_type": "code",
   "execution_count": 58,
   "id": "b14e8d6d",
   "metadata": {},
   "outputs": [
    {
     "name": "stdout",
     "output_type": "stream",
     "text": [
      "          Age  Sex  RestingBP  Cholesterol  FastingBS     MaxHR  \\\n",
      "0   -1.433140    1   0.410909     0.825070  -0.551341  1.382928   \n",
      "1   -0.478484    1   1.491752    -0.171961  -0.551341  0.754157   \n",
      "2   -1.751359    1  -0.129513     0.770188  -0.551341 -1.525138   \n",
      "3   -0.584556    1   0.302825     0.139040  -0.551341 -1.132156   \n",
      "4    0.051881    1   0.951331    -0.034755  -0.551341 -0.581981   \n",
      "..        ...  ...        ...          ...        ...       ...   \n",
      "913 -0.902775    1  -1.210356     0.596393  -0.551341 -0.188999   \n",
      "914  1.536902    1   0.627078    -0.053049   1.813758  0.164684   \n",
      "915  0.370100    1  -0.129513    -0.620168  -0.551341 -0.857069   \n",
      "916  0.370100    1  -0.129513     0.340275  -0.551341  1.461525   \n",
      "917 -1.645286    1   0.302825    -0.217696  -0.551341  1.422226   \n",
      "\n",
      "     ExerciseAngina  Oldpeak    0    1    2    3    4    5    6    7    8    9  \n",
      "0                 0      0.0  0.0  1.0  0.0  0.0  0.0  1.0  0.0  0.0  0.0  1.0  \n",
      "1                 0      1.0  0.0  0.0  1.0  0.0  0.0  1.0  0.0  0.0  1.0  0.0  \n",
      "2                 0      0.0  0.0  1.0  0.0  0.0  0.0  0.0  1.0  0.0  0.0  1.0  \n",
      "3                 0      1.5  1.0  0.0  0.0  0.0  0.0  1.0  0.0  0.0  1.0  0.0  \n",
      "4                 0      0.0  0.0  0.0  1.0  0.0  0.0  1.0  0.0  0.0  0.0  1.0  \n",
      "..              ...      ...  ...  ...  ...  ...  ...  ...  ...  ...  ...  ...  \n",
      "913               0      1.2  0.0  0.0  0.0  1.0  0.0  1.0  0.0  0.0  1.0  0.0  \n",
      "914               0      3.4  1.0  0.0  0.0  0.0  0.0  1.0  0.0  0.0  1.0  0.0  \n",
      "915               0      1.2  1.0  0.0  0.0  0.0  0.0  1.0  0.0  0.0  1.0  0.0  \n",
      "916               0      0.0  0.0  1.0  0.0  0.0  1.0  0.0  0.0  0.0  1.0  0.0  \n",
      "917               0      0.0  0.0  0.0  1.0  0.0  0.0  1.0  0.0  0.0  0.0  1.0  \n",
      "\n",
      "[918 rows x 18 columns]\n"
     ]
    }
   ],
   "source": [
    "print(data_prepared)"
   ]
  },
  {
   "cell_type": "code",
   "execution_count": null,
   "id": "df934b59",
   "metadata": {},
   "outputs": [],
   "source": []
  }
 ],
 "metadata": {
  "kernelspec": {
   "display_name": "Python 3 (ipykernel)",
   "language": "python",
   "name": "python3"
  },
  "language_info": {
   "codemirror_mode": {
    "name": "ipython",
    "version": 3
   },
   "file_extension": ".py",
   "mimetype": "text/x-python",
   "name": "python",
   "nbconvert_exporter": "python",
   "pygments_lexer": "ipython3",
   "version": "3.9.2"
  }
 },
 "nbformat": 4,
 "nbformat_minor": 5
}
