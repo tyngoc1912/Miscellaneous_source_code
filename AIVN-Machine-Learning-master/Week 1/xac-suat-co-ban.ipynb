{
 "cells": [
  {
   "cell_type": "markdown",
   "metadata": {},
   "source": [
    "Lý thuyết xác suất là một trong những lý thuyết quan trọng trong Machine Learning. Việc hiểu và nắm bắt rõ về lý thuyết xác suất có thể giúp bạn đi sâu hơn vào những thuật toán phức tạp của Machine Learning. "
   ]
  },
  {
   "cell_type": "markdown",
   "metadata": {},
   "source": [
    "### 1. Khái niệm xác suất \n",
    "\n",
    "#### 1.1 Không gian mẫu (Sample Space)\n",
    "\n",
    "Trong lý thuyết xác suất, không gian mẫu hay không gian mẫu toàn thể, thường được ký hiệu là $S$, $\\Omega$ hay $U$ (tức \"universal set\") của một thí nghiệm hay của một phép thử ngẫu nhiên là tập hợp của tất cả các kết quả có thể xảy ra.\n",
    "\n",
    "Ví dụ, trong thí nghiệm tung một đồng xu, không gian mẫu của thí nghiệm đó là tập hợp {ngửa, sấp}. Còn đối với thí nghiệm tung một con xúc xắc có sáu mặt thì, không gian mẫu là tập {1, 2, 3, 4, 5, 6}. \n",
    "\n",
    "**Chú ý:** Bất kì tập hợp con nào của không gian mẫu đều thường được gọi là một **biến cố - evnet**."
   ]
  },
  {
   "cell_type": "markdown",
   "metadata": {},
   "source": [
    "#### 1.2 Phép thử và sự kiện \n",
    "\n",
    "Phép thử là một thử nghiệm cho kết quả là một sự kiện (còn được gọi là biến cố - event). Ví dụ, tung một con xúc xắc 6 mặt được coi là một phép thử, kết quả thu được là là xuất hiện mặt 1 chấm, 2 chấm, … 6 chấm, và các kết quả này được gọi là các sự kiện thu được từ phép thử tung con xúc xắc.\n",
    "\n",
    "Một số tính chất và hệ quả của đại số Boolean đều có thể áp dụng được cho các sự kiện:\n",
    "\n",
    "- Giao hoán:\n",
    "    - $A \\cup B = B \\cup A$\n",
    "    - $A \\cap B = B \\cap A$\n",
    "- Kết hợp:\n",
    "    - $A \\cup (B \\cup C)=(A \\cup B) \\cup C$\n",
    "    - $A \\cap (B \\cap C)=(A \\cap B) \\cap C$\n",
    "- Phân phối:\n",
    "    - $A \\cap (B \\cup C)=(A \\cap B) \\cup (A \\cap C)$\n",
    "    - $A\\cup (B \\cap C)=(A \\cup B)\\cap(A \\cup C)$\n",
    "- Phần bù:\n",
    "    - $\\overline{\\overline{A}}=A$ \n",
    "    - ${\\overline{A \\cup B}} = \\overline{A} \\cap  \\overline{B}$\n",
    "    - $\\overline{A \\cap B} = \\overline{A}  \\cup  \\overline{B}$"
   ]
  },
  {
   "cell_type": "markdown",
   "metadata": {},
   "source": [
    "#### 1.3 Tiên đề xác suất \n",
    "\n",
    "Với mỗi sự kiện $E$, chúng ta ký hiệu $P(E)$ là xác suất của sự kiện $E$.\n",
    "\n",
    "**Tiên đề 1:** Mọi xác suất đều nằm trong khoảng $[0, 1]$.\n",
    "\n",
    "<img src=\"images/xac-suat/1.png\" style=\"width:60%;height:60%;\"> \n",
    "\n",
    "**Tiên đề 2:**  Xác suất một biến cố sơ cấp nào đó trong tập mẫu sẽ xảy ra là 1. Cụ thể hơn, không có biến cố sơ cấp nào nằm ngoài tập mẫu.\n",
    "\n",
    "<img src=\"images/xac-suat/2.png\" style=\"width:60%;height:60%;\"> \n",
    "\n",
    "**Tiên đề 3:** Một chuỗi đếm được bất kỳ gồm các biến cố đôi một không giao nhau ${\\displaystyle E_{1},E_{2},...}$ chúng ta có:\n",
    "\n",
    "<img src=\"images/xac-suat/3.png\" style=\"width:60%;height:60%;\"> \n",
    "\n",
    "Nghĩa là, xác suất của một tập biến cố là hợp của các tập con không giao nhau và bằng tổng các xác suất của các tập con đó."
   ]
  },
  {
   "cell_type": "markdown",
   "metadata": {},
   "source": [
    "#### 1.4 Hoán vị (P)\n",
    "\n",
    "Một hoán vị là một bộ **có thứ tự không lặp**. Có thể dễ dàng đếm được số hoán vị có kích thước $r$ khi chọn từ một tập hợp có kích thước $n$ (với $r \\leqslant  n$).\n",
    "\n",
    "Ví dụ, nếu chúng ta có 10 phần tử là các số nguyên {1, 2,..., 10}. Một hoán vị của 3 phần tử từ tập hợp này là {5, 3, 4}. Trong trường hợp này, $n=10$ và $r=3$.\n",
    "\n",
    "Số lượng của các hoán vị được tính bằng cách: \n",
    "\n",
    "1. Để chọn phần tử đầu tiên của một hoán vị, chúng ta có $n$ cách, bởi vì có $n$ phần tử phân biệt của tập hợp.\n",
    "2. Tiếp theo, vì chúng ta đã dùng 1 trong $n$ phần tử, phần tử thứ hai của hoán vị sẽ có $(n - 1)$ cách để chọn từ tập hợp còn lại.\n",
    "3. Phần tử thứ ba có thể được chọn bằng $(n - 2)$ cách.\n",
    "3. Công việc này lặp lại cho đến khi có đủ $r$ phần tử của hoán vị. Nghĩa là phần tử cuối cùng của hoán vị sẽ có $(n - (r - 1)) = (n - r + 1)$ cách chọn.\n",
    "\n",
    "Theo đó, chúng ta có công thức sau:\n",
    "\n",
    "<img src=\"images/xac-suat/4.png\" style=\"width:60%;height:60%;\"> \n",
    "\n",
    "Trong ví dụ trên, chúng ta có $n = 10$ và $r = 3$, vậy số hoán vị là: $P(10,3) = 720$.\n",
    "\n",
    "#### 1.5  Tổ hợp (C)\n",
    "\n",
    "Tổ hợp là cách chọn những phần tử từ một nhóm lớn hơn mà **không phân biệt thứ tự**.\n",
    "\n",
    "*Ví dụ:* cho ba loại quả, một quả táo, một quả cam và một quả lê, có ba cách kết hợp hai loại quả từ tập hợp này: một quả táo và một quả lê; một quả táo và một quả cam; một quả lê và một quả cam.\n",
    "\n",
    "Công thức tính tổ hợp:\n",
    "\n",
    "<img src=\"images/xac-suat/5.png\" style=\"width:60%;height:60%;\"> \n",
    "\n",
    "**Ghi chú:** Với $0 \\leqslant  r \\leqslant  n$ ta có $P(n,r) \\geqslant  C(n, r)$"
   ]
  },
  {
   "cell_type": "markdown",
   "metadata": {},
   "source": [
    "### 2. Xác suất có điều kiện \n",
    "\n",
    "Xác suất có điều kiện là xác suất xảy ra một biến cố A nào đó khi biết biến cố B khác xảy ra. Ký hiêu: $P(A|B)$.\n",
    "Công thức tính xác suất có điều kiện như sau:\n",
    "\n",
    "<center>$P(A|B) = \\frac{P(AB)}{P(B)} \\forall P(B) > 0 $</center>\n",
    "\n",
    "Nếu A và B là 2 biến cố độc lập khi đó: $P(A|B) = P(A)$ và $P(B|A) = P(B)$\n",
    "\n",
    "Từ công thức xác suất có điều kiện, ta có tích xác suất như sau:\n",
    "\n",
    "<center>$P(AB) = P(A|B)P(B) = P(B|A)P(A) $</center>\n",
    "\n",
    "### Công thức Bayes \n",
    "\n",
    "Từ công thức tích xác suất, ta có công thức Bayes được trình bày như sau:\n",
    "\n",
    "<center>$P(A|B) =  \\frac{P(B|A)P(A)}{P(B)}  $</center>\n"
   ]
  },
  {
   "cell_type": "markdown",
   "metadata": {},
   "source": [
    "### 3. Xác suất độc lập \n",
    "\n",
    "Với 2 sự kiện A và B độc lập với nhau khi và chỉ khi chúng ta có: $P(A \\cap B) = P(A)P(B)$"
   ]
  },
  {
   "cell_type": "markdown",
   "metadata": {},
   "source": [
    "### Tổng kết\n",
    "\n",
    "Trong nội dung bài viết này mới chỉ đưa ra một số khái niệm cơ bản về lý thuyết xác suất. Các bạn có thể tham khảo thêm các tài liệu về xác suất để xem thêm các trường hợp mở rộng khác."
   ]
  },
  {
   "cell_type": "markdown",
   "metadata": {},
   "source": [
    "### Tài liệu tham khảo \n",
    "\n",
    "[1] Khái niệm lý thuyết xác suất - Wikipedia\n",
    "\n",
    "[2] [Xác suất - Khái niệm cơ bản - Hai's Blog](https://dominhhai.github.io/vi/2017/10/what-is-prob/)"
   ]
  }
 ],
 "metadata": {
  "kernelspec": {
   "display_name": "Python 3",
   "language": "python",
   "name": "python3"
  },
  "language_info": {
   "codemirror_mode": {
    "name": "ipython",
    "version": 3
   },
   "file_extension": ".py",
   "mimetype": "text/x-python",
   "name": "python",
   "nbconvert_exporter": "python",
   "pygments_lexer": "ipython3",
   "version": "3.7.3"
  }
 },
 "nbformat": 4,
 "nbformat_minor": 2
}
