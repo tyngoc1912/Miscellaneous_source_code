{
 "cells": [
  {
   "cell_type": "markdown",
   "metadata": {},
   "source": [
    "Thay thế phần tử thoả mãn điều kiện cho trước bằng 1 một giá khác. Cho mảng một chiều có giá trị từ 0 đến 9, thay thế phần tử có giá trị lẻ bằng 10."
   ]
  },
  {
   "cell_type": "code",
   "execution_count": 1,
   "metadata": {},
   "outputs": [
    {
     "name": "stdout",
     "output_type": "stream",
     "text": [
      "[ 0 10  2 10  4 10  6 10  8 10]\n"
     ]
    }
   ],
   "source": [
    "import numpy as np\n",
    "\n",
    "arr = np.arange(10)\n",
    "\n",
    "for i in range(len(arr)):\n",
    "    if i % 2 != 0:\n",
    "        arr[i] = 10\n",
    "print(arr)"
   ]
  },
  {
   "cell_type": "code",
   "execution_count": 2,
   "metadata": {},
   "outputs": [
    {
     "name": "stdout",
     "output_type": "stream",
     "text": [
      "[ 0 10  2 10  4 10  6 10  8 10]\n"
     ]
    }
   ],
   "source": [
    "# Cách 2\n",
    "arr2 = np.arange(10)\n",
    "arr2[arr2 % 2 == 1] = 10\n",
    "print(arr2)"
   ]
  }
 ],
 "metadata": {
  "kernelspec": {
   "display_name": "Python 3",
   "language": "python",
   "name": "python3"
  },
  "language_info": {
   "codemirror_mode": {
    "name": "ipython",
    "version": 3
   },
   "file_extension": ".py",
   "mimetype": "text/x-python",
   "name": "python",
   "nbconvert_exporter": "python",
   "pygments_lexer": "ipython3",
   "version": "3.7.3"
  }
 },
 "nbformat": 4,
 "nbformat_minor": 2
}
