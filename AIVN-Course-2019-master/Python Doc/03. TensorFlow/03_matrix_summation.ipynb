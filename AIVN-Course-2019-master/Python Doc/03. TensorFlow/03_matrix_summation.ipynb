{
 "cells": [
  {
   "attachments": {},
   "cell_type": "markdown",
   "metadata": {},
   "source": [
    "![image.png](https://camo.githubusercontent.com/1986c75ab665e2562957e8b1649464d39042ac93/68747470733a2f2f6c68332e676f6f676c6575736572636f6e74656e742e636f6d2f4559343478384d494f54386c66444830754a4b5844664139676d53714e39494356456a6c59686e58355833446c424a64444d457a717479493748685f6d74796a68684d575f3470495833797338526a4c567a506e3257624c55466e39732d675a716e63696e4a71555f5768386b764a455f33504d71474f6c776476534f7268416a467952446249517a667432386a4c75347378716a666853385545635f7663614b675953526f73474c633453693663506c725564727469394a6f477043506a5f326f57703255416430714b4936702d7559445f556557566d6f62474e6d5445494f37372d61466d69556d696a634a2d31646144694971574568552d5167335552524153636472554b3965726c35526c4e6e394a4b51686b397a58764a673177797a745f4a616951435f4a69416137743968596a3434376b6178725353483668304836386c4d6f7057627a306a4d467735676d6758464a2d4e6c5856616b794343437538444e45716f742d49643471536858736b3363474271746353736f527a396b433241736e35506e4b53504d35626649494833765632567a6f6e72786c4c75346444586b51536154646b4e68754f692d42676c6d657275516164423539487a536d786b7341636d4d63686e614a3275476466325151347637796b5f6b706b4471656c6571787341664b6d4b50544f654b6b353976755f47676c424573337534636544355f68303932303867434a3861514c5647593757375a4d69375f3851715639674b46344b6c71385a4a44676b5479777035494154766b695a4951316d617943454365465532526730425a747168364a706c6f784171394b4859744e3739466b707542386c42704252385f366f30756a446761302d5666677033474c526b437344597a696d616f4f646d6c656a34694459334a52424d62343038615a424d73364f77545f75745848655a6b6545364d6e304f7567374d3d773830302d683535362d6e6f)"
   ]
  },
  {
   "cell_type": "code",
   "execution_count": 1,
   "metadata": {},
   "outputs": [],
   "source": [
    "import tensorflow as tf"
   ]
  },
  {
   "cell_type": "code",
   "execution_count": 3,
   "metadata": {},
   "outputs": [],
   "source": [
    "a = tf.constant([\n",
    "    [1, 2, 3],\n",
    "    [4, 5, 6]\n",
    "])"
   ]
  },
  {
   "cell_type": "code",
   "execution_count": 4,
   "metadata": {},
   "outputs": [],
   "source": [
    "b = tf.constant([\n",
    "    [3, 4 ,5],\n",
    "    [6, 7, 8]\n",
    "])"
   ]
  },
  {
   "cell_type": "code",
   "execution_count": 6,
   "metadata": {},
   "outputs": [
    {
     "data": {
      "text/plain": [
       "<tf.Tensor 'Const:0' shape=(2, 3) dtype=int32>"
      ]
     },
     "execution_count": 6,
     "metadata": {},
     "output_type": "execute_result"
    }
   ],
   "source": [
    "a"
   ]
  },
  {
   "cell_type": "code",
   "execution_count": 7,
   "metadata": {},
   "outputs": [
    {
     "data": {
      "text/plain": [
       "<tf.Tensor 'Const_1:0' shape=(2, 3) dtype=int32>"
      ]
     },
     "execution_count": 7,
     "metadata": {},
     "output_type": "execute_result"
    }
   ],
   "source": [
    "b"
   ]
  },
  {
   "cell_type": "code",
   "execution_count": 8,
   "metadata": {},
   "outputs": [],
   "source": [
    "c = tf.add(a, b)"
   ]
  },
  {
   "cell_type": "code",
   "execution_count": 11,
   "metadata": {},
   "outputs": [
    {
     "name": "stdout",
     "output_type": "stream",
     "text": [
      "[[ 4  6  8]\n",
      " [10 12 14]]\n"
     ]
    }
   ],
   "source": [
    "with tf.Session() as sess:\n",
    "    sess.run(c)\n",
    "    print(c.eval())"
   ]
  }
 ],
 "metadata": {
  "kernelspec": {
   "display_name": "Python 3",
   "language": "python",
   "name": "python3"
  },
  "language_info": {
   "codemirror_mode": {
    "name": "ipython",
    "version": 3
   },
   "file_extension": ".py",
   "mimetype": "text/x-python",
   "name": "python",
   "nbconvert_exporter": "python",
   "pygments_lexer": "ipython3",
   "version": "3.7.3"
  }
 },
 "nbformat": 4,
 "nbformat_minor": 2
}
