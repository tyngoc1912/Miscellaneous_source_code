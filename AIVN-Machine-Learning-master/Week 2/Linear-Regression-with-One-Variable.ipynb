{
 "cells": [
  {
   "cell_type": "markdown",
   "metadata": {},
   "source": [
    "Bài viết đầu tiên về các thuật toán trong Machine Learning, chúng ta sẽ cùng tìm hiểu thuật toán Linear Regression (Hồi quy tuyến tính). Linear Regression là một trong những thuật toán cơ bản nhất của Machine Learning và là một thuật toán Supervised (học có giám sát) trong đó đầu vào và đầu ra được mô tả bởi một hàm tuyến tính.\n",
    "\n",
    "Nhắc lại bài toán Regression (hồi quy) ta có đầu ra dự đoán có giá trị liên tục và độ dốc không đổi. Dạng toán này được sử dụng trong các bài toán có giá trị liên tục như: giá nhà, doanh số kinh doanh ... \n",
    "\n",
    "<img src=\"images/linear-regression.png\" style=\"width:50%;height:50%;\">"
   ]
  },
  {
   "cell_type": "markdown",
   "metadata": {},
   "source": [
    "### 1. Giới thiệu bài toán hồi quy tuyến tính đơn biến \n",
    "\n",
    "Hồi quy tuyến tính đơn biến (Linear Regression with One Variable) được sử dụng khi bạn muốn dự đoán giá trị đầu ra `y` từ 1 giá trị đầu vào `x`. Khi đó hàm giả thuyết của chúng ta có dạng:\n",
    "\n",
    "<center> $\\hat{y} = h_{\\theta}(x) = \\theta_0 + \\theta_1{x}$ </center>\n",
    "\n",
    "*Lưu ý:* \n",
    "- Đây giống như phương trình đường thẳng, với 2 tham số chúng ta cần tìm là $\\theta_0$, $\\theta_1$ để dự đoán giá trị $\\hat{y}$.\n",
    "\n",
    "- Chúng ta mong muốn giá trị $\\hat{y} \\approx y$. Với $y$ là giá trị thực của đầu ra."
   ]
  },
  {
   "cell_type": "markdown",
   "metadata": {},
   "source": [
    "Ví dụ: Giả sử chúng ta có bộ dữ liệu như sau:\n",
    "\n",
    "<img src=\"images/linear-ex.png\">\n",
    "\n",
    "Với giá trị ngẫu nhiên $\\theta_0 = 2$ và $\\theta_1 = 2$. Khi đó hàm giả thuyết trở thành: $h_{\\theta}(x) = 2 +2{x}$.\n",
    "\n",
    "Khi đó: input x = 0 ta có: $\\hat{y}(0) = 2 + 2*0 = 2$ khác xa rất nhiều so với $y(0) = 4$. \n",
    "\n",
    "Điều chúng ta mong muốn có thể tìm được $\\theta_0$, $\\theta_1$ sao cho sự khác nhau giữa $\\hat{y}$ và $y$ là rất nhỏ."
   ]
  },
  {
   "cell_type": "markdown",
   "metadata": {},
   "source": [
    "### 2. Hàm mất mát - Cost Function \n",
    "\n",
    "Hàm mất mát, hay còn được gọi là Cost Function hoặc Loss Function dùng để đánh giá mức độ sai lệch giữa giá trị dự đoán $\\hat{y}$ và giá trị thực $y$. Chúng ta mong muốn khoảng cách giữa 2 giá trị này càng nhỏ càng tốt. Để đánh giá khoảng cách này, chúng ta sử dụng sai số bình phương trung bình:\n",
    "\n",
    "<center>$J(\\theta_0, \\theta_1) = \\dfrac{1}{2m} \\sum_{i=1}^m {(\\hat{y} - y)^2} = \\dfrac{1}{2m} \\sum_{i=1}^m {(h_{\\theta}(x_i) - y)^2}$</center>"
   ]
  },
  {
   "cell_type": "markdown",
   "metadata": {},
   "source": [
    "*Chú thích:*\n",
    "\n",
    "- m là số quan sát (số dữ liệu).\n",
    "\n",
    "- $\\dfrac{1}{m} \\sum_{i=1}^m$ là trung bình.\n",
    "\n",
    "- Hệ số $\\dfrac{1}{2}$ sẽ giúp triệt tiêu 2 khi thực hiện đạo hàm $J$ theo $\\theta$.\n",
    "\n",
    "Bây giờ chúng ta có công cụ chính xác để đánh giá mức độ sai lệch giữa giá trị dự đoán và giá trị thực. Mục tiêu của chúng ta mong muốn giá trị Loss này càng nhỏ càng tốt - khi đó $J \\approx 0$ là giá trị kỳ vọng."
   ]
  },
  {
   "cell_type": "markdown",
   "metadata": {},
   "source": [
    "### 3. Gradient Descent\n",
    "\n",
    "Gradient Descent là một thuật toán lặp tối ưu hoá được sử dụng trong các bài toán Machine Learning / Deep Learning (thường là các bài toán tối ưu lồi — Convex Optimization).\n",
    "\n",
    "<img src=\"images/function-max-global.png\" style=\"width:50%;height:50%;\">\n",
    "\n",
    "*Nhắc lại:* \n",
    "\n",
    "- Global minimum (maximum) là giá trị nhỏ nhất (lớn nhất) của hàm số, còn local minimum (maximum) là giá trị cực tiểu (cực đại) hay còn biết đến là giá trị cực tiểu (cực đại) địa phương.\n",
    "- Global minimum (maximum) là một trường hợp đặc biệt của Local minimum (maximum)"
   ]
  },
  {
   "cell_type": "markdown",
   "metadata": {},
   "source": [
    "\n",
    "<img src=\"images/gradient-descent.png\" style=\"width:50%;height:50%;\">\n",
    "Với các bài toán Machine Learning, thường rất phức tạp để có thể tìm được giá trị nhỏ nhất (global minimum). Như trong hình ảnh bên trên, giá trị Global Minimum có thể là ở bên phía gần với $\\theta_0$. Tuy nhiên, việc tìm ra các điểm cực tiểu (local minimum) sẽ dễ dàng hơn rất nhiều. Và ở một mức độ nào đó, chúng ta coi giá trị local minimum là nghiệm cần tìm của bài toán.\n",
    "\n",
    "<img src=\"images/gd-2.png\" style=\"width:50%;height:50%;\">\n"
   ]
  },
  {
   "cell_type": "markdown",
   "metadata": {},
   "source": [
    "Cách mà thuật toán Gradient Descent thực hiện là lấy đạo hàm của Cost Function theo $\\theta$ (hay còn gọi là Weight - trọng số). Chúng ta đang cố gắng đưa chấm đen trên hình càng gần về điểm Minimum càng tốt bằng cách di chuyển **ngược dấu** với đạo hàm.\n",
    "\n",
    "Để hiểu chi tiết hơn, chúng ta xét đồ thị hàm số $y = x^2 - 5x + 100$, với điểm màu xanh đang ở toạ độ $x_t \\approx 10$ và chúng ta mong muốn điểm này dần về vị trí nhỏ nhất $x = 2.5$\n",
    "\n",
    "<img src=\"images/gd-3.png\" style=\"width:50%;height:50%;\">\n",
    "\n",
    "Xét đạo hàm của hàm số $y = x^2 - 5x + 100$ ta có: \n",
    "\n",
    "<center>$y' = 2*x - 5$</center>\n",
    "<center>tại $x_t = 10$ => $y' = 5$ </center>\n",
    "\n",
    "Đạo hàm trong trường hợp này mang dấu dương, khi đó ta sẽ thực hiện lặp lại việc di chuyển $x$ ngược dấu với đạo hàm cho đến khi đạt giá trị cực tiểu:\n",
    "<center>$x_{new} = x_t - \\alpha * f'(x_t)$</center>\n",
    "\n"
   ]
  },
  {
   "cell_type": "markdown",
   "metadata": {},
   "source": [
    "Với $\\alpha$ là một số dương được gọi là **Learning Rate** (tốc độ học tập). Dấu trừ biểu thị cho việc chúng ta thực hiện đi ngược dấu với đạo hàm.\n",
    "\n"
   ]
  },
  {
   "cell_type": "markdown",
   "metadata": {},
   "source": [
    "### 4. Learning Rate \n",
    "\n",
    "Tốc độ học tập của thuật toán - Learning Rate (LR), thường được ký hiệu là $\\alpha$. LR đóng vai trò quan trọng trong quá trình training của thuật toán. Việc lựa chọn LR không phù hợp có thể sẽ dẫn tới các trường hợp sau đây:\n",
    "\n",
    "<img src=\"images/learning-rate.png\" style=\"width:90%;height:90%;\">\n",
    "\n",
    "- Trường hợp 1: Learning Rate quá nhỏ \n",
    "Trong trường hợp này, với LR quá nhỏ so thì việc hội tụ sẽ rất lâu. Trong trường hợp xấu khác, thuật toán sẽ bị mắc kẹt ở local minimum không tốt (chẳng hạn như mắc kẹt ở vị trí local - 01 như hình bên dưới đây).\n",
    "\n",
    "<img src=\"images/lr-2.png\" style=\"width:40%;height:40%;\">\n",
    "\n",
    "- Trường hợp 2: Learning Rate vừa đủ\n",
    "Trong trường hợp này, thuật toán sẽ hội tụ đến local minimum tốt (vị trí local 04) - thậm trí có thể hội tụ tới vị trí global minimum.\n",
    "\n",
    "- Trường hợp 3: Learning Rate quá lớn\n",
    "Trong trường hợp này, thuật toán sẽ không thể hội tụ mà lặp đi lặp lại xung quanh vị trí local minimum.\n",
    "\n",
    "*Kỹ thuật lựa chọn Learning Rate sẽ được giới thiệu trong tuần \"Những kỹ thuật khi áp dụng thuật toán Machine Learning\".*"
   ]
  },
  {
   "cell_type": "markdown",
   "metadata": {},
   "source": [
    "### 5. Gradient Descent cho bài toán Linear Regression"
   ]
  },
  {
   "cell_type": "markdown",
   "metadata": {},
   "source": [
    "Với bài toán hồi quy tuyến tính đơn biến, chúng ta có 2 tham số cần học là $\\theta_0$ và $\\theta_1$. Như vậy, khi áp dụng Gradient Descent cho bài toán này, chúng ta sẽ thực hiện:\n",
    "\n",
    "*Nhắc lại:* Hàm Cost Function\n",
    "<center>$J(\\theta_0, \\theta_1) = \\dfrac{1}{2m} \\sum_{i=1}^m {(h_{\\theta}(x_i) - y)^2} = \\dfrac{1}{2m} \\sum_{i=1}^m {((\\theta_0 + \\theta_1{x}) - y)^2}$</center>\n",
    "\n",
    "> Thực hiện đạo hàm $J$ lần lượt theo các tham số $\\theta_0$ và $\\theta_1$.\n",
    "> Lặp lại cho đến khi hội tụ:\n",
    ">\n",
    "> {\n",
    ">\n",
    "> $\\theta_0 := \\theta_0 - \\alpha \\dfrac{1}{m} \\sum_{i=1}^m {(h_{\\theta}(x_i) - y)} $\n",
    ">\n",
    "> $\\theta_1 := \\theta_1 - \\alpha \\dfrac{1}{m} \\sum_{i=1}^m {((h_{\\theta}(x_i) - y)*x_i)} $\n",
    ">\n",
    "> }\n",
    "\n",
    "Điều kiện dừng của bài toán có thể là:\n",
    "- Kết thúc số lượng vòng lặp đã định sẵn.\n",
    "- Giá trị của hàm lỗi (Cost Function) đủ nhỏ.\n",
    "- Giá trị của hàm lỗi (Cost Function) không thay đổi sau `n` vòng lặp (với `n` là số nguyên người lập trình cài đặt, ví dụ: dừng sau 20 vòng lặp mà hàm lỗi không đổi).\n",
    "\n",
    "**Mô tả bài toán hồi quy tuyến tính**\n",
    "\n",
    "<img src=\"images/gd.gif\" style=\"width:70%;height:70%;\">"
   ]
  },
  {
   "cell_type": "markdown",
   "metadata": {},
   "source": [
    "### 6. Tổng kết nội dung \n",
    "\n",
    "1. Hàm giả thuyết \n",
    "\n",
    "> $\\hat{y} = h_{\\theta}(x) = \\theta_0 + \\theta_1{x}$\n",
    " \n",
    "2. Hàm mất mát (Cost Function hoặc Loss Function)\n",
    "\n",
    "> $J(\\theta_0, \\theta_1) = \\dfrac{1}{2m} \\sum_{i=1}^m {(h_{\\theta}(x_i) - y)^2} = \\dfrac{1}{2m} \\sum_{i=1}^m {((\\theta_0 + \\theta_1{x}) - y)^2}$\n",
    "\n",
    "3. Gradient Descent \n",
    "\n",
    "> Thực hiện đạo hàm $J$ lần lượt theo các tham số $\\theta_0$ và $\\theta_1$.\n",
    "> Lặp lại cho đến khi hội tụ:\n",
    ">\n",
    "> {\n",
    ">\n",
    "> $\\theta_0 := \\theta_0 - \\alpha \\dfrac{1}{m} \\sum_{i=1}^m {(h_{\\theta}(x_i) - y)} $\n",
    ">\n",
    "> $\\theta_1 := \\theta_1 - \\alpha \\dfrac{1}{m} \\sum_{i=1}^m {((h_{\\theta}(x_i) - y)*x_i)} $\n",
    ">\n",
    "> }"
   ]
  },
  {
   "cell_type": "markdown",
   "metadata": {},
   "source": [
    "### 7. Áp dụng cho bài toán dự đoán giá nhà đơn giản "
   ]
  },
  {
   "cell_type": "markdown",
   "metadata": {},
   "source": [
    "Trong ví dụ này, chúng ta sẽ thực hiện dự đoán giá nhà (đơn giản):\n",
    "\n",
    "- Bộ dữ liệu nhà có 20 mẫu dữ liệu (không có header), và mỗi mẫu dữ liệu bao gồm diện tích nhà x (cột bên trái) và giá nhà y (cột bên phải). \n",
    "- Diện tích nhà x thường được gọi tổng quát là đặc trưng, và giá nhà y là giá nhà thực, hay label, hay ground truth. \n",
    "\n",
    "Trong bài toán này sử dụng toàn bộ dữ liệu cho mỗi vòng lặp - và nó được gọi là \"Batch\" Gradient Descent. Ngoài ra, còn có các kỹ thuật Mini-Batch Gradient Descent, Stochastic Gradient Descent - chúng ta sẽ cùng tìm hiểu về những kỹ thuật này trong các bài kế tiếp.\n",
    "\n",
    "<img src=\"images/house-predict.png\" style=\"width:70%;height:70%;\">"
   ]
  },
  {
   "cell_type": "code",
   "execution_count": 1,
   "metadata": {},
   "outputs": [],
   "source": [
    "# Đọc dữ liệu từ File .csv\n",
    "\n",
    "import numpy as np\n",
    "from numpy import genfromtxt\n",
    "import matplotlib.pyplot as plt\n",
    "\n",
    "data = genfromtxt('data/my_house_price_prediction.csv', delimiter=',')\n",
    "# Số lượng\n",
    "m = data.shape[0]\n",
    "\n",
    "# Đưa diện tích nhà vào biến X\n",
    "X = data[:,0]\n",
    "\n",
    "# Đưa giá nhà thực (ground truth) vào biến y \n",
    "y = data[:,1:]"
   ]
  },
  {
   "cell_type": "code",
   "execution_count": 2,
   "metadata": {},
   "outputs": [],
   "source": [
    "# Khởi tạo theta0, theta1 ban đầu ngẫu nhiên \n",
    "# Hàm numpy.random.seed sẽ giúp kết quả random không thay đổi khi chạy lại \n",
    "np.random.seed(2020)\n",
    "theta0 = np.random.randn()\n",
    "theta1 = np.random.randn()"
   ]
  },
  {
   "cell_type": "code",
   "execution_count": 3,
   "metadata": {},
   "outputs": [],
   "source": [
    "# Khởi tạo learning_rate \n",
    "learning_rate = 0.01"
   ]
  },
  {
   "cell_type": "markdown",
   "metadata": {},
   "source": [
    "Hiển thị dữ liệu và xem sự phân bố của chúng"
   ]
  },
  {
   "cell_type": "code",
   "execution_count": 4,
   "metadata": {},
   "outputs": [
    {
     "data": {
      "image/png": "[encoded data removed]",
      "text/plain": [
       "<Figure size 432x288 with 1 Axes>"
      ]
     },
     "metadata": {
      "needs_background": "light"
     },
     "output_type": "display_data"
    }
   ],
   "source": [
    "plt.scatter(X, y)\n",
    "plt.xlabel('Diện tích nhà (x 100$m^2$)')\n",
    "plt.ylabel('Giá nhà (chục lượng vàng)')\n",
    "plt.show()"
   ]
  },
  {
   "cell_type": "markdown",
   "metadata": {},
   "source": [
    "Hàm dự đoán: \n",
    "<center>Giá trị dự đoán: $\\hat{y} = h_{\\theta}(x) = \\theta_0 + \\theta_1{x}$ </center>"
   ]
  },
  {
   "cell_type": "code",
   "execution_count": 5,
   "metadata": {},
   "outputs": [],
   "source": [
    "def predict(x, theta0, theta1):\n",
    "    return theta0 + theta1 * x"
   ]
  },
  {
   "cell_type": "markdown",
   "metadata": {},
   "source": [
    "Thực hiện hàm Cost:\n",
    "\n",
    "<center>$J(\\theta_0, \\theta_1) = \\dfrac{1}{2m} \\sum_{i=1}^m {(h_{\\theta}(x_i) - y)^2} = \\dfrac{1}{2m} \\sum_{i=1}^m {((\\theta_0 + \\theta_1{x}) - y)^2}$</center>"
   ]
  },
  {
   "cell_type": "code",
   "execution_count": 6,
   "metadata": {},
   "outputs": [],
   "source": [
    "def cost_function(X, y, theta0, theta1):\n",
    "    total_error = 0.0\n",
    "    for i in range(m):\n",
    "        total_error += ((theta0 + theta1 * X[i]) - y[i])**2\n",
    "    return total_error / (2*m)"
   ]
  },
  {
   "cell_type": "markdown",
   "metadata": {},
   "source": [
    "Cập nhật tham số (weight)\n",
    "\n",
    "> $\\theta_0 := \\theta_0 - \\alpha \\dfrac{1}{m} \\sum_{i=1}^m {(h_{\\theta}(x_i) - y)} $\n",
    ">\n",
    "> $\\theta_1 := \\theta_1 - \\alpha \\dfrac{1}{m} \\sum_{i=1}^m {((h_{\\theta}(x_i) - y)*x_i)} $\n"
   ]
  },
  {
   "cell_type": "code",
   "execution_count": 7,
   "metadata": {},
   "outputs": [],
   "source": [
    "def update_weights(X, y, theta0, theta1, learning_rate):\n",
    "\n",
    "    theta0_deriv = 0\n",
    "    theta1_deriv = 0\n",
    "    \n",
    "    # Thực hiện tính Sum trước\n",
    "    for i in range(m):\n",
    "        theta0_deriv += (theta0 + theta1 * X[i]) - y[i]\n",
    "        theta1_deriv += ((theta0 + theta1 * X[i]) - y[i]) * X[i]\n",
    "\n",
    "    # Thực hiện di chuyển ngược dấu đạo hàm \n",
    "    theta0 -= (theta0_deriv / m) * learning_rate\n",
    "    theta1 -= (theta1_deriv / m) * learning_rate\n",
    "\n",
    "    return theta0, theta1"
   ]
  },
  {
   "cell_type": "markdown",
   "metadata": {},
   "source": [
    "Thực hiện Training"
   ]
  },
  {
   "cell_type": "code",
   "execution_count": 8,
   "metadata": {},
   "outputs": [],
   "source": [
    "def train(X, y, theta0, theta1, learning_rate, iters):\n",
    "    cost_history = []\n",
    "\n",
    "    for i in range(iters):\n",
    "        theta0, theta1 = update_weights(X, y, theta0, theta1, learning_rate)\n",
    "\n",
    "        # Tính hàm cost\n",
    "        cost = cost_function(X, y, theta0, theta1)\n",
    "        cost_history.append(cost)\n",
    "\n",
    "    return theta0, theta1, cost_history"
   ]
  },
  {
   "cell_type": "code",
   "execution_count": 9,
   "metadata": {},
   "outputs": [
    {
     "name": "stdout",
     "output_type": "stream",
     "text": [
      "[-0.24500283] [1.41644994]\n"
     ]
    },
    {
     "data": {
      "image/png": "[encoded data removed]",
      "text/plain": [
       "<Figure size 432x288 with 1 Axes>"
      ]
     },
     "metadata": {
      "needs_background": "light"
     },
     "output_type": "display_data"
    }
   ],
   "source": [
    "# iters là số vòng lặp \n",
    "iters = 500\n",
    "\n",
    "theta0, theta1, cost_history = train(X, y, theta0, theta1, learning_rate, iters)\n",
    "\n",
    "# Vẽ hàm lỗi \n",
    "plt.plot(cost_history)\n",
    "\n",
    "# Hiển thị giá trị theta0, theta1 học được sau quá trình train\n",
    "print(theta0, theta1)"
   ]
  },
  {
   "cell_type": "code",
   "execution_count": 10,
   "metadata": {},
   "outputs": [
    {
     "data": {
      "text/plain": [
       "[<matplotlib.lines.Line2D at 0x115bf3518>]"
      ]
     },
     "execution_count": 10,
     "metadata": {},
     "output_type": "execute_result"
    },
    {
     "data": {
      "image/png": "[encoded data removed]",
      "text/plain": [
       "<Figure size 432x288 with 1 Axes>"
      ]
     },
     "metadata": {
      "needs_background": "light"
     },
     "output_type": "display_data"
    }
   ],
   "source": [
    "# Đường thẳng linear regression tìm được sau khi huấn luyện\n",
    "plt.scatter(X, y)\n",
    "data_y = theta0 + theta1 * X\n",
    "plt.plot(X,data_y, color=\"r\")"
   ]
  },
  {
   "cell_type": "markdown",
   "metadata": {},
   "source": [
    "Thực hiện dự đoán giá nhà của căn nhà có diện tích 4.5"
   ]
  },
  {
   "cell_type": "code",
   "execution_count": 11,
   "metadata": {},
   "outputs": [
    {
     "name": "stdout",
     "output_type": "stream",
     "text": [
      "Giá nhà có diện tích 4.5 là:  [6.1290219]\n"
     ]
    }
   ],
   "source": [
    "x_pred = 4.5\n",
    "print('Giá nhà có diện tích 4.5 là: ', predict(x_pred, theta0, theta1))"
   ]
  },
  {
   "cell_type": "markdown",
   "metadata": {},
   "source": [
    "### Tổng Kết \n",
    "\n",
    "Thông qua bài này các bạn đã có một cái nhìn sơ lược về thuật toán hồi quy tuyến tính đơn biến. Tuy nhiên, vẫn còn rất nhiều vấn đề chúng ta cần phải đề cập tới như giá trị Learning Rate, khởi tạo Weight, thực hiện với dữ liệu lớn và có nhiều Feature, Feature Normalization...\n",
    "\n",
    "Chúng ta sẽ cùng tìm hiểu các vấn đề này trong bài tiếp theo !"
   ]
  },
  {
   "cell_type": "markdown",
   "metadata": {},
   "source": [
    "### Tài Liệu Tham Khảo \n",
    "[1] [CS229 - Machine Learning Course](http://cs229.stanford.edu)\n",
    "\n",
    "[2] [Learning rate of your neural network](https://www.jeremyjordan.me/nn-learning-rate/)"
   ]
  }
 ],
 "metadata": {
  "kernelspec": {
   "display_name": "Python 3",
   "language": "python",
   "name": "python3"
  },
  "language_info": {
   "codemirror_mode": {
    "name": "ipython",
    "version": 3
   },
   "file_extension": ".py",
   "mimetype": "text/x-python",
   "name": "python",
   "nbconvert_exporter": "python",
   "pygments_lexer": "ipython3",
   "version": "3.7.3"
  }
 },
 "nbformat": 4,
 "nbformat_minor": 2
}
