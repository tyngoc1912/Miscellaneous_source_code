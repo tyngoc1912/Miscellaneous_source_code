{
 "cells": [
  {
   "cell_type": "markdown",
   "metadata": {},
   "source": [
    "Cho hai mảng sau\n",
    "\n",
    "`arr1 = np.array([4, 6, 2, 8, 6, 9])`\n",
    "\n",
    "`arr2 = np.array([1, 5, 4, 9, 8, 5])`\n",
    "\n",
    "Tìm giá trị max giữa 2 mảng arr1 và arr2."
   ]
  },
  {
   "cell_type": "code",
   "execution_count": 1,
   "metadata": {},
   "outputs": [
    {
     "name": "stdout",
     "output_type": "stream",
     "text": [
      "[4 6 2 8 6 9] [1 5 4 9 8 5]\n"
     ]
    }
   ],
   "source": [
    "import numpy as np\n",
    "\n",
    "arr1 = np.array([4, 6, 2, 8, 6, 9])\n",
    "arr2 = np.array([1, 5, 4, 9, 8, 5])\n",
    "\n",
    "print(arr1, arr2)"
   ]
  },
  {
   "cell_type": "code",
   "execution_count": 2,
   "metadata": {},
   "outputs": [
    {
     "name": "stdout",
     "output_type": "stream",
     "text": [
      "[4 6 4 9 8 9]\n",
      "9\n"
     ]
    }
   ],
   "source": [
    "a = np.maximum(arr1, arr2)\n",
    "value = max(a)\n",
    "print(a)\n",
    "print(value)"
   ]
  }
 ],
 "metadata": {
  "kernelspec": {
   "display_name": "Python 3",
   "language": "python",
   "name": "python3"
  },
  "language_info": {
   "codemirror_mode": {
    "name": "ipython",
    "version": 3
   },
   "file_extension": ".py",
   "mimetype": "text/x-python",
   "name": "python",
   "nbconvert_exporter": "python",
   "pygments_lexer": "ipython3",
   "version": "3.7.3"
  }
 },
 "nbformat": 4,
 "nbformat_minor": 2
}
