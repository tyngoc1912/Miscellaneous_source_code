{
 "cells": [
  {
   "cell_type": "code",
   "execution_count": 1,
   "metadata": {},
   "outputs": [],
   "source": [
    "import numpy as np\n",
    "from numpy import genfromtxt\n",
    "import matplotlib.pyplot as plt"
   ]
  },
  {
   "cell_type": "code",
   "execution_count": 2,
   "metadata": {},
   "outputs": [],
   "source": [
    "data = genfromtxt('my_house_price_prediction.csv', delimiter=',')\n",
    "\n",
    "m = data.shape[0]\n",
    "n = data.shape[1]\n",
    "\n",
    "x = data[:, 0]\n",
    "y = data[:, 1]\n",
    "X = np.c_[np.ones((m, 1)), x]"
   ]
  },
  {
   "cell_type": "code",
   "execution_count": 3,
   "metadata": {},
   "outputs": [
    {
     "data": {
      "image/png": "[encoded data removed]",
      "text/plain": [
       "<Figure size 432x288 with 1 Axes>"
      ]
     },
     "metadata": {
      "needs_background": "light"
     },
     "output_type": "display_data"
    }
   ],
   "source": [
    "plt.scatter(x, y)\n",
    "plt.xlabel('Dien tich nha (x100 $m^2$)')\n",
    "plt.ylabel('Gia nha')\n",
    "plt.show()"
   ]
  },
  {
   "cell_type": "code",
   "execution_count": 4,
   "metadata": {},
   "outputs": [
    {
     "name": "stdout",
     "output_type": "stream",
     "text": [
      "X.shape: (20, 2)\n",
      "y.shape: (20,)\n"
     ]
    }
   ],
   "source": [
    "print('X.shape:', X.shape)\n",
    "print('y.shape:', y.shape)\n",
    "# m = 20\n",
    "# n = 2\n",
    "# y = aX + b"
   ]
  },
  {
   "cell_type": "code",
   "execution_count": 5,
   "metadata": {},
   "outputs": [],
   "source": [
    "# Vectorization\n",
    "\n",
    "# Initialize theta\n",
    "theta = np.random.randn(n)\n",
    "\n",
    "def cost(theta, X = X, y = y, m = m):\n",
    "    y_hat = np.dot(X, theta)\n",
    "    cost = 1 / m * sum((y_hat - y)**2)\n",
    "    return cost \n",
    "\n",
    "def cost_dev(theta=theta, X=X, y=y, m=m):\n",
    "    dev = np.dot(X, np.dot(X, theta) - y)\n",
    "    dev = 1/m * dev\n",
    "    return np.array(dev)\n",
    "\n",
    "# learning rate\n",
    "learning_rate = 0.01\n",
    "cost_list = []\n",
    "\n",
    "epoches = 500\n",
    "for epoch in range(epoches):\n",
    "    output = np.dot(X, theta)\n",
    "    loss_grd = output - y\n",
    "    \n",
    "    theta = theta - learning_rate * 1/m * (np.dot(X.T, loss_grd))\n",
    "    cost_val = cost(theta)\n",
    "    cost_list.append(cost_val)"
   ]
  },
  {
   "cell_type": "code",
   "execution_count": 6,
   "metadata": {},
   "outputs": [
    {
     "data": {
      "text/plain": [
       "Text(0, 0.5, 'Gia tri loss')"
      ]
     },
     "execution_count": 6,
     "metadata": {},
     "output_type": "execute_result"
    },
    {
     "data": {
      "image/png": "[encoded data removed]",
      "text/plain": [
       "<Figure size 432x288 with 1 Axes>"
      ]
     },
     "metadata": {
      "needs_background": "light"
     },
     "output_type": "display_data"
    }
   ],
   "source": [
    "plt.plot(np.arange(0, epoches), cost_list)\n",
    "plt.xlabel('epoch')\n",
    "plt.ylabel('Gia tri loss')"
   ]
  },
  {
   "cell_type": "code",
   "execution_count": null,
   "metadata": {},
   "outputs": [],
   "source": []
  }
 ],
 "metadata": {
  "kernelspec": {
   "display_name": "Python 3",
   "language": "python",
   "name": "python3"
  },
  "language_info": {
   "codemirror_mode": {
    "name": "ipython",
    "version": 3
   },
   "file_extension": ".py",
   "mimetype": "text/x-python",
   "name": "python",
   "nbconvert_exporter": "python",
   "pygments_lexer": "ipython3",
   "version": "3.7.3"
  }
 },
 "nbformat": 4,
 "nbformat_minor": 2
}
