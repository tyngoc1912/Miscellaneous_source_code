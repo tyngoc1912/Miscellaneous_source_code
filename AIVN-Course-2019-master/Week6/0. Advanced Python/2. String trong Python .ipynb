{
 "cells": [
  {
   "cell_type": "markdown",
   "metadata": {},
   "source": [
    "### 1. Tạo một string và kí tự đặc biệt \n",
    "\n",
    "- Có 2 loại dấu nháy là: `' '` và `\" \"`, mỗi kiểu có 2 cách sử dụng:\n",
    "\n",
    "    - `' '`; `\" \"`\n",
    "    - `''' '''`; `\"\"\" \"\"\"`"
   ]
  },
  {
   "cell_type": "code",
   "execution_count": 3,
   "metadata": {},
   "outputs": [
    {
     "name": "stdout",
     "output_type": "stream",
     "text": [
      "Hello World\n",
      "Hello World\n",
      "Hello World\n"
     ]
    }
   ],
   "source": [
    "text1 = 'Hello World'\n",
    "text2 = \"Hello World\"\n",
    "text3 = '''Hello World'''\n",
    "\n",
    "print(text1)\n",
    "print(text2)\n",
    "print(text3)"
   ]
  },
  {
   "cell_type": "markdown",
   "metadata": {},
   "source": [
    "- Có thể sử dụng dấu nháy `' '` bên trong dấu nháy `''' '''`"
   ]
  },
  {
   "cell_type": "code",
   "execution_count": 9,
   "metadata": {},
   "outputs": [
    {
     "name": "stdout",
     "output_type": "stream",
     "text": [
      "Chuỗi có kí tự đặc biệt \" và ' bên trong\n"
     ]
    }
   ],
   "source": [
    "text = '''Chuỗi có kí tự đặc biệt \" và ' bên trong''' \n",
    "\n",
    "print(text)"
   ]
  },
  {
   "cell_type": "markdown",
   "metadata": {},
   "source": [
    "- Có thể sử dụng dấu `\\`"
   ]
  },
  {
   "cell_type": "code",
   "execution_count": 11,
   "metadata": {},
   "outputs": [
    {
     "name": "stdout",
     "output_type": "stream",
     "text": [
      "Chuỗi có kí tự đặc biệt \", ' bên trong \n"
     ]
    }
   ],
   "source": [
    "text = 'Chuỗi có kí tự đặc biệt \\\", \\' bên trong '\n",
    "print(text)"
   ]
  },
  {
   "cell_type": "markdown",
   "metadata": {},
   "source": [
    "### 2. Định dạng trong string \n",
    "\n",
    "- Sử dụng dấu % cho đầu ra output được định dạng. Cấu trúc của một string như sau: `string % values`"
   ]
  },
  {
   "cell_type": "code",
   "execution_count": 12,
   "metadata": {},
   "outputs": [
    {
     "name": "stdout",
     "output_type": "stream",
     "text": [
      "Hướng dẫn bởi AIVIETNAM\n"
     ]
    }
   ],
   "source": [
    "print('%s' %'Hướng dẫn bởi AIVIETNAM')"
   ]
  },
  {
   "cell_type": "markdown",
   "metadata": {},
   "source": [
    "- Nếu có nhiều giá trị vào string, thêm vào dấu ngoặc tròn ().\n",
    "- Chú ý: **không có** dấu `,` ngăn cách."
   ]
  },
  {
   "cell_type": "code",
   "execution_count": 13,
   "metadata": {},
   "outputs": [
    {
     "name": "stdout",
     "output_type": "stream",
     "text": [
      "ABC DEF\n"
     ]
    }
   ],
   "source": [
    "print('%s %s' %('ABC', 'DEF'))"
   ]
  },
  {
   "cell_type": "markdown",
   "metadata": {},
   "source": [
    "- Có nhiều cách khác nhau để định dạng một chuỗi với các đối số. Phổ biến dùng phương thức format()"
   ]
  },
  {
   "cell_type": "code",
   "execution_count": 14,
   "metadata": {},
   "outputs": [
    {
     "name": "stdout",
     "output_type": "stream",
     "text": [
      "2 != 1\n"
     ]
    }
   ],
   "source": [
    "print('{a} != {b}'.format(a = 2, b = 1))"
   ]
  },
  {
   "cell_type": "markdown",
   "metadata": {},
   "source": [
    "### 3. Operators\n",
    "\n",
    "- Toán tử `+` và `*` dùng để tạo một string mới"
   ]
  },
  {
   "cell_type": "code",
   "execution_count": 16,
   "metadata": {},
   "outputs": [
    {
     "name": "stdout",
     "output_type": "stream",
     "text": [
      "Tôi yêu VIET NAM\n"
     ]
    }
   ],
   "source": [
    "t = 'Tôi yêu'\n",
    "t2 = ' VIET NAM'\n",
    "t3 = t + t2 \n",
    "\n",
    "print(t3)"
   ]
  },
  {
   "cell_type": "code",
   "execution_count": 18,
   "metadata": {},
   "outputs": [
    {
     "name": "stdout",
     "output_type": "stream",
     "text": [
      "Tôi yêu VIET NAMTôi yêu VIET NAM\n"
     ]
    }
   ],
   "source": [
    "# Toán tử `*` sẽ chuỗi lên nhiều lần \n",
    "print(t3 * 2)"
   ]
  },
  {
   "cell_type": "markdown",
   "metadata": {},
   "source": [
    "Các toán tử khác như `>, >=, ==, <=, < và !=` có thể sử dụng để so sánh chuỗi."
   ]
  },
  {
   "cell_type": "markdown",
   "metadata": {},
   "source": [
    "### 4. Phương thức truy vấn thông tin trong string \n",
    "\n",
    "Một số phương pháp để kiểm tra loại kí tự hoặc số trong một chuỗi: \n",
    "   - `isdigit()`\n",
    "   \n",
    "   - `isalpha()`\n",
    "   \n",
    "   - `isupper()`\n",
    "   \n",
    "   - `islower()`\n",
    "   \n",
    "   - `istitle()`\n",
    "   \n",
    "   - `isspace()`\n",
    "   \n",
    "   - `str.alnum()`"
   ]
  },
  {
   "cell_type": "code",
   "execution_count": 21,
   "metadata": {},
   "outputs": [
    {
     "data": {
      "text/plain": [
       "True"
      ]
     },
     "execution_count": 21,
     "metadata": {},
     "output_type": "execute_result"
    }
   ],
   "source": [
    "'44'.isdigit() # Kiểm tra chuỗi gồm các chữ số "
   ]
  },
  {
   "cell_type": "code",
   "execution_count": 22,
   "metadata": {},
   "outputs": [
    {
     "data": {
      "text/plain": [
       "False"
      ]
     },
     "execution_count": 22,
     "metadata": {},
     "output_type": "execute_result"
    }
   ],
   "source": [
    "'44'.isalpha() # Kiểm tra xem có phải chữ "
   ]
  },
  {
   "cell_type": "code",
   "execution_count": 23,
   "metadata": {},
   "outputs": [
    {
     "data": {
      "text/plain": [
       "False"
      ]
     },
     "execution_count": 23,
     "metadata": {},
     "output_type": "execute_result"
    }
   ],
   "source": [
    "'Aa'.isupper() # Kiểm tra các chữ viết hoa"
   ]
  },
  {
   "cell_type": "code",
   "execution_count": 24,
   "metadata": {},
   "outputs": [
    {
     "data": {
      "text/plain": [
       "True"
      ]
     },
     "execution_count": 24,
     "metadata": {},
     "output_type": "execute_result"
    }
   ],
   "source": [
    "'aa'.islower() # Tất cả được tạo từ chữ thường "
   ]
  },
  {
   "cell_type": "code",
   "execution_count": 27,
   "metadata": {},
   "outputs": [
    {
     "data": {
      "text/plain": [
       "False"
      ]
     },
     "execution_count": 27,
     "metadata": {},
     "output_type": "execute_result"
    }
   ],
   "source": [
    "text = 'Có khoảng trắng? '\n",
    "text.isspace()"
   ]
  },
  {
   "cell_type": "code",
   "execution_count": 31,
   "metadata": {},
   "outputs": [
    {
     "data": {
      "text/plain": [
       "True"
      ]
     },
     "execution_count": 31,
     "metadata": {},
     "output_type": "execute_result"
    }
   ],
   "source": [
    "text = '    '\n",
    "text.isspace()"
   ]
  },
  {
   "cell_type": "code",
   "execution_count": 33,
   "metadata": {},
   "outputs": [
    {
     "data": {
      "text/plain": [
       "0"
      ]
     },
     "execution_count": 33,
     "metadata": {},
     "output_type": "execute_result"
    }
   ],
   "source": [
    "mystr = 'AI VIET NAM'\n",
    "mystr.count('i')"
   ]
  },
  {
   "cell_type": "code",
   "execution_count": 34,
   "metadata": {},
   "outputs": [
    {
     "data": {
      "text/plain": [
       "11"
      ]
     },
     "execution_count": 34,
     "metadata": {},
     "output_type": "execute_result"
    }
   ],
   "source": [
    "len(mystr)"
   ]
  },
  {
   "cell_type": "markdown",
   "metadata": {},
   "source": [
    "### 5. Các phương thức biến đổi của chuỗi"
   ]
  },
  {
   "cell_type": "code",
   "execution_count": 42,
   "metadata": {},
   "outputs": [],
   "source": [
    "mystr = 'Bài viết được hướng dẫn bởi AI VIET NAM'"
   ]
  },
  {
   "cell_type": "code",
   "execution_count": 43,
   "metadata": {},
   "outputs": [
    {
     "data": {
      "text/plain": [
       "'Bài Viết Được Hướng Dẫn Bởi Ai Viet Nam'"
      ]
     },
     "execution_count": 43,
     "metadata": {},
     "output_type": "execute_result"
    }
   ],
   "source": [
    "# Biến kí tự đầu của một chuỗi là kí tự viết hoa \n",
    "mystr.title() "
   ]
  },
  {
   "cell_type": "code",
   "execution_count": 44,
   "metadata": {},
   "outputs": [
    {
     "data": {
      "text/plain": [
       "'Bài viết được hướng dẫn bởi ai viet nam'"
      ]
     },
     "execution_count": 44,
     "metadata": {},
     "output_type": "execute_result"
    }
   ],
   "source": [
    "# Chữ cái đầu tiên của một chuỗi là chữ viết hoa \n",
    "mystr.capitalize() "
   ]
  },
  {
   "cell_type": "code",
   "execution_count": 45,
   "metadata": {},
   "outputs": [
    {
     "data": {
      "text/plain": [
       "'BÀI VIẾT ĐƯỢC HƯỚNG DẪN BỞI AI VIET NAM'"
      ]
     },
     "execution_count": 45,
     "metadata": {},
     "output_type": "execute_result"
    }
   ],
   "source": [
    "# Tất cả các chữ cái trong chuỗi là chữ hoa \n",
    "mystr.upper()"
   ]
  },
  {
   "cell_type": "code",
   "execution_count": 46,
   "metadata": {},
   "outputs": [
    {
     "data": {
      "text/plain": [
       "'bài viết được hướng dẫn bởi ai viet nam'"
      ]
     },
     "execution_count": 46,
     "metadata": {},
     "output_type": "execute_result"
    }
   ],
   "source": [
    "# Tất cả các chữ cái sang chữ thường\n",
    "mystr.lower()"
   ]
  },
  {
   "cell_type": "code",
   "execution_count": 47,
   "metadata": {},
   "outputs": [
    {
     "data": {
      "text/plain": [
       "'bÀI VIẾT ĐƯỢC HƯỚNG DẪN BỞI ai viet nam'"
      ]
     },
     "execution_count": 47,
     "metadata": {},
     "output_type": "execute_result"
    }
   ],
   "source": [
    "mystr = 'Bài viết được hướng dẫn bởi AI VIET NAM'\n",
    "\n",
    "# Đổi chữ thường sang chữ hoa và ngược lại\n",
    "mystr.swapcase()"
   ]
  },
  {
   "cell_type": "markdown",
   "metadata": {},
   "source": [
    "### 6. Điều chỉnh vị trí của chuỗi "
   ]
  },
  {
   "cell_type": "code",
   "execution_count": 48,
   "metadata": {},
   "outputs": [],
   "source": [
    "mystr = 'Bài viết được hướng dẫn bởi AI VIET NAM'"
   ]
  },
  {
   "cell_type": "code",
   "execution_count": 50,
   "metadata": {},
   "outputs": [
    {
     "data": {
      "text/plain": [
       "'          Bài viết được hướng dẫn bởi AI VIET NAM           '"
      ]
     },
     "execution_count": 50,
     "metadata": {},
     "output_type": "execute_result"
    }
   ],
   "source": [
    "# Chỉnh chuỗi ở trung tâm dựa vào chiều dài của một chuỗi là 60\n",
    "mystr.center(60)"
   ]
  },
  {
   "cell_type": "code",
   "execution_count": 51,
   "metadata": {},
   "outputs": [
    {
     "data": {
      "text/plain": [
       "'Bài viết được hướng dẫn bởi AI VIET NAM                     '"
      ]
     },
     "execution_count": 51,
     "metadata": {},
     "output_type": "execute_result"
    }
   ],
   "source": [
    "# Chỉnh chuỗi sang trái\n",
    "mystr.ljust(60)"
   ]
  },
  {
   "cell_type": "code",
   "execution_count": 53,
   "metadata": {},
   "outputs": [
    {
     "data": {
      "text/plain": [
       "'---------------------Bài viết được hướng dẫn bởi AI VIET NAM'"
      ]
     },
     "execution_count": 53,
     "metadata": {},
     "output_type": "execute_result"
    }
   ],
   "source": [
    "# Chỉnh chuỗi sang phải với kí tự là '-'\n",
    "mystr.rjust(60, '-')"
   ]
  },
  {
   "cell_type": "markdown",
   "metadata": {},
   "source": [
    "- Cắt bỏ khoảng trống hai đầu string bằng phương thức `strip`\n",
    "\n",
    "- Phương thức này tạo ra một chuỗi `copy`, không thay đổi nội dung chuỗi ban đầu."
   ]
  },
  {
   "cell_type": "code",
   "execution_count": 66,
   "metadata": {},
   "outputs": [
    {
     "name": "stdout",
     "output_type": "stream",
     "text": [
      "36\n"
     ]
    },
    {
     "data": {
      "text/plain": [
       "'Đây là bài học của AI VIET NAM'"
      ]
     },
     "execution_count": 66,
     "metadata": {},
     "output_type": "execute_result"
    }
   ],
   "source": [
    "mystr = \"   Đây là bài học của AI VIET NAM   \"\n",
    "print(len(mystr))\n",
    "mystr.strip()"
   ]
  },
  {
   "cell_type": "code",
   "execution_count": 65,
   "metadata": {},
   "outputs": [
    {
     "name": "stdout",
     "output_type": "stream",
     "text": [
      "36\n"
     ]
    },
    {
     "data": {
      "text/plain": [
       "'Đây là bài học của AI VIET NAM   '"
      ]
     },
     "execution_count": 65,
     "metadata": {},
     "output_type": "execute_result"
    }
   ],
   "source": [
    "mystr = \"   Đây là bài học của AI VIET NAM   \"\n",
    "mystr.lstrip()"
   ]
  },
  {
   "cell_type": "code",
   "execution_count": 62,
   "metadata": {},
   "outputs": [
    {
     "data": {
      "text/plain": [
       "'   Đây là bài học của AI VIET NAM'"
      ]
     },
     "execution_count": 62,
     "metadata": {},
     "output_type": "execute_result"
    }
   ],
   "source": [
    "mystr = \"   Đây là bài học của AI VIET NAM   \"\n",
    "mystr.rstrip()"
   ]
  },
  {
   "cell_type": "code",
   "execution_count": 69,
   "metadata": {},
   "outputs": [
    {
     "name": "stdout",
     "output_type": "stream",
     "text": [
      "36\n",
      "   Đây là bài học của AI VIET NAM   \n"
     ]
    }
   ],
   "source": [
    "print(len(mystr))\n",
    "print(mystr)"
   ]
  },
  {
   "cell_type": "markdown",
   "metadata": {},
   "source": [
    "### 7. Phương thức để tìm vị trí của một string \n",
    "\n",
    "- Phương thức `endswith(), startswith(), find() và index()`, những phương thức này giúp tìm kiếm cho những chuỗi con trong string."
   ]
  },
  {
   "cell_type": "code",
   "execution_count": 70,
   "metadata": {},
   "outputs": [
    {
     "data": {
      "text/plain": [
       "True"
      ]
     },
     "execution_count": 70,
     "metadata": {},
     "output_type": "execute_result"
    }
   ],
   "source": [
    "mystr = 'This is a dummy string'\n",
    "\n",
    "# Kiểm tra kết thúc là chuỗi `ing`\n",
    "mystr.endswith('ing')"
   ]
  },
  {
   "cell_type": "code",
   "execution_count": 72,
   "metadata": {},
   "outputs": [
    {
     "data": {
      "text/plain": [
       "2"
      ]
     },
     "execution_count": 72,
     "metadata": {},
     "output_type": "execute_result"
    }
   ],
   "source": [
    "# Tìm kiếm vị trí `is` \n",
    "mystr.find('is')"
   ]
  },
  {
   "cell_type": "code",
   "execution_count": 73,
   "metadata": {},
   "outputs": [
    {
     "data": {
      "text/plain": [
       "5"
      ]
     },
     "execution_count": 73,
     "metadata": {},
     "output_type": "execute_result"
    }
   ],
   "source": [
    "# Tìm kiếm vị trí `is` từ vị trí thứ 4 \n",
    "mystr.find('is', 4)"
   ]
  }
 ],
 "metadata": {
  "kernelspec": {
   "display_name": "Python 3",
   "language": "python",
   "name": "python3"
  },
  "language_info": {
   "codemirror_mode": {
    "name": "ipython",
    "version": 3
   },
   "file_extension": ".py",
   "mimetype": "text/x-python",
   "name": "python",
   "nbconvert_exporter": "python",
   "pygments_lexer": "ipython3",
   "version": "3.7.3"
  }
 },
 "nbformat": 4,
 "nbformat_minor": 2
}
