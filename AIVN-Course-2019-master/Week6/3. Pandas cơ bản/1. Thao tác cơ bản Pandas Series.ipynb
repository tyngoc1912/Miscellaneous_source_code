{
 "cells": [
  {
   "cell_type": "markdown",
   "metadata": {},
   "source": [
    "### Khởi tạo và một số thao tác cơ bản "
   ]
  },
  {
   "cell_type": "code",
   "execution_count": 1,
   "metadata": {},
   "outputs": [],
   "source": [
    "import pandas as pd"
   ]
  },
  {
   "cell_type": "markdown",
   "metadata": {},
   "source": [
    "- Tạo Pandas Series bằng cách sử dụng lệnh `pd.series(data, index)`, trong đó `index` là chỉ mục, `data` là giá trị tại chỉ mục đó."
   ]
  },
  {
   "cell_type": "code",
   "execution_count": 2,
   "metadata": {},
   "outputs": [],
   "source": [
    "fruits = pd.Series(data = [30, 6, 'yes', 'no'],\n",
    "                  index = ['mango', 'apple', 'pineaple', 'orange'])"
   ]
  },
  {
   "cell_type": "code",
   "execution_count": 3,
   "metadata": {},
   "outputs": [
    {
     "name": "stdout",
     "output_type": "stream",
     "text": [
      "mango        30\n",
      "apple         6\n",
      "pineaple    yes\n",
      "orange       no\n",
      "dtype: object\n"
     ]
    }
   ],
   "source": [
    "print(fruits)"
   ]
  },
  {
   "cell_type": "code",
   "execution_count": 4,
   "metadata": {},
   "outputs": [
    {
     "name": "stdout",
     "output_type": "stream",
     "text": [
      "Series has shape: (4,)\n"
     ]
    }
   ],
   "source": [
    "# show do dai\n",
    "print('Series has shape:', fruits.shape)"
   ]
  },
  {
   "cell_type": "code",
   "execution_count": 5,
   "metadata": {},
   "outputs": [
    {
     "name": "stdout",
     "output_type": "stream",
     "text": [
      "Series has dimension: 1\n"
     ]
    }
   ],
   "source": [
    "# ndim de xac dinh no la pandas Series (1) hay DataFarme(2)\n",
    "print('Series has dimension:', fruits.ndim)"
   ]
  },
  {
   "cell_type": "code",
   "execution_count": 6,
   "metadata": {},
   "outputs": [
    {
     "name": "stdout",
     "output_type": "stream",
     "text": [
      "4\n"
     ]
    }
   ],
   "source": [
    "# tra ve size cua Series\n",
    "print(fruits.size)"
   ]
  },
  {
   "cell_type": "code",
   "execution_count": 7,
   "metadata": {},
   "outputs": [
    {
     "data": {
      "text/plain": [
       "True"
      ]
     },
     "execution_count": 7,
     "metadata": {},
     "output_type": "execute_result"
    }
   ],
   "source": [
    "# chack xem mango co trong fruits khong\n",
    "'mango' in fruits"
   ]
  },
  {
   "cell_type": "markdown",
   "metadata": {},
   "source": [
    "### Cách truy cập và thao tác với các thành phần trong Pandas Series \n",
    "\n",
    "Có 2 cách để truy cập đến phần tử trong Pandas Series:\n",
    "\n",
    "- Dùng nhãn có chỉ mục (index label)\n",
    "\n",
    "- Chỉ số (numerical indices)\n",
    "\n",
    "Để phần biệt đang dùng index label hay numerical indices thì Pandas Series có 2 thuộc tính `.loc` (dùng cho index label) và `.iloc` (dùng cho numerical indices)"
   ]
  },
  {
   "cell_type": "code",
   "execution_count": 8,
   "metadata": {},
   "outputs": [
    {
     "name": "stdout",
     "output_type": "stream",
     "text": [
      "6\n"
     ]
    }
   ],
   "source": [
    "# sử dụng 1 nhãn chỉ mục duy nhất\n",
    "print(fruits['apple'])"
   ]
  },
  {
   "cell_type": "code",
   "execution_count": 9,
   "metadata": {},
   "outputs": [
    {
     "name": "stdout",
     "output_type": "stream",
     "text": [
      "orange    no\n",
      "apple      6\n",
      "dtype: object\n"
     ]
    }
   ],
   "source": [
    "# có thể truy cập nhiều nhãn chỉ mục \n",
    "print(fruits[['orange', 'apple']])"
   ]
  },
  {
   "cell_type": "code",
   "execution_count": 10,
   "metadata": {},
   "outputs": [
    {
     "name": "stdout",
     "output_type": "stream",
     "text": [
      "mango    30\n",
      "apple     6\n",
      "dtype: object\n"
     ]
    }
   ],
   "source": [
    "# sử dụng .loc để truy cập nhiều nhãn chỉ mục \n",
    "print(fruits.loc[['mango', 'apple']])"
   ]
  },
  {
   "cell_type": "code",
   "execution_count": 11,
   "metadata": {},
   "outputs": [
    {
     "name": "stdout",
     "output_type": "stream",
     "text": [
      "mango    30\n",
      "apple     6\n",
      "dtype: object\n"
     ]
    }
   ],
   "source": [
    "# Truy cập các phần tử trong fruits bằng các chỉ số bằng số\n",
    "print(fruits[[0, 1]])"
   ]
  },
  {
   "cell_type": "code",
   "execution_count": 12,
   "metadata": {},
   "outputs": [
    {
     "name": "stdout",
     "output_type": "stream",
     "text": [
      "orange    no\n",
      "dtype: object\n"
     ]
    }
   ],
   "source": [
    "# Có thể sử dụng một số âm \n",
    "print(fruits[[-1]])"
   ]
  },
  {
   "cell_type": "code",
   "execution_count": 13,
   "metadata": {},
   "outputs": [
    {
     "name": "stdout",
     "output_type": "stream",
     "text": [
      "apple         6\n",
      "pineaple    yes\n",
      "dtype: object\n"
     ]
    }
   ],
   "source": [
    "# sử dụng .iloc để truy cập nhiều chỉ số \n",
    "print(fruits.iloc[[1, 2]])"
   ]
  },
  {
   "cell_type": "markdown",
   "metadata": {},
   "source": [
    "Có thể thay đổi các phần tử như sau:"
   ]
  },
  {
   "cell_type": "code",
   "execution_count": 14,
   "metadata": {},
   "outputs": [
    {
     "name": "stdout",
     "output_type": "stream",
     "text": [
      "mango        30\n",
      "apple         6\n",
      "pineaple    yes\n",
      "orange       no\n",
      "dtype: object\n"
     ]
    }
   ],
   "source": [
    "# Số lượng trước khi thay đổi \n",
    "print(fruits)"
   ]
  },
  {
   "cell_type": "code",
   "execution_count": 15,
   "metadata": {},
   "outputs": [
    {
     "name": "stdout",
     "output_type": "stream",
     "text": [
      "mango        20\n",
      "apple         6\n",
      "pineaple    yes\n",
      "orange       no\n",
      "dtype: object\n"
     ]
    }
   ],
   "source": [
    "# đổi số lượng mango \n",
    "fruits['mango'] = 20\n",
    "print(fruits)"
   ]
  },
  {
   "cell_type": "markdown",
   "metadata": {},
   "source": [
    "Có thể xoá 1 item bằng cách sử dụng `.drop()`.\n",
    "Lưu ý dùng keyword `inplace = True`. Nếu không dùng inplace = True kết quả sẽ không được xoá "
   ]
  },
  {
   "cell_type": "code",
   "execution_count": 16,
   "metadata": {},
   "outputs": [
    {
     "name": "stdout",
     "output_type": "stream",
     "text": [
      "mango        20\n",
      "pineaple    yes\n",
      "orange       no\n",
      "dtype: object\n"
     ]
    }
   ],
   "source": [
    "fruits.drop('apple', inplace = True)\n",
    "print(fruits)"
   ]
  }
 ],
 "metadata": {
  "kernelspec": {
   "display_name": "Python 3",
   "language": "python",
   "name": "python3"
  },
  "language_info": {
   "codemirror_mode": {
    "name": "ipython",
    "version": 3
   },
   "file_extension": ".py",
   "mimetype": "text/x-python",
   "name": "python",
   "nbconvert_exporter": "python",
   "pygments_lexer": "ipython3",
   "version": "3.7.3"
  }
 },
 "nbformat": 4,
 "nbformat_minor": 2
}
