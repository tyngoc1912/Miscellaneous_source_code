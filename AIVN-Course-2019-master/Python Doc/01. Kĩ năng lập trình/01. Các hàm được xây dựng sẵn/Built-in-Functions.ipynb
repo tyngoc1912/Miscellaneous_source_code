{
 "cells": [
  {
   "cell_type": "markdown",
   "metadata": {},
   "source": [
    "## Các hàm được xây dựng sẵn\n",
    "- Đây là những kiến thức mình học từ hướng dẫn của anh [Bá Ngọc](https://www.facebook.com/ngbangoc1706) (Google Developer Group Hanoi - GDG HaNoi Founder and Community Manager)\n",
    "- Liên kết tới bài học [tại đây](https://github.com/bangoc123/learn-machine-learning-in-two-months/blob/master/python-tutorials/built-in-function.ipynb) (Được hướng dẫn bởi Python 2)\n",
    "- Trong bài này mình sử dụng Python 3.7, các hàm Python 3.7 chi tiết [tại đây](https://docs.python.org/3.7/library/functions.html)"
   ]
  },
  {
   "cell_type": "markdown",
   "metadata": {},
   "source": [
    "### 1. Hàm print()"
   ]
  },
  {
   "cell_type": "code",
   "execution_count": 1,
   "metadata": {},
   "outputs": [
    {
     "name": "stdout",
     "output_type": "stream",
     "text": [
      "Xin chào các bạn!\n"
     ]
    }
   ],
   "source": [
    "print('Xin chào các bạn!')"
   ]
  },
  {
   "cell_type": "code",
   "execution_count": 2,
   "metadata": {},
   "outputs": [
    {
     "name": "stdout",
     "output_type": "stream",
     "text": [
      "Mình tên là Thành và mình 20 tuổi\n"
     ]
    }
   ],
   "source": [
    "# Cách sử dụng số 1\n",
    "name = 'Thành'\n",
    "age = 20\n",
    "print('Mình tên là %s và mình %s tuổi' %(name, age))"
   ]
  },
  {
   "cell_type": "code",
   "execution_count": 3,
   "metadata": {},
   "outputs": [
    {
     "name": "stdout",
     "output_type": "stream",
     "text": [
      "Đại học Bách Khoa Hà Nội nằm ở Hà Nội\n",
      "Đại học Bách Khoa Hà Nội nằm ở Hà Nội\n",
      "Hà Nội có trường Đại học Bách Khoa Hà Nội\n"
     ]
    }
   ],
   "source": [
    "# Cách sử dụng số 2\n",
    "# Sử dụng chức năng .format \n",
    "university = 'Đại học Bách Khoa Hà Nội'\n",
    "place = 'Hà Nội'\n",
    "\n",
    "# Nếu trong {} không có thông tin gì thì sẽ được lấy theo thứ tự\n",
    "print('{} nằm ở {}'.format(university, place))\n",
    "\n",
    "# Truyền vị trí thứ tự \n",
    "print('{0} nằm ở {1}'.format(university, place))\n",
    "\n",
    "# Thay đổi vị trí \n",
    "print('{1} có trường {0}'.format(university, place))"
   ]
  },
  {
   "cell_type": "markdown",
   "metadata": {},
   "source": [
    "### 2. Hàm type()\n",
    "Hàm trả về dạng của một đối tượng "
   ]
  },
  {
   "cell_type": "code",
   "execution_count": 4,
   "metadata": {},
   "outputs": [
    {
     "data": {
      "text/plain": [
       "int"
      ]
     },
     "execution_count": 4,
     "metadata": {},
     "output_type": "execute_result"
    }
   ],
   "source": [
    "x = 5\n",
    "type(x)"
   ]
  },
  {
   "cell_type": "code",
   "execution_count": 5,
   "metadata": {},
   "outputs": [
    {
     "data": {
      "text/plain": [
       "str"
      ]
     },
     "execution_count": 5,
     "metadata": {},
     "output_type": "execute_result"
    }
   ],
   "source": [
    "name = 'Nguyễn Trung Thành'\n",
    "type(name)"
   ]
  },
  {
   "cell_type": "code",
   "execution_count": 6,
   "metadata": {},
   "outputs": [
    {
     "data": {
      "text/plain": [
       "dict"
      ]
     },
     "execution_count": 6,
     "metadata": {},
     "output_type": "execute_result"
    }
   ],
   "source": [
    "person = {'name': 'Nguyễn Trung Thành', 'study_at':'Đại học Bách Khoa Hà Nội'}\n",
    "type(person)"
   ]
  },
  {
   "cell_type": "code",
   "execution_count": 7,
   "metadata": {},
   "outputs": [
    {
     "data": {
      "text/plain": [
       "list"
      ]
     },
     "execution_count": 7,
     "metadata": {},
     "output_type": "execute_result"
    }
   ],
   "source": [
    "days = ['Monday','Tuesday']\n",
    "type(days)"
   ]
  },
  {
   "cell_type": "markdown",
   "metadata": {},
   "source": [
    "### 3. Hàm abs()\n",
    "Hàm này trả về giá trị tuyệt đối "
   ]
  },
  {
   "cell_type": "code",
   "execution_count": 8,
   "metadata": {},
   "outputs": [
    {
     "data": {
      "text/plain": [
       "20"
      ]
     },
     "execution_count": 8,
     "metadata": {},
     "output_type": "execute_result"
    }
   ],
   "source": [
    "z = -20\n",
    "abs(z)"
   ]
  },
  {
   "cell_type": "markdown",
   "metadata": {},
   "source": [
    "### 4. Hàm all()\n",
    "Hàm trả về `true` nếu tất cả các phần tử trong `iterable` là `True`. List là một điển hình cho `iterable`"
   ]
  },
  {
   "cell_type": "code",
   "execution_count": 9,
   "metadata": {},
   "outputs": [
    {
     "data": {
      "text/plain": [
       "True"
      ]
     },
     "execution_count": 9,
     "metadata": {},
     "output_type": "execute_result"
    }
   ],
   "source": [
    "# Tất cả các phần tử là True\n",
    "isHandsome = True \n",
    "isManly = True \n",
    "me = [isHandsome, isManly]\n",
    "all(me)\n"
   ]
  },
  {
   "cell_type": "code",
   "execution_count": 10,
   "metadata": {},
   "outputs": [
    {
     "data": {
      "text/plain": [
       "False"
      ]
     },
     "execution_count": 10,
     "metadata": {},
     "output_type": "execute_result"
    }
   ],
   "source": [
    "# Có phần tử False \n",
    "isHandsome = False \n",
    "isManly = True\n",
    "me = [isHandsome, isManly]\n",
    "all(me)"
   ]
  },
  {
   "cell_type": "markdown",
   "metadata": {},
   "source": [
    "### 5. Hàm len()\n",
    "Hàm trả về chiều dài hoặc số lượng phần tử của một đối tượng. đầu vào có thể là:\n",
    "    - Dạng Sequence như: string, bytes, tuple, list hoặc range\n",
    "    - Dạng Collection như: dictionary, set hoặc frozen set"
   ]
  },
  {
   "cell_type": "code",
   "execution_count": 11,
   "metadata": {},
   "outputs": [
    {
     "data": {
      "text/plain": [
       "12"
      ]
     },
     "execution_count": 11,
     "metadata": {},
     "output_type": "execute_result"
    }
   ],
   "source": [
    "# Trả về chiều dài của chuỗi \n",
    "website_name = 'Facebook.com'\n",
    "len(website_name)"
   ]
  },
  {
   "cell_type": "code",
   "execution_count": 12,
   "metadata": {},
   "outputs": [
    {
     "data": {
      "text/plain": [
       "2"
      ]
     },
     "execution_count": 12,
     "metadata": {},
     "output_type": "execute_result"
    }
   ],
   "source": [
    "# Trả về số phần tử trong một List \n",
    "languages = ['Vietnamese', 'English']\n",
    "len(languages)"
   ]
  },
  {
   "cell_type": "code",
   "execution_count": 13,
   "metadata": {},
   "outputs": [
    {
     "data": {
      "text/plain": [
       "2"
      ]
     },
     "execution_count": 13,
     "metadata": {},
     "output_type": "execute_result"
    }
   ],
   "source": [
    "# Trả về số lượng thuộc tính của một đối tượng \n",
    "person = {'name': 'Nguyễn Trung Thành', 'study_at':'Đại học Bách Khoa Hà Nội'}\n",
    "len(person)"
   ]
  },
  {
   "cell_type": "markdown",
   "metadata": {},
   "source": [
    "### 6. Hàm max()\n",
    "Hàm trả về giá trị lớn nhất"
   ]
  },
  {
   "cell_type": "code",
   "execution_count": 14,
   "metadata": {},
   "outputs": [
    {
     "data": {
      "text/plain": [
       "10"
      ]
     },
     "execution_count": 14,
     "metadata": {},
     "output_type": "execute_result"
    }
   ],
   "source": [
    "# Trả về giá trị lớn nhất của một dãy số \n",
    "max(10, 3, 2, 1)"
   ]
  },
  {
   "cell_type": "code",
   "execution_count": 15,
   "metadata": {},
   "outputs": [
    {
     "data": {
      "text/plain": [
       "50"
      ]
     },
     "execution_count": 15,
     "metadata": {},
     "output_type": "execute_result"
    }
   ],
   "source": [
    "# Trả về giá trị của phần tử lớn nhất trong một List \n",
    "max([1, 20, 3, 50])"
   ]
  },
  {
   "cell_type": "markdown",
   "metadata": {},
   "source": [
    "### 7. Hàm min()\n",
    "Hàm trả về giá trị nhỏ nhất "
   ]
  },
  {
   "cell_type": "code",
   "execution_count": 16,
   "metadata": {},
   "outputs": [
    {
     "data": {
      "text/plain": [
       "1"
      ]
     },
     "execution_count": 16,
     "metadata": {},
     "output_type": "execute_result"
    }
   ],
   "source": [
    "# Trả về giá trị nhỏ nhất của một dãy số \n",
    "min(10, 3, 2, 1)"
   ]
  },
  {
   "cell_type": "code",
   "execution_count": 17,
   "metadata": {},
   "outputs": [
    {
     "data": {
      "text/plain": [
       "1"
      ]
     },
     "execution_count": 17,
     "metadata": {},
     "output_type": "execute_result"
    }
   ],
   "source": [
    "# Trả về giá trị của phần tử nhỏ nhất trong một List \n",
    "min([1, 20, 3, 50])"
   ]
  },
  {
   "cell_type": "markdown",
   "metadata": {},
   "source": [
    "### 8. Hàm str()\n",
    "Hàm chuyển một đối tượng nhất định chuỗi "
   ]
  },
  {
   "cell_type": "code",
   "execution_count": 18,
   "metadata": {},
   "outputs": [
    {
     "data": {
      "text/plain": [
       "dict"
      ]
     },
     "execution_count": 18,
     "metadata": {},
     "output_type": "execute_result"
    }
   ],
   "source": [
    "Vingroup = {'name': 'Vingroup', 'subsidiaries': ['Vinhome', 'VinMart']}\n",
    "\n",
    "type(Vingroup)"
   ]
  },
  {
   "cell_type": "code",
   "execution_count": 19,
   "metadata": {},
   "outputs": [
    {
     "data": {
      "text/plain": [
       "str"
      ]
     },
     "execution_count": 19,
     "metadata": {},
     "output_type": "execute_result"
    }
   ],
   "source": [
    "# Ép kiểu sang String \n",
    "VinGroupToString = str(Vingroup)\n",
    "\n",
    "type(VinGroupToString)"
   ]
  },
  {
   "cell_type": "markdown",
   "metadata": {},
   "source": [
    "### 9. Hàm imput()\n",
    "Hàm đọc dữ liệu từ bàn phím "
   ]
  },
  {
   "cell_type": "code",
   "execution_count": 20,
   "metadata": {},
   "outputs": [
    {
     "name": "stdout",
     "output_type": "stream",
     "text": [
      "Nhập tên của bạn:Thành\n",
      "Xin chào: Thành\n"
     ]
    }
   ],
   "source": [
    "name = input('Nhập tên của bạn:')\n",
    "\n",
    "print('Xin chào:', name)"
   ]
  }
 ],
 "metadata": {
  "kernelspec": {
   "display_name": "Python 3",
   "language": "python",
   "name": "python3"
  },
  "language_info": {
   "codemirror_mode": {
    "name": "ipython",
    "version": 3
   },
   "file_extension": ".py",
   "mimetype": "text/x-python",
   "name": "python",
   "nbconvert_exporter": "python",
   "pygments_lexer": "ipython3",
   "version": "3.7.3"
  }
 },
 "nbformat": 4,
 "nbformat_minor": 2
}
