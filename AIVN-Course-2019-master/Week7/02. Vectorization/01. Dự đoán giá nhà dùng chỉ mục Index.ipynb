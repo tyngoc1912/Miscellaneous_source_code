{
 "cells": [
  {
   "cell_type": "markdown",
   "metadata": {},
   "source": [
    "### 1. Dự đoán giá nhà theo diện tích "
   ]
  },
  {
   "cell_type": "code",
   "execution_count": 1,
   "metadata": {},
   "outputs": [],
   "source": [
    "import numpy as np\n",
    "from numpy import genfromtxt\n",
    "import matplotlib.pyplot as plt"
   ]
  },
  {
   "cell_type": "code",
   "execution_count": 2,
   "metadata": {},
   "outputs": [],
   "source": [
    "data = genfromtxt('my_house_price_prediction.csv', delimiter=',')\n",
    "\n",
    "m = data.shape[0]\n",
    "n = data.shape[1]\n",
    "\n",
    "x = data[:, 0]\n",
    "y = data[:, 1]\n",
    "X = np.c_[np.ones((m, 1)), x]"
   ]
  },
  {
   "cell_type": "code",
   "execution_count": 3,
   "metadata": {},
   "outputs": [
    {
     "data": {
      "image/png": "[encoded data removed]",
      "text/plain": [
       "<Figure size 432x288 with 1 Axes>"
      ]
     },
     "metadata": {
      "needs_background": "light"
     },
     "output_type": "display_data"
    }
   ],
   "source": [
    "plt.scatter(x, y)\n",
    "plt.xlabel('Dien tich nha (x100 $m^2$)')\n",
    "plt.ylabel('Gia nha')\n",
    "plt.show()"
   ]
  },
  {
   "cell_type": "code",
   "execution_count": 4,
   "metadata": {},
   "outputs": [
    {
     "name": "stdout",
     "output_type": "stream",
     "text": [
      "X.shape: (20, 2)\n",
      "y.shape: (20,)\n"
     ]
    }
   ],
   "source": [
    "print('X.shape:', X.shape)\n",
    "print('y.shape:', y.shape)\n",
    "# m = 20\n",
    "# n = 2"
   ]
  },
  {
   "cell_type": "markdown",
   "metadata": {},
   "source": [
    "### Cài theo cách dùng chỉ mục index "
   ]
  },
  {
   "cell_type": "code",
   "execution_count": 5,
   "metadata": {},
   "outputs": [],
   "source": [
    "# No vectorization - batch gradien descent\n",
    "\n",
    "theta = np.random.randn(n)\n",
    "\n",
    "# loss function\n",
    "\n",
    "def loss_function(theta = theta, x = X, y = y, m = m, n = n):\n",
    "    loss = 0\n",
    "    for i in range(m):\n",
    "        hypo_i = 0\n",
    "        for j in range(n):\n",
    "            hypo_i += theta[j] * X[i, j]\n",
    "        loss_i = (hypo_i - y[i]) ** 2\n",
    "        loss += loss_i\n",
    "    loss = (1 / m) * loss\n",
    "    \n",
    "    return loss"
   ]
  },
  {
   "cell_type": "code",
   "execution_count": 6,
   "metadata": {},
   "outputs": [],
   "source": [
    "# training\n",
    "learning_rate = 0.01\n",
    "theta = np.ones(n)\n",
    "loss_list = []\n",
    "epoches = 50"
   ]
  },
  {
   "cell_type": "code",
   "execution_count": 7,
   "metadata": {},
   "outputs": [],
   "source": [
    "for itr in range(epoches):\n",
    "    dev_list = []\n",
    "    for k in range(n):\n",
    "        dev_sum = 0\n",
    "        for i in range(m):\n",
    "            # Feed forward\n",
    "            hypo_i = 0\n",
    "            for j in range(n):\n",
    "                hypo_i += theta[j]*X[i, j]\n",
    "                \n",
    "            # Derivative \n",
    "            dev_i = (hypo_i - y[i]) * X[i, k]\n",
    "            dev_sum += dev_i\n",
    "            \n",
    "        dev_sum = (2 / m) * dev_sum\n",
    "        dev_list.append(dev_sum)\n",
    "    \n",
    "    theta = theta - learning_rate * np.array(dev_list)\n",
    "    loss_val = loss_function(theta)\n",
    "    loss_list.append(loss_val)"
   ]
  },
  {
   "cell_type": "code",
   "execution_count": 8,
   "metadata": {},
   "outputs": [
    {
     "data": {
      "text/plain": [
       "Text(0, 0.5, 'Gia tri loss')"
      ]
     },
     "execution_count": 8,
     "metadata": {},
     "output_type": "execute_result"
    },
    {
     "data": {
      "image/png": "[encoded data removed]",
      "text/plain": [
       "<Figure size 432x288 with 1 Axes>"
      ]
     },
     "metadata": {
      "needs_background": "light"
     },
     "output_type": "display_data"
    }
   ],
   "source": [
    "plt.plot(np.arange(0, epoches), loss_list)\n",
    "plt.xlabel('epoch')\n",
    "plt.ylabel('Gia tri loss')"
   ]
  },
  {
   "cell_type": "code",
   "execution_count": 9,
   "metadata": {},
   "outputs": [
    {
     "name": "stdout",
     "output_type": "stream",
     "text": [
      "[-0.012954097662872189, 0.002705885811926745]\n"
     ]
    }
   ],
   "source": [
    "print(dev_list)"
   ]
  },
  {
   "cell_type": "code",
   "execution_count": null,
   "metadata": {},
   "outputs": [],
   "source": []
  }
 ],
 "metadata": {
  "kernelspec": {
   "display_name": "Python 3",
   "language": "python",
   "name": "python3"
  },
  "language_info": {
   "codemirror_mode": {
    "name": "ipython",
    "version": 3
   },
   "file_extension": ".py",
   "mimetype": "text/x-python",
   "name": "python",
   "nbconvert_exporter": "python",
   "pygments_lexer": "ipython3",
   "version": "3.7.3"
  }
 },
 "nbformat": 4,
 "nbformat_minor": 2
}
