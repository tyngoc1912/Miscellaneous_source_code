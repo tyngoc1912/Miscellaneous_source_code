{
 "cells": [
  {
   "cell_type": "markdown",
   "metadata": {},
   "source": [
    "![](https://aivietnam.ai/wp-content/uploads/2019/07/chap7_logo_1.png)\n",
    "\n",
    "Học về **Linear Regression** và dùng giải thuật `Backpropagation` (lan truyền ngược) để tìm ra các tham số tối ưu cho một dataset."
   ]
  },
  {
   "cell_type": "markdown",
   "metadata": {},
   "source": [
    "Linear Regression dùng để tiên đoán giá trị từ input, và nó giả định mối quan hệ giữa input và output là **tuyến tính**."
   ]
  },
  {
   "cell_type": "markdown",
   "metadata": {},
   "source": [
    "### I. Các bước cần làm khi dùng linear regression \n",
    "\n",
    "- Chuẩn bị và xử lý dữ liệu\n",
    "- Xây dựng mô hình\n",
    "- Xây dưng hàm loss\n",
    "- Tìm bộ tham số dùng giải thuật backpropagation "
   ]
  },
  {
   "cell_type": "markdown",
   "metadata": {},
   "source": [
    "#### Tìm bộ tham số dùng giải thuật Backpropagation \n",
    "\n",
    "\n",
    "![](https://aivietnam.ai/wp-content/uploads/2019/07/chap7-linear_3.png)"
   ]
  },
  {
   "cell_type": "markdown",
   "metadata": {},
   "source": [
    "### II. Áp dụng cho bài toán dự đoán giá nhà "
   ]
  },
  {
   "cell_type": "code",
   "execution_count": 3,
   "metadata": {
    "scrolled": true
   },
   "outputs": [
    {
     "data": {
      "text/plain": [
       "array([[3.87, 5.38],\n",
       "       [2.29, 3.45],\n",
       "       [5.17, 6.94],\n",
       "       [4.93, 7.1 ],\n",
       "       [4.  , 5.47],\n",
       "       [3.97, 5.31],\n",
       "       [6.77, 8.89],\n",
       "       [2.48, 4.08],\n",
       "       [2.85, 4.59],\n",
       "       [6.43, 8.52],\n",
       "       [6.99, 8.63],\n",
       "       [2.74, 4.29],\n",
       "       [2.07, 3.34],\n",
       "       [3.64, 5.48],\n",
       "       [5.66, 7.4 ],\n",
       "       [1.85, 3.3 ],\n",
       "       [4.73, 6.19],\n",
       "       [4.55, 6.46],\n",
       "       [6.4 , 8.65],\n",
       "       [2.14, 3.35]])"
      ]
     },
     "execution_count": 3,
     "metadata": {},
     "output_type": "execute_result"
    }
   ],
   "source": [
    "import numpy as np\n",
    "from numpy import genfromtxt\n",
    "import matplotlib.pyplot as plt\n",
    "\n",
    "data = genfromtxt('my_house_price_prediction.csv', delimiter=',')\n",
    "m = data.shape[0]\n",
    "data"
   ]
  },
  {
   "cell_type": "code",
   "execution_count": 9,
   "metadata": {},
   "outputs": [],
   "source": [
    "m = data.shape[0]\n",
    "X = data[:, 0]\n",
    "\n",
    "# sử dụng 1: để tạo thành 1 vector (cột)\n",
    "y = data[:, 1:]\n",
    "\n",
    "# hàm np.c_ tương tự `numpy.concatenate`\n",
    "X_b = np.c_[np.ones((m, 1)), X]"
   ]
  },
  {
   "cell_type": "code",
   "execution_count": 11,
   "metadata": {},
   "outputs": [
    {
     "data": {
      "image/png": "[encoded data removed]",
      "text/plain": [
       "<Figure size 432x288 with 1 Axes>"
      ]
     },
     "metadata": {
      "needs_background": "light"
     },
     "output_type": "display_data"
    }
   ],
   "source": [
    "plt.scatter(X, y)\n",
    "\n",
    "# sử dụng công thức toán học `$ ... $`\n",
    "plt.xlabel('Diện tích nhà (x 100$m^2$)')\n",
    "plt.ylabel('Giá nhà (chục lượng vàng)')\n",
    "plt.show()"
   ]
  },
  {
   "cell_type": "markdown",
   "metadata": {},
   "source": [
    "Trong bài này sử dụng `batch gradient descent`, tức là dùng tất cả các mẫu dữ liệu trong bộ dữ liệu để tính loss trung bình và để giá trị đạo hàm trung bình cho từng tham số."
   ]
  },
  {
   "attachments": {},
   "cell_type": "markdown",
   "metadata": {},
   "source": [
    "- Tính output \n",
    "\n",
    "![](https://imgur.com/zkh3hVV.png)\n",
    "\n",
    "- Tính loss (hàm loss này là trên toàn bộ dữ liệu), nhiều tài liệu ghi 1/2 (thực chất giá trị này chỉ để đạo hàm triệt tiêu 2, không ảnh hưởng)\n",
    "\n",
    "![](https://imgur.com/b5rD4gl.png)\n",
    "\n",
    "- Tính đạo hàm cho từng tham số:\n",
    "\n",
    "![](https://imgur.com/moW00GR.png)\n",
    "\n",
    "- Cập nhật tham số:\n",
    "![image.png](https://imgur.com/5lMAXfz.png)"
   ]
  },
  {
   "cell_type": "code",
   "execution_count": 15,
   "metadata": {},
   "outputs": [
    {
     "name": "stdout",
     "output_type": "stream",
     "text": [
      "(20, 2)\n",
      "(20, 1)\n"
     ]
    },
    {
     "data": {
      "text/plain": [
       "(2, 20)"
      ]
     },
     "execution_count": 15,
     "metadata": {},
     "output_type": "execute_result"
    }
   ],
   "source": [
    "print(X_b.shape)\n",
    "print(y.shape)\n",
    "X_b.T.shape "
   ]
  },
  {
   "cell_type": "code",
   "execution_count": 20,
   "metadata": {},
   "outputs": [
    {
     "data": {
      "image/png": "[encoded data removed]",
      "text/plain": [
       "<Figure size 432x288 with 1 Axes>"
      ]
     },
     "metadata": {
      "needs_background": "light"
     },
     "output_type": "display_data"
    }
   ],
   "source": [
    "def batch_gradient_descent():\n",
    "    n_itertaions = 50\n",
    "    learning_rate = 0.01\n",
    "    \n",
    "    # khởi tạo gía trị tham số \n",
    "    thetas = np.random.randn(2, 1)\n",
    "    thetas_path = [thetas]\n",
    "    losses = []\n",
    "    \n",
    "    for i in range(n_itertaions):\n",
    "        # tinh output\n",
    "        # có thể sử dụng np.dot(X_b, thetas)\n",
    "        # X_b (20 , 2) ; thetas (2, 1) \n",
    "        # ---> output (20 , 1) (same y)\n",
    "        output = X_b.dot(thetas)\n",
    "        \n",
    "        # tính loss \n",
    "        loss = (output - y)**2\n",
    "        \n",
    "        # tính đạo hàm cho loss \n",
    "        loss_grd = 2*(output - y) / m\n",
    "        \n",
    "        # tính đạo hàm cho các tham số \n",
    "        # X_b.T (2, 20); loss_grd (20, 1)\n",
    "        # ---> np.dot(X_b.T, loss_grd) -> (2, 1) (thetas)\n",
    "        gradients = X_b.T.dot(loss_grd)\n",
    "        \n",
    "        # cập nhật tham số \n",
    "        thetas = thetas - learning_rate*gradients\n",
    "        thetas_path.append(thetas)\n",
    "        \n",
    "        mean_loss = np.sum(loss) / m\n",
    "        losses.append(mean_loss)\n",
    "        \n",
    "    return thetas_path, losses \n",
    "\n",
    "bgd_thetas, losses = batch_gradient_descent()\n",
    "\n",
    "# plt.scatter: vẽ biểu đồ giá trị phân tán X, y\n",
    "plt.scatter(X, y)\n",
    "\n",
    "# lấy giá trị thetas cuối cùng (-1)\n",
    "data_y = X*bgd_thetas[-1][1]+ bgd_thetas[-1][0]\n",
    "plt.plot(X,data_y, color=\"r\")\n",
    "plt.show()"
   ]
  },
  {
   "cell_type": "code",
   "execution_count": 22,
   "metadata": {},
   "outputs": [
    {
     "data": {
      "text/plain": [
       "array([[1.7856737 ],\n",
       "       [0.99227691]])"
      ]
     },
     "execution_count": 22,
     "metadata": {},
     "output_type": "execute_result"
    }
   ],
   "source": [
    "bgd_thetas[-1]"
   ]
  }
 ],
 "metadata": {
  "kernelspec": {
   "display_name": "Python 3",
   "language": "python",
   "name": "python3"
  },
  "language_info": {
   "codemirror_mode": {
    "name": "ipython",
    "version": 3
   },
   "file_extension": ".py",
   "mimetype": "text/x-python",
   "name": "python",
   "nbconvert_exporter": "python",
   "pygments_lexer": "ipython3",
   "version": "3.7.3"
  }
 },
 "nbformat": 4,
 "nbformat_minor": 2
}
