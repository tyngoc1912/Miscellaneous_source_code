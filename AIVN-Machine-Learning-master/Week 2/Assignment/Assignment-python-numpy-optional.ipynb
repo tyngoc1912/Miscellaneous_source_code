{
 "cells": [
  {
   "cell_type": "markdown",
   "metadata": {},
   "source": [
    "# Bài tập lập trình Python - Numpy \n",
    "\n",
    "Chào mừng các bạn đến với bài tập lập trình về Python sử dụng Numpy.\n",
    "\n",
    "Trong bài tập lập trình này, các bạn sẽ ôn lại các chức năng cơ bản của Python đã học trên [AI VIỆT NAM](https://aivietnam.ai/).\n",
    "\n",
    "**Hướng dẫn:**\n",
    "- Trong bài tập này bạn sẽ sử dụng Python 3.\n",
    "- Cố gắng không sử dụng các vòng lặp (for, while). \n",
    "- Không chỉnh sửa các tên hàm. \n",
    "- Sau khi bạn viết Code của mình xong, hãy chạy dòng Code đó để xem kết quả bên dưới. \n",
    "\n",
    "Hãy bắt đầu nào!"
   ]
  },
  {
   "cell_type": "markdown",
   "metadata": {},
   "source": [
    "## Hướng dẫn làm bài ##\n",
    "\n",
    "Các bạn sẽ bắt đầu Code trong phần `### START CODE HERE ###` và `### END CODE HERE ###`. Các bạn nhớ đừng sửa bất kỳ tên hàm nào ngoài phần Code này. \n",
    "\n",
    "Sau khi viết xong Code của bạn, bạn hãy ấn \"SHIFT\"+\"ENTER\" để thực hiện chạy lệnh của Cell đó. \n",
    "\n",
    "Trong phần Code: các bạn hãy cố gắng thực hiện ít dòng Code nhất theo chỉ định \"(≈ X lines of code)\". Mặc dù đây không phải là hạn chế về số dòng Code của bạn, nhưng hãy tối ưu sao cho ít nhất có thể."
   ]
  },
  {
   "cell_type": "code",
   "execution_count": null,
   "metadata": {},
   "outputs": [],
   "source": [
    "# Import thư viện numpy\n",
    "\n",
    "import numpy as np"
   ]
  },
  {
   "cell_type": "markdown",
   "metadata": {},
   "source": [
    "**Câu 1:** Thay thế tất cả các phần tử trong một mảng có giá trị lớn hơn 30 thành 30 và dưới 10 thành 10.\n",
    "\n",
    "Gợi ý: sử dụng `np.where` - https://docs.scipy.org/doc/numpy/reference/generated/numpy.where.html"
   ]
  },
  {
   "cell_type": "code",
   "execution_count": null,
   "metadata": {},
   "outputs": [],
   "source": [
    "# input: [28. 15. 22. 42.  1.  7. 34. 41.  8. 29.]\n",
    "# output: [28. 15. 22. 30. 10. 10. 30. 30. 10. 29.]"
   ]
  },
  {
   "cell_type": "code",
   "execution_count": null,
   "metadata": {},
   "outputs": [],
   "source": [
    "ex1 = np.array([28, 15, 22, 42,  1,  7, 34, 41,  8, 29], dtype=np.float64)"
   ]
  },
  {
   "cell_type": "code",
   "execution_count": null,
   "metadata": {},
   "outputs": [],
   "source": [
    "# Trả về những phần tử < 30; những phần tử > 30 thay bằng 30\n",
    "\n",
    "### START CODE HERE ### (≈ 1 line of code)\n",
    "ex1 = None\n",
    "### END CODE HERE ###\n",
    "\n",
    "\n",
    "# Trả về những phần tử > 10; những phần tử < 10 thay bằng 10\n",
    "\n",
    "### START CODE HERE ### (≈ 1 line of code)\n",
    "ex1 = None\n",
    "### END CODE HERE ###\n",
    "\n",
    "print(ex1)"
   ]
  },
  {
   "cell_type": "markdown",
   "metadata": {},
   "source": [
    "**Đầu ra kỳ vọng**: \n",
    "\n",
    "<table>\n",
    "    <tr> \n",
    "        <td>[28. 15. 22. 30. 10. 10. 30. 30. 10. 29.]</td> \n",
    "    </tr>\n",
    "</table> "
   ]
  },
  {
   "cell_type": "markdown",
   "metadata": {},
   "source": [
    "**Câu 2:** Lấy vị trí của 3 giá trị lớn nhất trong một mảng numpy\n",
    "\n",
    "Gợi ý: sử dụng `np.argpartition` - https://docs.scipy.org/doc/numpy/reference/generated/numpy.argpartition.html"
   ]
  },
  {
   "cell_type": "code",
   "execution_count": null,
   "metadata": {},
   "outputs": [],
   "source": [
    "# input: [28. 15. 22. 42.  1.  7. 34. 41.  8. 29.]\n",
    "# output: [6 7 3]"
   ]
  },
  {
   "cell_type": "code",
   "execution_count": null,
   "metadata": {},
   "outputs": [],
   "source": [
    "ex2 = np.array([28, 15, 22, 42,  1,  7, 34, 41,  8, 29], dtype=np.float64)"
   ]
  },
  {
   "cell_type": "code",
   "execution_count": null,
   "metadata": {},
   "outputs": [],
   "source": [
    "# Sử dụng `np.argpartition` \n",
    "### START CODE HERE ### (≈ 1 line of code)\n",
    "output = None\n",
    "### END CODE HERE ###\n",
    "\n",
    "print(output)"
   ]
  },
  {
   "cell_type": "markdown",
   "metadata": {},
   "source": [
    "**Đầu ra kỳ vọng**: \n",
    "\n",
    "<table>\n",
    "    <tr> \n",
    "        <td>[6 3 7]</td> \n",
    "    </tr>\n",
    "</table> "
   ]
  },
  {
   "cell_type": "markdown",
   "metadata": {},
   "source": [
    "**Câu 3:** Chuyển một mảng nhiều chiều thành một mảng 1 chiều"
   ]
  },
  {
   "cell_type": "code",
   "execution_count": null,
   "metadata": {},
   "outputs": [],
   "source": [
    "# input: [array([0, 1, 2]) array([3, 4, 5, 6]) array([7, 8, 9])]\n",
    "# output: [0 1 2 3 4 5 6 7 8 9]"
   ]
  },
  {
   "cell_type": "code",
   "execution_count": null,
   "metadata": {},
   "outputs": [],
   "source": [
    "ex3 = np.array([\n",
    "    [0, 1, 2],\n",
    "    [3, 4, 5],\n",
    "    [7, 8, 9]\n",
    "])"
   ]
  },
  {
   "cell_type": "code",
   "execution_count": null,
   "metadata": {},
   "outputs": [],
   "source": [
    "### START CODE HERE ### (≈ 1 line of code)\n",
    "output = None\n",
    "### END CODE HERE ###\n",
    "\n",
    "print(output)"
   ]
  },
  {
   "cell_type": "markdown",
   "metadata": {},
   "source": [
    "**Đầu ra kỳ vọng**: \n",
    "\n",
    "<table>\n",
    "    <tr> \n",
    "        <td>[0 1 2 3 4 5 7 8 9]</td> \n",
    "    </tr>\n",
    "</table> "
   ]
  },
  {
   "cell_type": "markdown",
   "metadata": {},
   "source": [
    "**Câu 4:** Tạo **one-hot encoding** cho một mảng numpy. One-hot encoding nhằm chuyển đổi mỗi giá trị (số nguyên) n thành một vector v mà vị trí thứ n trong vector v mang giá trị 1 và  tất cả vị trí khác đều mang giá trị 0."
   ]
  },
  {
   "cell_type": "code",
   "execution_count": null,
   "metadata": {},
   "outputs": [],
   "source": [
    "# input: [2 1 3 3 1 2]\n",
    "# output: array([[0., 1., 0.],\n",
    "#               [1., 0., 0.],\n",
    "#               [0., 0., 1.],\n",
    "#               [0., 0., 1.],\n",
    "#               [1., 0., 0.],\n",
    "#               [0., 1., 0.]])"
   ]
  },
  {
   "cell_type": "code",
   "execution_count": null,
   "metadata": {},
   "outputs": [],
   "source": [
    "ex4 = np.array([2, 1, 3, 3, 1, 2])"
   ]
  },
  {
   "cell_type": "code",
   "execution_count": null,
   "metadata": {},
   "outputs": [],
   "source": [
    "\n",
    "### START CODE HERE ### \n",
    "\n",
    "None # Các bạn hãy viết thuật toán của mình vào đây !\n",
    "\n",
    "### END CODE HERE ###\n"
   ]
  },
  {
   "cell_type": "markdown",
   "metadata": {},
   "source": [
    "**Câu 5:** Sắp xếp các phần tử trong một mảng 1 chiều"
   ]
  },
  {
   "cell_type": "code",
   "execution_count": null,
   "metadata": {},
   "outputs": [],
   "source": [
    "# input: [3 6 4 8]\n",
    "# output: [3 4 6 8]"
   ]
  },
  {
   "cell_type": "code",
   "execution_count": null,
   "metadata": {},
   "outputs": [],
   "source": [
    "ex5 = np.array([3, 6, 4, 8])"
   ]
  },
  {
   "cell_type": "code",
   "execution_count": null,
   "metadata": {},
   "outputs": [],
   "source": [
    "### START CODE HERE ### (≈ 1 line of code)\n",
    "output = None\n",
    "### END CODE HERE ###\n",
    "\n",
    "print(output)"
   ]
  },
  {
   "cell_type": "markdown",
   "metadata": {},
   "source": [
    "**Đầu ra kỳ vọng**: \n",
    "\n",
    "<table>\n",
    "    <tr> \n",
    "        <td>[3 4 6 8]</td> \n",
    "    </tr>\n",
    "</table> "
   ]
  },
  {
   "cell_type": "markdown",
   "metadata": {},
   "source": [
    "**Câu 6:** Tìm giá trị lớn nhất trong mỗi hàng và mỗi cột của một mảng 2d"
   ]
  },
  {
   "cell_type": "code",
   "execution_count": null,
   "metadata": {},
   "outputs": [],
   "source": [
    "# input\n",
    "# [[5 1 7]\n",
    "#  [3 5 2]\n",
    "#  [6 4 5]]\n",
    " \n",
    "# output\n",
    "# Max by column\n",
    "# [6 5 7]\n",
    "# Max by row\n",
    "# [7 5 6]"
   ]
  },
  {
   "cell_type": "code",
   "execution_count": null,
   "metadata": {},
   "outputs": [],
   "source": [
    "ex6 = np.array([\n",
    "    [5, 1, 7],\n",
    "    [3, 5, 2],\n",
    "    [6, 4, 5]\n",
    "])"
   ]
  },
  {
   "cell_type": "code",
   "execution_count": null,
   "metadata": {},
   "outputs": [],
   "source": [
    "# Max by column\n",
    "### START CODE HERE ### (≈ 1 line of code)\n",
    "output = None\n",
    "### END CODE HERE ###\n",
    "\n",
    "print(output)"
   ]
  },
  {
   "cell_type": "markdown",
   "metadata": {},
   "source": [
    "**Đầu ra kỳ vọng**: \n",
    "\n",
    "<table>\n",
    "    <tr> \n",
    "        <td>[6, 5, 7]</td> \n",
    "    </tr>\n",
    "</table> "
   ]
  },
  {
   "cell_type": "code",
   "execution_count": null,
   "metadata": {},
   "outputs": [],
   "source": [
    "# Max by row\n",
    "### START CODE HERE ### (≈ 1 line of code)\n",
    "output = None\n",
    "### END CODE HERE ###\n",
    "\n",
    "print(output)"
   ]
  },
  {
   "cell_type": "markdown",
   "metadata": {},
   "source": [
    "**Đầu ra kỳ vọng**: \n",
    "\n",
    "<table>\n",
    "    <tr> \n",
    "        <td>[7, 5, 6]</td> \n",
    "    </tr>\n",
    "</table> "
   ]
  },
  {
   "cell_type": "markdown",
   "metadata": {},
   "source": [
    "**Câu 7:** Tìm các phần tử trùng lặp (lần xuất hiện thứ 2 trở đi) trong mảng đã cho\n",
    "và đánh dấu chúng là True. Lần đầu tiên xuất hiện là False."
   ]
  },
  {
   "cell_type": "code",
   "execution_count": null,
   "metadata": {},
   "outputs": [],
   "source": [
    "# [0 3 3 1 2 0 2 0]\n",
    "# [False False  True False False  True  True  True]"
   ]
  },
  {
   "cell_type": "code",
   "execution_count": null,
   "metadata": {},
   "outputs": [],
   "source": [
    "ex7 = np.array([0, 3, 3, 1, 2, 0, 2, 0])"
   ]
  },
  {
   "cell_type": "code",
   "execution_count": null,
   "metadata": {},
   "outputs": [],
   "source": [
    "\n",
    "### START CODE HERE ### \n",
    "\n",
    "None # Các bạn hãy viết thuật toán của mình vào đây !\n",
    "\n",
    "### END CODE HERE ###"
   ]
  },
  {
   "cell_type": "markdown",
   "metadata": {},
   "source": [
    "\n",
    "**Đầu ra kỳ vọng**: \n",
    "\n",
    "<table>\n",
    "    <tr> \n",
    "        <td> [False False  True False False  True  True  True] </td>\n",
    "    </tr>\n",
    "</table> "
   ]
  },
  {
   "cell_type": "markdown",
   "metadata": {},
   "source": [
    "**Câu 8:** Trừ theo dòng mảng 2 chiều arr2d bằng mảng 1 chiều arr1d\n",
    "\n"
   ]
  },
  {
   "cell_type": "code",
   "execution_count": null,
   "metadata": {},
   "outputs": [],
   "source": [
    "# arr2d\n",
    "# [[3 3 3]\n",
    "#  [4 4 4]\n",
    "#  [5 5 5]]\n",
    "# arr1d\n",
    "# [1 1 1]\n",
    "# output\n",
    "# [[2 2 2]\n",
    "#  [3 3 3]\n",
    "#  [4 4 4]]"
   ]
  },
  {
   "cell_type": "code",
   "execution_count": null,
   "metadata": {},
   "outputs": [],
   "source": [
    "arr2d = np.array([\n",
    "    [3, 3, 3],\n",
    "    [4, 4, 4],\n",
    "    [5, 5, 5]\n",
    "])\n",
    "\n",
    "arr1d = np.array([1, 1, 1])"
   ]
  },
  {
   "cell_type": "code",
   "execution_count": null,
   "metadata": {},
   "outputs": [],
   "source": [
    "### START CODE HERE ### (≈ 1 line of code)\n",
    "output = None\n",
    "### END CODE HERE ###\n",
    "\n",
    "print(output)"
   ]
  },
  {
   "cell_type": "markdown",
   "metadata": {},
   "source": [
    "**Đầu ra kỳ vọng**: \n",
    "\n",
    "<table>\n",
    "    <tr> \n",
    "        <td>[[2 2 2]</td> </tr>\n",
    "    <tr> \n",
    "        <td>  [3 3 3]</td> </tr>\n",
    "    <tr> \n",
    "        <td>  [4 4 4]]</td> \n",
    "    </tr>\n",
    "</table> "
   ]
  },
  {
   "cell_type": "markdown",
   "metadata": {},
   "source": [
    "**Câu 9:** Bỏ tất cả các giá trị nan từ một mảng numpy\n",
    "\n",
    "Readmore: https://docs.scipy.org/doc/numpy-1.15.0/reference/generated/numpy.isfinite.html"
   ]
  },
  {
   "cell_type": "code",
   "execution_count": null,
   "metadata": {},
   "outputs": [],
   "source": [
    "#  input: [1.  2.  3. nan  5.  6.  7. nan]\n",
    "# output: [1., 2., 3., 5., 6., 7.]"
   ]
  },
  {
   "cell_type": "code",
   "execution_count": null,
   "metadata": {},
   "outputs": [],
   "source": [
    "from numpy import nan\n",
    "ex9 = np.array([1, 2, 3, nan, 5, 6, 7, nan], dtype=np.float64)\n",
    "print(ex9)"
   ]
  },
  {
   "cell_type": "code",
   "execution_count": null,
   "metadata": {},
   "outputs": [],
   "source": [
    "### START CODE HERE ### (≈ 1 line of code)\n",
    "output = None\n",
    "### END CODE HERE ###\n",
    "\n",
    "print(output)"
   ]
  },
  {
   "cell_type": "markdown",
   "metadata": {},
   "source": [
    "**Đầu ra kỳ vọng**: \n",
    "\n",
    "<table>\n",
    "    <tr> \n",
    "        <td>[1. 2. 3. 5. 6. 7.]</td> \n",
    "    </tr>\n",
    "</table> "
   ]
  },
  {
   "cell_type": "markdown",
   "metadata": {},
   "source": [
    "**Câu 10:** Lấy tất cả vị trí nơi các phần tử có giá trị khác nhau"
   ]
  },
  {
   "cell_type": "code",
   "execution_count": null,
   "metadata": {},
   "outputs": [],
   "source": [
    "# input\n",
    "# arr1: [3 4 5 6 7 8]\n",
    "# arr2: [3 3 6 6 7 7]\n",
    "# output\n",
    "# [1, 2, 5]"
   ]
  },
  {
   "cell_type": "code",
   "execution_count": null,
   "metadata": {},
   "outputs": [],
   "source": [
    "arr1 = np.array([3, 4, 5, 6, 7, 8])\n",
    "arr2 = np.array([3, 3, 6, 6, 7, 7])"
   ]
  },
  {
   "cell_type": "code",
   "execution_count": null,
   "metadata": {},
   "outputs": [],
   "source": [
    "### START CODE HERE ### (≈ 1 line of code)\n",
    "output = None\n",
    "### END CODE HERE ###\n",
    "\n",
    "print(output)"
   ]
  },
  {
   "cell_type": "markdown",
   "metadata": {},
   "source": [
    "**Đầu ra kỳ vọng**: \n",
    "\n",
    "<table>\n",
    "    <tr> \n",
    "        <td>[1 2 5]</td> \n",
    "    </tr>\n",
    "</table> "
   ]
  }
 ],
 "metadata": {
  "kernelspec": {
   "display_name": "Python 3",
   "language": "python",
   "name": "python3"
  },
  "language_info": {
   "codemirror_mode": {
    "name": "ipython",
    "version": 3
   },
   "file_extension": ".py",
   "mimetype": "text/x-python",
   "name": "python",
   "nbconvert_exporter": "python",
   "pygments_lexer": "ipython3",
   "version": "3.7.3"
  }
 },
 "nbformat": 4,
 "nbformat_minor": 2
}
