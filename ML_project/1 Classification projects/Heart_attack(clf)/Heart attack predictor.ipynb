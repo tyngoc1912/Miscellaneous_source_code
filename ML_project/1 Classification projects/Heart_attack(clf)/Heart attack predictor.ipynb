{
 "cells": [
  {
   "cell_type": "code",
   "execution_count": 1,
   "id": "86195707",
   "metadata": {},
   "outputs": [],
   "source": [
    "import numpy as np\n",
    "import matplotlib.pyplot as plt\n",
    "import pandas as pd"
   ]
  },
  {
   "cell_type": "code",
   "execution_count": 2,
   "id": "6bbf135e",
   "metadata": {},
   "outputs": [
    {
     "data": {
      "text/html": [
       "<div>\n",
       "<style scoped>\n",
       "    .dataframe tbody tr th:only-of-type {\n",
       "        vertical-align: middle;\n",
       "    }\n",
       "\n",
       "    .dataframe tbody tr th {\n",
       "        vertical-align: top;\n",
       "    }\n",
       "\n",
       "    .dataframe thead th {\n",
       "        text-align: right;\n",
       "    }\n",
       "</style>\n",
       "<table border=\"1\" class=\"dataframe\">\n",
       "  <thead>\n",
       "    <tr style=\"text-align: right;\">\n",
       "      <th></th>\n",
       "      <th>Age</th>\n",
       "      <th>Sex</th>\n",
       "      <th>ChestPainType</th>\n",
       "      <th>RestingBP</th>\n",
       "      <th>Cholesterol</th>\n",
       "      <th>FastingBS</th>\n",
       "      <th>RestingECG</th>\n",
       "      <th>MaxHR</th>\n",
       "      <th>ExerciseAngina</th>\n",
       "      <th>Oldpeak</th>\n",
       "      <th>ST_Slope</th>\n",
       "      <th>HeartDisease</th>\n",
       "    </tr>\n",
       "  </thead>\n",
       "  <tbody>\n",
       "    <tr>\n",
       "      <th>0</th>\n",
       "      <td>40</td>\n",
       "      <td>M</td>\n",
       "      <td>ATA</td>\n",
       "      <td>140</td>\n",
       "      <td>289</td>\n",
       "      <td>0</td>\n",
       "      <td>Normal</td>\n",
       "      <td>172</td>\n",
       "      <td>N</td>\n",
       "      <td>0.0</td>\n",
       "      <td>Up</td>\n",
       "      <td>0</td>\n",
       "    </tr>\n",
       "    <tr>\n",
       "      <th>1</th>\n",
       "      <td>49</td>\n",
       "      <td>F</td>\n",
       "      <td>NAP</td>\n",
       "      <td>160</td>\n",
       "      <td>180</td>\n",
       "      <td>0</td>\n",
       "      <td>Normal</td>\n",
       "      <td>156</td>\n",
       "      <td>N</td>\n",
       "      <td>1.0</td>\n",
       "      <td>Flat</td>\n",
       "      <td>1</td>\n",
       "    </tr>\n",
       "    <tr>\n",
       "      <th>2</th>\n",
       "      <td>37</td>\n",
       "      <td>M</td>\n",
       "      <td>ATA</td>\n",
       "      <td>130</td>\n",
       "      <td>283</td>\n",
       "      <td>0</td>\n",
       "      <td>ST</td>\n",
       "      <td>98</td>\n",
       "      <td>N</td>\n",
       "      <td>0.0</td>\n",
       "      <td>Up</td>\n",
       "      <td>0</td>\n",
       "    </tr>\n",
       "    <tr>\n",
       "      <th>3</th>\n",
       "      <td>48</td>\n",
       "      <td>F</td>\n",
       "      <td>ASY</td>\n",
       "      <td>138</td>\n",
       "      <td>214</td>\n",
       "      <td>0</td>\n",
       "      <td>Normal</td>\n",
       "      <td>108</td>\n",
       "      <td>Y</td>\n",
       "      <td>1.5</td>\n",
       "      <td>Flat</td>\n",
       "      <td>1</td>\n",
       "    </tr>\n",
       "    <tr>\n",
       "      <th>4</th>\n",
       "      <td>54</td>\n",
       "      <td>M</td>\n",
       "      <td>NAP</td>\n",
       "      <td>150</td>\n",
       "      <td>195</td>\n",
       "      <td>0</td>\n",
       "      <td>Normal</td>\n",
       "      <td>122</td>\n",
       "      <td>N</td>\n",
       "      <td>0.0</td>\n",
       "      <td>Up</td>\n",
       "      <td>0</td>\n",
       "    </tr>\n",
       "  </tbody>\n",
       "</table>\n",
       "</div>"
      ],
      "text/plain": [
       "   Age Sex ChestPainType  RestingBP  Cholesterol  FastingBS RestingECG  MaxHR  \\\n",
       "0   40   M           ATA        140          289          0     Normal    172   \n",
       "1   49   F           NAP        160          180          0     Normal    156   \n",
       "2   37   M           ATA        130          283          0         ST     98   \n",
       "3   48   F           ASY        138          214          0     Normal    108   \n",
       "4   54   M           NAP        150          195          0     Normal    122   \n",
       "\n",
       "  ExerciseAngina  Oldpeak ST_Slope  HeartDisease  \n",
       "0              N      0.0       Up             0  \n",
       "1              N      1.0     Flat             1  \n",
       "2              N      0.0       Up             0  \n",
       "3              Y      1.5     Flat             1  \n",
       "4              N      0.0       Up             0  "
      ]
     },
     "execution_count": 2,
     "metadata": {},
     "output_type": "execute_result"
    }
   ],
   "source": [
    "data = pd.read_csv('heart.csv')\n",
    "data.head()"
   ]
  },
  {
   "cell_type": "code",
   "execution_count": 3,
   "id": "75f16ebc",
   "metadata": {},
   "outputs": [],
   "source": [
    "X = data.iloc[:,:-1]\n",
    "y = data.iloc[:,-1]"
   ]
  },
  {
   "cell_type": "code",
   "execution_count": 4,
   "id": "ab8bc367",
   "metadata": {},
   "outputs": [
    {
     "name": "stdout",
     "output_type": "stream",
     "text": [
      "Index(['Age', 'RestingBP', 'Cholesterol', 'FastingBS', 'MaxHR'], dtype='object')\n"
     ]
    }
   ],
   "source": [
    "categorical_cols = data.select_dtypes(include = ['object_'])\n",
    "categorical_cols_names = categorical_cols.keys()\n",
    "num_cols = X.select_dtypes(include = ['integer'])\n",
    "num_cols_names = num_cols.keys()\n",
    "print(num_cols_names)"
   ]
  },
  {
   "cell_type": "code",
   "execution_count": 5,
   "id": "6d9b3deb",
   "metadata": {},
   "outputs": [
    {
     "name": "stdout",
     "output_type": "stream",
     "text": [
      "    Sex ChestPainType RestingECG ExerciseAngina ST_Slope\n",
      "0     M           ATA     Normal              N       Up\n",
      "1     F           NAP     Normal              N     Flat\n",
      "2     M           ATA         ST              N       Up\n",
      "3     F           ASY     Normal              Y     Flat\n",
      "4     M           NAP     Normal              N       Up\n",
      "..   ..           ...        ...            ...      ...\n",
      "913   M            TA     Normal              N     Flat\n",
      "914   M           ASY     Normal              N     Flat\n",
      "915   M           ASY     Normal              Y     Flat\n",
      "916   F           ATA        LVH              N     Flat\n",
      "917   M           NAP     Normal              N       Up\n",
      "\n",
      "[918 rows x 5 columns]\n",
      "['Sex', 'ChestPainType', 'RestingECG', 'ExerciseAngina', 'ST_Slope']\n"
     ]
    }
   ],
   "source": [
    "print(categorical_cols)\n",
    "print(list(categorical_cols))"
   ]
  },
  {
   "cell_type": "code",
   "execution_count": 6,
   "id": "82ae9912",
   "metadata": {},
   "outputs": [],
   "source": [
    "\n",
    "# print(y)"
   ]
  },
  {
   "cell_type": "code",
   "execution_count": 7,
   "id": "f5b8cbe1",
   "metadata": {},
   "outputs": [],
   "source": [
    "from sklearn.preprocessing import LabelEncoder,StandardScaler,OneHotEncoder"
   ]
  },
  {
   "cell_type": "markdown",
   "id": "3f136e46",
   "metadata": {},
   "source": [
    "# Label Encoding"
   ]
  },
  {
   "cell_type": "code",
   "execution_count": 8,
   "id": "4bb3f335",
   "metadata": {},
   "outputs": [
    {
     "name": "stdout",
     "output_type": "stream",
     "text": [
      "     Sex  ExerciseAngina\n",
      "0      1               0\n",
      "1      0               0\n",
      "2      1               0\n",
      "3      0               1\n",
      "4      1               0\n",
      "..   ...             ...\n",
      "913    1               0\n",
      "914    1               0\n",
      "915    1               1\n",
      "916    0               0\n",
      "917    1               0\n",
      "\n",
      "[918 rows x 2 columns]\n"
     ]
    },
    {
     "name": "stderr",
     "output_type": "stream",
     "text": [
      "c:\\users\\dell\\appdata\\local\\programs\\python\\python39\\lib\\site-packages\\pandas\\core\\indexing.py:1951: SettingWithCopyWarning: \n",
      "A value is trying to be set on a copy of a slice from a DataFrame.\n",
      "Try using .loc[row_indexer,col_indexer] = value instead\n",
      "\n",
      "See the caveats in the documentation: https://pandas.pydata.org/pandas-docs/stable/user_guide/indexing.html#returning-a-view-versus-a-copy\n",
      "  self.obj[selected_item_labels] = value\n",
      "c:\\users\\dell\\appdata\\local\\programs\\python\\python39\\lib\\site-packages\\pandas\\core\\indexing.py:1773: SettingWithCopyWarning: \n",
      "A value is trying to be set on a copy of a slice from a DataFrame.\n",
      "Try using .loc[row_indexer,col_indexer] = value instead\n",
      "\n",
      "See the caveats in the documentation: https://pandas.pydata.org/pandas-docs/stable/user_guide/indexing.html#returning-a-view-versus-a-copy\n",
      "  self._setitem_single_column(ilocs[0], value, pi)\n"
     ]
    }
   ],
   "source": [
    "# tobe_label_encoded = list({'Sex':X.iloc[:,0],'ExerciseAngina':X.iloc[:,-1]})\n",
    "# tobe_labelencoded = list(i for i in categorical_cols_names if categorical_cols[i].nunique() == 2)\n",
    "# print(tobe_labelencoded)\n",
    "\n",
    "\n",
    "tobe_label_encoded = categorical_cols[['Sex','ExerciseAngina']]\n",
    "# print(tobe_label_encoded)\n",
    "le = LabelEncoder()\n",
    "tobe_label_encoded.iloc[:,0] = le.fit_transform(tobe_label_encoded.iloc[:,0])\n",
    "tobe_label_encoded.iloc[:,1] = le.fit_transform(tobe_label_encoded.iloc[:,1])\n",
    "print(tobe_label_encoded)"
   ]
  },
  {
   "cell_type": "markdown",
   "id": "00ae30db",
   "metadata": {},
   "source": [
    "# One hot encoding"
   ]
  },
  {
   "cell_type": "code",
   "execution_count": 9,
   "id": "b8fe49ff",
   "metadata": {},
   "outputs": [],
   "source": [
    "# ohe = OneHotEncoder(sparse=False)\n",
    "# tobe_oh_encoded = pd.DataFrame({'ChestPainType':X.iloc[:,2],'RestingECG':X.iloc[:,6],'ST_Slope' : X.iloc[:,10]})\n",
    "# tobe_oh_encoded = ohe.fit_transform(tobe_oh_encoded)\n",
    "# tobe_oh_encoded = pd.DataFrame(tobe_oh_encoded)\n",
    "# # tobe_oh_encoded.columns = []\n",
    "# print(tobe_oh_encoded)"
   ]
  },
  {
   "cell_type": "code",
   "execution_count": 10,
   "id": "19f56e55",
   "metadata": {},
   "outputs": [
    {
     "name": "stdout",
     "output_type": "stream",
     "text": [
      "     dummy_ASY  dummy_ATA  dummy_NAP  dummy_TA  dummy_LVH  dummy_Normal  \\\n",
      "0            0          1          0         0          0             1   \n",
      "1            0          0          1         0          0             1   \n",
      "2            0          1          0         0          0             0   \n",
      "3            1          0          0         0          0             1   \n",
      "4            0          0          1         0          0             1   \n",
      "..         ...        ...        ...       ...        ...           ...   \n",
      "913          0          0          0         1          0             1   \n",
      "914          1          0          0         0          0             1   \n",
      "915          1          0          0         0          0             1   \n",
      "916          0          1          0         0          1             0   \n",
      "917          0          0          1         0          0             1   \n",
      "\n",
      "     dummy_ST  dummy_Down  dummy_Flat  dummy_Up  \n",
      "0           0           0           0         1  \n",
      "1           0           0           1         0  \n",
      "2           1           0           0         1  \n",
      "3           0           0           1         0  \n",
      "4           0           0           0         1  \n",
      "..        ...         ...         ...       ...  \n",
      "913         0           0           1         0  \n",
      "914         0           0           1         0  \n",
      "915         0           0           1         0  \n",
      "916         0           0           1         0  \n",
      "917         0           0           0         1  \n",
      "\n",
      "[918 rows x 10 columns]\n"
     ]
    }
   ],
   "source": [
    "ohe = OneHotEncoder(sparse=False)\n",
    "tobe_oh_encoded = pd.DataFrame({'ChestPainType':X.iloc[:,2],'RestingECG':X.iloc[:,6],'ST_Slope' : X.iloc[:,10]})\n",
    "# tobe_oh_encoded = ohe.fit_transform(tobe_oh_encoded)\n",
    "oh_encoded = pd.get_dummies(tobe_oh_encoded,prefix='dummy')\n",
    "# tobe_oh_encoded.columns = []\n",
    "print(oh_encoded)"
   ]
  },
  {
   "cell_type": "markdown",
   "id": "55f4ace9",
   "metadata": {},
   "source": [
    "# Standard Scaling"
   ]
  },
  {
   "cell_type": "code",
   "execution_count": null,
   "id": "4dd57d33",
   "metadata": {},
   "outputs": [],
   "source": []
  },
  {
   "cell_type": "code",
   "execution_count": 11,
   "id": "7fbda1f8",
   "metadata": {},
   "outputs": [
    {
     "name": "stdout",
     "output_type": "stream",
     "text": [
      "          Age  RestingBP  Cholesterol  FastingBS     MaxHR\n",
      "0   -1.433140   0.410909     0.825070  -0.551341  1.382928\n",
      "1   -0.478484   1.491752    -0.171961  -0.551341  0.754157\n",
      "2   -1.751359  -0.129513     0.770188  -0.551341 -1.525138\n",
      "3   -0.584556   0.302825     0.139040  -0.551341 -1.132156\n",
      "4    0.051881   0.951331    -0.034755  -0.551341 -0.581981\n",
      "..        ...        ...          ...        ...       ...\n",
      "913 -0.902775  -1.210356     0.596393  -0.551341 -0.188999\n",
      "914  1.536902   0.627078    -0.053049   1.813758  0.164684\n",
      "915  0.370100  -0.129513    -0.620168  -0.551341 -0.857069\n",
      "916  0.370100  -0.129513     0.340275  -0.551341  1.461525\n",
      "917 -1.645286   0.302825    -0.217696  -0.551341  1.422226\n",
      "\n",
      "[918 rows x 5 columns]\n"
     ]
    }
   ],
   "source": [
    "scaler = StandardScaler()\n",
    "num_cols_scaled = pd.DataFrame(scaler.fit_transform(num_cols),columns=num_cols_names)\n",
    "print(num_cols_scaled)"
   ]
  },
  {
   "cell_type": "code",
   "execution_count": 12,
   "id": "dd9bb343",
   "metadata": {},
   "outputs": [],
   "source": [
    "data_prepared = pd.concat([tobe_label_encoded,oh_encoded,num_cols_scaled],axis = 1)"
   ]
  },
  {
   "cell_type": "code",
   "execution_count": 13,
   "id": "e53dfa5b",
   "metadata": {},
   "outputs": [
    {
     "name": "stdout",
     "output_type": "stream",
     "text": [
      "     Sex  ExerciseAngina  dummy_ASY  dummy_ATA  dummy_NAP  dummy_TA  \\\n",
      "0      1               0          0          1          0         0   \n",
      "1      0               0          0          0          1         0   \n",
      "2      1               0          0          1          0         0   \n",
      "3      0               1          1          0          0         0   \n",
      "4      1               0          0          0          1         0   \n",
      "..   ...             ...        ...        ...        ...       ...   \n",
      "913    1               0          0          0          0         1   \n",
      "914    1               0          1          0          0         0   \n",
      "915    1               1          1          0          0         0   \n",
      "916    0               0          0          1          0         0   \n",
      "917    1               0          0          0          1         0   \n",
      "\n",
      "     dummy_LVH  dummy_Normal  dummy_ST  dummy_Down  dummy_Flat  dummy_Up  \\\n",
      "0            0             1         0           0           0         1   \n",
      "1            0             1         0           0           1         0   \n",
      "2            0             0         1           0           0         1   \n",
      "3            0             1         0           0           1         0   \n",
      "4            0             1         0           0           0         1   \n",
      "..         ...           ...       ...         ...         ...       ...   \n",
      "913          0             1         0           0           1         0   \n",
      "914          0             1         0           0           1         0   \n",
      "915          0             1         0           0           1         0   \n",
      "916          1             0         0           0           1         0   \n",
      "917          0             1         0           0           0         1   \n",
      "\n",
      "          Age  RestingBP  Cholesterol  FastingBS     MaxHR  \n",
      "0   -1.433140   0.410909     0.825070  -0.551341  1.382928  \n",
      "1   -0.478484   1.491752    -0.171961  -0.551341  0.754157  \n",
      "2   -1.751359  -0.129513     0.770188  -0.551341 -1.525138  \n",
      "3   -0.584556   0.302825     0.139040  -0.551341 -1.132156  \n",
      "4    0.051881   0.951331    -0.034755  -0.551341 -0.581981  \n",
      "..        ...        ...          ...        ...       ...  \n",
      "913 -0.902775  -1.210356     0.596393  -0.551341 -0.188999  \n",
      "914  1.536902   0.627078    -0.053049   1.813758  0.164684  \n",
      "915  0.370100  -0.129513    -0.620168  -0.551341 -0.857069  \n",
      "916  0.370100  -0.129513     0.340275  -0.551341  1.461525  \n",
      "917 -1.645286   0.302825    -0.217696  -0.551341  1.422226  \n",
      "\n",
      "[918 rows x 17 columns]\n"
     ]
    }
   ],
   "source": [
    "print(data_prepared)"
   ]
  },
  {
   "cell_type": "code",
   "execution_count": 14,
   "id": "84fb3bcd",
   "metadata": {},
   "outputs": [],
   "source": [
    "from sklearn.model_selection import train_test_split\n",
    "X_train,X_test,y_train,y_test = train_test_split(data_prepared,y,test_size=0.2,random_state = 0)"
   ]
  },
  {
   "cell_type": "code",
   "execution_count": 15,
   "id": "fee75105",
   "metadata": {},
   "outputs": [
    {
     "name": "stdout",
     "output_type": "stream",
     "text": [
      "(734, 17)\n",
      "(184, 17)\n"
     ]
    }
   ],
   "source": [
    "print(X_train.shape)\n",
    "print(X_test.shape)"
   ]
  },
  {
   "cell_type": "code",
   "execution_count": 16,
   "id": "1113e893",
   "metadata": {},
   "outputs": [
    {
     "name": "stdout",
     "output_type": "stream",
     "text": [
      "(734,)\n",
      "(184,)\n"
     ]
    }
   ],
   "source": [
    "print(y_train.shape)\n",
    "print(y_test.shape)"
   ]
  },
  {
   "cell_type": "markdown",
   "id": "41a6236b",
   "metadata": {},
   "source": [
    "# Model 1 "
   ]
  },
  {
   "cell_type": "code",
   "execution_count": 17,
   "id": "a55431b2",
   "metadata": {},
   "outputs": [
    {
     "data": {
      "text/html": [
       "<div>\n",
       "<style scoped>\n",
       "    .dataframe tbody tr th:only-of-type {\n",
       "        vertical-align: middle;\n",
       "    }\n",
       "\n",
       "    .dataframe tbody tr th {\n",
       "        vertical-align: top;\n",
       "    }\n",
       "\n",
       "    .dataframe thead th {\n",
       "        text-align: right;\n",
       "    }\n",
       "</style>\n",
       "<table border=\"1\" class=\"dataframe\">\n",
       "  <thead>\n",
       "    <tr style=\"text-align: right;\">\n",
       "      <th></th>\n",
       "      <th>y</th>\n",
       "      <th>y_pred</th>\n",
       "    </tr>\n",
       "  </thead>\n",
       "  <tbody>\n",
       "    <tr>\n",
       "      <th>306</th>\n",
       "      <td>1</td>\n",
       "      <td>1</td>\n",
       "    </tr>\n",
       "    <tr>\n",
       "      <th>711</th>\n",
       "      <td>0</td>\n",
       "      <td>1</td>\n",
       "    </tr>\n",
       "    <tr>\n",
       "      <th>298</th>\n",
       "      <td>1</td>\n",
       "      <td>1</td>\n",
       "    </tr>\n",
       "    <tr>\n",
       "      <th>466</th>\n",
       "      <td>1</td>\n",
       "      <td>1</td>\n",
       "    </tr>\n",
       "    <tr>\n",
       "      <th>253</th>\n",
       "      <td>0</td>\n",
       "      <td>0</td>\n",
       "    </tr>\n",
       "    <tr>\n",
       "      <th>...</th>\n",
       "      <td>...</td>\n",
       "      <td>...</td>\n",
       "    </tr>\n",
       "    <tr>\n",
       "      <th>909</th>\n",
       "      <td>1</td>\n",
       "      <td>1</td>\n",
       "    </tr>\n",
       "    <tr>\n",
       "      <th>293</th>\n",
       "      <td>1</td>\n",
       "      <td>1</td>\n",
       "    </tr>\n",
       "    <tr>\n",
       "      <th>761</th>\n",
       "      <td>1</td>\n",
       "      <td>0</td>\n",
       "    </tr>\n",
       "    <tr>\n",
       "      <th>2</th>\n",
       "      <td>0</td>\n",
       "      <td>0</td>\n",
       "    </tr>\n",
       "    <tr>\n",
       "      <th>409</th>\n",
       "      <td>1</td>\n",
       "      <td>1</td>\n",
       "    </tr>\n",
       "  </tbody>\n",
       "</table>\n",
       "<p>184 rows × 2 columns</p>\n",
       "</div>"
      ],
      "text/plain": [
       "     y  y_pred\n",
       "306  1       1\n",
       "711  0       1\n",
       "298  1       1\n",
       "466  1       1\n",
       "253  0       0\n",
       "..  ..     ...\n",
       "909  1       1\n",
       "293  1       1\n",
       "761  1       0\n",
       "2    0       0\n",
       "409  1       1\n",
       "\n",
       "[184 rows x 2 columns]"
      ]
     },
     "execution_count": 17,
     "metadata": {},
     "output_type": "execute_result"
    }
   ],
   "source": [
    "from sklearn.ensemble import RandomForestClassifier\n",
    "clf1 = RandomForestClassifier()\n",
    "clf1.fit(X_train,y_train)\n",
    "y_pred1 = clf1.predict(X_test)\n",
    "df = pd.DataFrame({\"y\":y_test,'y_pred':y_pred1})\n",
    "df"
   ]
  },
  {
   "cell_type": "code",
   "execution_count": 18,
   "id": "6fe5f573",
   "metadata": {},
   "outputs": [
    {
     "name": "stdout",
     "output_type": "stream",
     "text": [
      "0.41934700813205494\n",
      "0.8586956521739131\n",
      "[[61 16]\n",
      " [10 97]]\n"
     ]
    }
   ],
   "source": [
    "from sklearn.metrics import r2_score,confusion_matrix,accuracy_score\n",
    "print(r2_score(y_test,y_pred1))\n",
    "print(accuracy_score(y_test,y_pred1))\n",
    "print(confusion_matrix(y_test,y_pred1))"
   ]
  },
  {
   "cell_type": "markdown",
   "id": "874a2fe0",
   "metadata": {},
   "source": [
    "# Model 2"
   ]
  },
  {
   "cell_type": "code",
   "execution_count": 19,
   "id": "73d52058",
   "metadata": {},
   "outputs": [
    {
     "data": {
      "text/html": [
       "<div>\n",
       "<style scoped>\n",
       "    .dataframe tbody tr th:only-of-type {\n",
       "        vertical-align: middle;\n",
       "    }\n",
       "\n",
       "    .dataframe tbody tr th {\n",
       "        vertical-align: top;\n",
       "    }\n",
       "\n",
       "    .dataframe thead th {\n",
       "        text-align: right;\n",
       "    }\n",
       "</style>\n",
       "<table border=\"1\" class=\"dataframe\">\n",
       "  <thead>\n",
       "    <tr style=\"text-align: right;\">\n",
       "      <th></th>\n",
       "      <th>y</th>\n",
       "      <th>y_pred</th>\n",
       "    </tr>\n",
       "  </thead>\n",
       "  <tbody>\n",
       "    <tr>\n",
       "      <th>306</th>\n",
       "      <td>1</td>\n",
       "      <td>1</td>\n",
       "    </tr>\n",
       "    <tr>\n",
       "      <th>711</th>\n",
       "      <td>0</td>\n",
       "      <td>1</td>\n",
       "    </tr>\n",
       "    <tr>\n",
       "      <th>298</th>\n",
       "      <td>1</td>\n",
       "      <td>1</td>\n",
       "    </tr>\n",
       "    <tr>\n",
       "      <th>466</th>\n",
       "      <td>1</td>\n",
       "      <td>1</td>\n",
       "    </tr>\n",
       "    <tr>\n",
       "      <th>253</th>\n",
       "      <td>0</td>\n",
       "      <td>0</td>\n",
       "    </tr>\n",
       "    <tr>\n",
       "      <th>...</th>\n",
       "      <td>...</td>\n",
       "      <td>...</td>\n",
       "    </tr>\n",
       "    <tr>\n",
       "      <th>909</th>\n",
       "      <td>1</td>\n",
       "      <td>1</td>\n",
       "    </tr>\n",
       "    <tr>\n",
       "      <th>293</th>\n",
       "      <td>1</td>\n",
       "      <td>1</td>\n",
       "    </tr>\n",
       "    <tr>\n",
       "      <th>761</th>\n",
       "      <td>1</td>\n",
       "      <td>0</td>\n",
       "    </tr>\n",
       "    <tr>\n",
       "      <th>2</th>\n",
       "      <td>0</td>\n",
       "      <td>0</td>\n",
       "    </tr>\n",
       "    <tr>\n",
       "      <th>409</th>\n",
       "      <td>1</td>\n",
       "      <td>1</td>\n",
       "    </tr>\n",
       "  </tbody>\n",
       "</table>\n",
       "<p>184 rows × 2 columns</p>\n",
       "</div>"
      ],
      "text/plain": [
       "     y  y_pred\n",
       "306  1       1\n",
       "711  0       1\n",
       "298  1       1\n",
       "466  1       1\n",
       "253  0       0\n",
       "..  ..     ...\n",
       "909  1       1\n",
       "293  1       1\n",
       "761  1       0\n",
       "2    0       0\n",
       "409  1       1\n",
       "\n",
       "[184 rows x 2 columns]"
      ]
     },
     "execution_count": 19,
     "metadata": {},
     "output_type": "execute_result"
    }
   ],
   "source": [
    "from sklearn.linear_model import LogisticRegression\n",
    "clf2 = LogisticRegression()\n",
    "clf2.fit(X_train,y_train)\n",
    "y_pred2 = clf2.predict(X_test)\n",
    "df = pd.DataFrame({\"y\":y_test,'y_pred':y_pred2})\n",
    "df"
   ]
  },
  {
   "cell_type": "code",
   "execution_count": 20,
   "id": "e36301af",
   "metadata": {},
   "outputs": [
    {
     "name": "stdout",
     "output_type": "stream",
     "text": [
      "0.2406845490957641\n",
      "0.8152173913043478\n",
      "[[56 21]\n",
      " [13 94]]\n"
     ]
    }
   ],
   "source": [
    "from sklearn.metrics import r2_score,confusion_matrix,accuracy_score\n",
    "print(r2_score(y_test,y_pred2))\n",
    "print(accuracy_score(y_test,y_pred2))\n",
    "print(confusion_matrix(y_test,y_pred2))"
   ]
  },
  {
   "cell_type": "markdown",
   "id": "4fde260f",
   "metadata": {},
   "source": [
    "# Naive Bayes"
   ]
  },
  {
   "cell_type": "code",
   "execution_count": 21,
   "id": "e4d37164",
   "metadata": {},
   "outputs": [
    {
     "data": {
      "text/html": [
       "<div>\n",
       "<style scoped>\n",
       "    .dataframe tbody tr th:only-of-type {\n",
       "        vertical-align: middle;\n",
       "    }\n",
       "\n",
       "    .dataframe tbody tr th {\n",
       "        vertical-align: top;\n",
       "    }\n",
       "\n",
       "    .dataframe thead th {\n",
       "        text-align: right;\n",
       "    }\n",
       "</style>\n",
       "<table border=\"1\" class=\"dataframe\">\n",
       "  <thead>\n",
       "    <tr style=\"text-align: right;\">\n",
       "      <th></th>\n",
       "      <th>y</th>\n",
       "      <th>y_pred</th>\n",
       "    </tr>\n",
       "  </thead>\n",
       "  <tbody>\n",
       "    <tr>\n",
       "      <th>306</th>\n",
       "      <td>1</td>\n",
       "      <td>1</td>\n",
       "    </tr>\n",
       "    <tr>\n",
       "      <th>711</th>\n",
       "      <td>0</td>\n",
       "      <td>1</td>\n",
       "    </tr>\n",
       "    <tr>\n",
       "      <th>298</th>\n",
       "      <td>1</td>\n",
       "      <td>1</td>\n",
       "    </tr>\n",
       "    <tr>\n",
       "      <th>466</th>\n",
       "      <td>1</td>\n",
       "      <td>1</td>\n",
       "    </tr>\n",
       "    <tr>\n",
       "      <th>253</th>\n",
       "      <td>0</td>\n",
       "      <td>0</td>\n",
       "    </tr>\n",
       "    <tr>\n",
       "      <th>...</th>\n",
       "      <td>...</td>\n",
       "      <td>...</td>\n",
       "    </tr>\n",
       "    <tr>\n",
       "      <th>909</th>\n",
       "      <td>1</td>\n",
       "      <td>1</td>\n",
       "    </tr>\n",
       "    <tr>\n",
       "      <th>293</th>\n",
       "      <td>1</td>\n",
       "      <td>1</td>\n",
       "    </tr>\n",
       "    <tr>\n",
       "      <th>761</th>\n",
       "      <td>1</td>\n",
       "      <td>0</td>\n",
       "    </tr>\n",
       "    <tr>\n",
       "      <th>2</th>\n",
       "      <td>0</td>\n",
       "      <td>0</td>\n",
       "    </tr>\n",
       "    <tr>\n",
       "      <th>409</th>\n",
       "      <td>1</td>\n",
       "      <td>1</td>\n",
       "    </tr>\n",
       "  </tbody>\n",
       "</table>\n",
       "<p>184 rows × 2 columns</p>\n",
       "</div>"
      ],
      "text/plain": [
       "     y  y_pred\n",
       "306  1       1\n",
       "711  0       1\n",
       "298  1       1\n",
       "466  1       1\n",
       "253  0       0\n",
       "..  ..     ...\n",
       "909  1       1\n",
       "293  1       1\n",
       "761  1       0\n",
       "2    0       0\n",
       "409  1       1\n",
       "\n",
       "[184 rows x 2 columns]"
      ]
     },
     "execution_count": 21,
     "metadata": {},
     "output_type": "execute_result"
    }
   ],
   "source": [
    "from sklearn.naive_bayes import GaussianNB\n",
    "clf3 = GaussianNB()\n",
    "clf3.fit(X_train,y_train)\n",
    "y_pred3 = clf3.predict(X_test)\n",
    "df = pd.DataFrame({\"y\":y_test,'y_pred':y_pred3})\n",
    "df"
   ]
  },
  {
   "cell_type": "code",
   "execution_count": 22,
   "id": "2ac77b37",
   "metadata": {},
   "outputs": [
    {
     "name": "stdout",
     "output_type": "stream",
     "text": [
      "0.26301735647530045\n",
      "0.8206521739130435\n",
      "[[56 21]\n",
      " [12 95]]\n"
     ]
    }
   ],
   "source": [
    "from sklearn.metrics import r2_score,confusion_matrix,accuracy_score\n",
    "print(r2_score(y_test,y_pred3))\n",
    "print(accuracy_score(y_test,y_pred3))\n",
    "print(confusion_matrix(y_test,y_pred3))"
   ]
  }
 ],
 "metadata": {
  "kernelspec": {
   "display_name": "Python 3 (ipykernel)",
   "language": "python",
   "name": "python3"
  },
  "language_info": {
   "codemirror_mode": {
    "name": "ipython",
    "version": 3
   },
   "file_extension": ".py",
   "mimetype": "text/x-python",
   "name": "python",
   "nbconvert_exporter": "python",
   "pygments_lexer": "ipython3",
   "version": "3.9.2"
  }
 },
 "nbformat": 4,
 "nbformat_minor": 5
}
