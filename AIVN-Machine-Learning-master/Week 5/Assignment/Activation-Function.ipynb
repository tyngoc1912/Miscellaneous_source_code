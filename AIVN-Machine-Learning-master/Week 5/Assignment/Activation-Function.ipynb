{
 "cells": [
  {
   "cell_type": "markdown",
   "metadata": {},
   "source": [
    "## Programming Assignment: Activation Function\n",
    "\n",
    "Chào mừng các bạn đến với bài tập lập trình về xây dựng các hàm kích hoạt (Activation Function). Trước khi thực hiện bài tập này, các bạn nên học kỹ các kiến thức lý thuyết. Nếu có bất kỳ câu hỏi hay vấn đề nào xảy ra, các bạn hãy để lại comment trực tiếp bên dưới bài đăng hoặc liên hệ qua Fanpage AIVIETNAM.\n",
    "\n",
    "### Hướng dẫn làm bài \n",
    "- Trong bài tập này bạn sẽ sử dụng Python 3.\n",
    "- Cố gắng không sử dụng các vòng lặp (for, while). \n",
    "- Hãy sử dụng các hàm của thư viện numpy.\n",
    "- Sau khi bạn viết Code của mình xong, hãy chạy dòng Code đó để xem kết quả bên dưới. \n",
    "\n",
    "Các bạn sẽ bắt đầu Code trong phần `### START CODE HERE ###` và `### END CODE HERE ###`. Các bạn nhớ đừng sửa bất kỳ dòng Code nào bên ngoài những câu lệnh này. \n",
    "\n",
    "Sau khi viết xong Code của bạn, bạn hãy ấn \"SHIFT\"+\"ENTER\" để thực hiện chạy lệnh của Cell đó. \n",
    "\n",
    "Trong phần Code: các bạn hãy cố gắng thực hiện ít dòng Code nhất theo chỉ định \"(≈ X lines of code)\". Mặc dù đây không phải là hạn chế về số dòng Code của bạn, nhưng hãy tối ưu sao cho ít nhất có thể.\n",
    "\n",
    "### Nhiệm vụ \n",
    "\n",
    "Trong bài tập này bạn sẽ thực thi 6 hàm kích hoạt phổ biến bao gồm: Sigmoid, Tanh, ReLU, PReLU, ELU, Softplus."
   ]
  },
  {
   "cell_type": "code",
   "execution_count": null,
   "metadata": {},
   "outputs": [],
   "source": [
    "# Bộ dữ liệu và thư viện cần thiết\n",
    "import numpy as np \n",
    "data = np.asarray([1,5,-4,3,-2])"
   ]
  },
  {
   "cell_type": "markdown",
   "metadata": {},
   "source": [
    "### 1. Hàm Sigmoid \n",
    "\n",
    "Các bạn có thể bỏ qua phần này vì đã có ví dụ trong lý thuyết.\n",
    "\n",
    "<img src=\"images/activation-sigmoid.png\" style=\"width:30%;height:30%;\">\n"
   ]
  },
  {
   "cell_type": "code",
   "execution_count": null,
   "metadata": {},
   "outputs": [],
   "source": [
    "def sigmoid_function(data):\n",
    "    ### START CODE HERE ###\n",
    "    result = None\n",
    "    ### END CODE HERE ###\n",
    "    return result\n",
    "\n",
    "sigmoid_function(data)"
   ]
  },
  {
   "cell_type": "markdown",
   "metadata": {},
   "source": [
    "**Đầu ra kỳ vọng:**\n",
    "\n",
    "```\n",
    "array([0.73105858, 0.99330715, 0.01798621, 0.95257413, 0.11920292])\n",
    "```"
   ]
  },
  {
   "cell_type": "markdown",
   "metadata": {},
   "source": [
    "### 2. Hàm tanh \n",
    "\n",
    "<img src=\"images/activation_tanh.png\" style=\"width:30%;height:30%;\">"
   ]
  },
  {
   "cell_type": "code",
   "execution_count": null,
   "metadata": {},
   "outputs": [],
   "source": [
    "def tanh_function(data):\n",
    "    ### START CODE HERE ###\n",
    "    result = None\n",
    "    ### END CODE HERE ###\n",
    "    return result\n",
    "\n",
    "tanh_function(data)"
   ]
  },
  {
   "cell_type": "markdown",
   "metadata": {},
   "source": [
    "**Đầu ra kỳ vọng:**\n",
    "```\n",
    "array([ 0.76159416,  0.9999092 , -0.9993293 ,  0.99505475, -0.96402758])\n",
    "```"
   ]
  },
  {
   "cell_type": "markdown",
   "metadata": {},
   "source": [
    "### 3. Hàm ReLU\n",
    "\n",
    "<img src=\"images/activation_relu.png\" style=\"width:30%;height:30%;\">\n"
   ]
  },
  {
   "cell_type": "code",
   "execution_count": null,
   "metadata": {},
   "outputs": [],
   "source": [
    "def ReLU_function(data):\n",
    "    ### START CODE HERE ###\n",
    "    result = None\n",
    "    ### END CODE HERE ###\n",
    "    return result \n",
    "\n",
    "ReLU_function(data)"
   ]
  },
  {
   "cell_type": "markdown",
   "metadata": {},
   "source": [
    "**Đầu ra kỳ vọng:**\n",
    "\n",
    "```\n",
    "array([1, 5, 0, 3, 0])\n",
    "```"
   ]
  },
  {
   "cell_type": "markdown",
   "metadata": {},
   "source": [
    "### 4. Hàm PReLU\n",
    "\n",
    "<img src=\"images/activation_prelu.png\" style=\"width:30%;height:30%;\">\n"
   ]
  },
  {
   "cell_type": "code",
   "execution_count": null,
   "metadata": {},
   "outputs": [],
   "source": [
    "def PReLU_function(data, alpha = 0.1):\n",
    "    ### START CODE HERE ###\n",
    "\n",
    "    None\n",
    "    \n",
    "    ### END CODE HERE ###\n",
    "    return result \n",
    "\n",
    "PReLU_function(data)"
   ]
  },
  {
   "cell_type": "markdown",
   "metadata": {},
   "source": [
    "**Đầu ra gì vọng:**\n",
    "\n",
    "```\n",
    "[1, 5, -0.4, 3, -0.2]\n",
    "```"
   ]
  },
  {
   "cell_type": "markdown",
   "metadata": {},
   "source": [
    "### 5. Hàm ELU\n",
    "\n",
    "<img src=\"images/activation_elu.png\" style=\"width:30%;height:30%;\">\n"
   ]
  },
  {
   "cell_type": "code",
   "execution_count": null,
   "metadata": {},
   "outputs": [],
   "source": [
    "def ELU_function(data, alpha = 0.1):\n",
    "    ### START CODE HERE ###\n",
    "\n",
    "    None\n",
    "    \n",
    "    ### END CODE HERE ###\n",
    "    return result \n",
    "\n",
    "ELU_function(data)"
   ]
  },
  {
   "cell_type": "markdown",
   "metadata": {},
   "source": [
    "**Đầu ra kỳ vọng:**\n",
    "\n",
    "```\n",
    "[1, 5, -0.09816843611112658, 3, -0.08646647167633874]\n",
    "```"
   ]
  },
  {
   "cell_type": "markdown",
   "metadata": {},
   "source": [
    "### 6. Hàm Softplus\n",
    "\n",
    "<img src=\"images/activation_softplus.png\" style=\"width:30%;height:30%;\">\n"
   ]
  },
  {
   "cell_type": "code",
   "execution_count": null,
   "metadata": {},
   "outputs": [],
   "source": [
    "def softplus_function(data, alpha = 0.1):\n",
    "    ### START CODE HERE ###\n",
    "    result = None\n",
    "    ### END CODE HERE ###\n",
    "    return result\n",
    "\n",
    "softplus_function(data)"
   ]
  },
  {
   "cell_type": "markdown",
   "metadata": {},
   "source": [
    "**Đầu ra kỳ vọng:**\n",
    "\n",
    "```\n",
    "array([1.31326169, 5.00671535, 0.01814993, 3.04858735, 0.12692801])\n",
    "```"
   ]
  }
 ],
 "metadata": {
  "kernelspec": {
   "display_name": "Python 3",
   "language": "python",
   "name": "python3"
  },
  "language_info": {
   "codemirror_mode": {
    "name": "ipython",
    "version": 3
   },
   "file_extension": ".py",
   "mimetype": "text/x-python",
   "name": "python",
   "nbconvert_exporter": "python",
   "pygments_lexer": "ipython3",
   "version": "3.7.3"
  }
 },
 "nbformat": 4,
 "nbformat_minor": 2
}
