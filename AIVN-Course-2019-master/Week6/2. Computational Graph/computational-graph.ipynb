{
 "cells": [
  {
   "attachments": {},
   "cell_type": "markdown",
   "metadata": {},
   "source": [
    "## Dùng CG cho một hàm đơn giản \n",
    "\n",
    "Giả sử chúng ta cần xây dựng CG cho hàm số `f(x, y, z) = x*y + z`.\n",
    "\n",
    "CG cho hàm f(x, y, z) như sau:\n",
    "\n",
    "![](https://imgur.com/ywU0dgJ.png)"
   ]
  },
  {
   "attachments": {},
   "cell_type": "markdown",
   "metadata": {},
   "source": [
    "trong đó `t = x*y`. Vẽ CG rất đơn giản vì chỉ yêu cầu biết các phép toán cơ bản và thứ tự ưu tiên của chúng. Bây giờ, dựa vào CG vừa được xây dựng, chúng ta tính giá trị f với `x = 2, y = 3 và z = -2`.\n",
    "\n",
    "CG tính giá trị f như sau:\n",
    "\n",
    "![image.png](https://imgur.com/aqLdxKh.png)"
   ]
  },
  {
   "attachments": {},
   "cell_type": "markdown",
   "metadata": {},
   "source": [
    "Sau khi tính f, chúng ta có thể dựa vào CG để tính đạo hàm cho các biến trên đồ thị dựa vào giá trị f. \n",
    "\n",
    "![image.png](https://imgur.com/XntOljt.png)"
   ]
  },
  {
   "attachments": {},
   "cell_type": "markdown",
   "metadata": {},
   "source": [
    "Biến x và y không trực tiếp đến f mà thông qua biến t trên đồ thị, nên tính đạo hàm f theo x và y thông qua việc tính đạo hàm f theo t (chain rule). Do đó, đồ thị tính đạo hàm cho các biến như sau:\n",
    "\n",
    "![image.png](https://imgur.com/d7R9m56.png)"
   ]
  },
  {
   "cell_type": "markdown",
   "metadata": {},
   "source": [
    "Chú thích: \n",
    "- `t = x*y`.\n",
    "\n",
    "-> Đạo hàm t theo x là: y\n",
    "\n",
    "-> Đạo hàm t theo y là: x \n",
    "\n",
    "- `f = t + z`\n",
    "\n",
    "-> Đạo hàm f theo z là: 1\n",
    "\n",
    "-> Đạo hàm f theo t là: 1"
   ]
  },
  {
   "attachments": {},
   "cell_type": "markdown",
   "metadata": {},
   "source": [
    "Dựa vào công thức hàm f và t, chúng ta tính được giá trị đạo hàm cho f theo z và t; và giá trị đạo hàm cho hàm t theo biến x và y.\n",
    "\n",
    "Lúc này chúng ta có thể tính giá trị đạo hàm cho hàm f theo biến x và y. Cuối cùng, đồ thị tính giá trị đạo hàm cho kết quả như sau:\n",
    "\n",
    "![image.png](https://imgur.com/kYleTeh.png)"
   ]
  },
  {
   "cell_type": "markdown",
   "metadata": {},
   "source": [
    "Vậy là chúng ta đã hoàn thành việc dây dựng 1 CG cho một hàm đơn giản và tính giá trị đạo hàm các biến trên đồ thị."
   ]
  },
  {
   "cell_type": "markdown",
   "metadata": {},
   "source": [
    "## Toán tiên đoán giá nhà dùng CG \n",
    "\n",
    "Cho trước bộ dữ liệu định giá nhà dựa vào diện tích nhà như sau: \n",
    "\n",
    "![](https://aivietnam.ai/wp-content/uploads/2019/07/chap6_data_1.png)"
   ]
  },
  {
   "cell_type": "markdown",
   "metadata": {},
   "source": [
    "Bộ dữ liệu này có 4 mẫu và có 2 cột. Cột 1 là diện tích (area), và cột 2 là giá nhà (price). Biểu diễn dữ liệu này lên đồ thị ta được như sau:\n",
    "\n",
    "![](https://aivietnam.ai/wp-content/uploads/2019/07/chap6_data_2.png)"
   ]
  },
  {
   "cell_type": "markdown",
   "metadata": {},
   "source": [
    "Yêu cầu bài toán đặt ra là dựa vào dữ liệu cho trước, hãy dự đoán giá nhà khi diện tích là **800 m2**."
   ]
  },
  {
   "cell_type": "markdown",
   "metadata": {},
   "source": [
    "Quan sát đồ thị -> sự phân bố của dữ liệu xấp xỉ với một đoạn thẳng. Do đó, giả sử phân bố dữ liệu có dạng `price = a*area + b` (trong đó a và b là hai giá trị cần tìm)"
   ]
  },
  {
   "cell_type": "markdown",
   "metadata": {},
   "source": [
    "Với mỗi giá trị area trong bộ dữ liệu cho trước, chúng ta tính được giá ước lượng dựa vào công thức `price = a*area + b`. Sau đó, so sánh giữa giá trị ước lượng và giá thực tế trong bộ dữ liệu ta được độ lệch về giá cho từng mẫu. Trong bài này, hàm `squared difference` (bình phương độ lệch giữa 2 giá trị) để tính giá trị loss cho hàm ước lượng. Đồ thị CG được xây dựng như sau:\n",
    "\n",
    "![](https://aivietnam.ai/wp-content/uploads/2019/07/chap6_cg_7-1024x617.png)"
   ]
  },
  {
   "cell_type": "markdown",
   "metadata": {},
   "source": [
    "trong đó `o` viết tắt cho từ output, chính là giá nhà tiên đoán được tính từ công thức `price = a*area + b`. Biến price_t là giá nhà thực, được cho trước từ bộ data. Để thuận tiện, chúng ta sẽ thay area bằng X, price_t bằng y. Đồ thị được vẽ lại như sau: \n",
    "\n",
    "![](https://aivietnam.ai/wp-content/uploads/2019/07/chap6_cg_8.png)"
   ]
  },
  {
   "cell_type": "markdown",
   "metadata": {},
   "source": [
    "Trong đồ thị này, X và y là hai biến để nhận dữ liệu input từ bộ dữ liệu; và a và b là hai biến cần tìm để giá trị `loss` nhỏ nhất có thể. Ban đầu, hai biến a và b chưa có giá trị. Do đó, chúng ta cần gán giá trị khởi tạo cho chúng để có thể tính được giá nhà ước lượng. Ở bài này, bỏ qua các phương pháp chọn giá trị khởi tạo cho một biến, giả sử cho `a = -0.34` và `b = 0.04`, đồ thị được vẽ lại như sau:\n",
    "\n",
    "![](https://aivietnam.ai/wp-content/uploads/2019/07/chap6_cg_9-1024x495.png)"
   ]
  },
  {
   "cell_type": "markdown",
   "metadata": {},
   "source": [
    "Bây giờ, chúng ta dùng mẫu dữ liệu đầu tiên để tính loss như sau: \n",
    "\n",
    "![](https://aivietnam.ai/wp-content/uploads/2019/07/chap6_cg_10-1024x483.png)"
   ]
  },
  {
   "cell_type": "markdown",
   "metadata": {},
   "source": [
    "Tiếp theo, dựa vào các công thức, chúng ta tính được đạo hàm cho hai biến a và b:\n",
    "\n",
    "![](https://aivietnam.ai/wp-content/uploads/2019/07/chap6_cg_11-1024x551.png)"
   ]
  },
  {
   "cell_type": "markdown",
   "metadata": {},
   "source": [
    "Thế giá trị vào các công thức tính đoạ hàm cho a và b ta được giá trị đạo hàm như sau:\n",
    "\n",
    "![](https://aivietnam.ai/wp-content/uploads/2019/07/chap6_cg_12-1024x560.png)"
   ]
  },
  {
   "cell_type": "markdown",
   "metadata": {},
   "source": [
    "Hai biến t và o là hai biến trung gian, chúng ta không cần làm gì thêm với chúng. Tuy nhiên, chúng ta cần xử lý thêm với hai biến a và b với mục đích là làm cho loss L giảm."
   ]
  },
  {
   "cell_type": "markdown",
   "metadata": {},
   "source": [
    "**Ôn tập về đạo hàm**: Biến a có giá trị đạo hàm cho hàm L là 𝛿𝑎 = −151.9292. 𝛿𝑎 có giá trị âm nên giảm a với một giá trị đủ nhỏ (lân cận của a) sẽ làm hàm L tăng. Ngược lại, tăng a với một giá trị đủ nhỏ sẽ làm hàm L giảm. \n",
    "\n",
    "Nói theo cách dân dã, nếu muốn tìm giá trị min cho hàm L, thay đổi giá trị biến a ngược hướng đạo hàm. Lập luận tương tự cho biến b.\n",
    "\n",
    "![](https://media0.giphy.com/media/13yv2kNuK9MemA/giphy.gif)"
   ]
  },
  {
   "cell_type": "markdown",
   "metadata": {},
   "source": [
    "Ở ví dụ này, giá trị đạo hàm của hàm L theo a và b đều có giá trị âm, nên để L giảm, a và b cần tăng thêm một giá trị 𝑘𝑎 và 𝑘𝑏 nào đó. Có nhiều cách để tính 𝑘𝑎 và 𝑘𝑏; và cách đơn giản và phổ biến như sau `𝑘𝑎=−𝛿𝑎×𝑟` và `𝑘𝑏=−𝛿𝑏×𝑟`, trong đó r là learning rate và là giá trị được xác định trước. Ở ví dụ này, chúng ta cho `r = 0.01`."
   ]
  },
  {
   "cell_type": "markdown",
   "metadata": {},
   "source": [
    "Cập nhật giá trị cho hai biến a và b ta được đồ thị sau:\n",
    "\n",
    "![](https://aivietnam.ai/wp-content/uploads/2019/07/chap6_cg_13-1024x495.png)"
   ]
  },
  {
   "cell_type": "markdown",
   "metadata": {},
   "source": [
    "Để kiểm chúng hàm L giảm, chúng ta tính loss cho mẫu data đầu tiên một lần nữa, nhưng với giá trị a và b mới được cập nhật.\n",
    "\n",
    "![](https://aivietnam.ai/wp-content/uploads/2019/07/chap6_cg_14-1024x491.png)"
   ]
  },
  {
   "cell_type": "markdown",
   "metadata": {},
   "source": [
    "Chúng ta thấy giá trị loss giảm từ 128.55 xuống 0.868. Điều này chứng tỏ hàm ước lượng đã học được từ mẫu dữ liệu và trở nên tốt hơn.\n",
    "\n"
   ]
  },
  {
   "cell_type": "markdown",
   "metadata": {},
   "source": [
    "Đồ thị hàm ước lượng trước và sau khi cập nhật a và b. Với `a = -0.34` và `b = 0.04`\n",
    "\n",
    "![](https://aivietnam.ai/wp-content/uploads/2019/07/chap6_data_3.png)"
   ]
  },
  {
   "cell_type": "markdown",
   "metadata": {},
   "source": [
    "Với `a = 1.179292` và `b = 0.26676`\n",
    "\n",
    "![](https://aivietnam.ai/wp-content/uploads/2019/07/chap6_data_4.png)"
   ]
  },
  {
   "cell_type": "markdown",
   "metadata": {},
   "source": [
    "**Chú ý: Sử dụng từng giá trị 1 để xây dưng model sẽ không tối ưu, cần sử dụng toàn bộ để xây dựng.**"
   ]
  },
  {
   "cell_type": "markdown",
   "metadata": {},
   "source": [
    "Sử dụng 4 mẫu để tính cùng một lúc như sau: \n",
    "\n",
    "![](https://aivietnam.ai/wp-content/uploads/2019/07/chap6_cg_16-1024x1009.png)"
   ]
  },
  {
   "cell_type": "markdown",
   "metadata": {},
   "source": [
    "Sau khi tính giá trị đạo hàm cho cả 4 mẫu dữ liệu, thay vì cập nhật a và b 4 lần với 4 giá trị đạo hàm, chúng ta chỉ cập nhật 1 lần với giá trị mean của 4 giá trị đạo hàm tính được."
   ]
  },
  {
   "cell_type": "code",
   "execution_count": null,
   "metadata": {},
   "outputs": [],
   "source": []
  }
 ],
 "metadata": {
  "kernelspec": {
   "display_name": "Python 3",
   "language": "python",
   "name": "python3"
  },
  "language_info": {
   "codemirror_mode": {
    "name": "ipython",
    "version": 3
   },
   "file_extension": ".py",
   "mimetype": "text/x-python",
   "name": "python",
   "nbconvert_exporter": "python",
   "pygments_lexer": "ipython3",
   "version": "3.7.3"
  }
 },
 "nbformat": 4,
 "nbformat_minor": 2
}
