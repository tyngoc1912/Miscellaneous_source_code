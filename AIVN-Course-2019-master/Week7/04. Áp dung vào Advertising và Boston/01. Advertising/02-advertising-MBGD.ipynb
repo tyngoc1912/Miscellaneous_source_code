{
 "cells": [
  {
   "cell_type": "code",
   "execution_count": 1,
   "metadata": {},
   "outputs": [],
   "source": [
    "import numpy as np\n",
    "import matplotlib.pyplot as plt\n",
    "import pandas as pd\n",
    "\n",
    "# Input data\n",
    "\n",
    "data = pd.read_csv('advertising.csv', header=0)\n",
    "m = data.shape[0]\n",
    "n = data.shape[1]\n",
    "\n",
    "X = data.values[:, 0:3]\n",
    "y = data.values[:, -1]"
   ]
  },
  {
   "cell_type": "code",
   "execution_count": 2,
   "metadata": {},
   "outputs": [],
   "source": [
    "def normalize_feature(X, mode, mean=None, std=None):\n",
    "    if mode == 'train':\n",
    "        mean = X.mean()\n",
    "        std = X.std()\n",
    "        X_norm = (X - mean) / std\n",
    "\n",
    "        return X_norm, mean, std\n",
    "\n",
    "    elif mode == 'test':\n",
    "        assert mean is not None and std is not None\n",
    "        X_norm = (X - mean) / std\n",
    "        return X_norm\n",
    "\n",
    "    else:\n",
    "        raise NotImplementedErrorx"
   ]
  },
  {
   "cell_type": "code",
   "execution_count": null,
   "metadata": {},
   "outputs": [],
   "source": []
  },
  {
   "cell_type": "code",
   "execution_count": 3,
   "metadata": {},
   "outputs": [],
   "source": [
    "X, mean, std = normalize_feature(X, 'train')\n",
    "X = np.c_[np.ones((m, 1)), X]"
   ]
  },
  {
   "cell_type": "code",
   "execution_count": 4,
   "metadata": {},
   "outputs": [],
   "source": [
    "# khoi tao tham so theta\n",
    "theta = np.random.randn(n, 1)\n",
    "losses = []"
   ]
  },
  {
   "cell_type": "code",
   "execution_count": 5,
   "metadata": {},
   "outputs": [],
   "source": [
    "def mini_batch_gradient_descent(X, y, theta, learning_rate=0.01, epochs=100):\n",
    "    \n",
    "    minibatch_size = 20\n",
    "    \n",
    "    for epoch in range(epochs):\n",
    "        shuffled_indices = np.random.permutation(m)\n",
    "        X_shuffled = X[shuffled_indices]\n",
    "        y_shuffled = y[shuffled_indices]\n",
    "        \n",
    "        for i in range(0, m, minibatch_size):\n",
    "            xi = X_shuffled[i:i+minibatch_size]\n",
    "            yi = y_shuffled[i:i+minibatch_size]\n",
    "            \n",
    "            # tinh output\n",
    "            output = np.dot(xi, theta)\n",
    "            \n",
    "            # tinh loss\n",
    "            loss = (output - yi)**2\n",
    "            \n",
    "            # tinh dao ham cho loss\n",
    "            loss_grd = 2 / minibatch_size * (output - yi)\n",
    "            \n",
    "            # tinh dao ham cho cac ham so\n",
    "            gradients = np.dot(xi.T, loss_grd)\n",
    "            \n",
    "            theta = theta - learning_rate * gradients\n",
    "            \n",
    "            loss_mean = np.sum(loss)/minibatch_size\n",
    "            losses.append(loss_mean)\n",
    "    return theta, losses"
   ]
  },
  {
   "cell_type": "code",
   "execution_count": 6,
   "metadata": {},
   "outputs": [],
   "source": [
    "theta, losses = mini_batch_gradient_descent(X, y, theta)"
   ]
  },
  {
   "cell_type": "code",
   "execution_count": 7,
   "metadata": {},
   "outputs": [
    {
     "data": {
      "image/png": "[encoded data removed]",
      "text/plain": [
       "<Figure size 432x288 with 1 Axes>"
      ]
     },
     "metadata": {
      "needs_background": "light"
     },
     "output_type": "display_data"
    }
   ],
   "source": [
    "plt.plot(losses[:200])\n",
    "plt.show()"
   ]
  },
  {
   "cell_type": "code",
   "execution_count": null,
   "metadata": {},
   "outputs": [],
   "source": []
  }
 ],
 "metadata": {
  "kernelspec": {
   "display_name": "Python 3",
   "language": "python",
   "name": "python3"
  },
  "language_info": {
   "codemirror_mode": {
    "name": "ipython",
    "version": 3
   },
   "file_extension": ".py",
   "mimetype": "text/x-python",
   "name": "python",
   "nbconvert_exporter": "python",
   "pygments_lexer": "ipython3",
   "version": "3.7.3"
  }
 },
 "nbformat": 4,
 "nbformat_minor": 2
}
