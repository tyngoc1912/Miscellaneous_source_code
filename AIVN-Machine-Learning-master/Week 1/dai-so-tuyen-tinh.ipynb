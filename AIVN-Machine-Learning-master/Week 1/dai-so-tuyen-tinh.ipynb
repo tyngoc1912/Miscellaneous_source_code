{
 "cells": [
  {
   "cell_type": "markdown",
   "metadata": {},
   "source": [
    "### Đại Số Tuyến Tính \n",
    "\n",
    "<img src=\"images/Linear-Algebra/intro2.png\" style=\"width:80%;height:80%;\"> \n"
   ]
  },
  {
   "cell_type": "markdown",
   "metadata": {},
   "source": [
    "Đại số tuyến tính là một công cụ toán học được ứng dụng nhiều trong Machine Learning / Deep Learning. Một cách hiểu đơn giản, nó là một kỹ thuật giúp chúng ta có thể thao tác nhiều dữ liệu một cách đồng thời. \n",
    "\n",
    "Đại số tuyến tính cung cấp một số cấu trúc như: vec-to, ma trận cùng với các phép toán nhân, chia, cộng, trừ... giữa chúng. \n",
    "\n",
    "Nội dung bài viết này được tham khảo trong bài viết [Linear Algebra for Deep Learning](https://towardsdatascience.com/linear-algebra-cheat-sheet-for-deep-learning-cd67aba4526c)"
   ]
  },
  {
   "cell_type": "markdown",
   "metadata": {},
   "source": [
    "### Đại số tuyến tính giúp chúng ta như thế nào?"
   ]
  },
  {
   "cell_type": "markdown",
   "metadata": {},
   "source": [
    "Trước hết, chúng ta hãy cùng nhau xét bài toán nhân giá trị của 2 mảng với nhau. Với cách thông thường sử dụng vòng lặp `for` để duyệt từng phần tử:"
   ]
  },
  {
   "cell_type": "code",
   "execution_count": 1,
   "metadata": {},
   "outputs": [
    {
     "name": "stdout",
     "output_type": "stream",
     "text": [
      "[2, 6, 12]\n"
     ]
    }
   ],
   "source": [
    "# Multiply two arrays \n",
    "x = [1,2,3]\n",
    "y = [2,3,4]\n",
    "product = []\n",
    "for i in range(len(x)):\n",
    "    product.append(x[i]*y[i])\n",
    "    \n",
    "print(product)"
   ]
  },
  {
   "cell_type": "markdown",
   "metadata": {},
   "source": [
    "Sử dụng đại số tuyến tính, đưa các giá trị vào thành vector:"
   ]
  },
  {
   "cell_type": "code",
   "execution_count": 2,
   "metadata": {},
   "outputs": [
    {
     "data": {
      "text/plain": [
       "array([ 2,  6, 12])"
      ]
     },
     "execution_count": 2,
     "metadata": {},
     "output_type": "execute_result"
    }
   ],
   "source": [
    "import numpy as np \n",
    "\n",
    "# Linear algebra version\n",
    "x = np.array([1,2,3])\n",
    "y = np.array([2,3,4])\n",
    "x * y"
   ]
  },
  {
   "cell_type": "markdown",
   "metadata": {},
   "source": [
    "Việc sử dụng các phép toán trong đại số tuyến tính giúp chúng ta tính toán nhanh hơn và câu lệnh đơn giản hơn so với cách tính thông thường. Chúng ta hãy cùng nhau xét các nội dung sau:"
   ]
  },
  {
   "cell_type": "markdown",
   "metadata": {},
   "source": [
    "### Nội dung \n",
    "\n",
    "1. Vectors\n",
    "    - Ký hiệu \n",
    "    - Vectors trong hình học \n",
    "    - Scalar operations\n",
    "    - Elementwise operations\n",
    "    - Dot product\n",
    "    - Hadamard product\n",
    "    \n",
    "2. Matrices\n",
    "    - Kích thước ma trận \n",
    "    - Scalar operations\n",
    "    - Elementwise operations\n",
    "    - Hadamard product\n",
    "    - Matrix transpose (ma trận chuyển vị)\n",
    "    - Matrix multiplication (nhân ma trận)\n",
    "    \n",
    "3. Numpy\n",
    "    - Dot product\n",
    "    - Broadcasting"
   ]
  },
  {
   "cell_type": "markdown",
   "metadata": {},
   "source": [
    "### 1. Vectors \n",
    "\n",
    "Vectors là mảng 1 chiều của một số hay các số hạng. Trong hình học, vectors bao gồm độ lớn và hướng của nó. Ví dụ vector [-2, 5] có hướng sang trái -2 và đi lên 5.\n",
    "\n",
    "Vectors có nhiều chiều được gọi là Matrix.\n",
    "\n",
    "#### 1.1 Ký hiệu \n",
    "\n",
    "Có nhiều cách ký hiệu vectors khác nhau, hình ảnh bên dưới miêu tả một số cách ký hiệu thường gặp:\n",
    "\n",
    "<img src=\"images/Linear-Algebra/la_0.png\" style=\"width:30%;height:30%;\"> \n"
   ]
  },
  {
   "cell_type": "markdown",
   "metadata": {},
   "source": [
    "#### 1.2 Vectors trong hình học \n",
    "\n",
    "Vector thường đại diện cho sự chuyển động từ một điểm, nó lưu trữ độ lớn và hướng đi. Độ lớn của nó bằng chiều dài của cạnh huyền. Ví dụ vector [-2, 5] có hướng sang trái -2 và đi lên 5, độ lớn: $\\sqrt{29}$.\n",
    "\n",
    "<img src=\"images/Linear-Algebra/la_1.png\" style=\"width:40%;height:40%;\"> \n",
    "\n"
   ]
  },
  {
   "cell_type": "markdown",
   "metadata": {},
   "source": [
    "#### 1.3 Scalar operations\n",
    "\n",
    "Scalar là một vô hướng hay một số. Scalar operations là các phép toán liên quan giữa vô hướng và vector. Chúng ta có thể thay đổi toàn bộ giá trị của vector bằng các phép toán: cộng, trừ, nhân, chia, ...\n",
    "\n",
    "<img src=\"images/Linear-Algebra/la_2.png\" style=\"width:20%;height:20%;\"> \n",
    "\n"
   ]
  },
  {
   "cell_type": "markdown",
   "metadata": {},
   "source": [
    "#### 1.4 Elementwise operations\n",
    "\n",
    "Khi thực hiện các phép toán: cộng, trừ, nhân, chia... các vector, Elementwise cho phép thực hiện các phép toán này từng vị trí tương ứng giữa các Vector. Ví dụ: phần tử thứ 1 của Vecto A sẽ thực hiện cộng với phần tử thứ 1 của Vector B, phần tử thứ 2 của A sẽ thực hiện tương ứng với phần tử thứ 2 của B. \n",
    "\n",
    "<img src=\"images/Linear-Algebra/la_3.png\" style=\"width:30%;height:30%;\"> \n"
   ]
  },
  {
   "cell_type": "code",
   "execution_count": 3,
   "metadata": {},
   "outputs": [
    {
     "name": "stdout",
     "output_type": "stream",
     "text": [
      "[3 5 7]\n",
      "[1 1 1]\n",
      "[2.         1.5        1.33333333]\n"
     ]
    }
   ],
   "source": [
    "y = np.array([1,2,3])\n",
    "x = np.array([2,3,4])\n",
    "\n",
    "print(x + y)\n",
    "print(x - y)\n",
    "print(x / y)"
   ]
  },
  {
   "cell_type": "markdown",
   "metadata": {},
   "source": [
    "#### 1.5 Phép nhân Vector "
   ]
  },
  {
   "cell_type": "markdown",
   "metadata": {},
   "source": [
    "Có 2 kiểu nhân Vector là: phép Dot product và Hadamard product.\n"
   ]
  },
  {
   "cell_type": "markdown",
   "metadata": {},
   "source": [
    "#### 1.5.1 Dot product \n",
    "\n",
    "Tích của 2 vector sẽ là một vô hướng (scalar).\n",
    "\n",
    "<img src=\"images/Linear-Algebra/la_4.png\" style=\"width:30%;height:30%;\"> \n"
   ]
  },
  {
   "cell_type": "code",
   "execution_count": 4,
   "metadata": {},
   "outputs": [
    {
     "data": {
      "text/plain": [
       "20"
      ]
     },
     "execution_count": 4,
     "metadata": {},
     "output_type": "execute_result"
    }
   ],
   "source": [
    "y = np.array([1,2,3])\n",
    "x = np.array([2,3,4])\n",
    "np.dot(y,x)"
   ]
  },
  {
   "cell_type": "markdown",
   "metadata": {},
   "source": [
    "#### 1.5.2 Hadamard product "
   ]
  },
  {
   "cell_type": "markdown",
   "metadata": {},
   "source": [
    "Hadamard product sẽ thực hiện phép nhân elementwise để tạo ra vector mới.\n",
    "\n",
    "<img src=\"images/Linear-Algebra/la_5.png\" style=\"width:30%;height:30%;\"> \n"
   ]
  },
  {
   "cell_type": "code",
   "execution_count": 5,
   "metadata": {},
   "outputs": [
    {
     "data": {
      "text/plain": [
       "array([ 2,  6, 12])"
      ]
     },
     "execution_count": 5,
     "metadata": {},
     "output_type": "execute_result"
    }
   ],
   "source": [
    "y = np.array([1,2,3])\n",
    "x = np.array([2,3,4])\n",
    "y * x "
   ]
  },
  {
   "cell_type": "markdown",
   "metadata": {},
   "source": [
    "### 2. Matrices\n",
    "\n",
    "Matrices (ma trận) là một lưới hình chữ nhật (ví dụ: bảng tính Excel). "
   ]
  },
  {
   "cell_type": "markdown",
   "metadata": {},
   "source": [
    "#### 2.1 Kích thước ma trận \n",
    "\n",
    "Kích thước của ma trận = `[ số hàng x số cột ]`\n",
    "\n",
    "<img src=\"images/Linear-Algebra/la_6.png\" style=\"width:30%;height:30%;\"> \n"
   ]
  },
  {
   "cell_type": "code",
   "execution_count": 6,
   "metadata": {},
   "outputs": [
    {
     "name": "stdout",
     "output_type": "stream",
     "text": [
      "(2, 3)\n",
      "(1, 3)\n"
     ]
    }
   ],
   "source": [
    "a = np.array([[1,2,3], \n",
    "             [4,5,6]])\n",
    "\n",
    "print(a.shape)\n",
    "b = np.array([[1,2,3]])\n",
    "\n",
    "print(b.shape)"
   ]
  },
  {
   "cell_type": "markdown",
   "metadata": {},
   "source": [
    "#### 2.2 Scalar operations\n",
    "\n",
    "Các phép toán liên quan tới Scalar của Matrix có cách hoạt động tương tự với Vector.\n",
    "\n",
    "<img src=\"images/Linear-Algebra/la_7.png\" style=\"width:30%;height:30%;\"> \n"
   ]
  },
  {
   "cell_type": "code",
   "execution_count": 7,
   "metadata": {},
   "outputs": [
    {
     "data": {
      "text/plain": [
       "array([[2, 3],\n",
       "       [4, 5]])"
      ]
     },
     "execution_count": 7,
     "metadata": {},
     "output_type": "execute_result"
    }
   ],
   "source": [
    "a = np.array([[1,2], \n",
    "              [3,4]])\n",
    "a + 1"
   ]
  },
  {
   "cell_type": "markdown",
   "metadata": {},
   "source": [
    "#### 2.3 Elementwise operations\n",
    "\n",
    "Để có thể thực hiện phép Elemenetwise trên Matrix, các Matrix phải có **cùng kích thước** với nhau. Chúng ta sẽ thực hiện kết hợp các giá trị tương ứng với từng vị trí của các Matrix với nhau để tạo ra 1 Matrix mới. \n",
    "\n",
    "<img src=\"images/Linear-Algebra/la_8.png\" style=\"width:30%;height:30%;\"> "
   ]
  },
  {
   "cell_type": "code",
   "execution_count": 8,
   "metadata": {},
   "outputs": [
    {
     "name": "stdout",
     "output_type": "stream",
     "text": [
      "a + b: \n",
      " [[2 4]\n",
      " [6 8]]\n"
     ]
    }
   ],
   "source": [
    "a = np.array([[1,2],\n",
    "              [3,4]])\n",
    "b = np.array([[1,2],\n",
    "              [3,4]])\n",
    "\n",
    "print(\"a + b: \\n\",a + b)"
   ]
  },
  {
   "cell_type": "markdown",
   "metadata": {},
   "source": [
    "#### 2.4 Hadamard product\n",
    "\n",
    "Matrix hadamard product sẽ thực hiện phép nhân elementwise.\n",
    "\n",
    "<img src=\"images/Linear-Algebra/la_9.png\" style=\"width:40%;height:40%;\"> "
   ]
  },
  {
   "cell_type": "code",
   "execution_count": 9,
   "metadata": {},
   "outputs": [
    {
     "data": {
      "text/plain": [
       "array([[ 6, 12],\n",
       "       [10, 18]])"
      ]
     },
     "execution_count": 9,
     "metadata": {},
     "output_type": "execute_result"
    }
   ],
   "source": [
    "a = np.array([[2,3],\n",
    "              [2,3]])\n",
    "\n",
    "b = np.array([[3,4],\n",
    "            [5,6]])\n",
    "# Uses python's multiply operator\n",
    "a * b"
   ]
  },
  {
   "cell_type": "markdown",
   "metadata": {},
   "source": [
    "Trong Python, chúng ta có thể sử dụng phép Hadamard giữa vector và matrix. Khi đó, Python sẽ sử dụng phương thức broadcasting (chúng ta sẽ tìm hiểu phương thức này bên dưới).\n",
    "\n",
    "<img src=\"images/Linear-Algebra/la_10.png\" style=\"width:40%;height:40%;\"> "
   ]
  },
  {
   "cell_type": "markdown",
   "metadata": {},
   "source": [
    "#### 2.5 Ma trận chuyển vị \n",
    "\n",
    "Chuyển vị của một ma trận là một ma trận mới nhận được từ ma trận cũ thông qua phép phản xạ gương qua đường chéo chính của ma trận ban đầu. Một cách hiểu đơn giản: các giá trị của hàng sẽ thành cột và cột sẽ thành hàng. \n",
    "\n",
    "Ma trận chuyển vị thường được ký hiệu bằng chữ $T$. Ví dụ chuyển vị của ma trận $M$ được ký hiệu $M^T$\n",
    "\n",
    "Ví dụ: với M là ma trận ban đầu, T là ma trận chuyển vị.\n",
    "<img src=\"images/Linear-Algebra/la_11.png\" style=\"width:20%;height:20%;\"> "
   ]
  },
  {
   "cell_type": "markdown",
   "metadata": {},
   "source": [
    "Nếu $A^T = A$ thì ta nói A là một **ma trận đối xứng**."
   ]
  },
  {
   "cell_type": "code",
   "execution_count": 10,
   "metadata": {},
   "outputs": [
    {
     "name": "stdout",
     "output_type": "stream",
     "text": [
      "[[1 3]\n",
      " [2 4]]\n"
     ]
    }
   ],
   "source": [
    "a = np.array([[1, 2], \n",
    "              [3, 4]])\n",
    "\n",
    "print(a.T)"
   ]
  },
  {
   "attachments": {},
   "cell_type": "markdown",
   "metadata": {},
   "source": [
    "#### 2.6 Matrix multiplication (nhân ma trận)\n",
    "\n",
    "Cho hai ma trận $A (m$ x $n), B (n $ x $p)$, tích của hai ma trận được ký hiệu là $C = AB$ khi đó $C$ có kích thước $m$ x $p$. Ma trận C được tạo thành được tính như hình dưới đây:\n",
    "\n",
    "<img src=\"images/Linear-Algebra/la_12.png\" style=\"width:40%;height:40%;\"> "
   ]
  },
  {
   "cell_type": "markdown",
   "metadata": {},
   "source": [
    "**Chú ý:** để nhân được hai ma trận, số cột của ma trận thứ nhất phải bằng số hàng của ma trận thứ hai. "
   ]
  },
  {
   "cell_type": "markdown",
   "metadata": {},
   "source": [
    "Một số tính chất của ma trận:\n",
    "   - Phép nhân ma trận **không** có tính chất giao hoán.\n",
    "   - Phép nhân ma trận có tính kết hợp: $ABC = (AB)C = A(BC)$\n",
    "   - Phép nhân ma trận có tính giao hoán: $A(B+C) = AB + AC$\n",
    "   - Chuyển vị của một tích bằng tích chuyển vị theo thứ tự ngược lại: $(AB)^T = B^TA^T$"
   ]
  },
  {
   "cell_type": "markdown",
   "metadata": {},
   "source": [
    "### 3. Numpy "
   ]
  },
  {
   "cell_type": "markdown",
   "metadata": {},
   "source": [
    "#### 3.1 Dot product\n",
    "\n",
    "Chúng ta sẽ sử dụng function `np.dot` (numpy.dot) để thực hiện phép Dot product (nhân ma trận). Các bạn cần chú ý về kích thước của các phần tử khi thực hiên phép toán."
   ]
  },
  {
   "cell_type": "code",
   "execution_count": 11,
   "metadata": {},
   "outputs": [
    {
     "name": "stdout",
     "output_type": "stream",
     "text": [
      "a_shape:  (1, 2)\n",
      "b_shape:  (2, 2)\n",
      "mm: \n",
      " [[13 16]]\n",
      "mm_shape:  (1, 2)\n"
     ]
    }
   ],
   "source": [
    "a = np.array([[1, 2]])\n",
    "print('a_shape: ', a.shape)\n",
    "\n",
    "b = np.array([[3, 4],\n",
    "              [5, 6]])\n",
    "print('b_shape: ', b.shape)\n",
    "\n",
    "\n",
    "# Multiply\n",
    "mm = np.dot(a,b)\n",
    "print('mm: \\n', mm)\n",
    "print('mm_shape: ', mm.shape)"
   ]
  },
  {
   "cell_type": "markdown",
   "metadata": {},
   "source": [
    "#### 3.2 Broadcasting \n",
    "\n",
    "Broadcasting cho phép thực thi các phép toán trên các mảng có kích thước khác nhau. Chúng ta sẽ tìm hiểu chi tiết phương pháp này trong bài [Numpy - Python](https://nbviewer.jupyter.org/github/thanhhff/AIVN-Machine-Learning/blob/master/Week%202/Python-Numpy.ipynb)"
   ]
  },
  {
   "cell_type": "code",
   "execution_count": 12,
   "metadata": {},
   "outputs": [
    {
     "name": "stdout",
     "output_type": "stream",
     "text": [
      "[[ 2  2  4]\n",
      " [ 5  5  7]\n",
      " [ 8  8 10]\n",
      " [11 11 13]]\n"
     ]
    }
   ],
   "source": [
    "import numpy as np\n",
    "\n",
    "X = np.array([[1,2,3],[4,5,6],[7,8,9],[10,11,12]])\n",
    "v = np.array([1,0,1])\n",
    "Y = X + v \n",
    "print(Y)"
   ]
  },
  {
   "cell_type": "markdown",
   "metadata": {},
   "source": [
    "<img src=\"images/Linear-Algebra/chap5_np_32.png\" style=\"width:50%;height:50%;\"> \n"
   ]
  },
  {
   "cell_type": "markdown",
   "metadata": {},
   "source": [
    "### Tài liệu tham khảo \n",
    "\n",
    "[1] [Linear Algebra for Deep Learning](https://towardsdatascience.com/linear-algebra-cheat-sheet-for-deep-learning-cd67aba4526c)\n",
    "\n",
    "[2] [Ôn tập đai số tuyến tính - Machine Learning Cơ Bản](https://machinelearningcoban.com)"
   ]
  }
 ],
 "metadata": {
  "kernelspec": {
   "display_name": "Python 3",
   "language": "python",
   "name": "python3"
  },
  "language_info": {
   "codemirror_mode": {
    "name": "ipython",
    "version": 3
   },
   "file_extension": ".py",
   "mimetype": "text/x-python",
   "name": "python",
   "nbconvert_exporter": "python",
   "pygments_lexer": "ipython3",
   "version": "3.7.3"
  }
 },
 "nbformat": 4,
 "nbformat_minor": 2
}
