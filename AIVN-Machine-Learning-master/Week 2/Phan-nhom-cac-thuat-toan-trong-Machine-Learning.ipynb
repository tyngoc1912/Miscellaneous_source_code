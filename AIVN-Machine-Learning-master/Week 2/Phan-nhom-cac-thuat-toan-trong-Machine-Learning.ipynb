{
 "cells": [
  {
   "cell_type": "markdown",
   "metadata": {},
   "source": [
    "Trong Machine Learning, dựa trên tính chất của các tập dữ liệu mà có thể phân chia thành các nhóm thuật toán khác nhau. \n",
    "\n",
    "Dựa trên phương thức học mà có 4 nhóm thuật toán chính trong Machine Learning như sau:\n",
    "- Học có giám sát (Supervise learning)\n",
    "- Học không giám sát (Unsupervised learning)\n",
    "- Học bán giám sát (Semi-supervised lerning)\n",
    "- Học củng cố (Reinforcement learning)\n",
    "\n",
    "<img src=\"images/machine-learning-map.png\" style=\"width:80%;height:80%;\">\n"
   ]
  },
  {
   "cell_type": "markdown",
   "metadata": {},
   "source": [
    "### 1. Học có giám sát (Supervised Learning)\n",
    "\n",
    "Học có giám sát (supervised learning) là phương pháp học máy mà máy tính được cung cấp đầu vào có gắn nhãn (label). Có nghĩa là: dữ liệu huấn luyện bao gồm các cặp (data, label).\n",
    "\n",
    "<img src=\"images/sp-learning.png\" style=\"width:80%;height:80%;\">\n",
    "\n",
    "Đầu ra của bài toán có thể là một giá trị liên tục (gọi là hồi qui - Regression), hay có thể là dự đoán một nhãn phân loại cho một đối tượng đầu vào (gọi là phân loại - Classification). \n",
    "\n",
    "- Bài toán hồi quy có thể sử dụng để dự đoán giá nhà, cân nặng, ...\n",
    "- Bài toán phân loại có thể sử dụng để phân loại email (có phải là Spam hay không), phân loại hình ảnh chó / mèo ...\n",
    "\n",
    "Ví dụ trong bài toán phân loại hình ảnh chó hoặc mèo. Dữ liệu đầu vào bao gồm hình ảnh chó / mèo cùng với nhãn dán tương ứng cho hình ảnh. Thông qua quá trình đào tạo (train) mà hệ thống sẽ có thể phân loại hình ảnh mới có phải là chó hay mèo không."
   ]
  },
  {
   "cell_type": "markdown",
   "metadata": {},
   "source": [
    "### 2. Học không giám sát (Unsupervised Learning)\n",
    "\n",
    "Trong bài toán học không giám sát (Unsupervised learning) dữ liệu đầu vào sẽ **không** được gắn nhãn. Vì vậy mà thuật toán này sẽ cố gắng tìm các điểm chung của dữ liệu. Trong thực tế, các dữ liệu không có gắn nhãn thường nhiều hơn dữ liệu được gắn nhãn. Chính vì vậy mà phương pháp học không giám sát này luôn mang giá trị đặc biệt.\n",
    "\n",
    "<img src=\"images/usp-learning.png\" style=\"width:80%;height:80%;\">\n",
    "\n",
    "Các bài toán học không giám sát (Unsupervised learning) được phân thành 2 loại chính:\n",
    "\n",
    "**Clustering (Phân nhóm):** Với bộ dữ liệu đầu vào, hệ thống sẽ dựa trên mức độ liên quan của các dữ liệu mà phân chia thành các nhóm khác nhau. Ví dụ trong bài toán có đầu vào là các hình ảnh chó và mèo (nhưng không được gắn nhãn), sau đó qua quá trình học tập sẽ phân chia được thành 2 nhóm: 1 nhóm hình ảnh bao gồm các con mèo và 1 nhóm hình ảnh bao gồm các con chó. \n",
    "\n",
    "**Anomaly Detection (Phát hiện bất thường):** Trong bài toán này, hệ thống sẽ tìm ra các quy luật của các dữ liệu cho trước. Nếu có bất kỳ dữ liệu mới nào mà lệch khỏi quy luật này sẽ được tính vào là một hành vi bất thường. Ví dụ như trong giao dịch ngân hàng, đột nhiên có một tài khoản quá 12 giờ đêm mà giao dịch hàng tỷ đồng. "
   ]
  },
  {
   "cell_type": "markdown",
   "metadata": {},
   "source": [
    "### 3. Học bán giám sát (Semi-Supervised Lerning)\n",
    "\n",
    "Trong học bán giám sát (Semi-supervised lerning), dữ liệu đầu vào một phần sẽ được gắn nhãn - là sự kết hợp của 2 phương pháp học có giám sát (Supervised learning) và học không giám sát (Unsupervised learning). \n",
    "\n",
    "<img src=\"images/semi-sp.png\" style=\"width:40%;height:40%;\">\n",
    "\n",
    "Ví dụ bạn có một kho hình ảnh khổng lồ, nhưng chỉ có dữ liệu về người được gắn nhãn. Mà bạn lại muốn phân loại thành nhiều nhóm khác nhau như nhóm xe đạp, nhóm ảnh thiên nhiên, ...\n"
   ]
  },
  {
   "cell_type": "markdown",
   "metadata": {},
   "source": [
    "### 4. Học củng cố (Reinforcement Learning)\n",
    "\n",
    "Học củng cố hay học tăng cường (Reinforcement Learning) thường được áp dụng vào \"lý thuyết trò chơi\" (Game Theory), thuật toán sẽ cần phải xác định các bước đi tiếp theo để đạt được điểm số cao nhất. Trong học củng cố sẽ có phần thưởng và phạt dựa trên các hành vi - chẳng hạn: trong bước tiếp theo máy đạt được điểm cao hơn thì sẽ nhận được phần thưởng và ngược lại nếu điểm số hạ xuống sẽ bị phạt. \n",
    "\n",
    "<img src=\"images/Reinforcement-Learning.png\">\n",
    "\n",
    "Ứng dụng điển hình của học củng cố là AlphaGo - chơi cờ vây có thể thắng được con người. "
   ]
  },
  {
   "cell_type": "markdown",
   "metadata": {},
   "source": [
    "### Tổng Kết\n",
    "\n",
    "Ngoài 4 phương pháp học tập kể trên, chúng ta còn có thể phân loại các bài toán Machine Learning dựa theo chức năng của bài toán như: Regression Algorithms, Classification Algorithms, Regularization Algorithms, ...\n"
   ]
  },
  {
   "cell_type": "markdown",
   "metadata": {},
   "source": [
    "### Tài liệu tham khảo \n",
    "\n",
    "[1] Machine Learning? A Quick Guide"
   ]
  }
 ],
 "metadata": {
  "kernelspec": {
   "display_name": "Python 3",
   "language": "python",
   "name": "python3"
  },
  "language_info": {
   "codemirror_mode": {
    "name": "ipython",
    "version": 3
   },
   "file_extension": ".py",
   "mimetype": "text/x-python",
   "name": "python",
   "nbconvert_exporter": "python",
   "pygments_lexer": "ipython3",
   "version": "3.7.3"
  }
 },
 "nbformat": 4,
 "nbformat_minor": 2
}
