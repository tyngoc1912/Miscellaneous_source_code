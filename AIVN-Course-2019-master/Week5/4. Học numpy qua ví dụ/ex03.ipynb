{
 "cells": [
  {
   "cell_type": "markdown",
   "metadata": {},
   "source": [
    "Lấy những phần tử mà thoả mãn một điều kiện cho trước của mảng một chiều. Cho mảng một chiều có giá trị từ 0 đến 9\n",
    "\n",
    "a) Tìm phần tử có giá trị lẻ\n",
    "\n",
    "b) Tìm phần tử có giá trị chẵn"
   ]
  },
  {
   "cell_type": "code",
   "execution_count": 3,
   "metadata": {},
   "outputs": [
    {
     "name": "stdout",
     "output_type": "stream",
     "text": [
      "Phần tử lẻ: [1 3 5 7 9]\n",
      "Phần tử chẵn: [0 2 4 6 8]\n"
     ]
    }
   ],
   "source": [
    "import numpy as np\n",
    "\n",
    "arr = np.arange(10)\n",
    "\n",
    "arr_odd = arr[arr % 2 == 1]\n",
    "arr_even = arr[arr % 2 == 0]\n",
    "\n",
    "print('Phần tử lẻ:', arr_odd)\n",
    "print('Phần tử chẵn:', arr_even)"
   ]
  },
  {
   "cell_type": "code",
   "execution_count": 4,
   "metadata": {},
   "outputs": [
    {
     "name": "stdout",
     "output_type": "stream",
     "text": [
      "(5,)\n"
     ]
    }
   ],
   "source": [
    "print(arr_odd.shape)"
   ]
  }
 ],
 "metadata": {
  "kernelspec": {
   "display_name": "Python 3",
   "language": "python",
   "name": "python3"
  },
  "language_info": {
   "codemirror_mode": {
    "name": "ipython",
    "version": 3
   },
   "file_extension": ".py",
   "mimetype": "text/x-python",
   "name": "python",
   "nbconvert_exporter": "python",
   "pygments_lexer": "ipython3",
   "version": "3.7.3"
  }
 },
 "nbformat": 4,
 "nbformat_minor": 2
}
