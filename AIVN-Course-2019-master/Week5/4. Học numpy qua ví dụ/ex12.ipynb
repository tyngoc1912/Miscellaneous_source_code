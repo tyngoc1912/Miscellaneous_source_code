{
 "cells": [
  {
   "cell_type": "markdown",
   "metadata": {},
   "source": [
    "Cho hai mảng sau\n",
    "\n",
    "`arr1 = np.array([3, 4, 5, 6, 7, 8])`\n",
    "\n",
    "`arr2 = np.array([3, 3, 6, 6, 7, 7])`\n",
    "\n",
    "Lấy tất cả vị trí mà các phần tử có giá trị giống nhau."
   ]
  },
  {
   "cell_type": "code",
   "execution_count": 1,
   "metadata": {},
   "outputs": [
    {
     "name": "stdout",
     "output_type": "stream",
     "text": [
      "(array([0, 3, 4]),)\n",
      "[0 3 4]\n"
     ]
    }
   ],
   "source": [
    "import numpy as np\n",
    "\n",
    "arr1 = np.array([3, 4, 5, 6, 7, 8])\n",
    "arr2 = np.array([3, 3, 6, 6, 7, 7])\n",
    "\n",
    "out = np.where(arr1 == arr2)\n",
    "\n",
    "print(out)\n",
    "print(out[0])"
   ]
  }
 ],
 "metadata": {
  "kernelspec": {
   "display_name": "Python 3",
   "language": "python",
   "name": "python3"
  },
  "language_info": {
   "codemirror_mode": {
    "name": "ipython",
    "version": 3
   },
   "file_extension": ".py",
   "mimetype": "text/x-python",
   "name": "python",
   "nbconvert_exporter": "python",
   "pygments_lexer": "ipython3",
   "version": "3.7.3"
  }
 },
 "nbformat": 4,
 "nbformat_minor": 2
}
