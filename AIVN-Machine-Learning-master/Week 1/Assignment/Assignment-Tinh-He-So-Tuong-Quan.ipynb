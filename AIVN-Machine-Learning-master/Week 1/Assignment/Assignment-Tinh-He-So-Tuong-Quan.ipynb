{
 "cells": [
  {
   "cell_type": "markdown",
   "metadata": {},
   "source": [
    "## Bài Tập Lập Trình: Tính Hệ Số Tương Quan Giữa 2 Ảnh\n",
    "\n",
    "Chào mừng các bạn đến với bài tập lập trình tính hệ số tương quan giữa 2 ảnh bằng Python. Trước khi thực hiện bài tập này, các bạn nên học kỹ các kiến thức lý thuyết. Nếu có bất kỳ câu hỏi hay vấn đề nào xảy ra, các bạn hãy để lại comment trực tiếp bên dưới bài đăng hoặc liên hệ qua Fanpage AIVIETNAM / Group AIVIETNAM.\n",
    "\n",
    "### Nội dung\n",
    "\n",
    "Trong bài tập này, các bạn sẽ thực hiện xây dựng công thức tính hệ số tương quan. Sau khi thực hiện xây dựng xong, các bạn sẽ áp dụng vào bài toán tính hệ số tương quan giữa 2 ảnh.\n",
    "\n",
    "### Hướng dẫn làm bài \n",
    "- Trong bài tập này bạn sẽ sử dụng Python 3.\n",
    "- Sau khi bạn viết Code của mình xong, hãy chạy dòng Code đó để xem kết quả bên dưới. \n",
    "\n",
    "Các bạn sẽ bắt đầu Code trong phần `### START CODE HERE ###` và `### END CODE HERE ###`. Các bạn nhớ đừng sửa bất kỳ dòng Code nào bên ngoài những câu lệnh này. \n",
    "\n",
    "Sau khi viết xong Code của bạn, bạn hãy ấn \"SHIFT\"+\"ENTER\" để thực hiện chạy lệnh của Cell đó. \n",
    "\n",
    "Trong phần Code: các bạn hãy cố gắng thực hiện ít dòng Code nhất theo chỉ định \"(≈ X lines of code)\". Mặc dù đây không phải là hạn chế về số dòng Code của bạn, nhưng hãy tối ưu sao cho ít nhất có thể."
   ]
  },
  {
   "cell_type": "markdown",
   "metadata": {},
   "source": [
    "### Nhắc lại kiến thức\n",
    "\n",
    "Hệ số tương quan thể hiện mối quan hệ tương quan tuyến tính giữa hai biến, hệ số tương quan nằm trong khoảng [-1; 1].\n",
    "    - Khi hệ số tương quan bằng 0 thì ta kết luận hai biến không có tương quan tuyến tính với nhau (nhưng không chắc chúng độc lập).\n",
    "    \n",
    "    - Khi hệ số gần bằng 1 thì ta nói có mối quan hệ tuyến tính dương (cùng tăng hoặc cùng giảm).\n",
    "\n",
    "    - Khi hệ số gần bằng -1 thì ta nói hai biến số có mối quan hệ tuyến tính âm (x giảm y tăng và ngược lại).\n",
    "\n",
    "\n",
    "Công thức tính hệ số tương quan: \n",
    "\n",
    "<img src=\"images/Correlation-Coefficient-Formula.jpg\" style=\"width:50%;height:50%;\">\n",
    "\n",
    "Trong đó:\n",
    "\n",
    "- X – dữ liệu trong tập X\n",
    "- Y – dữ liệu trong tập Y\n",
    "- Xm – Mean của tập X\n",
    "- Ym – Mean của tập Y"
   ]
  },
  {
   "cell_type": "markdown",
   "metadata": {},
   "source": [
    "*Gợi ý:* Tính tổng bằng hàm `sum` và lấy mean sử dụng trong thư viện `statistics`"
   ]
  },
  {
   "cell_type": "code",
   "execution_count": null,
   "metadata": {},
   "outputs": [],
   "source": [
    "from statistics import mean \n",
    "\n",
    "data1 = [1, 3, 4, 5, 7, 9, 2] \n",
    "  \n",
    "x = mean(data1) \n",
    "y = sum(data1)\n",
    "\n",
    "print(x)\n",
    "print(y)"
   ]
  },
  {
   "cell_type": "markdown",
   "metadata": {},
   "source": [
    "**Bài tập 1:** Xây dựng công thức tính hệ số tương quan."
   ]
  },
  {
   "cell_type": "markdown",
   "metadata": {},
   "source": [
    "#### Bước 1: Tính tử số "
   ]
  },
  {
   "cell_type": "code",
   "execution_count": null,
   "metadata": {},
   "outputs": [],
   "source": [
    "\n",
    "def numerator(x, y):\n",
    "    diff_x = []\n",
    "    diff_y = []\n",
    "    \n",
    "    # Tính x[i] - mean(x) và thêm vào diff_x\n",
    "    for i in range(len(x)):\n",
    "        ### START CODE HERE ### (≈ 1 line of code) \n",
    "        None\n",
    "        ### END CODE HERE ###\n",
    "        \n",
    "    # Tính y[i] - mean(y) và thêm vào diff_y\n",
    "    for i in range(len(y)):\n",
    "        ### START CODE HERE ### (≈ 1 line of code) \n",
    "        None\n",
    "        ### END CODE HERE ###\n",
    "\n",
    "    # Tính sum của diff_x; diff_y\n",
    "    ### START CODE HERE ### (≈ 2 line of code) \n",
    "    sum_diff_x = None\n",
    "    sum_diff_y = None\n",
    "    ### END CODE HERE ###\n",
    "    \n",
    "    prod = []\n",
    "    \n",
    "    # Tính x_i * y_i và thêm vào prod\n",
    "    for xi,yi in zip(diff_x, diff_y):  \n",
    "        ### START CODE HERE ### (≈ 1 line of code)\n",
    "        None\n",
    "        ### END CODE HERE ###\n",
    "    \n",
    "    # Tính sum của prod\n",
    "    numerator = sum(prod)\n",
    "    \n",
    "    return numerator\n",
    "    "
   ]
  },
  {
   "cell_type": "markdown",
   "metadata": {},
   "source": [
    "#### Bước 2: Tính mẫu số "
   ]
  },
  {
   "cell_type": "code",
   "execution_count": null,
   "metadata": {},
   "outputs": [],
   "source": [
    "\n",
    "def denominator(x, y):\n",
    "    diff_x = []\n",
    "    diff_y = []\n",
    "    \n",
    "    # Tính x[i] - mean(x) và thêm vào diff_x\n",
    "    for i in range(len(x)):\n",
    "        ### START CODE HERE ### (≈ 1 line of code)\n",
    "        None\n",
    "        ### END CODE HERE ###\n",
    "    \n",
    "    # Tính y[i] - mean(y) và thêm vào diff_y\n",
    "    for i in range(len(y)):\n",
    "        ### START CODE HERE ### (≈ 1 line of code)\n",
    "        None\n",
    "        ### END CODE HERE ###\n",
    "        \n",
    "    squared_sum_diff_x = []\n",
    "    squared_sum_diff_y = []\n",
    "    \n",
    "    # Tính bình phương của từng phần tử trong diff_x và thêm vào squared_sum_diff_x\n",
    "    for i in range(len(diff_x)):\n",
    "        ### START CODE HERE ### (≈ 1 line of code)\n",
    "        None\n",
    "        ### END CODE HERE ###\n",
    "        \n",
    "        \n",
    "    # Tính bình phương của từng phần tử trong diff_y và thêm vào squared_sum_diff_y\n",
    "    for i in range(len(diff_y)):\n",
    "        ### START CODE HERE ### (≈ 1 line of code)\n",
    "        None\n",
    "        ### END CODE HERE ###\n",
    "\n",
    "    # Tính sum của squared_sum_diff_x; squared_sum_diff_y\n",
    "    sum_squared_sum_diff_x = sum(squared_sum_diff_x)\n",
    "    sum_squared_sum_diff_y = sum(squared_sum_diff_y)\n",
    "\n",
    "    # Lấy căn mẫu\n",
    "    ### START CODE HERE ### (≈ 1 line of code)\n",
    "    denominator = None\n",
    "    ### END CODE HERE ###\n",
    "    \n",
    "    return denominator"
   ]
  },
  {
   "cell_type": "code",
   "execution_count": null,
   "metadata": {},
   "outputs": [],
   "source": [
    "def find_corr_x_y(x,y):                                         \n",
    "    \n",
    "    correlation = numerator(x, y) / denominator(x, y)\n",
    "    \n",
    "    return correlation \n",
    "\n",
    "x = [7, 18, 29, 2, 10, 9, 8]\n",
    "y = [1, 6, 12, 8, 6, 21, 10]\n",
    "print('Hệ số tương quan tuyến tính giữa hai biến x,y: ',find_corr_x_y(x,y))"
   ]
  },
  {
   "cell_type": "markdown",
   "metadata": {},
   "source": [
    "**Đầu ra kỳ vọng**:\n",
    "\n",
    "<table style = \"width:40%\">\n",
    "    <tr>\n",
    "        <td>0.14591978278086362</td></tr>\n",
    "</table>"
   ]
  },
  {
   "cell_type": "markdown",
   "metadata": {},
   "source": [
    "**Bài tập 2:** Áp dụng cho bài toán hệ số tương quan giữa 2 ảnh.\n",
    "\n",
    "Hệ số tương quan được ứng dụng rất nhiều trong việc tính mức độ tương quan giữa 2 biến ngẫu nhiên trong nhiều lĩnh vực. Nếu chúng ta xem điểm ảnh (pixel) là một biến ngẫu nhiên với các giá trị nằm trong đoạn [0, 255] cho ảnh grayscale. Với ảnh màu, pixel thường có 3 kênh màu (x, y, z), trong đó x, y, z nằm trong đoạn [0, 255].\n",
    "\n",
    "Với 1 ảnh màu có hình dạng là (50, 50, 3), trong đó chiều cao và chiều rồng là 50 và số kênh màu là 3. Chúng ta có thể kéo ảnh có hình khối như trên thành dạng dữ liệu kiểu List với chiều dài là 50x50x3.\n",
    "\n",
    "<img src=\"images/chap2_stat_demo1.png\" style=\"width:50%;height:50%;\">\n",
    "\n",
    "Hình trên hiển thị 4 ảnh traffic sign, trong đó có 3 loại traffic sign. Hình img1 và hình img2 cùng một loại traffic sign và hình img3 và img4 khác loại. Chúng ta thử kiểm tra khả năng hoạt động của hệ số tương quan cho các cặp (img1, img2), (img1, img3), và (img1, img4).\n",
    "\n",
    "**Chú ý:** Thời gian tính toán khi sử dụng phương thức cài đặt trong bài 1 sẽ mất 1 khoảng thời gian nhỏ. Với mỗi ảnh sẽ có khoảng 50x50x3 = 7500 trong mỗi List nên thời gian sử dụng vòng lặp `for` rất tốn thời gian. Ngoài ra, với thư viện Numpy sẽ mang lại hiệu quả cao hơn, chúng ta sẽ học về Numpy trong các bài sau.\n",
    "\n",
    "Chúng ta sẽ sử dụng hàm: `corrcoef` trong thư viện `numpy`."
   ]
  },
  {
   "cell_type": "code",
   "execution_count": null,
   "metadata": {},
   "outputs": [],
   "source": [
    "import numpy as np\n",
    "from PIL import Image\n",
    "from io import BytesIO\n",
    "import requests\n",
    "\n",
    "# load ảnh và chuyển về kiểu list\n",
    "req1 = requests.get('https://www.dropbox.com/s/vfe090qo24t3v46/img1.png?raw=1')\n",
    "req2 = requests.get('https://www.dropbox.com/s/vtz8ik7mb1e1is7/img2.png?raw=1')\n",
    "req3 = requests.get('https://www.dropbox.com/s/auxezlf6ijoejwo/img3.png?raw=1')\n",
    "req4 = requests.get('https://www.dropbox.com/s/w5oc29l57f77arp/img4.png?raw=1')\n",
    "\n",
    "# mở ảnh và lưu vào biến image_x\n",
    "image1 = Image.open(BytesIO(req1.content))\n",
    "image2 = Image.open(BytesIO(req2.content))\n",
    "image3 = Image.open(BytesIO(req3.content))\n",
    "image4 = Image.open(BytesIO(req4.content))\n",
    "\n",
    "# chuyển ảnh sang kiểu list\n",
    "image1_list = np.asarray(image1).flatten().tolist()\n",
    "image2_list = np.asarray(image2).flatten().tolist()\n",
    "image3_list = np.asarray(image3).flatten().tolist()\n",
    "image4_list = np.asarray(image4).flatten().tolist()\n",
    "\n",
    "# Thực hiện tính hệ số tương quan \n",
    "\n",
    "### Gọi hàm tính hệ số tương quan đã tạo bên trên\n",
    "# Nếu có thời gian, các bạn hãy chạy thử các dòng lệnh được comment bên dưới, sẽ mất một khoảng thời gian.\n",
    "# corr_1_2 = find_corr_x_y(image1_list, image2_list)\n",
    "# corr_1_3 = find_corr_x_y(image1_list, image3_list)\n",
    "# corr_1_4 = find_corr_x_y(image1_list, image4_list)\n",
    "\n",
    "# Sử dụng thư viện numpy, gọi hàm bằng np.corrcoef(image1, image2)\n",
    "### START CODE HERE ### (≈ 3 line of code) \n",
    "corr_1_2_np = None\n",
    "corr_1_3_np = None\n",
    "corr_1_4_np = None\n",
    "### END CODE HERE ###\n",
    "\n",
    "print('corr_1_2_np:', corr_1_2_np[0][1])\n",
    "print('corr_1_3_np:', corr_1_3_np[0][1])\n",
    "print('corr_1_4_np:', corr_1_4_np[0][1])"
   ]
  },
  {
   "cell_type": "markdown",
   "metadata": {},
   "source": [
    "**Đầu ra kỳ vọng**:\n",
    "\n",
    "<table style = \"width:40%\">\n",
    "    <tr><td>corr_1_2: 0.5597078993054261</td></tr>\n",
    "    <tr><td>corr_1_3: 0.23464323667481513</td></tr>\n",
    "    <tr><td>corr_1_4: 0.3044435718683657</td></tr>\n",
    "    \n",
    "</table>"
   ]
  },
  {
   "cell_type": "markdown",
   "metadata": {},
   "source": [
    "### Tổng kết\n",
    "\n",
    "Bài tập này nhằm mục đích giúp các bạn luyện tập triển khai mã bằng Python đơn thuần. Trên thực tế, nếu có thư viện hỗ trợ, chúng ta sẽ sử dụng các hàm trong thư viện sẽ mang lại hiểu quả cao hơn."
   ]
  }
 ],
 "metadata": {
  "kernelspec": {
   "display_name": "Python 3",
   "language": "python",
   "name": "python3"
  },
  "language_info": {
   "codemirror_mode": {
    "name": "ipython",
    "version": 3
   },
   "file_extension": ".py",
   "mimetype": "text/x-python",
   "name": "python",
   "nbconvert_exporter": "python",
   "pygments_lexer": "ipython3",
   "version": "3.7.3"
  }
 },
 "nbformat": 4,
 "nbformat_minor": 2
}
