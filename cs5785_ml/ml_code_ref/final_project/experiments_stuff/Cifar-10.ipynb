{
 "cells": [
  {
   "cell_type": "code",
   "execution_count": 1,
   "metadata": {},
   "outputs": [
    {
     "name": "stderr",
     "output_type": "stream",
     "text": [
      "/home/lego1st/.virtualenvs/py3/lib/python3.5/site-packages/h5py/__init__.py:36: FutureWarning: Conversion of the second argument of issubdtype from `float` to `np.floating` is deprecated. In future, it will be treated as `np.float64 == np.dtype(float).type`.\n",
      "  from ._conv import register_converters as _register_converters\n",
      "Using TensorFlow backend.\n"
     ]
    }
   ],
   "source": [
    "from __future__ import print_function\n",
    "import keras\n",
    "from keras.datasets import cifar10\n",
    "from keras.preprocessing.image import ImageDataGenerator\n",
    "from keras.models import Sequential\n",
    "from keras.layers import Dense, Dropout, Activation, Flatten\n",
    "from keras.layers import Conv2D, MaxPooling2D\n",
    "import os"
   ]
  },
  {
   "cell_type": "code",
   "execution_count": 2,
   "metadata": {},
   "outputs": [],
   "source": [
    "batch_size = 32\n",
    "num_classes = 10\n",
    "epochs = 25\n",
    "model_path = os.path.join(os.getcwd(), 'cifar10_model_0.h5') "
   ]
  },
  {
   "cell_type": "code",
   "execution_count": 7,
   "metadata": {},
   "outputs": [],
   "source": [
    "(x_train, y_train), (x_test, y_test) = cifar10.load_data()"
   ]
  },
  {
   "cell_type": "code",
   "execution_count": 12,
   "metadata": {},
   "outputs": [],
   "source": [
    "x_train = x_train.astype('float32')\n",
    "x_test = x_test.astype('float32')\n",
    "x_train /= 255\n",
    "x_test /= 255"
   ]
  },
  {
   "cell_type": "code",
   "execution_count": 8,
   "metadata": {},
   "outputs": [],
   "source": [
    "y_train = keras.utils.to_categorical(y_train, num_classes)\n",
    "y_test = keras.utils.to_categorical(y_test, num_classes)"
   ]
  },
  {
   "cell_type": "code",
   "execution_count": 10,
   "metadata": {},
   "outputs": [],
   "source": [
    "model = Sequential()\n",
    "model.add(Conv2D(32, (3, 3), padding='same', input_shape=x_train.shape[1:]))\n",
    "model.add(Activation('relu'))\n",
    "model.add(Conv2D(32, (3, 3)))\n",
    "model.add(Activation('relu'))\n",
    "model.add(MaxPooling2D(pool_size=(2, 2)))\n",
    "model.add(Dropout(0.25))\n",
    "\n",
    "model.add(Conv2D(64, (3, 3), padding='same'))\n",
    "model.add(Activation('relu'))\n",
    "model.add(Conv2D(64, (3, 3)))\n",
    "model.add(Activation('relu'))\n",
    "model.add(MaxPooling2D(pool_size=(2, 2)))\n",
    "model.add(Dropout(0.25))\n",
    "\n",
    "model.add(Flatten())\n",
    "model.add(Dense(512))\n",
    "model.add(Activation('relu'))\n",
    "model.add(Dropout(0.5))\n",
    "model.add(Dense(num_classes))\n",
    "model.add(Activation('softmax'))"
   ]
  },
  {
   "cell_type": "code",
   "execution_count": 11,
   "metadata": {},
   "outputs": [],
   "source": [
    "opt = keras.optimizers.rmsprop(lr=0.0001, decay=1e-6)"
   ]
  },
  {
   "cell_type": "code",
   "execution_count": 13,
   "metadata": {},
   "outputs": [],
   "source": [
    "model.compile(loss='categorical_crossentropy', optimizer=opt, metrics=['accuracy'])"
   ]
  },
  {
   "cell_type": "code",
   "execution_count": 14,
   "metadata": {},
   "outputs": [
    {
     "name": "stdout",
     "output_type": "stream",
     "text": [
      "Train on 50000 samples, validate on 10000 samples\n",
      "Epoch 1/25\n",
      "50000/50000 [==============================] - 120s 2ms/step - loss: 1.8417 - acc: 0.3238 - val_loss: 1.6155 - val_acc: 0.4336\n",
      "Epoch 2/25\n",
      "50000/50000 [==============================] - 110s 2ms/step - loss: 1.5161 - acc: 0.4480 - val_loss: 1.3791 - val_acc: 0.5027\n",
      "Epoch 3/25\n",
      "50000/50000 [==============================] - 113s 2ms/step - loss: 1.3774 - acc: 0.5045 - val_loss: 1.2655 - val_acc: 0.5472\n",
      "Epoch 4/25\n",
      "50000/50000 [==============================] - 98s 2ms/step - loss: 1.2822 - acc: 0.5449 - val_loss: 1.2024 - val_acc: 0.5730\n",
      "Epoch 5/25\n",
      "50000/50000 [==============================] - 109s 2ms/step - loss: 1.2113 - acc: 0.5723 - val_loss: 1.1163 - val_acc: 0.6050\n",
      "Epoch 6/25\n",
      "50000/50000 [==============================] - 120s 2ms/step - loss: 1.1489 - acc: 0.5945 - val_loss: 1.0862 - val_acc: 0.6186\n",
      "Epoch 7/25\n",
      "50000/50000 [==============================] - 100s 2ms/step - loss: 1.0941 - acc: 0.6133 - val_loss: 1.0167 - val_acc: 0.6420\n",
      "Epoch 8/25\n",
      "50000/50000 [==============================] - 91s 2ms/step - loss: 1.0438 - acc: 0.6329 - val_loss: 1.0063 - val_acc: 0.6475\n",
      "Epoch 9/25\n",
      "50000/50000 [==============================] - 91s 2ms/step - loss: 1.0039 - acc: 0.6463 - val_loss: 0.9199 - val_acc: 0.6793\n",
      "Epoch 10/25\n",
      "50000/50000 [==============================] - 90s 2ms/step - loss: 0.9585 - acc: 0.6657 - val_loss: 0.9017 - val_acc: 0.6890\n",
      "Epoch 11/25\n",
      "50000/50000 [==============================] - 90s 2ms/step - loss: 0.9251 - acc: 0.6785 - val_loss: 0.8918 - val_acc: 0.6912\n",
      "Epoch 12/25\n",
      "50000/50000 [==============================] - 90s 2ms/step - loss: 0.8920 - acc: 0.6893 - val_loss: 0.9027 - val_acc: 0.6879\n",
      "Epoch 13/25\n",
      "50000/50000 [==============================] - 117s 2ms/step - loss: 0.8704 - acc: 0.6980 - val_loss: 0.8270 - val_acc: 0.7180\n",
      "Epoch 14/25\n",
      "50000/50000 [==============================] - 106s 2ms/step - loss: 0.8465 - acc: 0.7088 - val_loss: 0.8079 - val_acc: 0.7193\n",
      "Epoch 15/25\n",
      "50000/50000 [==============================] - 105s 2ms/step - loss: 0.8266 - acc: 0.7129 - val_loss: 0.7947 - val_acc: 0.7227\n",
      "Epoch 16/25\n",
      "50000/50000 [==============================] - 105s 2ms/step - loss: 0.8089 - acc: 0.7213 - val_loss: 0.7792 - val_acc: 0.7307\n",
      "Epoch 17/25\n",
      "50000/50000 [==============================] - 106s 2ms/step - loss: 0.7932 - acc: 0.7260 - val_loss: 0.8009 - val_acc: 0.7266\n",
      "Epoch 18/25\n",
      "50000/50000 [==============================] - 105s 2ms/step - loss: 0.7823 - acc: 0.7308 - val_loss: 0.7422 - val_acc: 0.7479\n",
      "Epoch 19/25\n",
      "50000/50000 [==============================] - 106s 2ms/step - loss: 0.7689 - acc: 0.7356 - val_loss: 0.7597 - val_acc: 0.7441\n",
      "Epoch 20/25\n",
      "50000/50000 [==============================] - 106s 2ms/step - loss: 0.7594 - acc: 0.7395 - val_loss: 0.7574 - val_acc: 0.7458\n",
      "Epoch 21/25\n",
      "50000/50000 [==============================] - 106s 2ms/step - loss: 0.7496 - acc: 0.7445 - val_loss: 0.7324 - val_acc: 0.7522\n",
      "Epoch 22/25\n",
      "50000/50000 [==============================] - 106s 2ms/step - loss: 0.7458 - acc: 0.7449 - val_loss: 0.7612 - val_acc: 0.7381\n",
      "Epoch 23/25\n",
      "50000/50000 [==============================] - 108s 2ms/step - loss: 0.7356 - acc: 0.7495 - val_loss: 0.7194 - val_acc: 0.7535\n",
      "Epoch 24/25\n",
      "50000/50000 [==============================] - 104s 2ms/step - loss: 0.7287 - acc: 0.7524 - val_loss: 0.7107 - val_acc: 0.7580\n",
      "Epoch 25/25\n",
      "50000/50000 [==============================] - 106s 2ms/step - loss: 0.7233 - acc: 0.7535 - val_loss: 0.7481 - val_acc: 0.7467\n"
     ]
    },
    {
     "data": {
      "text/plain": [
       "<keras.callbacks.History at 0x7f7b2c083f28>"
      ]
     },
     "execution_count": 14,
     "metadata": {},
     "output_type": "execute_result"
    }
   ],
   "source": [
    "model.fit(x_train, y_train,\\\n",
    "          batch_size=batch_size,\\\n",
    "          epochs=epochs,\\\n",
    "          validation_data=(x_test, y_test),\\\n",
    "          shuffle=True)"
   ]
  },
  {
   "cell_type": "code",
   "execution_count": 15,
   "metadata": {},
   "outputs": [],
   "source": [
    "model.save(model_path)"
   ]
  },
  {
   "cell_type": "code",
   "execution_count": 16,
   "metadata": {},
   "outputs": [
    {
     "name": "stdout",
     "output_type": "stream",
     "text": [
      "10000/10000 [==============================] - 6s 573us/step\n",
      "Test loss: 0.7480912346839905\n",
      "Test accuracy: 0.7467\n"
     ]
    }
   ],
   "source": [
    "scores = model.evaluate(x_test, y_test, verbose=1)\n",
    "print('Test loss: {}\\nTest accuracy: {}'.format(scores[0], scores[1]))"
   ]
  }
 ],
 "metadata": {
  "kernelspec": {
   "display_name": "Python 3",
   "language": "python",
   "name": "python3"
  },
  "language_info": {
   "codemirror_mode": {
    "name": "ipython",
    "version": 3
   },
   "file_extension": ".py",
   "mimetype": "text/x-python",
   "name": "python",
   "nbconvert_exporter": "python",
   "pygments_lexer": "ipython3",
   "version": "3.5.2"
  }
 },
 "nbformat": 4,
 "nbformat_minor": 2
}
