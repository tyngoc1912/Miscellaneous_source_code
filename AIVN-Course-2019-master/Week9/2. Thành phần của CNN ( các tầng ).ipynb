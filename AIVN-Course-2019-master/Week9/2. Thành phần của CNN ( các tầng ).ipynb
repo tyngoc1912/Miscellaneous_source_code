{
 "cells": [
  {
   "cell_type": "markdown",
   "metadata": {},
   "source": [
    "### Thành phần của Convolutional Neural Networks \n",
    "\n",
    "CNN được cấu tạo bởi các Convolution, hàm kích hoạt, các tham số,... Để hiểu chi tiết hơn chúng ta cùng nhau đi vào từng phần sau:\n",
    "\n",
    "- Tầng Convolutional \n",
    "    - Filter \n",
    "    - 2D Convolution \n",
    "    - Stride \n",
    "    - Padding \n",
    "    - Feature detector \n",
    "- Tầng Activation - Hàm ReLU \n",
    "- Tầng Pooling \n",
    "     - Max Pooling \n",
    "     - Average Pooling \n",
    "- Tầng Fully Connected - Flattening "
   ]
  },
  {
   "cell_type": "markdown",
   "metadata": {},
   "source": [
    "### 1. Tầng Convolutional \n",
    "\n",
    "Convolutional layer thường là lớp đầu tiên trong mô hình CNN. Lớp này có chức năng phát hiện ra các đặc trưng về không gian một cách hiệu quả. "
   ]
  },
  {
   "cell_type": "markdown",
   "metadata": {},
   "source": [
    "#### 1.1 Filter \n",
    "\n",
    "Filter là một trong những tham quan trọng trong CNN. Kích thước Filter trong tầng Convolutonal phổ biến hiện nay là: **3x3**.\n",
    "\n",
    "Kích thước Filter thường là số lẻ, ví dụ: 3x3, 5x5, 7x7,... \n",
    "Lý do kích thước Filter không hay chọn là số chẵn vì khó có thể xác định tâm ở phía trước. Và nó sẽ gây khó khăn khi muốn tìm vị trí tương ứng trên Feature Map.\n",
    "\n",
    "<img src=\"images/filter.png\" style=\"width:70%;height:70%;\">"
   ]
  },
  {
   "cell_type": "markdown",
   "metadata": {},
   "source": [
    "Kích thước của các Filter thường không quá lớn. Vì với kích thước nhỏ nó có thể trích xuất cục bộ chi tiết hơn, kích thước ảnh giảm chậm hơn -> mạng sâu hơn, số lượng tham số phải học thấp hơn.\n",
    "\n",
    "Đôi khi xử dụng 2 Filter kích thước 3x3 (có 18 tham số) sẽ tối ưu hơn dùng 1 Filter 5x5 (25 tham số)."
   ]
  },
  {
   "cell_type": "markdown",
   "metadata": {},
   "source": [
    "#### 1.2 2D  Convolution \n",
    "Các bạn có thể đọc lại phép Convolution ở bài trước (Convolution trên ảnh xám), trong bài này sẽ chỉ đưa ra thêm ví dụ Convolution cho ảnh RGB. "
   ]
  },
  {
   "cell_type": "markdown",
   "metadata": {},
   "source": [
    "<img src=\"images/con_RGB.png\" style=\"width:350px;height:300px;\">"
   ]
  },
  {
   "cell_type": "markdown",
   "metadata": {},
   "source": [
    "Với ảnh RGB có 3 channel red, green, blue thì Filter phải có cùng độ sâu với ảnh (depth). Và nó di chuyển từ trái sang phải, từ trên xuống dưới như minh hoạ trong hình trên. "
   ]
  },
  {
   "cell_type": "markdown",
   "metadata": {},
   "source": [
    "<img src=\"images/con_RGB_2.png\" style=\"width:70%;height:70%\">"
   ]
  },
  {
   "cell_type": "markdown",
   "metadata": {},
   "source": [
    "Đầu ra của ảnh RGB vẫn là 1 tensor 2 chiều bởi sự kết hợp từ việc các phép Convolution trên từng kênh màu một như trong hình dưới đây:\n",
    "\n",
    "<img src=\"images/con_RGB_3.gif\" style=\"width:70%;height:70%\">"
   ]
  },
  {
   "cell_type": "markdown",
   "metadata": {},
   "source": [
    "Các bạn cần chú ý về **hệ số Bias** được cộng thêm trong phép tính tổng bên trên. "
   ]
  },
  {
   "cell_type": "markdown",
   "metadata": {},
   "source": [
    "#### 1.2 Stride \n",
    "\n",
    "Đối với phép Convolution hay Pooling thì Stride (S) là độ dài bước trượt của Filter. \n",
    "\n",
    "Như trong hình bên dưới, độ dài sải bước S = 2\n",
    "<img src=\"images/stride_1.png\" style=\"width:70%;height:70%\">"
   ]
  },
  {
   "cell_type": "markdown",
   "metadata": {},
   "source": [
    "Ví dụ:\n",
    "1. Bộ Filter có kích thước 2x2 với **Stride = 1** trên đầu vào kích thước 4x4\n",
    "<img src=\"images/stride_2.gif\" style=\"width:70%;height:70%\">\n",
    "\n",
    "2. Bộ Filter có kích thước 2x2 với **Stride = 2** trên đầu vào kích thước 4x4\n",
    "<img src=\"images/stride_3.gif\" style=\"width:70%;height:70%\">"
   ]
  },
  {
   "cell_type": "markdown",
   "metadata": {},
   "source": [
    "#### 1.3 Padding \n",
    "\n",
    "Khi dùng Convolution, thông tin ở biên bức ảnh bị biến mất và kích thước của ảnh giảm nhanh chóng."
   ]
  },
  {
   "cell_type": "markdown",
   "metadata": {},
   "source": [
    "<img src=\"images/padding_1.png\" style=\"width:70%;height:70%\">"
   ]
  },
  {
   "cell_type": "markdown",
   "metadata": {},
   "source": [
    "Để khắc phục vấn đề đó chúng ta sử dụng Padding. Bằng việc thêm các giá trị 0 vào biên ta sẽ có Zero Padding.\n",
    "\n",
    "<img src=\"images/padding_3.png\" style=\"width:70%;height:70%\">"
   ]
  },
  {
   "cell_type": "markdown",
   "metadata": {},
   "source": [
    "Sau khi thêm Padding chúng ta có một số lợi thế như sau: \n",
    "- Không mất mát thông tin viền nên nhận diện sẽ tốt hơn, tìm được chính xác đối tượng hơn.\n",
    "- Đầu ra của CNN kích thước sẽ giảm dần nên khi thêm Padding sẽ giúp giảm chậm hơn. "
   ]
  },
  {
   "cell_type": "markdown",
   "metadata": {},
   "source": [
    "Vậy, sau khi chúng ta đã tìm hiểu về Stride và Padding, làm thế nào từ ảnh đầu vào có thể tính được kích thước Feature map?\n",
    "\n",
    "Với ảnh đầu vào có: kích thước $W$ x $H$ , filter $F$ x $F$, stride $S$, padding $P$.\n",
    "\n",
    "Thì Feature map có kích thước $W'$ x $H'$ trong đó: \n",
    "\n",
    "- $W' = \\frac{W + 2P - F}{S} + 1$ \n",
    "- $H' = \\frac{W + 2P - F}{S} + 1$"
   ]
  },
  {
   "cell_type": "markdown",
   "metadata": {},
   "source": [
    "Xét ví dụ theo ảnh bên trên ta có: \n",
    "\n",
    "- Đầu vào kích thước: 3x3\n",
    "- Padding: 1\n",
    "- Stride: 1\n",
    "- Filter: 3x3\n",
    "\n",
    "Từ đó ta có Feature Map: \n",
    "$W' = \\frac{3 + 2*1 - 3}{1} + 1 = 3$ và $H' = \\frac{3 + 2*1 - 3}{1} + 1 = 3$\n",
    "\n",
    "Suy ra Feature Map kích thước: 3x3 "
   ]
  },
  {
   "cell_type": "markdown",
   "metadata": {},
   "source": [
    "#### Một số loại Padding khác: \n",
    "\n",
    "<img src=\"images/padding_4.png\" style=\"width:70%;height:70%\">"
   ]
  },
  {
   "cell_type": "markdown",
   "metadata": {},
   "source": [
    "#### 1.4 Feature detector \n",
    "\n",
    "Như đã nói ở trên Convolution giúp phát hiện các đặc trưng và được xem như là feature detector. \n",
    "\n",
    "Trong hình ảnh bên dưới, chúng ta sử dụng 1 filter 7x7 để tìm vị trí đường cong tương ứng trên con chuột bên trái.\n",
    "\n",
    "<img src=\"images/fd_1.png\" style=\"width:70%;height:70%\">"
   ]
  },
  {
   "cell_type": "markdown",
   "metadata": {},
   "source": [
    "Xét bộ phận ở góc trái với ma trận như ở giữa:\n",
    "\n",
    "<img src=\"images/fd_found.png\" style=\"width:70%;height:70%\">\n",
    "\n",
    "\n",
    "Thực hiện nhân ma trận này với Filter 7x7 ta được kết quả bằng 6000. Vì vậy, trong trường hợp này phát hiện được hình dạng góc cong.\n",
    "<img src=\"images/fd_found_2.png\" style=\"width:70%;height:70%\">\n",
    "\n",
    "\n",
    "Tương tự xét góc phải bên trên như hình sau: \n",
    "<img src=\"images/fd_not_found.png\" style=\"width:70%;height:70%\">\n",
    "\n",
    "Kết quả bằng 0 nên trong trường hợp này không phát hiện được đặc trưng đường cong như trên Filter.\n",
    "<img src=\"images/fd_not_found_2.png\" style=\"width:20%;height:20%\">"
   ]
  },
  {
   "cell_type": "markdown",
   "metadata": {},
   "source": [
    "#### 1.5 Tầng Convolutional - Tổng Kết \n",
    "- Đầu vào: Tensor có kích thước **$H$ x $W$ x $D$**\n",
    "- Siêu tham số:\n",
    "    - Số lượng Filter: **$K$** \n",
    "    - Kích thước của một Filter: **$F$ x $F$ x $D$**\n",
    "    - Stride của Filter: **$S$**\n",
    "    - Padding: **$P$**\n",
    "- Tham số học: \n",
    "    - **$K$ x $F$ x $F$ x $D$**\n",
    "- Đầu ra: Tensor có kích thước **$H'$ x $W'$ x $K$**\n",
    "    - **$W' = \\frac{W + 2P - F}{S} + 1$**\n",
    "    - **$H' = \\frac{W + 2P - F}{S} + 1$**"
   ]
  },
  {
   "cell_type": "markdown",
   "metadata": {},
   "source": [
    "### 2. Tầng Activation \n",
    "\n",
    "Trong cấu trúc CNN, tầng ReLU thường theo sau tầng Convolutional.\n",
    "\n",
    "**Chú ý:** không sử dụng các hàm tuyến tính.\n",
    "\n",
    "Một số biến thể khác của ReLU như trong bảng sau:\n",
    "\n",
    "<img src=\"images/activation.png\" style=\"width:70%;height:70%\">\n"
   ]
  },
  {
   "cell_type": "markdown",
   "metadata": {},
   "source": [
    "Ngoài ra, ta có thể dùng các activation khác như Sigmoid, Tanh, ..."
   ]
  },
  {
   "cell_type": "markdown",
   "metadata": {},
   "source": [
    "### 3. Tầng Pooling \n",
    "Có 2 loại Pooling thường được sử dụng trong CNN:\n",
    "- Max Pooling \n",
    "- Average Pooling\n",
    "\n",
    "Tầng Pooling giúp giảm chiều feature map, vị trí tuyệt đối của các đặc trưng không còn quan trọng. Tầng Pooling đi sau tầng Convolutional và tầng Activation.\n",
    "\n",
    "**Chú ý:**\n",
    "- Stride thường có kích thước bằng với kích thước Filter \n",
    "- Filter được áp dụng độc lập trên chiều Depth "
   ]
  },
  {
   "cell_type": "markdown",
   "metadata": {},
   "source": [
    "#### 3.1 Max Pooling \n",
    "\n",
    "Thực hiện lấy giá trị lớn nhất trong kích thước Filter mà ta xét. \n",
    "\n",
    "Như trong hình bên dưới, ta thực hiện Max-Pool 2x2\n",
    "\n",
    "<img src=\"images/MaxpoolSample.png\" style=\"width:50%;height:50%\">"
   ]
  },
  {
   "cell_type": "markdown",
   "metadata": {},
   "source": [
    "Kết quả thu được sau khi thực hiện Max-Pool \n",
    "\n",
    "<img src=\"images/MaxpoolSample2.png\" style=\"width:50%;height:50%\">"
   ]
  },
  {
   "cell_type": "markdown",
   "metadata": {},
   "source": [
    "#### 3.2 Average Pooling \n",
    "\n",
    "Thực hiện lấy giá trị trung bình tổng trong kích thước Filter ta xét. \n",
    "\n",
    "<img src=\"images/aver_pool.png\" style=\"width:50%;height:50%\">"
   ]
  },
  {
   "cell_type": "markdown",
   "metadata": {},
   "source": [
    "#### 3.3 Tầng Pooling - Tổng Kết \n",
    "\n",
    "- Đầu vào: Tensor có kích thước **$H$ x $W$ x $D$**\n",
    "- Siêu tham số:\n",
    "    - Kích thước của Filter: **$F$ x $F$**\n",
    "    - Stride của Filter: **$S$**\n",
    "- Tham số học: tầng Pooling không có tham số học \n",
    "- Đầu ra: Tensor có kích thước **$H'$ x $W'$ x $D$** trong đó:\n",
    "    - **$H' = \\frac{H - F}{S} + 1$**\n",
    "    \n",
    "    - **$W' = \\frac{H - F}{S} + 1$**"
   ]
  },
  {
   "cell_type": "markdown",
   "metadata": {},
   "source": [
    "### 4. Tầng Fully Connected - Falttening \n",
    "- Flattening là quá trình \"duỗi\" tensor 3D thành tensor 1D để làm đầu vào cho tầng Fully Connected.\n",
    "\n",
    "<img src=\"images/flattening.png\" style=\"width:50%;height:50%\">"
   ]
  },
  {
   "cell_type": "markdown",
   "metadata": {},
   "source": [
    "Kết quả sau khi Flattening trở thành đầu vào của tầng Fully Connected, và từ đó dự đoán kết quả.\n",
    "\n",
    "<img src=\"images/fully_connected_2.png\" style=\"width:70%;height:70%\">"
   ]
  },
  {
   "cell_type": "markdown",
   "metadata": {},
   "source": [
    "### Tổng kết \n",
    "Như vậy là các bạn đã tìm hiểu lý thuyết về CNN. Một số điều bạn cần nhớ sau khi học xong phần lý thuyết này:\n",
    "- Tầng Convolutional \n",
    "    - Filter (thường có kích thước lẻ - ở tầng Convolutional)\n",
    "    - 2D Convolution \n",
    "    - Stride \n",
    "    - Padding \n",
    "    - Feature detector \n",
    "- Tầng Activation - Hàm ReLU \n",
    "- Tầng Pooling \n",
    "     - Filter (thường có kích thước 2x2, Stride bằng kích thước Filter)\n",
    "     - Max Pooling \n",
    "     - Average Pooling \n",
    "- Tầng Fully Connected - Flattening "
   ]
  }
 ],
 "metadata": {
  "kernelspec": {
   "display_name": "Python 3",
   "language": "python",
   "name": "python3"
  },
  "language_info": {
   "codemirror_mode": {
    "name": "ipython",
    "version": 3
   },
   "file_extension": ".py",
   "mimetype": "text/x-python",
   "name": "python",
   "nbconvert_exporter": "python",
   "pygments_lexer": "ipython3",
   "version": "3.7.3"
  }
 },
 "nbformat": 4,
 "nbformat_minor": 2
}
