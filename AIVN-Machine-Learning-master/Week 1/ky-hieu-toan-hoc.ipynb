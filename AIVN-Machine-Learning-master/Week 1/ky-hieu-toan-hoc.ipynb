{
 "cells": [
  {
   "cell_type": "markdown",
   "metadata": {},
   "source": [
    "### Ký hiệu toán thường dùng trong Machine Learning \n",
    "\n",
    "Bảng tổng kết dưới đây là những ký hiệu toán học thường được sử dụng trong Machine Learning"
   ]
  },
  {
   "cell_type": "markdown",
   "metadata": {},
   "source": [
    "### Đại số \n",
    "\n",
    "<img src=\"images/algebra.png\" style=\"width:80%;height:80%;\"> \n"
   ]
  },
  {
   "cell_type": "markdown",
   "metadata": {},
   "source": [
    "### Phép toán \n",
    "\n",
    "<img src=\"images/calculus.png\" style=\"width:80%;height:80%;\"> \n"
   ]
  },
  {
   "cell_type": "markdown",
   "metadata": {},
   "source": [
    "### Đại số tuyến tính \n",
    "\n",
    "<img src=\"images/linear-algebra.png\" style=\"width:80%;height:80%;\"> \n"
   ]
  },
  {
   "cell_type": "markdown",
   "metadata": {},
   "source": [
    "### Xác suất"
   ]
  },
  {
   "cell_type": "markdown",
   "metadata": {},
   "source": [
    "<img src=\"images/probability.png\" style=\"width:80%;height:80%;\"> \n"
   ]
  },
  {
   "cell_type": "markdown",
   "metadata": {},
   "source": [
    "### Thống kê \n",
    "\n",
    "<img src=\"images/statistics.png\" style=\"width:80%;height:80%;\"> \n"
   ]
  },
  {
   "cell_type": "markdown",
   "metadata": {},
   "source": [
    "### Set \n",
    "\n",
    "<img src=\"images/set-theory.png\" style=\"width:80%;height:80%;\"> \n"
   ]
  },
  {
   "cell_type": "markdown",
   "metadata": {},
   "source": [
    "### Tài liệu tham khảo \n",
    "\n",
    "[1] [Math Notation in Machine Learning](https://ml-cheatsheet.readthedocs.io/en/latest/math_notation.html#statistics)"
   ]
  }
 ],
 "metadata": {
  "kernelspec": {
   "display_name": "Python 3",
   "language": "python",
   "name": "python3"
  },
  "language_info": {
   "codemirror_mode": {
    "name": "ipython",
    "version": 3
   },
   "file_extension": ".py",
   "mimetype": "text/x-python",
   "name": "python",
   "nbconvert_exporter": "python",
   "pygments_lexer": "ipython3",
   "version": "3.7.3"
  }
 },
 "nbformat": 4,
 "nbformat_minor": 2
}
