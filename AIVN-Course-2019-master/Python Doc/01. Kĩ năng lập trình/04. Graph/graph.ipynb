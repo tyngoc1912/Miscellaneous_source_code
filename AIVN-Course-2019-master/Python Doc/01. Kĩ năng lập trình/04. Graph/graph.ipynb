{
 "cells": [
  {
   "attachments": {},
   "cell_type": "markdown",
   "metadata": {},
   "source": [
    "## Graph\n",
    "\n",
    "![image.png](https://camo.githubusercontent.com/fffbbb8b7ca6ee4f7a07f12b59f2464bf3814aa5/68747470733a2f2f6c68332e676f6f676c6575736572636f6e74656e742e636f6d2f54794a316c306b313454534c37307a314d736943626f7459306749546668426b7130707263386a474e716574724c77625f2d31306933466a5246586865774761686e64703862546c4a4b4533357370664a5f35724e4b576c53365a793375456a694d675a726273616936396e475574646a32656154705a554d6d3766556a53473476792d324f395670776368326947706a795278416d65624b46476264414d5761577448373841755855426239707657397463483241377979323038506561477856656a55646d442d33784552655866657238544f42433954614433797a45757048614936696f6835305a65644b305a424273656e496c2d674d766a575934496d59503237634a624b4c307843445144686e544638385f5f317838505038735475794347732d584f587a395264625254525f416653626f346b584a4e2d34463861363144784e6d30437665684e707a3761663041546a59635a725f6741384a776a74564436433378533665705539737a797543396c41465647424e6659673753444565464e4b59395f3532314b7834686e5f4474786f556e6c745154546e487a4d7772317855776939774e6657396459676756442d63545a746c484b57764650366d5861526672704f5151765f4633516e3562764c675138626259586d3064795144674d35674574534f4b4642444958627468366d51737050516355383937357337635f635578455f72796a557069456b66327474465530564b396e64335361712d7939796a712d7061755076657a65373865386a532d486f555953627459754934414c64654a553741585748645f5a6c6233363253724f62614742376c6e6a34783838724e4c694a522d76564d45736a3353514a544345676a4f664133663846756c6d2d55535f676f71755761426b58434a7930546f3871686738324f533046773d773330312d683137342d6e6f)"
   ]
  },
  {
   "cell_type": "markdown",
   "metadata": {},
   "source": [
    "Mục đích của Graph là thể hiện mối quan hệ giữa các đối tượng với nhau:\n",
    "\n",
    "- Đối tượng hình tròn được gọi là các đỉnh (node)\n",
    "- Những đường nối với các `Node` được gọi là các cạnh (edge)"
   ]
  },
  {
   "attachments": {},
   "cell_type": "markdown",
   "metadata": {},
   "source": [
    "## Biểu diễn Graph\n",
    "\n",
    "![image.png](https://camo.githubusercontent.com/53c95d11c34e09a4c1875d001772fb9777e0431d/68747470733a2f2f6c68332e676f6f676c6575736572636f6e74656e742e636f6d2f71737933384e535a583546795f6c54666d4d73794d6e665838576e69455030667767734f357039725345624d794142677342334e6d4d5f384867316f5a6769303835436167372d32442d38774377693172495558514777766671306b4d31444c366748505773452d66794639732d6436774f43725169726d5f746941793078345253334c394a373876707068546e4f4a57625233495a7861597376336a58772d6276667965585a4a55356b6174427a736d304f4c516d7044575f4258794c583661307372516e646b69703149485455566659676d4a6b6232507a414b774f377843316a2d36626e526f336553724247797a716e6975695a674a436e39484b59777a5a4c6e2d503173667550463852376465317142395a304c77524c6c4f6c355361514b6161642d6c5637485543724873436a7351742d43544b7666484c6f62366172483851764378686c416d6954746668646f6558453377527048477a44414c35345235754436665234796b756e74654a304948784f665378425a4964555f356b306d3536754c513953334d7578677a6d41317266427676593358715a2d6e6c4a6944506b574e7638476f326a554d447765394d734d32614648326d3130647a343638615679433869527a7732544e685967444759364335676f7a4237675851756945417a3044304c56717746417347416250675f363677504e492d446b785a35516a7861656b6c4f7450304533385245524c42627153395756664775333845367055614d3765616d4a6278307970556f5861334c37537a6c4e6e544a313473533579512d6167577149733855797a534b514939655438777762532d70394a306548794b7644556345746e774a47383677386b4a6f365362443634374b684c77415a304f464c3156367461696e6a6d4470392d32514330646d3252455551316d5f673d773830302d683430302d6e6f)"
   ]
  },
  {
   "cell_type": "markdown",
   "metadata": {},
   "source": [
    "### 1. Edge List \n",
    "- list tất cả các cạnh "
   ]
  },
  {
   "cell_type": "code",
   "execution_count": 1,
   "metadata": {},
   "outputs": [],
   "source": [
    "# List các cạnh của một Graph \n",
    "# Mỗi cạnh là 1 list bao gồm 2 phần tử đại diện cho 2 đỉnh được cạnh đó kết nối lại \n",
    "# đây còn được gọi là mảng 2 chiều (2D dimension)\n",
    "\n",
    "numbers_graph = [\n",
    "    [1, 4],\n",
    "    [1, 5],\n",
    "    [2, 3],\n",
    "    [2, 4],\n",
    "    [3, 5],\n",
    "    [4, 5]\n",
    "]"
   ]
  },
  {
   "cell_type": "markdown",
   "metadata": {},
   "source": [
    "### 2. Object Node \n",
    "\n",
    "- Object chứa các phần tử là các đỉnh \n",
    "- Key là đỉnh và Value là list các đỉnh mà đỉnh hiện tại nối tới "
   ]
  },
  {
   "cell_type": "code",
   "execution_count": 2,
   "metadata": {},
   "outputs": [],
   "source": [
    "numbers_graph_2 = {\n",
    "    '1': ['4', '5'],\n",
    "    '2': ['3', '4'],\n",
    "    '3': ['2', '5'],\n",
    "    '4': ['1', '2', '5'],\n",
    "    '5': ['1', '3', '4']\n",
    "}"
   ]
  },
  {
   "cell_type": "markdown",
   "metadata": {},
   "source": [
    "## Hiển thị các đỉnh của một Graph "
   ]
  },
  {
   "cell_type": "code",
   "execution_count": 3,
   "metadata": {},
   "outputs": [],
   "source": [
    "class Graph:\n",
    "    def __init__(self, graph):\n",
    "        if graph is None:\n",
    "            graph = {}\n",
    "        self.graph = graph\n",
    "    \n",
    "    # Trả vè list keys của object tương đương các đỉnh của graph\n",
    "    def displayNodes(self):\n",
    "        return self.graph.keys()"
   ]
  },
  {
   "cell_type": "code",
   "execution_count": 4,
   "metadata": {},
   "outputs": [],
   "source": [
    "graph1 = Graph(numbers_graph_2)"
   ]
  },
  {
   "cell_type": "code",
   "execution_count": 5,
   "metadata": {},
   "outputs": [
    {
     "data": {
      "text/plain": [
       "dict_keys(['1', '2', '3', '4', '5'])"
      ]
     },
     "execution_count": 5,
     "metadata": {},
     "output_type": "execute_result"
    }
   ],
   "source": [
    "graph1.displayNodes()"
   ]
  },
  {
   "cell_type": "markdown",
   "metadata": {},
   "source": [
    "## Hiển thị các cạnh của một Graph "
   ]
  },
  {
   "cell_type": "code",
   "execution_count": 6,
   "metadata": {},
   "outputs": [],
   "source": [
    "class Graph:\n",
    "    def __init__(self, graph):\n",
    "        if graph is None:\n",
    "            graph = {}\n",
    "        self.graph = graph\n",
    "    \n",
    "    def displayEdges(self):\n",
    "        \n",
    "        edges = []\n",
    "        nodes = self.graph.keys()\n",
    "        # Lặp qua tất cả các node \n",
    "        for node in nodes:\n",
    "            \n",
    "            # to_nodes: các đỉnh mà hiện tại đang trỏ tới \n",
    "            to_nodes = self.graph[node]\n",
    "            for to_node in to_nodes:\n",
    "                \n",
    "                # Liet ke tat ca cac canh co the xay ra\n",
    "                edge = set({node, to_node})\n",
    "                # Them cac canh duy that (unique) vao list\n",
    "                if edge not in edges:\n",
    "                    edges.append(edge)\n",
    "                    \n",
    "        return edges"
   ]
  },
  {
   "cell_type": "code",
   "execution_count": 7,
   "metadata": {},
   "outputs": [],
   "source": [
    "graph2 = Graph(numbers_graph_2)"
   ]
  },
  {
   "cell_type": "code",
   "execution_count": 8,
   "metadata": {},
   "outputs": [
    {
     "data": {
      "text/plain": [
       "[{'1', '4'}, {'1', '5'}, {'2', '3'}, {'2', '4'}, {'3', '5'}, {'4', '5'}]"
      ]
     },
     "execution_count": 8,
     "metadata": {},
     "output_type": "execute_result"
    }
   ],
   "source": [
    "graph2.displayEdges()"
   ]
  },
  {
   "cell_type": "markdown",
   "metadata": {},
   "source": [
    "## Thêm một đỉnh vào Graph "
   ]
  },
  {
   "cell_type": "code",
   "execution_count": 9,
   "metadata": {},
   "outputs": [],
   "source": [
    "class Graph:\n",
    "    def __init__(self, graph):\n",
    "        if graph is None:\n",
    "            graph = {}\n",
    "        self.graph = graph\n",
    "    def displayNodes(self):\n",
    "        return self.graph.keys()\n",
    "    \n",
    "    def addNode(self, node):\n",
    "        nodes = self.graph.keys()\n",
    "        \n",
    "        # Chi them vao node khong ton tai truoc trong graph\n",
    "        if node not in nodes:\n",
    "            self.graph[node] = []"
   ]
  },
  {
   "cell_type": "code",
   "execution_count": 10,
   "metadata": {},
   "outputs": [],
   "source": [
    "graph3 = Graph(numbers_graph_2)"
   ]
  },
  {
   "cell_type": "code",
   "execution_count": 11,
   "metadata": {},
   "outputs": [],
   "source": [
    "graph3.addNode('6')"
   ]
  },
  {
   "cell_type": "code",
   "execution_count": 12,
   "metadata": {},
   "outputs": [
    {
     "data": {
      "text/plain": [
       "dict_keys(['1', '2', '3', '4', '5', '6'])"
      ]
     },
     "execution_count": 12,
     "metadata": {},
     "output_type": "execute_result"
    }
   ],
   "source": [
    "graph3.displayNodes()"
   ]
  },
  {
   "cell_type": "code",
   "execution_count": 13,
   "metadata": {},
   "outputs": [
    {
     "data": {
      "text/plain": [
       "{'1': ['4', '5'],\n",
       " '2': ['3', '4'],\n",
       " '3': ['2', '5'],\n",
       " '4': ['1', '2', '5'],\n",
       " '5': ['1', '3', '4'],\n",
       " '6': []}"
      ]
     },
     "execution_count": 13,
     "metadata": {},
     "output_type": "execute_result"
    }
   ],
   "source": [
    "graph3.graph"
   ]
  },
  {
   "cell_type": "markdown",
   "metadata": {},
   "source": [
    "## Thêm một cạnh vào Graph "
   ]
  },
  {
   "cell_type": "code",
   "execution_count": 14,
   "metadata": {},
   "outputs": [],
   "source": [
    "numbers_graph_2 = {\n",
    "    \"1\": [\"4\", \"5\"],\n",
    "    \"2\": [\"3\", \"4\"],\n",
    "    \"3\": [\"2\", \"5\"],\n",
    "    \"4\": [\"1\", \"2\", \"5\"],\n",
    "    \"5\": [\"1\", \"3\", \"4\"]\n",
    "}"
   ]
  },
  {
   "cell_type": "code",
   "execution_count": 15,
   "metadata": {},
   "outputs": [],
   "source": [
    "class Graph:\n",
    "    def __init__(self, graph):\n",
    "        if graph is None:\n",
    "            graph = {}\n",
    "        self.graph = graph\n",
    "    \n",
    "    def edges(self):\n",
    "        edges = []\n",
    "        nodes = self.graph.keys()\n",
    "        \n",
    "        # Lap qua tat ca cac node\n",
    "        for node in nodes:\n",
    "            \n",
    "            # to_nodes la cac dinh ma dinh hien tai tro toi\n",
    "            to_nodes = self.graph[node]\n",
    "            for to_node in to_nodes:\n",
    "                # Liet ke tat ca cac canh co the xay ra\n",
    "                edge = set({node, to_node})\n",
    "                \n",
    "                # Them cac canh la duy nhat(unique) vao List\n",
    "                if edge not in edges:\n",
    "                    edges.append(edge)\n",
    "        return edges\n",
    "    \n",
    "    def addEdge(self, edge):\n",
    "        if type(edge) is set:\n",
    "            nodes = self.graph.keys()\n",
    "            \n",
    "            # Chi them edge khong ton tai tu truoc\n",
    "            if edge not in self.edges():\n",
    "                (edge_start, edge_end) = tuple(edge)\n",
    "                \n",
    "                # TH1 Dinh dau va dinh cuoi deu ton tai\n",
    "                if edge_start in nodes and edge_end in nodes:\n",
    "                    self.graph[edge_start].append(edge_end)\n",
    "                    self.graph[edge_end].append(edge_start)\n",
    "                \n",
    "                # TH2: Dinh dau ton tai va dinh cuoi khong ton tai\n",
    "                elif edge_start in nodes and edge_end not in nodes:\n",
    "                    self.graph[edge_start].append(edge_end)\n",
    "                    self.graph[edge_end] = [edge_start]\n",
    "                \n",
    "                # TH3: Dinh dau khong ton tai va dinh cuoi ton tai\n",
    "                elif edge_start not in nodes and edge_end in nodes:\n",
    "                    self.graph[edge_start] = [edge_end]\n",
    "                    self.graph[edge_end].append(edge_start)\n",
    "                    \n",
    "                # TH4: Ca 2 dinh deu khong ton tai\n",
    "                else:\n",
    "                    self.graph[edge_start] = [edge_end]\n",
    "                    self.graph[edge_end] = [edge_start]\n",
    "            else:\n",
    "                print('This edge is existed')\n",
    "        else:\n",
    "            print('Edge type must be set')"
   ]
  },
  {
   "cell_type": "code",
   "execution_count": 16,
   "metadata": {},
   "outputs": [],
   "source": [
    "graph_4 = Graph(numbers_graph_2)"
   ]
  },
  {
   "cell_type": "code",
   "execution_count": 17,
   "metadata": {},
   "outputs": [
    {
     "data": {
      "text/plain": [
       "{'1': ['4', '5'],\n",
       " '2': ['3', '4'],\n",
       " '3': ['2', '5'],\n",
       " '4': ['1', '2', '5'],\n",
       " '5': ['1', '3', '4']}"
      ]
     },
     "execution_count": 17,
     "metadata": {},
     "output_type": "execute_result"
    }
   ],
   "source": [
    "graph_4.graph"
   ]
  },
  {
   "cell_type": "code",
   "execution_count": 18,
   "metadata": {},
   "outputs": [],
   "source": [
    "# Them mot canh ma ca 2 dinh khong ton tai\n",
    "graph_4.addEdge({'10', '11'})"
   ]
  },
  {
   "cell_type": "code",
   "execution_count": 19,
   "metadata": {},
   "outputs": [
    {
     "data": {
      "text/plain": [
       "{'1': ['4', '5'],\n",
       " '2': ['3', '4'],\n",
       " '3': ['2', '5'],\n",
       " '4': ['1', '2', '5'],\n",
       " '5': ['1', '3', '4'],\n",
       " '10': ['11'],\n",
       " '11': ['10']}"
      ]
     },
     "execution_count": 19,
     "metadata": {},
     "output_type": "execute_result"
    }
   ],
   "source": [
    "graph_4.graph"
   ]
  },
  {
   "cell_type": "code",
   "execution_count": 20,
   "metadata": {},
   "outputs": [],
   "source": [
    "# Them mot canh ma 1 trong 2 dinh ton tai\n",
    "graph_4.addEdge({'5', '0'})"
   ]
  },
  {
   "cell_type": "code",
   "execution_count": 21,
   "metadata": {},
   "outputs": [
    {
     "data": {
      "text/plain": [
       "{'1': ['4', '5'],\n",
       " '2': ['3', '4'],\n",
       " '3': ['2', '5'],\n",
       " '4': ['1', '2', '5'],\n",
       " '5': ['1', '3', '4', '0'],\n",
       " '10': ['11'],\n",
       " '11': ['10'],\n",
       " '0': ['5']}"
      ]
     },
     "execution_count": 21,
     "metadata": {},
     "output_type": "execute_result"
    }
   ],
   "source": [
    "graph_4.graph"
   ]
  },
  {
   "cell_type": "code",
   "execution_count": 22,
   "metadata": {},
   "outputs": [],
   "source": [
    "# Them mot canh ma 2 dinh ton tai va canh do chua ton tai\n",
    "graph_4.addEdge({'1', '2'})"
   ]
  },
  {
   "cell_type": "code",
   "execution_count": 23,
   "metadata": {},
   "outputs": [
    {
     "data": {
      "text/plain": [
       "{'1': ['4', '5', '2'],\n",
       " '2': ['3', '4', '1'],\n",
       " '3': ['2', '5'],\n",
       " '4': ['1', '2', '5'],\n",
       " '5': ['1', '3', '4', '0'],\n",
       " '10': ['11'],\n",
       " '11': ['10'],\n",
       " '0': ['5']}"
      ]
     },
     "execution_count": 23,
     "metadata": {},
     "output_type": "execute_result"
    }
   ],
   "source": [
    "graph_4.graph"
   ]
  }
 ],
 "metadata": {
  "kernelspec": {
   "display_name": "Python 3",
   "language": "python",
   "name": "python3"
  },
  "language_info": {
   "codemirror_mode": {
    "name": "ipython",
    "version": 3
   },
   "file_extension": ".py",
   "mimetype": "text/x-python",
   "name": "python",
   "nbconvert_exporter": "python",
   "pygments_lexer": "ipython3",
   "version": "3.7.3"
  }
 },
 "nbformat": 4,
 "nbformat_minor": 2
}
