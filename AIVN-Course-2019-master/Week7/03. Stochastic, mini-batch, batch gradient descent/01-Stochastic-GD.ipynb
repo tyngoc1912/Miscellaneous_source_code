{
 "cells": [
  {
   "cell_type": "markdown",
   "metadata": {},
   "source": [
    "### Stochastic gradient descent (SGD)\n",
    "\n",
    "Huấn luyện mô hình linear regression theo SGD dùng từng mẫu dữ liệu để cập nhật bộ tham số. Công thức trong linear regression theo SGD tại: https://aivietnam.ai/courses/aisummer2019/lessons/batch-gradient-descent/\n",
    "\n"
   ]
  },
  {
   "cell_type": "markdown",
   "metadata": {},
   "source": [
    "### Áp dụng cho bài toán dự đoán giá nhà "
   ]
  },
  {
   "cell_type": "code",
   "execution_count": 1,
   "metadata": {},
   "outputs": [],
   "source": [
    "import numpy as np\n",
    "from numpy import genfromtxt\n",
    "import matplotlib.pyplot as plt"
   ]
  },
  {
   "cell_type": "code",
   "execution_count": 2,
   "metadata": {},
   "outputs": [],
   "source": [
    "data = genfromtxt('my_house_price_prediction.csv', delimiter=',')\n",
    "m = data.shape[0]\n",
    "X = data[:, 0]\n",
    "y = data[:, 1:]\n",
    "X_b = np.c_[np.ones((m, 1)), X]"
   ]
  },
  {
   "cell_type": "code",
   "execution_count": 3,
   "metadata": {},
   "outputs": [
    {
     "data": {
      "image/png": "[encoded data removed]",
      "text/plain": [
       "<Figure size 432x288 with 1 Axes>"
      ]
     },
     "metadata": {
      "needs_background": "light"
     },
     "output_type": "display_data"
    }
   ],
   "source": [
    "plt.scatter(X, y)\n",
    "plt.xlabel('Dien tich nha (x100 $m^2$)')\n",
    "plt.ylabel('Gia nha')\n",
    "plt.show()"
   ]
  },
  {
   "cell_type": "code",
   "execution_count": null,
   "metadata": {},
   "outputs": [],
   "source": []
  },
  {
   "cell_type": "code",
   "execution_count": 4,
   "metadata": {},
   "outputs": [],
   "source": [
    "def stochastic_gradient_descent():\n",
    "    n_epochs = 50\n",
    "    learning_rate = 0.01\n",
    "    \n",
    "    # Khoi tao gia tri tham so\n",
    "    thetas = np.random.randn(2, 1)\n",
    "    \n",
    "    thetas_path = [thetas]\n",
    "    losses = []\n",
    "    \n",
    "    for epoch in range(n_epochs):\n",
    "        for i in range(m):\n",
    "            # lay ngau nhien 1 sample\n",
    "            random_index = np.random.randint(m)\n",
    "            \n",
    "            # dùng cách này sẽ giữ nguyên được số chiều của vecto \n",
    "            xi = X_b[random_index:random_index + 1]\n",
    "            yi = y[random_index:random_index+1]\n",
    "            \n",
    "            # tinh output (o = x1*w1 + x2*w2)\n",
    "            oi = np.dot(xi, thetas)\n",
    "            \n",
    "            # tinh loss li (l = (output - y)^2)\n",
    "            li = (oi - yi) **2\n",
    "            \n",
    "            # tinh gradient cho loss\n",
    "            g_li = 2 * (oi - yi)\n",
    "            \n",
    "            # Tinh gradient (g_x1 = x1*g_li) va (g_x2 = x2*g_li)\n",
    "            gradients = np.dot(xi.T, g_li)\n",
    "            \n",
    "            # update gia tri theta\n",
    "            thetas = thetas - learning_rate * gradients\n",
    "            \n",
    "            # logging\n",
    "            thetas_path.append(thetas)\n",
    "            losses.append(li[0][0])\n",
    "            \n",
    "    return thetas_path, losses"
   ]
  },
  {
   "cell_type": "code",
   "execution_count": 5,
   "metadata": {},
   "outputs": [
    {
     "data": {
      "image/png": "[encoded data removed]",
      "text/plain": [
       "<Figure size 432x288 with 1 Axes>"
      ]
     },
     "metadata": {
      "needs_background": "light"
     },
     "output_type": "display_data"
    }
   ],
   "source": [
    "bgd_thetas, losses = stochastic_gradient_descent()\n",
    "\n",
    "plt.scatter(X, y)\n",
    "data_y = X*bgd_thetas[-1][1] + bgd_thetas[-1][0]\n",
    "plt.plot(X, data_y, color='r')\n",
    "plt.show()"
   ]
  },
  {
   "cell_type": "code",
   "execution_count": 6,
   "metadata": {},
   "outputs": [
    {
     "data": {
      "text/plain": [
       "[<matplotlib.lines.Line2D at 0x10e3eb860>]"
      ]
     },
     "execution_count": 6,
     "metadata": {},
     "output_type": "execute_result"
    },
    {
     "data": {
      "image/png": "[encoded data removed]",
      "text/plain": [
       "<Figure size 432x288 with 1 Axes>"
      ]
     },
     "metadata": {
      "needs_background": "light"
     },
     "output_type": "display_data"
    }
   ],
   "source": [
    "plt.plot(losses[:])"
   ]
  },
  {
   "cell_type": "code",
   "execution_count": null,
   "metadata": {},
   "outputs": [],
   "source": []
  }
 ],
 "metadata": {
  "kernelspec": {
   "display_name": "Python 3",
   "language": "python",
   "name": "python3"
  },
  "language_info": {
   "codemirror_mode": {
    "name": "ipython",
    "version": 3
   },
   "file_extension": ".py",
   "mimetype": "text/x-python",
   "name": "python",
   "nbconvert_exporter": "python",
   "pygments_lexer": "ipython3",
   "version": "3.7.3"
  }
 },
 "nbformat": 4,
 "nbformat_minor": 2
}
