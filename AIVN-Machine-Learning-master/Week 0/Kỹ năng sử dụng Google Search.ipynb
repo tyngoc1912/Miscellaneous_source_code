{
 "cells": [
  {
   "cell_type": "markdown",
   "metadata": {},
   "source": [
    "<img src=\"https://aivietnam.ai/wp-content/uploads/2019/07/google-search.png\">"
   ]
  },
  {
   "cell_type": "markdown",
   "metadata": {},
   "source": [
    "### Nâng cao kỹ năng tìm kiếm trên Google\n",
    "\n",
    "Trong nghiên cứu khoa học nói chung và nghiên cứu AI nói riêng, việc tự nghiên cứu là một kỹ năng rất quan trọng. Một công cụ giúp chúng ta tự nghiên cứu rất mạnh là Google Search. Mặc dù ai cũng biết cách dùng Google Search, nhưng không phải ai cũng biết cách sử dụng công cụ này hiệu quả (hoặc là chưa nghĩ đến việc phải sử dụng nó hiệu quả, hoặc là không dành thời gian để nghiên cứu xem làm sao để sử dụng nó hiệu quả, ...).\n",
    "\n",
    "Nội dung chính trong bài viết này gồm 2 phần chính:\n",
    "\n",
    "1. Các kỹ năng Search Google nâng cao.\n",
    "2. Một vài kinh nghiệm của bản thân mình trong quá trình nghiên cứu."
   ]
  },
  {
   "cell_type": "markdown",
   "metadata": {},
   "source": [
    "### 1. Các kỹ năng Search Google nâng cao\n",
    "\n",
    "#### 1.1 Sử dụng các Tab khác nhau\n",
    "Nếu bạn muốn tìm hình ảnh, hoặc video, bạn hãy search như bạn vẫn làm sau đó chuyển sang tab tương ứng:\n",
    "\n",
    "<img src=\"https://gyazo.com/37295f158da9110f4deddadf7a1c5cbd.png\">\n",
    "\n",
    "<center>Chuyển sang tab hình ảnh để tìm được nhiều ảnh đẹp hơn</center>"
   ]
  },
  {
   "cell_type": "markdown",
   "metadata": {},
   "source": [
    "#### 1.2 Tìm kiếm từ khoá trong một trang Web nhất định\n",
    "\n",
    "Nhiều khi bạn đã Search thành công một lần trước đó (tức là sử dụng Google Search và tìm ra nơi giúp bạn giải quyết vấn đề thành công) nhưng sau này bạn gặp phải vấn đề tương tự nhưng bạn đã quên mất cách giải quyết! Bạn nhớ lần trước đó bạn đã tìm đến trang nào để giải quyết vấn đề, nhưng bạn không thể vào website đó để search ra thứ bạn muốn được, bởi vì ở đó có quá nhiều thông tin, và công cụ tìm kiếm của họ thì rất tệ (hoặc khó dùng).\n",
    "\n",
    "Hoặc có thể là bạn biết chắc chắn một trang Web nào đó sẽ giúp bạn giải quyết được vấn đề của bạn, nhưng khi bạn Google Search thì trang Web đó không hiện lên trên kết quả tìm kiếm!\n",
    "\n",
    "<img src=\"https://i.gyazo.com/55ec1614a372fb2ffbce07089a6c8c80.png\">\n",
    "\n",
    "<center>Search không kèm từ khoá trang Web</center>\n",
    "\n",
    "<img src=\"https://gyazo.com/b00faafd26b55a3f0ee3a30fb563ed0e.png\">\n",
    "\n",
    "<center>Search kèm từ khoá trang web “css-trick:”</center>\n"
   ]
  },
  {
   "cell_type": "markdown",
   "metadata": {},
   "source": [
    "#### 1.3 Search bằng tiêu đề của trang HTML\n",
    "\n",
    "Trong một tài liệu html ta thường có một thẻ `<title>`, thẻ này biểu diễn tiêu đề của trang Web, cũng là dòng chữ đầu tiên và to nhất mà sẽ hiện ra khi chúng ta Search trên Google.\n",
    "\n",
    "<img src=\"https://gyazo.com/7c6b0450cbc614382547664dcd425ebf.png\">\n",
    "\n",
    "<center>Vùng màu đỏ là tiêu đề của trang Web</center>"
   ]
  },
  {
   "cell_type": "markdown",
   "metadata": {},
   "source": [
    "#### 1.4 Tìm kiếm chính xác một đoạn từ khoá\n",
    "\n",
    "Khi ta muốn tìm một đoạn từ khoá chính xác ta nên sử dụng dấu nháy kép \"\" cho từ khoá tìm kiếm:\n",
    "\n",
    "Ví dụ khi ta không sử dụng dấu nháy kép \"\" và có sử dụng cho từ khoá: non xanh còn đó, nước biếc chảy dài:\n",
    "\n",
    "<img src=\"https://gyazo.com/4e4fb0e285c37e5441c4e96e1ff9c78c.png\">\n",
    "\n",
    "<center>Khi không có dấu nháp kép \"...\"</center>\n",
    "\n",
    "<img src=\"https://gyazo.com/2b00aee131f5532df84de14e44cfc0fa.png\">\n",
    "\n",
    "<center>Khi thêm nháp kép \"...\", kết quả sẽ ưu tiên trang web mà các từ khoá đi liền với nhau</center>"
   ]
  },
  {
   "cell_type": "markdown",
   "metadata": {},
   "source": [
    "#### 1.5 Làm toán trên Google Search\n",
    "\n",
    "Nếu bạn muốn làm toán nhanh, hoặc xem đồ thị của một hàm số, bạn có thể tính toán ngay bằng Google Search\n",
    "\n",
    "Khi bạn muốn có một calculator nhanh chóng, chỉ cần gõ `1+1`.\n",
    "\n",
    "<img src=\"https://gyazo.com/983411791b33621c4b8bf49844c78825.png\">\n",
    "\n",
    "Nếu bạn muốn tìm đồ thị của một hàm số nào đó:\n",
    "\n",
    "<img src=\"https://gyazo.com/fa19074e6197e0a0c8caed59b7885f7b.png\">\n",
    "\n"
   ]
  },
  {
   "cell_type": "markdown",
   "metadata": {},
   "source": [
    "#### 1.6 Tìm kiếm tài liệu với từ khóa Filetype\n",
    "\n",
    "Trong trường hợp chúng ta chỉ muốn tìm những file liên quan đến một chủ đề, chúng ta có thể sử dụng cú pháp `filetype:loại_file`. \n",
    "\n",
    "Ví dụ, để tìm tài liệu liên quan đến python ở định dạng PDF, chúng ta có thể search như sau:\n",
    "\n",
    "<img src=\"https://www.dropbox.com/s/i9mgbpc5mpg0ec6/chap1_google_1.png?raw=1\" style=\"width:70%;height:70%;\">\n",
    "\n",
    "Tất cả kết quả là File PDF và chúng ta có thể Download về được."
   ]
  },
  {
   "cell_type": "markdown",
   "metadata": {},
   "source": [
    "### 2. Một vài kinh nghiệm của bản thân trong quá trình nghiên cứu\n",
    "\n",
    "#### 2.1 Search tất cả những từ khoá nào bạn nghĩ\n",
    "\n",
    "Chắc hẳn mọi người đều đã gặp một vấn đề mà không biết phải Search thế nào! Lúc đó bạn cứ Search bất kỳ từ khoá nào trong đầu bạn nghĩ ra.\n",
    "\n",
    "Sau đó, lấy ra 3 kết quả đầu tiên, đọc bài viết trong đó và nhiều khả năng là bạn không tìm ra vấn đề của mình đâu :)), nhưng nó sẽ hiện ra những thứ có liên quan. Bạn đọc xong 3 bài này (nhiều khi bạn chỉ cần đọc xong bài đầu tiên) là bạn có thêm các ý tưởng để điều chỉnh từ khoá của mình.\n",
    "Thường thì bạn chỉ cần search 2 lần là tìm ra được điều bạn muốn."
   ]
  },
  {
   "cell_type": "markdown",
   "metadata": {},
   "source": [
    "#### 2.2 Bạn không cần quá quan trọng chính tả, cũng như nghĩa của nội dung tìm kiếm\n",
    "Google Search có thể tự nhận biết từ khoá bạn viết sai chính tả, cũng như đoán được điều bạn muốn tìm. Ví dụ, khi bạn muốn tìm một chiếc máy tính có chip xử lý Intel core i5\n",
    "\n",
    "<img src=\"https://gyazo.com/9e3cdd575274b0cb6d372d39d4c7f9ef.png\">\n",
    "\n",
    "rồi bạn nhận ra là máy tính để bàn (PC) có cùng chip core i5 rẻ hơn máy tính xách tay (Laptop) rất nhiều nên bạn muốn tìm một chiếc máy tính để bàn có chip core i5, bạn chỉ cần search `\"core i5 để bàn\"` mặc dù từ khoá `\"core i5 để bàn\"` không được rõ nghĩa lắm trong tiếng Việt.\n",
    "\n",
    "<img src=\"https://gyazo.com/beb46f4c45a255a485362a93c089d407.png\">"
   ]
  },
  {
   "cell_type": "markdown",
   "metadata": {},
   "source": [
    "#### 2.3 Sử dụng Google Scholar\n",
    "\n",
    "Nếu muốn tìm tài liệu khoa học, paper thì Google Scholar là công cụ rất mạnh.\n",
    "Nếu muốn tìm các tài liệu chuyên sâu, bạn nên sử dụng công cụ này.\n",
    "\n",
    "<img src=\"https://gyazo.com/d772b5f10e0642cbb315c4f94145d4da.png\">\n"
   ]
  },
  {
   "cell_type": "markdown",
   "metadata": {},
   "source": [
    "#### 2.4 Thử dùng tiếng Anh xem sao!\n",
    "Nếu bạn không thể tìm được bằng tiếng Việt, hãy thử tìm kiếm nó bằng tiếng Anh. Thực ra, mình khuyên bạn nên tạo thói quen search bằng tiếng Anh, và đọc tài liệu bằng tiếng Anh. Tài liệu viết bằng tiếng Anh rất nhiều và phong phú\n",
    "\n",
    "### Lời kết\n",
    "Google Search là một công cụ hết sức tuyệt vời. Chỉ cần bạn biết cách dùng, bạn có khả năng tìm được hầu như mọi thứ. Với những hướng dẫn bên trên, mình tin bạn có thể tìm cách giải quyết cho hầu hết các trường hợp của bạn."
   ]
  }
 ],
 "metadata": {
  "kernelspec": {
   "display_name": "Python 3",
   "language": "python",
   "name": "python3"
  },
  "language_info": {
   "codemirror_mode": {
    "name": "ipython",
    "version": 3
   },
   "file_extension": ".py",
   "mimetype": "text/x-python",
   "name": "python",
   "nbconvert_exporter": "python",
   "pygments_lexer": "ipython3",
   "version": "3.7.3"
  }
 },
 "nbformat": 4,
 "nbformat_minor": 2
}
