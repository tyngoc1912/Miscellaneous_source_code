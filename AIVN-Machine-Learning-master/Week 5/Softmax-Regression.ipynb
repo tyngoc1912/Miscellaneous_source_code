{
 "cells": [
  {
   "cell_type": "markdown",
   "metadata": {},
   "source": [
    "### 1. Giới thiệu\n",
    "\n",
    "Trong bài trước, chúng ta đã tìm hiểu qua việc sử dụng Logistic Regression cho phân loại nhiều nhóm sử dụng One-vs-All (hay One-vs-Rest). Tuy nhiên, việc phân nhóm bằng One-vs-All (One-vs-Rest) không đem lại hiệu quả cao do các nhóm không có liên hệ với nhau.\n",
    "\n",
    "<img src=\"images/softmax/onevsrest.png\" style=\"width:60%;height:60%;\">\n",
    "\n",
    "<center> Logistic Regression sử dụng One-vs-Rest (Nguồn: machinelearningcoban.com) </center>\n",
    "\n",
    "Xem chi tiết về One-vs-All (One-vs-Rest) và ví dụ về phân loại 10 nhóm trong bộ dữ liệu CIFAR [tại đây](https://nbviewer.jupyter.org/github/thanhhff/AIVN-Machine-Learning/blob/master/Week%204/4.%20Logistic%20Regression%20-%20One%20vs%20All%20.ipynb).\n",
    "\n",
    "Chính vì vậy mà thay vì sử dụng hàm `Sigmoid` ta sử dụng hàm `Softmax` để chuẩn hoá các giá trị sao cho các giá trị label score $a_i$ tạo thành một phân phối xác suất (tổng các giá trị bằng 1). Và từ giá trị có score cao nhất đưa ra dự đoán thuộc về nhóm nào.\n",
    "\n",
    "Hình dưới đây biểu diễn Softmax Regression dưới dạng Neural Network: \n",
    "\n",
    "<img src=\"images/softmax/softmax_nn.png\" style=\"width:60%;height:60%;\">\n",
    "<center> Softmax Regression (Nguồn: machinelearningcoban.com) </center>\n"
   ]
  },
  {
   "cell_type": "markdown",
   "metadata": {},
   "source": [
    "### 2. Mô hình Softmax Regression "
   ]
  },
  {
   "cell_type": "markdown",
   "metadata": {},
   "source": [
    "#### 2.1 Hàm Softmax\n",
    "\n",
    "Công thức hàm Softmax:\n",
    "\n",
    "<center> $a_i = \\frac{exp(z_i)}{\\sum_{j = 1}^{C}exp(z_i)}$ </center>\n",
    "\n",
    "Trong đó:\n",
    "- $0 \\leq a_i \\leq 1$\n",
    "- $exp(z_i) = e^{z_i}$\n",
    "- C: số lượng nhóm \n",
    "- $\\sum_{i} a_i = 1$"
   ]
  },
  {
   "cell_type": "code",
   "execution_count": 1,
   "metadata": {},
   "outputs": [],
   "source": [
    "# Xây dựng hàm Softmax\n",
    "import numpy as np \n",
    "\n",
    "def softmax(Z):\n",
    "    e_Z = np.exp(Z)\n",
    "    A = e_Z / np.sum(e_Z)\n",
    "    return A"
   ]
  },
  {
   "cell_type": "markdown",
   "metadata": {},
   "source": [
    "Ví dụ về đầu vào và ra của hàm Softmax:\n",
    "    \n",
    "<img src=\"images/softmax/softmax.png\" style=\"width:40%;height:40%;\">\n",
    "    "
   ]
  },
  {
   "cell_type": "code",
   "execution_count": 2,
   "metadata": {},
   "outputs": [
    {
     "data": {
      "text/plain": [
       "array([0.25726154, 0.01415536, 0.57254609, 0.15603701])"
      ]
     },
     "execution_count": 2,
     "metadata": {},
     "output_type": "execute_result"
    }
   ],
   "source": [
    "data = np.asarray([2.4, -0.5, 3.2, 1.9])\n",
    "softmax(data)"
   ]
  },
  {
   "cell_type": "markdown",
   "metadata": {},
   "source": [
    "Tuy nhiên do hạn chế của Softmax là dùng hàm mũ $e$ nên có thể gây ra hiện tượng tràn số nêu $z$ lớn."
   ]
  },
  {
   "cell_type": "code",
   "execution_count": 3,
   "metadata": {},
   "outputs": [
    {
     "name": "stderr",
     "output_type": "stream",
     "text": [
      "/Library/Frameworks/Python.framework/Versions/3.7/lib/python3.7/site-packages/ipykernel_launcher.py:5: RuntimeWarning: overflow encountered in exp\n",
      "  \"\"\"\n",
      "/Library/Frameworks/Python.framework/Versions/3.7/lib/python3.7/site-packages/ipykernel_launcher.py:6: RuntimeWarning: invalid value encountered in true_divide\n",
      "  \n"
     ]
    },
    {
     "data": {
      "text/plain": [
       "array([nan,  0.,  0.,  0.])"
      ]
     },
     "execution_count": 3,
     "metadata": {},
     "output_type": "execute_result"
    }
   ],
   "source": [
    "# Ví dụ về hiện tượng tràn số: overflow encountered in exp\n",
    "data = np.asarray([1112.4, -0.5, 3.2, 1.9])\n",
    "softmax(data)"
   ]
  },
  {
   "cell_type": "markdown",
   "metadata": {},
   "source": [
    "Để khắc phục hiện tượng trên, người ta thường sử dụng phương pháp bớt đi một lượng hằng số như sau:\n",
    "<br><br>\n",
    "<center> $a_i = \\frac{exp(z_i - c)}{\\sum_{j = 1}^{C}exp(z_i - c)}$ </center>\n",
    "\n",
    "Với $c$ là hằng số.\n"
   ]
  },
  {
   "cell_type": "code",
   "execution_count": 4,
   "metadata": {},
   "outputs": [],
   "source": [
    "def softmax(Z):\n",
    "    \"\"\"\n",
    "    Chú ý:\n",
    "    - axis = 0: tính theo cột ; axis = 1 tính theo hàng \n",
    "    - keepdims = True giữ số chiều sau khi lấy max. \n",
    "    \"\"\"\n",
    "    e_Z = np.exp(Z - np.max(Z, axis = 0, keepdims = True))\n",
    "    A = e_Z / np.sum(e_Z, axis = 0)\n",
    "    \n",
    "    return A"
   ]
  },
  {
   "cell_type": "code",
   "execution_count": 5,
   "metadata": {},
   "outputs": [
    {
     "data": {
      "text/plain": [
       "array([[1.        , 0.00242826, 0.01587624, 0.33333333],\n",
       "       [0.        , 0.01794253, 0.11731043, 0.33333333],\n",
       "       [0.        , 0.97962921, 0.86681333, 0.33333333]])"
      ]
     },
     "execution_count": 5,
     "metadata": {},
     "output_type": "execute_result"
    }
   ],
   "source": [
    "data = np.array([[1000, 2, 3, 6],\n",
    "                 [2, 4, 5, 6],\n",
    "                 [3, 8, 7, 6]])\n",
    "softmax(data)"
   ]
  },
  {
   "cell_type": "markdown",
   "metadata": {},
   "source": [
    "#### 2.2 Cost Function\n",
    "\n"
   ]
  },
  {
   "cell_type": "markdown",
   "metadata": {},
   "source": [
    "### Tài liệu tham khảo \n",
    "\n",
    "[1] [Softmax Regression - Machine Learning Cơ Bản](https://machinelearningcoban.com/2017/02/17/softmax/)"
   ]
  },
  {
   "cell_type": "code",
   "execution_count": null,
   "metadata": {},
   "outputs": [],
   "source": []
  }
 ],
 "metadata": {
  "kernelspec": {
   "display_name": "Python 3",
   "language": "python",
   "name": "python3"
  },
  "language_info": {
   "codemirror_mode": {
    "name": "ipython",
    "version": 3
   },
   "file_extension": ".py",
   "mimetype": "text/x-python",
   "name": "python",
   "nbconvert_exporter": "python",
   "pygments_lexer": "ipython3",
   "version": "3.7.3"
  }
 },
 "nbformat": 4,
 "nbformat_minor": 2
}
