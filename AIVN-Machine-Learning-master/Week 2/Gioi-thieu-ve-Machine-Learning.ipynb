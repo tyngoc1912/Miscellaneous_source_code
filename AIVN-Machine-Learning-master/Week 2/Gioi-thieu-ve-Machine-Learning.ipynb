{
 "cells": [
  {
   "cell_type": "markdown",
   "metadata": {},
   "source": [
    "### 1. Giới thiệu \n",
    "\n",
    "Machine Learning (học máy) là một lĩnh vực của trí tuệ nhân tạo (AI). Mục tiêu của Machine Learning là hiểu được cấu trúc của dữ liệu và tìm ra được các mô hình mà con người có thể hiểu và sử dụng.\n",
    "\n",
    "<img src=\"images/Deep_Learning_Icons_R5.png\" style=\"width:70%;height:70%;\">"
   ]
  },
  {
   "cell_type": "markdown",
   "metadata": {},
   "source": [
    "Mặc dù Machine Learning là một lĩnh vực trong Data Science, nhưng nó khác với các phương pháp lập trình truyền thống. Trong các phương pháp lập trình truyền thống, các thuật toán được lập trình rõ ràng cho từng vấn đề. Với Machine Learning sẽ sử dụng các dữ liệu có sẵn phân tích - thống kế và tìm ra một quy luật cụ thể nào đó. \n",
    "\n",
    "<img src=\"images/ml-ex.png\" style=\"width:70%;height:70%;\">\n",
    "Xét bài toán lập trình theo cách truyền thống trên Python:"
   ]
  },
  {
   "cell_type": "code",
   "execution_count": null,
   "metadata": {},
   "outputs": [],
   "source": [
    "if (speed < 4):\n",
    "    status = WALKING\n",
    "else if (speed < 12):\n",
    "    status = RUNNING\n",
    "else:\n",
    "    status = BIKING"
   ]
  },
  {
   "cell_type": "markdown",
   "metadata": {},
   "source": [
    "Với một số ít hoạt động như: đi bộ (walking), chạy bộ (running), đi xe đạp (biking) chúng ta có thể sử dụng những dòng lệnh `if - else` để biểu thị. Nhưng bây giờ chúng ta có thêm hành động chơi Golf, vậy làm thế nào chúng ta có thể biểu thị được hành động này?\n",
    "\n",
    "Rất khó để có thể viết một chương trình (theo cách truyền thống) để biểu thị hành động chơi Golf. Nhưng với Machine Learning - sẽ giúp chúng ta có thể giải quyết được vấn đề này !"
   ]
  },
  {
   "cell_type": "markdown",
   "metadata": {},
   "source": [
    "### 2. Làm thế nào Machine Learning có thể giải quyết vấn đề ?\n",
    "\n",
    "Quay lại bài toán lập trình theo cách truyền thống, chúng ta sử dụng những quy tắc (Rules) cùng với dữ liệu (Data) để đưa ra đáp án (Answers):\n",
    "<img src=\"images/ml-ex2.png\" style=\"width:50%;height:50%;\">\n",
    "\n",
    "Xét bài toán học tập có giám sát (supervised learning) trong Machine Learning, chúng ta sẽ thu thập dữ liệu cùng với nhãn (label) của từng dữ liệu tương ứng (hay còn gọi là đáp án của dữ liệu đó). Từ những dữ liệu này, Machine Learning sẽ đưa ra các quy tắc thông qua việc biểu diễn sự liên hệ giữa Data và Answers \n",
    "<img src=\"images/ml-ex3.png\" style=\"width:50%;height:50%;\">\n",
    "\n",
    "Với vấn đề cần giải quyết bên trên, chúng ta sẽ thực hiện thu thập một lượng lớn dữ liệu về các hành động Walking, Running, Biking, Golfing và gán nhãn (label) cho từng dữ liệu. Chỉ ra với dữ liệu này là hành động đi bộ (Walking) hay với dữ liệu kia là hành động chơi Golf (Golfing).\n",
    "<img src=\"images/ml-ex4.png\" style=\"width:70%;height:70%;\">"
   ]
  },
  {
   "cell_type": "markdown",
   "metadata": {},
   "source": [
    "Từ những dữ liệu có nhãn này, Machine Learning sẽ đưa ra cho chúng ta quy luật các hành động mà không cần phải lập trình cụ thể. Với quy luật được học này, với bất kỳ một dữ liệu mới nào, hệ thống sẽ có thể dễ dàng đưa ra được câu trả lời dự đoán. Kết quả dự đoán sẽ tuỳ thuộc vào từng bài toán và lượng dữ liệu thu thập được.\n",
    "\n",
    "<img src=\"images/ml-ex5.png\" style=\"width:50%;height:50%;\">"
   ]
  },
  {
   "cell_type": "markdown",
   "metadata": {},
   "source": [
    "### 3. Một số định nghĩa về Machine Learning\n",
    "\n",
    "Có 2 định nghĩa được đưa ra như sau:\n",
    "\n",
    "- Định nghĩa 1 bởi Arthur Samuel mô tả (trích nguyên văn):\n",
    "\n",
    "**<center>\"The field of study that gives computers the ability to learn without being explicitly programmed.\"</center>**\n",
    "\n",
    "Tạm dịch: Học máy là một lĩnh vực nghiên cứu cung cấp cho máy tính khả năng học hỏi mà không cần phải lập trình rõ ràng. \n",
    "\n",
    "- Định nghĩa 2 bởi Tom Mitchell cung cấp một định nghĩa hiện đại hơn (trích nguyên văn):\n",
    "**<center>\"A computer program is said to learn from experience E with respect to some class of tasks T and performance measure P, if its performance at tasks in T, as measured by P, improves with experience E.\"</center>**\n",
    "\n",
    "Tạm dịch: Một chương trình máy tính được gọi là học tập từ kinh nghiệm E để hoàn thành nhiệm vụ T và được đo bởi hiệu suất P, nếu hiệu suất tại nhiệm vụ T, được đo bằng P, cải thiện theo kinh nghiệm E.\n",
    "\n",
    "Ví dụ về việc chơi cờ:\n",
    "- E: kinh nghiệm chơi cờ\n",
    "- T: nhiệm vụ chơi cờ \n",
    "- P: xác suất chương trình sẽ thắng trong trận tiếp theo "
   ]
  },
  {
   "cell_type": "markdown",
   "metadata": {},
   "source": [
    "### 4. Một số ứng dụng của Machine Learning \n",
    "\n",
    "Bất kỳ người dùng công nghệ nào ngày nay đều đang sử dụng các sản phẩm của Machine Learning. Công nghệ nhận dạng khuôn mặt điển hình trên Facebook. Công cụ đề xuất phim trên NetFlix hay đề xuất sản phẩm mua hàng trên các trang thương mại điện tử Tiki, Lazada, Shopee, ... Ứng dụng vào xe tự hành của Tesla v.v...\n",
    "\n",
    "Bên cạnh những ứng dụng tiêu biểu kể trên, chúng ta không thể phủ nhận Machine Learning đang liên tục phát triển và còn có rất nhiều ứng dụng khác trong cuộc sống. "
   ]
  },
  {
   "cell_type": "markdown",
   "metadata": {},
   "source": [
    "### Tài liệu tham khảo \n",
    "\n",
    "[1] [Learn TensorFlow 1: The \"Hello World\" of machine learning](https://codelabs.developers.google.com/codelabs/tensorflow-lab1-helloworld/)"
   ]
  }
 ],
 "metadata": {
  "kernelspec": {
   "display_name": "Python 3",
   "language": "python",
   "name": "python3"
  },
  "language_info": {
   "codemirror_mode": {
    "name": "ipython",
    "version": 3
   },
   "file_extension": ".py",
   "mimetype": "text/x-python",
   "name": "python",
   "nbconvert_exporter": "python",
   "pygments_lexer": "ipython3",
   "version": "3.7.3"
  }
 },
 "nbformat": 4,
 "nbformat_minor": 2
}
