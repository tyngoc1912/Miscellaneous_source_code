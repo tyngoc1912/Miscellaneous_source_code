{
 "cells": [
  {
   "cell_type": "code",
   "execution_count": 1,
   "metadata": {},
   "outputs": [],
   "source": [
    "import numpy as np\n",
    "import matplotlib.pyplot as plt\n",
    "from sklearn import neighbors, datasets\n",
    "\n",
    "iris = datasets.load_iris()\n",
    "iris_X = iris.data\n",
    "iris_y = iris.target\n",
    "\n",
    "X0 = iris_X[iris_y == 0, :]\n",
    "X1 = iris_X[iris_y == 1, :]\n",
    "\n",
    "y0 = iris_y[iris_y == 0]\n",
    "y1 = iris_y[iris_y == 1]\n",
    "\n",
    "X = np.concatenate((X0, X1), axis=0)\n",
    "y = np.concatenate((y0, y1))\n",
    "\n",
    "# Using Petal_Length and Petal_Width\n",
    "X = X[:,2:4]\n",
    "\n",
    "plt.figure(figsize=(10, 6))\n",
    "plt.scatter(X[y==0][:, 0], X[y==0][:, 1], color='b', label='0')\n",
    "plt.scatter(X[y == 1][:, 0], X[y == 1][:, 1], color = 'r', label='1')\n",
    "plt.legend()\n",
    "\n",
    "intercept = np.ones((X.shape[0], 1))\n",
    "X = np.concatenate((intercept, X), axis=1)"
   ]
  },
  {
   "cell_type": "code",
   "execution_count": 2,
   "metadata": {},
   "outputs": [],
   "source": [
    "m = X.shape[1]"
   ]
  },
  {
   "cell_type": "code",
   "execution_count": 3,
   "metadata": {},
   "outputs": [],
   "source": [
    "def sigmoid_function(z):\n",
    "    return 1 / (1 + np.exp(-z))\n",
    "\n",
    "def loss_function(h, y):\n",
    "    return (-y * np.log(h) - (1 - y) * np.log(1-h)).mean()\n",
    "\n",
    "def predict(X, theta):\n",
    "    h = sigmoid_function(np.dot(X, theta))\n",
    "    return h.round()"
   ]
  },
  {
   "cell_type": "code",
   "execution_count": 4,
   "metadata": {},
   "outputs": [],
   "source": [
    "lr = 0.01\n",
    "num_iter = 50\n",
    "\n",
    "theta = np.random.randn(X.shape[1])\n",
    "\n",
    "losses = []\n",
    "accs = []"
   ]
  },
  {
   "cell_type": "code",
   "execution_count": 5,
   "metadata": {},
   "outputs": [],
   "source": [
    "for i in range(num_iter):\n",
    "    \n",
    "    for j in range(m):\n",
    "        \n",
    "        random_index = np.random.randint(m)\n",
    "            \n",
    "        # dùng cách này sẽ giữ nguyên được số chiều của vecto \n",
    "        xi = X[random_index:random_index + 1]\n",
    "        yi = y[random_index:random_index+1]\n",
    "        \n",
    "        \n",
    "        z = np.dot(xi, theta)\n",
    "        h = sigmoid_function(z)\n",
    "        loss = loss_function(h, yi)\n",
    "    \n",
    "        gradient = np.dot(xi.T, (h-yi)) / yi.size\n",
    "        theta -= lr*gradient\n",
    "    \n",
    "        if (j%1 ==0):\n",
    "            # loss\n",
    "            losses.append(loss)\n",
    "        \n",
    "            # accuracy (độ chính xác)\n",
    "            preds = predict(X, theta)\n",
    "            acc = (preds == y).mean()\n",
    "        \n",
    "            accs.append(acc)"
   ]
  },
  {
   "cell_type": "code",
   "execution_count": 6,
   "metadata": {},
   "outputs": [
    {
     "data": {
      "text/plain": [
       "[<matplotlib.lines.Line2D at 0x116413978>]"
      ]
     },
     "execution_count": 6,
     "metadata": {},
     "output_type": "execute_result"
    },
    {
     "data": {
      "image/png": "[encoded data removed]",
      "text/plain": [
       "<Figure size 432x288 with 1 Axes>"
      ]
     },
     "metadata": {
      "needs_background": "light"
     },
     "output_type": "display_data"
    }
   ],
   "source": [
    "plt.plot(losses[:200])"
   ]
  },
  {
   "cell_type": "code",
   "execution_count": 7,
   "metadata": {},
   "outputs": [
    {
     "data": {
      "text/plain": [
       "[<matplotlib.lines.Line2D at 0x116567240>]"
      ]
     },
     "execution_count": 7,
     "metadata": {},
     "output_type": "execute_result"
    },
    {
     "data": {
      "image/png": "[encoded data removed]",
      "text/plain": [
       "<Figure size 432x288 with 1 Axes>"
      ]
     },
     "metadata": {
      "needs_background": "light"
     },
     "output_type": "display_data"
    }
   ],
   "source": [
    "plt.plot(accs[:])"
   ]
  },
  {
   "cell_type": "code",
   "execution_count": null,
   "metadata": {},
   "outputs": [],
   "source": []
  }
 ],
 "metadata": {
  "kernelspec": {
   "display_name": "Python 3",
   "language": "python",
   "name": "python3"
  },
  "language_info": {
   "codemirror_mode": {
    "name": "ipython",
    "version": 3
   },
   "file_extension": ".py",
   "mimetype": "text/x-python",
   "name": "python",
   "nbconvert_exporter": "python",
   "pygments_lexer": "ipython3",
   "version": "3.7.3"
  }
 },
 "nbformat": 4,
 "nbformat_minor": 2
}
