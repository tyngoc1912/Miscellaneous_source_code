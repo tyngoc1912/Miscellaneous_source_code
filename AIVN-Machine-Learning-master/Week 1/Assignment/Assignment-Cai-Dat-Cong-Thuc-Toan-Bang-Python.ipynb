{
 "cells": [
  {
   "cell_type": "markdown",
   "metadata": {},
   "source": [
    "## Bài Tập Lập Trình: Cài Đặt Công Thức Toán Bằng Python \n",
    "\n",
    "Chào mừng các bạn đến với bài tập lập trình về cài đặt các công thức toán bằng Python. Trước khi thực hiện bài tập này, các bạn nên học kỹ các kiến thức lý thuyết. Nếu có bất kỳ câu hỏi hay vấn đề nào xảy ra, các bạn hãy để lại comment trực tiếp bên dưới bài đăng hoặc liên hệ qua Fanpage AIVIETNAM hoặc Group AIVIETNAM.\n",
    "\n",
    "### Hướng dẫn làm bài \n",
    "- Trong bài tập này bạn sẽ sử dụng Python 3.\n",
    "- Sau khi bạn viết Code của mình xong, hãy chạy dòng Code đó để xem kết quả bên dưới. \n",
    "\n",
    "Các bạn sẽ bắt đầu Code trong phần `### START CODE HERE ###` và `### END CODE HERE ###`. Các bạn nhớ đừng sửa bất kỳ dòng Code nào bên ngoài những câu lệnh này. \n",
    "\n",
    "Sau khi viết xong Code của bạn, bạn hãy ấn \"SHIFT\"+\"ENTER\" để thực hiện chạy lệnh của Cell đó. \n",
    "\n",
    "Trong phần Code: các bạn hãy cố gắng thực hiện ít dòng Code nhất theo chỉ định \"(≈ X lines of code)\". Mặc dù đây không phải là hạn chế về số dòng Code của bạn, nhưng hãy tối ưu sao cho ít nhất có thể."
   ]
  },
  {
   "cell_type": "markdown",
   "metadata": {},
   "source": [
    "**Bài tập 0**: Hãy bắt đầu thử dòng Code đầu tiên - thực hiện in ra màn hình dòng chữ `\"Hello World\"`."
   ]
  },
  {
   "cell_type": "code",
   "execution_count": null,
   "metadata": {},
   "outputs": [],
   "source": [
    "### START CODE HERE ### (≈ 1 line of code)\n",
    "test = None\n",
    "### END CODE HERE ###"
   ]
  },
  {
   "cell_type": "code",
   "execution_count": null,
   "metadata": {},
   "outputs": [],
   "source": [
    "print(\"test: \" + test)"
   ]
  },
  {
   "cell_type": "markdown",
   "metadata": {},
   "source": [
    "**Đầu ra kỳ vọng**:\n",
    "\n",
    "\n",
    "<table style = \"width:40%\">\n",
    "    <tr>\n",
    "    <td>test: Hello World</td> \n",
    "    </tr>\n",
    "</table>"
   ]
  },
  {
   "cell_type": "markdown",
   "metadata": {},
   "source": [
    "**Bài tập 1:** Chuyển góc từ độ sang radian. Công thức chuyển từ góc với đơn vị là độ $A_d$ sang góc với đơn vị là radian $A_r$ như sau:\n",
    "\n",
    "<center> $A_r = A_d$ x $ \\frac{\\pi}{180}$ </center>\n",
    "\n",
    "*Gợi ý:* lấy số `pi` bằng hàm `math.pi`"
   ]
  },
  {
   "cell_type": "code",
   "execution_count": null,
   "metadata": {},
   "outputs": [],
   "source": [
    "import math \n",
    "\n",
    "# Độ\n",
    "degree = 40\n",
    "\n",
    "# tính góc theo radian\n",
    "### START CODE HERE ### (≈ 1 line of code)\n",
    "radian = None\n",
    "### END CODE HERE ###\n",
    "\n",
    "print(radian)"
   ]
  },
  {
   "cell_type": "markdown",
   "metadata": {},
   "source": [
    "**Đầu ra kỳ vọng**:\n",
    "\n",
    "<table style = \"width:40%\">\n",
    "    <tr>\n",
    "    <td>40 độ sang radian: 0.6981317007977318</td> \n",
    "    </tr>\n",
    "</table>"
   ]
  },
  {
   "cell_type": "markdown",
   "metadata": {},
   "source": [
    "**Bài tập 2:** Kiểm tra có phải tam giác vuông dựa vào công thức $a^2 + b^2 = c^2$\n",
    "\n",
    "<img src=\"images/tam-giac-vuong.png\">"
   ]
  },
  {
   "cell_type": "markdown",
   "metadata": {},
   "source": [
    "Chúng ta sẽ nhận các giá trị từ bàn phím."
   ]
  },
  {
   "cell_type": "code",
   "execution_count": null,
   "metadata": {},
   "outputs": [],
   "source": [
    "# yêu cầu user nhập giá trị a\n",
    "a = int(input(\"Hãy nhập giá trị a: \"))\n",
    "# yêu cầu user nhập giá trị b\n",
    "b = int(input(\"Hãy nhập giá trị b: \"))\n",
    "# yêu cầu user nhập giá trị c\n",
    "c = int(input(\"Hãy nhập giá trị c: \"))"
   ]
  },
  {
   "cell_type": "code",
   "execution_count": null,
   "metadata": {},
   "outputs": [],
   "source": [
    "# Kiểm tra giá trị nhập vào có dương hay không?\n",
    "\n",
    "### START CODE HERE ### \n",
    "None\n",
    "### END CODE HERE ###"
   ]
  },
  {
   "cell_type": "markdown",
   "metadata": {},
   "source": [
    "Các bạn hãy cố gắng sử dụng 1 dòng Code. "
   ]
  },
  {
   "cell_type": "code",
   "execution_count": null,
   "metadata": {},
   "outputs": [],
   "source": [
    "### START CODE HERE ### (≈ 1 line of code)\n",
    "answer = None\n",
    "### END CODE HERE ###"
   ]
  },
  {
   "cell_type": "code",
   "execution_count": null,
   "metadata": {},
   "outputs": [],
   "source": [
    "print('Tam giác trên có phải là tam giác vuông không? ', answer)"
   ]
  },
  {
   "cell_type": "markdown",
   "metadata": {},
   "source": [
    "**Đầu ra kỳ vọng**:\n",
    "\n",
    "<table style = \"width:40%\">\n",
    "    <tr>\n",
    "        <td>Với bộ tham số (a, b, c) = (3, 4, 5) - Đáp án: True</td></tr>\n",
    "    <tr>\n",
    "    <td>Với bộ tham số (a, b, c) = (3, 4, 6) - Đáp án: False</td> \n",
    "    </tr>\n",
    "</table>"
   ]
  },
  {
   "cell_type": "markdown",
   "metadata": {},
   "source": [
    "**Bài tập 3:** Tính chu vi và diện tích cho các hình cơ bản. Dựa vào các công thức, các bạn xác định input cần thiết của chương trình để yêu cầu user nhập vào từ bàn phím.\n",
    "\n",
    "<img src=\"images/toan.png\" style=\"width:50%;height:50%;\">\n",
    "\n",
    "Chương trình sau tính diện tích tam giác dựa vào 2 tham số b và h (các bạn tham khảo công thức nếu chưa biết ý nghĩa của 2 tham số này)"
   ]
  },
  {
   "cell_type": "code",
   "execution_count": null,
   "metadata": {},
   "outputs": [],
   "source": [
    "print('Chương trình tính diện tích tam giác')\n",
    "\n",
    "#input\n",
    "# Chú ý ép kiểu sang Float \n",
    "### START CODE HERE ### (≈ 2 line of code)\n",
    "h = None\n",
    "b = None\n",
    "### END CODE HERE ###\n",
    "\n",
    "# process\n",
    "### START CODE HERE ### (≈ 1 line of code)\n",
    "result = None\n",
    "### END CODE HERE ###\n",
    "\n",
    "#output\n",
    "print('Diện tích tam giác với h và b đã cho là', result)"
   ]
  },
  {
   "cell_type": "markdown",
   "metadata": {},
   "source": [
    "**Đầu ra kỳ vọng**:\n",
    "\n",
    "<table style = \"width:40%\">\n",
    "    <tr>\n",
    "        <td>Với h = 3, b = 3</td></tr>\n",
    "    <tr>\n",
    "    <td>Diện tích tam giác: 4.5</td> \n",
    "    </tr>\n",
    "</table>"
   ]
  },
  {
   "cell_type": "markdown",
   "metadata": {},
   "source": [
    "**Bài tập 4:** Ước lượng số PI bằng các số ngẫu nhiên. \n",
    "\n",
    "Chúng ta sẽ cài đặt chương trình để ước lượng số PI dùng các số ngẫu nhiên có phân bố đều (uniform distribution). Các bước cài đặt chương trình như sau:\n",
    "\n",
    "1. Cho trước hình vuông $V$ có cạnh $s = 2$ và hình tròn $T$ có bán kính $r = 1$. Cả $V$ và $T$ có tâm tại điểm (0, 0).\n",
    "\n",
    "\n",
    "2. Sinh ra $N$ điểm $p$ có tọa độ $(x, y)$, trong đó $x, y$ là các số ngẫu nhiên và thuộc đoạn [-1, 1].\n",
    "\n",
    "\n",
    "<img src=\"images/pi_estimation.png\" style=\"width:30%;height:30%;\">\n",
    "\n"
   ]
  },
  {
   "cell_type": "markdown",
   "metadata": {},
   "source": [
    "3. Đếm số điểm $p$ thuộc $T$, gọi là $N_T$\n",
    "\n",
    "\n",
    "4. Cuối cùng, số PI được ước lượng như sau:\n",
    "\n",
    "<center>$ \\pi \\approx 4 \\times \\frac{N_T}{N} $ </center>"
   ]
  },
  {
   "cell_type": "code",
   "execution_count": null,
   "metadata": {},
   "outputs": [],
   "source": [
    "import random\n",
    "import math\n",
    "# Tổng số điểm p được sinh ra\n",
    "N = 100000\n",
    "# số điểm thuộc tình tròn\n",
    "N_T = 0"
   ]
  },
  {
   "cell_type": "code",
   "execution_count": null,
   "metadata": {},
   "outputs": [],
   "source": [
    "# Sinh ra N điểm ngẫu nhiên\n",
    "for i in range(N):\n",
    "    \n",
    "    # sinh ra x, y thuộc [-1, 1].\n",
    "    # Hướng dẫn sử dụng hàm `random.random()`\n",
    "    ### START CODE HERE ### (≈ 1 line of code) \n",
    "    x = None\n",
    "    y = None\n",
    "    ### END CODE HERE ###\n",
    "    \n",
    "    \n",
    "    # Thực hiện viết công thức đường tròn \n",
    "    ### START CODE HERE ### (≈ 1 line of code) \n",
    "    x2 = None\n",
    "    y2 = None\n",
    "    ### END CODE HERE ###\n",
    "    \n",
    "    # kiểm tra p có nằm trong đường tròn\n",
    "    if math.sqrt(x2 + y2) <= 1.0:\n",
    "        ### START CODE HERE ### (≈ 1 line of code)\n",
    "        N_T = None\n",
    "        ### END CODE HERE ### "
   ]
  },
  {
   "cell_type": "code",
   "execution_count": null,
   "metadata": {},
   "outputs": [],
   "source": [
    "# tính PI\n",
    "### START CODE HERE ### (≈ 1 line of code)\n",
    "pi = None\n",
    "### END CODE HERE ###\n",
    "\n",
    "print(pi)"
   ]
  },
  {
   "cell_type": "markdown",
   "metadata": {},
   "source": [
    "**Đầu ra kỳ vọng**:\n",
    "\n",
    "<table style = \"width:40%\">\n",
    "    <tr>\n",
    "        <td>3.14552</td></tr>\n",
    "</table>"
   ]
  },
  {
   "cell_type": "markdown",
   "metadata": {},
   "source": [
    "**Bài tập 5:**\n",
    "\n",
    "Số e được ước lượng dựa vào công thức sau:\n",
    "\n",
    "<center>$e \\approx 1 + \\frac{1}{1!} + \\frac{1}{2!} + ... + \\frac{1}{n!}$</center>\n",
    "\n",
    "trong đó, n là số cho trước. n càng lớn thì độ chính xác càng cao.\n",
    "\n",
    "**Gợi ý:** Các bạn hãy dùng vòng lặp for để tính giai thừa và tính xấp xỉ số e !"
   ]
  },
  {
   "cell_type": "code",
   "execution_count": null,
   "metadata": {},
   "outputs": [],
   "source": [
    "# hàm tính giai thừa\n",
    "def factorial(n):\n",
    "\n",
    "    ### START CODE HERE ### (≈ 3 line of code)\n",
    "    None\n",
    "    ### END CODE HERE ###\n",
    "        \n",
    "    return result\n",
    "\n",
    "# hàm ước lượng số e\n",
    "def estimate_e(n):\n",
    "    \n",
    "    ### START CODE HERE ### (≈ 3 line of code)\n",
    "    None\n",
    "    ### END CODE HERE ###\n",
    "    \n",
    "    return result    \n",
    "\n",
    "# ước lượng số e với n = 10\n",
    "print(estimate_e(10))"
   ]
  },
  {
   "cell_type": "markdown",
   "metadata": {},
   "source": [
    "**Đầu ra kỳ vọng**:\n",
    "\n",
    "<table style = \"width:40%\">\n",
    "    <tr>\n",
    "        <td>2.7182818011463845</td></tr>\n",
    "</table>"
   ]
  },
  {
   "cell_type": "markdown",
   "metadata": {},
   "source": [
    "### Tổng kết\n",
    "\n",
    "Thông qua bài tập này, các bạn đã nắm vững một số kiến thức cơ bản về lập trình Python.\n",
    "\n",
    "- Một số thư viện như Math, Random...\n",
    "- Vòng lặp for. \n",
    "- Nhập và xuất giá trị trong Python."
   ]
  }
 ],
 "metadata": {
  "kernelspec": {
   "display_name": "Python 3",
   "language": "python",
   "name": "python3"
  },
  "language_info": {
   "codemirror_mode": {
    "name": "ipython",
    "version": 3
   },
   "file_extension": ".py",
   "mimetype": "text/x-python",
   "name": "python",
   "nbconvert_exporter": "python",
   "pygments_lexer": "ipython3",
   "version": "3.7.3"
  }
 },
 "nbformat": 4,
 "nbformat_minor": 2
}
