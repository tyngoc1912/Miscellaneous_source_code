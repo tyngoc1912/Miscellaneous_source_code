{
 "cells": [
  {
   "attachments": {},
   "cell_type": "markdown",
   "metadata": {},
   "source": [
    "## Set\n",
    "\n",
    "![image.png](https://camo.githubusercontent.com/bfe5a5f1631a748a843ee323e750acf547a3ff14/68747470733a2f2f6c68332e676f6f676c6575736572636f6e74656e742e636f6d2f4e5a6c62744f75683566336753564c6b4a77443777615051374672495f4f393144525a7355376f536b7431594c2d65454e4856704d363838533749523276585141414d7850513649305270735150436649637749694f5033796e7250643239776c5f7775346c64584a465467627130304f78432d464138484e654a345567687033326147674975303356314b3463725648462d4452365448754d4843766f6f5f736262634347413249595273634f7857336a7455447870414a4c776c776c7939715937475835396d656165484f6233737476516f33304a783467667874484e426345352d3766716436444f4b554869656f79364934637962374f704a7a53795377446c7473322d4a314e674e514b746b71696c65754b4f4a43467a4a593367412d314a47464f675935555538586e505a333679656c714a37495f5f50627a435a56446178756855357971452d564a44336b4877723455443133554d4242596a5535334d744b776764765373412d39666632676e4a6f4c3837586d6769554559525f4e396a3931572d4e5a557930394245514f7867743332424c714b2d78646e7954476371344f715a6e4a6c5a436e59596a7842675f6d4d563131427774714f777232596a3670346d72333035706e5232384230767255444166506f4c7a2d7a4d653543654548782d415f466b4556797a367a43637a45416e47746b594454315558585a394d654e31625f734d7a31665177336a52356770492d33593533726d706b53723154586b636a7a3047776374786a617552644351337361795f424e524a5363525170764a70457643564d485355454f614c67397944454f534c6a52755434523772504d5875425332354b50446772656e4d2d4a36416862666535507857596f6577323274566e4c6d4b364836796d7631584761677363636e485a4f395679773d773733372d683833392d6e6f)"
   ]
  },
  {
   "cell_type": "markdown",
   "metadata": {},
   "source": [
    "Set trong Tiếng Việt Toán học có thể dịch ra là Tập hợp với các tính chất\n",
    "\n",
    "- Tập hợp các phần tử sắp xếp không có thứ tự\n",
    "- **Mỗi phần tử là độc nhất** (Unique) và phải là bất biến(immutable) \n",
    "- Trái lại bản thân Set là khả biến(mutable), chúng ta có thể thêm, xóa phần tử của Set"
   ]
  },
  {
   "cell_type": "markdown",
   "metadata": {},
   "source": [
    "### I. Khởi tạo một Set "
   ]
  },
  {
   "cell_type": "markdown",
   "metadata": {},
   "source": [
    "#### 1. Cách 1"
   ]
  },
  {
   "cell_type": "code",
   "execution_count": 14,
   "metadata": {},
   "outputs": [],
   "source": [
    "# Set chỉ chứa số\n",
    "number_set = {1, 2, 4, 6, 1000}"
   ]
  },
  {
   "cell_type": "code",
   "execution_count": 15,
   "metadata": {},
   "outputs": [
    {
     "data": {
      "text/plain": [
       "{1, 2, 4, 6, 1000}"
      ]
     },
     "execution_count": 15,
     "metadata": {},
     "output_type": "execute_result"
    }
   ],
   "source": [
    "number_set"
   ]
  },
  {
   "cell_type": "code",
   "execution_count": 16,
   "metadata": {},
   "outputs": [],
   "source": [
    "# Set chứa nhiều kiểu dữ liệu khác nhau \n",
    "mix_set = { 'Thành', 321, (10, 2) }"
   ]
  },
  {
   "cell_type": "code",
   "execution_count": 17,
   "metadata": {},
   "outputs": [
    {
     "data": {
      "text/plain": [
       "{(10, 2), 321, 'Thành'}"
      ]
     },
     "execution_count": 17,
     "metadata": {},
     "output_type": "execute_result"
    }
   ],
   "source": [
    "mix_set"
   ]
  },
  {
   "cell_type": "code",
   "execution_count": 6,
   "metadata": {},
   "outputs": [],
   "source": [
    "# Nhưng các loại kiểu dữ liệu này phải bất biến như Integer, Float, Boolean hay Tuple "
   ]
  },
  {
   "cell_type": "code",
   "execution_count": 7,
   "metadata": {},
   "outputs": [
    {
     "ename": "TypeError",
     "evalue": "unhashable type: 'list'",
     "output_type": "error",
     "traceback": [
      "\u001b[0;31m---------------------------------------------------------------------------\u001b[0m",
      "\u001b[0;31mTypeError\u001b[0m                                 Traceback (most recent call last)",
      "\u001b[0;32m<ipython-input-7-6e8af2d663f9>\u001b[0m in \u001b[0;36m<module>\u001b[0;34m\u001b[0m\n\u001b[1;32m      1\u001b[0m \u001b[0;31m# Python sẽ báo lỗi nếu đặt 1 biến khả biến trong Set\u001b[0m\u001b[0;34m\u001b[0m\u001b[0;34m\u001b[0m\u001b[0;34m\u001b[0m\u001b[0m\n\u001b[1;32m      2\u001b[0m \u001b[0;31m# Trường hợp đặt một list trong Set\u001b[0m\u001b[0;34m\u001b[0m\u001b[0;34m\u001b[0m\u001b[0;34m\u001b[0m\u001b[0m\n\u001b[0;32m----> 3\u001b[0;31m \u001b[0mmix_mutable_set\u001b[0m \u001b[0;34m=\u001b[0m \u001b[0;34m{\u001b[0m\u001b[0;34m'Thành'\u001b[0m\u001b[0;34m,\u001b[0m \u001b[0;34m[\u001b[0m\u001b[0;36m1\u001b[0m\u001b[0;34m,\u001b[0m \u001b[0;36m2\u001b[0m\u001b[0;34m]\u001b[0m\u001b[0;34m}\u001b[0m\u001b[0;34m\u001b[0m\u001b[0;34m\u001b[0m\u001b[0m\n\u001b[0m",
      "\u001b[0;31mTypeError\u001b[0m: unhashable type: 'list'"
     ]
    }
   ],
   "source": [
    "# Python sẽ báo lỗi nếu đặt 1 biến khả biến trong Set \n",
    "# Trường hợp đặt một list trong Set \n",
    "mix_mutable_set = {'Thành', [1, 2]}"
   ]
  },
  {
   "cell_type": "markdown",
   "metadata": {},
   "source": [
    "#### 2. Cách 2\n",
    "Tạo một empty set và thêm phần tử vào set "
   ]
  },
  {
   "cell_type": "code",
   "execution_count": 8,
   "metadata": {},
   "outputs": [],
   "source": [
    "foods = set()"
   ]
  },
  {
   "cell_type": "code",
   "execution_count": 10,
   "metadata": {},
   "outputs": [],
   "source": [
    "foods.add('Thịt gà')"
   ]
  },
  {
   "cell_type": "code",
   "execution_count": 11,
   "metadata": {},
   "outputs": [
    {
     "data": {
      "text/plain": [
       "{'Thịt gà'}"
      ]
     },
     "execution_count": 11,
     "metadata": {},
     "output_type": "execute_result"
    }
   ],
   "source": [
    "foods"
   ]
  },
  {
   "cell_type": "code",
   "execution_count": 12,
   "metadata": {},
   "outputs": [],
   "source": [
    "apple = set('Apple')"
   ]
  },
  {
   "cell_type": "code",
   "execution_count": 13,
   "metadata": {},
   "outputs": [
    {
     "data": {
      "text/plain": [
       "{'A', 'e', 'l', 'p'}"
      ]
     },
     "execution_count": 13,
     "metadata": {},
     "output_type": "execute_result"
    }
   ],
   "source": [
    "apple"
   ]
  },
  {
   "cell_type": "markdown",
   "metadata": {},
   "source": [
    "**Chú ý:** Chúng ta không thể tạo một set rỗng bằng ngoặc kép - {}, Python mặc định hiểu đây là `dictionary`"
   ]
  },
  {
   "cell_type": "code",
   "execution_count": 20,
   "metadata": {},
   "outputs": [
    {
     "data": {
      "text/plain": [
       "dict"
      ]
     },
     "execution_count": 20,
     "metadata": {},
     "output_type": "execute_result"
    }
   ],
   "source": [
    "test = {}\n",
    "type(test)"
   ]
  },
  {
   "cell_type": "markdown",
   "metadata": {},
   "source": [
    "### II. Các phương thức "
   ]
  },
  {
   "cell_type": "markdown",
   "metadata": {},
   "source": [
    "#### 1. add()\n",
    "Thêm một phần tử vào set"
   ]
  },
  {
   "cell_type": "code",
   "execution_count": 22,
   "metadata": {},
   "outputs": [],
   "source": [
    "breakfast  = {'eggs', 'bacon', 'milk'}"
   ]
  },
  {
   "cell_type": "code",
   "execution_count": 23,
   "metadata": {},
   "outputs": [],
   "source": [
    "breakfast.add('coffee')"
   ]
  },
  {
   "cell_type": "code",
   "execution_count": 24,
   "metadata": {},
   "outputs": [
    {
     "data": {
      "text/plain": [
       "{'bacon', 'coffee', 'eggs', 'milk'}"
      ]
     },
     "execution_count": 24,
     "metadata": {},
     "output_type": "execute_result"
    }
   ],
   "source": [
    "breakfast "
   ]
  },
  {
   "cell_type": "markdown",
   "metadata": {},
   "source": [
    "#### 2. remove()\n",
    "Xoá một phần tử khỏi Set \n",
    "    - Throw error nếu phần tử không tồn tại trong Set "
   ]
  },
  {
   "cell_type": "code",
   "execution_count": 25,
   "metadata": {},
   "outputs": [],
   "source": [
    "breakfast = { \"eggs\", \"bacon\", \"sausage\", \"toast\", \"cereal\", \"milk\", \"muffin\" }"
   ]
  },
  {
   "cell_type": "code",
   "execution_count": 26,
   "metadata": {},
   "outputs": [],
   "source": [
    "breakfast.remove(\"sausage\")"
   ]
  },
  {
   "cell_type": "code",
   "execution_count": 27,
   "metadata": {},
   "outputs": [
    {
     "data": {
      "text/plain": [
       "{'bacon', 'cereal', 'eggs', 'milk', 'muffin', 'toast'}"
      ]
     },
     "execution_count": 27,
     "metadata": {},
     "output_type": "execute_result"
    }
   ],
   "source": [
    "breakfast"
   ]
  },
  {
   "cell_type": "code",
   "execution_count": 29,
   "metadata": {},
   "outputs": [
    {
     "ename": "KeyError",
     "evalue": "'pho'",
     "output_type": "error",
     "traceback": [
      "\u001b[0;31m---------------------------------------------------------------------------\u001b[0m",
      "\u001b[0;31mKeyError\u001b[0m                                  Traceback (most recent call last)",
      "\u001b[0;32m<ipython-input-29-e3e63a08d2a9>\u001b[0m in \u001b[0;36m<module>\u001b[0;34m\u001b[0m\n\u001b[1;32m      1\u001b[0m \u001b[0;31m# error\u001b[0m\u001b[0;34m\u001b[0m\u001b[0;34m\u001b[0m\u001b[0;34m\u001b[0m\u001b[0m\n\u001b[0;32m----> 2\u001b[0;31m \u001b[0mbreakfast\u001b[0m\u001b[0;34m.\u001b[0m\u001b[0mremove\u001b[0m\u001b[0;34m(\u001b[0m\u001b[0;34m\"pho\"\u001b[0m\u001b[0;34m)\u001b[0m\u001b[0;34m\u001b[0m\u001b[0;34m\u001b[0m\u001b[0m\n\u001b[0m",
      "\u001b[0;31mKeyError\u001b[0m: 'pho'"
     ]
    }
   ],
   "source": [
    "# error \n",
    "breakfast.remove(\"pho\")"
   ]
  },
  {
   "cell_type": "markdown",
   "metadata": {},
   "source": [
    "#### 3. discard()\n",
    "Xoá phần tử khỏi Set \n",
    "    - Không throw error nếu phần tử không tồn tại trong Set "
   ]
  },
  {
   "cell_type": "code",
   "execution_count": 30,
   "metadata": {},
   "outputs": [],
   "source": [
    "breakfast = { \"eggs\", \"bacon\", \"sausage\", \"toast\", \"cereal\", \"milk\", \"muffin\" }"
   ]
  },
  {
   "cell_type": "code",
   "execution_count": 31,
   "metadata": {},
   "outputs": [],
   "source": [
    "breakfast.discard(\"pho\")"
   ]
  },
  {
   "cell_type": "code",
   "execution_count": 33,
   "metadata": {},
   "outputs": [],
   "source": [
    "breakfast.discard('eggs')"
   ]
  },
  {
   "cell_type": "code",
   "execution_count": 34,
   "metadata": {},
   "outputs": [
    {
     "data": {
      "text/plain": [
       "{'bacon', 'cereal', 'milk', 'muffin', 'sausage', 'toast'}"
      ]
     },
     "execution_count": 34,
     "metadata": {},
     "output_type": "execute_result"
    }
   ],
   "source": [
    "breakfast"
   ]
  },
  {
   "attachments": {},
   "cell_type": "markdown",
   "metadata": {},
   "source": [
    "#### 4. union()\n",
    "Trả về hợp hai tập hợp \n",
    "\n",
    "![image.png](https://camo.githubusercontent.com/8cb19d7a492df3e520f3860beb8d7a92d11d6908/68747470733a2f2f6c68332e676f6f676c6575736572636f6e74656e742e636f6d2f64576479512d4f6550584d6a417635524b7951705859444452363252386a6e6877313361416e2d50434d6a4e2d6a4e71486879466c79644537784d324c6a5a5f4155666e6f69777a554f776372536d796633477a56375a5255504766304274374e736b53747a6d6661647a68624f5352684e41616168787766305634774a61734f3762466b774455336541336b41526c2d3643596d4b544b5a3945584435794e655a4933423434426e666f303530514f62656d44336e5f4830552d7a6b447a5a466b3670635442484e2d6e71616b3536723055616a68776845775236597549356b33656a662d6766422d5041456757327a36656f4161796b5253754137392d4648647279315a54366f7249483235324a744576445a55745f746b6f62566979766c347839336f59354c4e5548497872426e50467273564c3277324d6347584f414f467664762d45344e3147766b436a434d65314c3446556b6d557a4562644c654e324a6a39637a3172776b6e443858745549784b33445a65703236633470536a454d75796f774c474a306f334f694e59746267314e74702d39717276386636684a39627a6b44646b57357736724b3751506644546e67767230697a61496239544a4461733134797047676c62752d624f4b6a32426f6f68686479723055335f6c396136426568446d7932326c4c713476657a5a795431555574584b3045484174736c78566b675063417a5173486d4e45664a6e302d7a77746b49474c503376536e2d7149734c644d4c756f57387072753431396e49775178316a6569574372432d7259582d6156694771306f5335376e7162646e4257547a774c6c54504a38574754577a673255746b5868414e7a38677a3279736e506a595a4f2d6c5142454f73377648366a596f4f4c305865316d746e4e4b416733746b49516d4c7366587865673d773435302d683236342d6e6f)"
   ]
  },
  {
   "cell_type": "markdown",
   "metadata": {},
   "source": [
    "Cho A và B là các tập hợp, khi đó hợp của A và B là tập gồm các phần tử A và các phần tử của B, và không chứa phần tử nào khác. Hợp của A và B được viết là \"A ∪ B\". "
   ]
  },
  {
   "cell_type": "code",
   "execution_count": 35,
   "metadata": {},
   "outputs": [],
   "source": [
    "A = { 1, 2, 3} "
   ]
  },
  {
   "cell_type": "code",
   "execution_count": 36,
   "metadata": {},
   "outputs": [],
   "source": [
    "B = { 2, 3, 4} "
   ]
  },
  {
   "cell_type": "code",
   "execution_count": 37,
   "metadata": {},
   "outputs": [
    {
     "data": {
      "text/plain": [
       "{1, 2, 3, 4}"
      ]
     },
     "execution_count": 37,
     "metadata": {},
     "output_type": "execute_result"
    }
   ],
   "source": [
    "A.union(B)"
   ]
  },
  {
   "cell_type": "code",
   "execution_count": 38,
   "metadata": {},
   "outputs": [
    {
     "data": {
      "text/plain": [
       "{1, 2, 3, 4}"
      ]
     },
     "execution_count": 38,
     "metadata": {},
     "output_type": "execute_result"
    }
   ],
   "source": [
    "B.union(A)"
   ]
  },
  {
   "cell_type": "code",
   "execution_count": 39,
   "metadata": {},
   "outputs": [
    {
     "data": {
      "text/plain": [
       "{1, 2, 3, 4}"
      ]
     },
     "execution_count": 39,
     "metadata": {},
     "output_type": "execute_result"
    }
   ],
   "source": [
    "# Tương đương với \n",
    "A | B"
   ]
  },
  {
   "attachments": {},
   "cell_type": "markdown",
   "metadata": {},
   "source": [
    "#### 4. intersection()\n",
    "Trả về giao 2 tập hợp: \n",
    "\n",
    "![image.png](https://camo.githubusercontent.com/8d673b3b298e83fe707218072082ca9439d2c966/68747470733a2f2f6c68332e676f6f676c6575736572636f6e74656e742e636f6d2f673354435f4246317562456947474f6e394579596570487878495f6f37394977464b77554b7238455546686e5543724252785768664a576677757a387a7a6d57666a3978535a5f53616f684f424251734c483564636b50543059645832586b62505053327338755452496f6d71747233424b42666d454137525653457330326c6d6639726a57675062326f79664c674d616d373258534a57623379713873587933494e5a743131417a724e6a6f4e3753794e566d536134514e42523642343562726f396f553937675f4a37796935534b324b74776f6e78336a7a4f376c46566957566e5079514c66452d6747567538577950684252687a396c42543146794b595557414f776b5046533762362d64706e4d52735136574e6873795a586755366b566749396d74306c69316e555a4a4e6a46746857527862432d4a52653167357a6541684757797659796667656777576f68417461597a636372486d4c556a51782d4f39375079775577626f7256675435625f30357963786e503874306e526a575a7666516130705542693866476b6746666e625770764c6169503377435344485956725838676f5f735f624f6d5a4736597a636f533252643735654b417a34756b72637446454863385a363277744354485657487072517146584c7055475a704f504b4d635a36725972702d305473734568684b324f5a68765037437630576b7656576c6f36775f7177635978354e6d736363595854364a2d72543350676b49646e4e556b32367834325956304c51784164464e3462384c6d3362764869454c67797963794b4f6b5644513948415a78344335714c6e7a4373656b5045796e7348687441536d6b6762314e455132314563754b4e505539796758743653374a4d39596f516f6f565469437a5f3936496d4e44636668486a3567596f4e555664644f673d773435302d683236322d6e6f)"
   ]
  },
  {
   "cell_type": "markdown",
   "metadata": {},
   "source": [
    "Cho A và B là hai tập hợp. Giao của A và B là tập hợp gồm những phần tử thuộc cả A và B, ngoài ra không bao giờ có phần tử nào khác. Giao của A và B được viết là \"A ∩ B\". "
   ]
  },
  {
   "cell_type": "code",
   "execution_count": 40,
   "metadata": {},
   "outputs": [],
   "source": [
    "A = { 9, 19, 12 }"
   ]
  },
  {
   "cell_type": "code",
   "execution_count": 41,
   "metadata": {},
   "outputs": [],
   "source": [
    "B = {10, 19, 17}"
   ]
  },
  {
   "cell_type": "code",
   "execution_count": 42,
   "metadata": {},
   "outputs": [
    {
     "data": {
      "text/plain": [
       "{19}"
      ]
     },
     "execution_count": 42,
     "metadata": {},
     "output_type": "execute_result"
    }
   ],
   "source": [
    "A.intersection(B)"
   ]
  },
  {
   "cell_type": "code",
   "execution_count": 43,
   "metadata": {},
   "outputs": [
    {
     "data": {
      "text/plain": [
       "{19}"
      ]
     },
     "execution_count": 43,
     "metadata": {},
     "output_type": "execute_result"
    }
   ],
   "source": [
    "B.intersection(A)"
   ]
  },
  {
   "cell_type": "code",
   "execution_count": 44,
   "metadata": {},
   "outputs": [
    {
     "data": {
      "text/plain": [
       "{19}"
      ]
     },
     "execution_count": 44,
     "metadata": {},
     "output_type": "execute_result"
    }
   ],
   "source": [
    "# Tương đương với \n",
    "A & B"
   ]
  },
  {
   "attachments": {},
   "cell_type": "markdown",
   "metadata": {},
   "source": [
    "#### 6. diference()\n",
    "Trả về hiệu 2 tập hợp \n",
    "\n",
    "![image.png](https://camo.githubusercontent.com/8b11673e059d85bc6e25e7eb7b638c3e3d5ba420/68747470733a2f2f6c68332e676f6f676c6575736572636f6e74656e742e636f6d2f704e4246636e4c4e756f517757616d5f756f395756415f6743634b77396a344a6335774b2d707773716d644a6d6a304779464b424e68543936364d38665f543754336f7931694b474943383070724631375f53324a6b4765326d5470685a566a374e594256555235355f52726a7a4a787a4641567753677656415357365533536a456c565f42754b633968416874613456326d756b6133364f584c597079363232367246615a755176796a6e76326b32424c4e644661394535727434686a642d49464a344269486e745764394369684b2d6a635f304243525067723742475537383433453565655146593177515266613170366e69524678623639326264367664354a4b3442504e634d5f585a6b48464e73654549696d456d765f73707533646c6139594a71637a6c474d4672544d4d324d67693746575868437a376c79526f5f545256374e7a68497a36487353767249626b46564e3278644e4b392d4c4d45785571526a763974394b4f6555675951454c7864476f66624b61306b4a4638307645685a554d5855545235416b30332d4a484d71314f553470456d49382d396b39672d2d7065525430654948666439414c647472504b68397639765a794f6845415565373370487632394742586d6c684b4842624e4976726b41707052434a346e4b4f734b483251795078416a5f50696d7852366141326563733054544d46474634363547413074734a426b66504d726f674e6c676e2d3869504163715a344b37595a48746f5371522d6b6d434e6e304e655f6e73744a643334432d717a304545653841445a395150314634736876747872323247393465473842443652577953456268324676574763655045416d684c6e7847596542747a416e65723750646c3765375a775f363852727a6a652d50496a667962703633796e37514c70714a37413d773435302d683236332d6e6f)"
   ]
  },
  {
   "cell_type": "markdown",
   "metadata": {},
   "source": [
    "Hiệu của tập hợp A với tập hợp B, kí hiệu A - B là tập hợp gồm các phần tử thuộc A và không thuộc B "
   ]
  },
  {
   "cell_type": "code",
   "execution_count": 45,
   "metadata": {},
   "outputs": [],
   "source": [
    "A = { \"My Tam\", \"Phuong Linh\", \"Ha Anh Tuan\" }"
   ]
  },
  {
   "cell_type": "code",
   "execution_count": 46,
   "metadata": {},
   "outputs": [],
   "source": [
    "B = { \"Erik\", \"Phuong Linh\", \"Ha Anh Tuan\" }"
   ]
  },
  {
   "cell_type": "code",
   "execution_count": 47,
   "metadata": {},
   "outputs": [
    {
     "data": {
      "text/plain": [
       "{'My Tam'}"
      ]
     },
     "execution_count": 47,
     "metadata": {},
     "output_type": "execute_result"
    }
   ],
   "source": [
    "A.difference(B)"
   ]
  },
  {
   "cell_type": "code",
   "execution_count": 48,
   "metadata": {},
   "outputs": [
    {
     "data": {
      "text/plain": [
       "{'My Tam'}"
      ]
     },
     "execution_count": 48,
     "metadata": {},
     "output_type": "execute_result"
    }
   ],
   "source": [
    "# Tương đương với \n",
    "A - B"
   ]
  },
  {
   "cell_type": "markdown",
   "metadata": {},
   "source": [
    "### III. Frozenset \n",
    "- Nếu tuple là một immutable list thì frozenset là một immutable set. Ta không thể thêm xoá phần tử trong set "
   ]
  },
  {
   "cell_type": "code",
   "execution_count": 49,
   "metadata": {},
   "outputs": [],
   "source": [
    "A = frozenset([1, 2, 3, 4])"
   ]
  },
  {
   "cell_type": "code",
   "execution_count": 51,
   "metadata": {},
   "outputs": [
    {
     "ename": "AttributeError",
     "evalue": "'frozenset' object has no attribute 'add'",
     "output_type": "error",
     "traceback": [
      "\u001b[0;31m---------------------------------------------------------------------------\u001b[0m",
      "\u001b[0;31mAttributeError\u001b[0m                            Traceback (most recent call last)",
      "\u001b[0;32m<ipython-input-51-3c285c928661>\u001b[0m in \u001b[0;36m<module>\u001b[0;34m\u001b[0m\n\u001b[1;32m      1\u001b[0m \u001b[0;31m# Báo lỗi nếu thêm phần tử\u001b[0m\u001b[0;34m\u001b[0m\u001b[0;34m\u001b[0m\u001b[0;34m\u001b[0m\u001b[0m\n\u001b[0;32m----> 2\u001b[0;31m \u001b[0mA\u001b[0m\u001b[0;34m.\u001b[0m\u001b[0madd\u001b[0m\u001b[0;34m(\u001b[0m\u001b[0;34m'10'\u001b[0m\u001b[0;34m)\u001b[0m\u001b[0;34m\u001b[0m\u001b[0;34m\u001b[0m\u001b[0m\n\u001b[0m",
      "\u001b[0;31mAttributeError\u001b[0m: 'frozenset' object has no attribute 'add'"
     ]
    }
   ],
   "source": [
    "# Báo lỗi nếu thêm phần tử\n",
    "A.add('10')"
   ]
  }
 ],
 "metadata": {
  "kernelspec": {
   "display_name": "Python 3",
   "language": "python",
   "name": "python3"
  },
  "language_info": {
   "codemirror_mode": {
    "name": "ipython",
    "version": 3
   },
   "file_extension": ".py",
   "mimetype": "text/x-python",
   "name": "python",
   "nbconvert_exporter": "python",
   "pygments_lexer": "ipython3",
   "version": "3.7.3"
  }
 },
 "nbformat": 4,
 "nbformat_minor": 2
}
