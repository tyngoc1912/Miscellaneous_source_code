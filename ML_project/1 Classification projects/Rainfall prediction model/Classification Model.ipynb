{
 "cells": [
  {
   "cell_type": "code",
   "execution_count": 1,
   "id": "1c35cf4a",
   "metadata": {},
   "outputs": [
    {
     "data": {
      "text/html": [
       "<div>\n",
       "<style scoped>\n",
       "    .dataframe tbody tr th:only-of-type {\n",
       "        vertical-align: middle;\n",
       "    }\n",
       "\n",
       "    .dataframe tbody tr th {\n",
       "        vertical-align: top;\n",
       "    }\n",
       "\n",
       "    .dataframe thead th {\n",
       "        text-align: right;\n",
       "    }\n",
       "</style>\n",
       "<table border=\"1\" class=\"dataframe\">\n",
       "  <thead>\n",
       "    <tr style=\"text-align: right;\">\n",
       "      <th></th>\n",
       "      <th>Index</th>\n",
       "      <th>Temperature</th>\n",
       "      <th>Humidity%</th>\n",
       "      <th>Rain</th>\n",
       "    </tr>\n",
       "  </thead>\n",
       "  <tbody>\n",
       "    <tr>\n",
       "      <th>0</th>\n",
       "      <td>0</td>\n",
       "      <td>34</td>\n",
       "      <td>74.2</td>\n",
       "      <td>Yes</td>\n",
       "    </tr>\n",
       "    <tr>\n",
       "      <th>1</th>\n",
       "      <td>1</td>\n",
       "      <td>19</td>\n",
       "      <td>68.2</td>\n",
       "      <td>No</td>\n",
       "    </tr>\n",
       "    <tr>\n",
       "      <th>2</th>\n",
       "      <td>2</td>\n",
       "      <td>28</td>\n",
       "      <td>67.2</td>\n",
       "      <td>Yes</td>\n",
       "    </tr>\n",
       "    <tr>\n",
       "      <th>3</th>\n",
       "      <td>3</td>\n",
       "      <td>29</td>\n",
       "      <td>66.6</td>\n",
       "      <td>Yes</td>\n",
       "    </tr>\n",
       "    <tr>\n",
       "      <th>4</th>\n",
       "      <td>4</td>\n",
       "      <td>26</td>\n",
       "      <td>57.9</td>\n",
       "      <td>Yes</td>\n",
       "    </tr>\n",
       "    <tr>\n",
       "      <th>...</th>\n",
       "      <td>...</td>\n",
       "      <td>...</td>\n",
       "      <td>...</td>\n",
       "      <td>...</td>\n",
       "    </tr>\n",
       "    <tr>\n",
       "      <th>19995</th>\n",
       "      <td>19995</td>\n",
       "      <td>30</td>\n",
       "      <td>77.9</td>\n",
       "      <td>Yes</td>\n",
       "    </tr>\n",
       "    <tr>\n",
       "      <th>19996</th>\n",
       "      <td>19996</td>\n",
       "      <td>20</td>\n",
       "      <td>74.8</td>\n",
       "      <td>Yes</td>\n",
       "    </tr>\n",
       "    <tr>\n",
       "      <th>19997</th>\n",
       "      <td>19997</td>\n",
       "      <td>14</td>\n",
       "      <td>69.4</td>\n",
       "      <td>No</td>\n",
       "    </tr>\n",
       "    <tr>\n",
       "      <th>19998</th>\n",
       "      <td>19998</td>\n",
       "      <td>20</td>\n",
       "      <td>60.6</td>\n",
       "      <td>No</td>\n",
       "    </tr>\n",
       "    <tr>\n",
       "      <th>19999</th>\n",
       "      <td>19999</td>\n",
       "      <td>22</td>\n",
       "      <td>64.8</td>\n",
       "      <td>No</td>\n",
       "    </tr>\n",
       "  </tbody>\n",
       "</table>\n",
       "<p>20000 rows × 4 columns</p>\n",
       "</div>"
      ],
      "text/plain": [
       "       Index  Temperature  Humidity% Rain\n",
       "0          0           34       74.2  Yes\n",
       "1          1           19       68.2   No\n",
       "2          2           28       67.2  Yes\n",
       "3          3           29       66.6  Yes\n",
       "4          4           26       57.9  Yes\n",
       "...      ...          ...        ...  ...\n",
       "19995  19995           30       77.9  Yes\n",
       "19996  19996           20       74.8  Yes\n",
       "19997  19997           14       69.4   No\n",
       "19998  19998           20       60.6   No\n",
       "19999  19999           22       64.8   No\n",
       "\n",
       "[20000 rows x 4 columns]"
      ]
     },
     "execution_count": 1,
     "metadata": {},
     "output_type": "execute_result"
    }
   ],
   "source": [
    "import pandas as pan\n",
    "data = pan.read_csv('Rainfall_data.csv')\n",
    "data\n"
   ]
  },
  {
   "cell_type": "code",
   "execution_count": 2,
   "id": "a0f14df7",
   "metadata": {},
   "outputs": [],
   "source": [
    "from sklearn.model_selection import train_test_split\n",
    "Input = data.drop(columns = ['Index','Rain'])\n",
    "output = data['Rain']\n",
    "Train_X,test_X,Train_y,test_y = train_test_split(Input,output,test_size=0.1)"
   ]
  },
  {
   "cell_type": "code",
   "execution_count": 3,
   "id": "636529bd",
   "metadata": {},
   "outputs": [
    {
     "data": {
      "text/plain": [
       "DecisionTreeClassifier()"
      ]
     },
     "execution_count": 3,
     "metadata": {},
     "output_type": "execute_result"
    }
   ],
   "source": [
    "# For making desicions import a library\n",
    "from sklearn.tree import DecisionTreeClassifier\n",
    "Classification_Model = DecisionTreeClassifier()\n",
    "Classification_Model.fit(Train_X,Train_y)"
   ]
  },
  {
   "cell_type": "code",
   "execution_count": 4,
   "id": "19d6c34d",
   "metadata": {},
   "outputs": [],
   "source": [
    "# Classification_Model.predict([[33,70],[20,0]])"
   ]
  },
  {
   "cell_type": "code",
   "execution_count": 5,
   "id": "52883479",
   "metadata": {},
   "outputs": [
    {
     "data": {
      "text/plain": [
       "8995     Yes\n",
       "4961      No\n",
       "2198     Yes\n",
       "8577     Yes\n",
       "15547     No\n",
       "        ... \n",
       "9089      No\n",
       "2919     Yes\n",
       "5356     Yes\n",
       "10947    Yes\n",
       "17921    Yes\n",
       "Name: Rain, Length: 2000, dtype: object"
      ]
     },
     "execution_count": 5,
     "metadata": {},
     "output_type": "execute_result"
    }
   ],
   "source": [
    "Hypothesis = Classification_Model.predict(test_X)\n",
    "test_y"
   ]
  },
  {
   "cell_type": "code",
   "execution_count": 6,
   "id": "4ac45db6",
   "metadata": {},
   "outputs": [],
   "source": [
    "compare = pan.DataFrame({\"Data_Y\":test_y.values,'Prediction':Hypothesis})"
   ]
  },
  {
   "cell_type": "code",
   "execution_count": 7,
   "id": "03b5d38d",
   "metadata": {},
   "outputs": [
    {
     "data": {
      "text/html": [
       "<div>\n",
       "<style scoped>\n",
       "    .dataframe tbody tr th:only-of-type {\n",
       "        vertical-align: middle;\n",
       "    }\n",
       "\n",
       "    .dataframe tbody tr th {\n",
       "        vertical-align: top;\n",
       "    }\n",
       "\n",
       "    .dataframe thead th {\n",
       "        text-align: right;\n",
       "    }\n",
       "</style>\n",
       "<table border=\"1\" class=\"dataframe\">\n",
       "  <thead>\n",
       "    <tr style=\"text-align: right;\">\n",
       "      <th></th>\n",
       "      <th>Data_Y</th>\n",
       "      <th>Prediction</th>\n",
       "    </tr>\n",
       "  </thead>\n",
       "  <tbody>\n",
       "    <tr>\n",
       "      <th>0</th>\n",
       "      <td>Yes</td>\n",
       "      <td>Yes</td>\n",
       "    </tr>\n",
       "    <tr>\n",
       "      <th>1</th>\n",
       "      <td>No</td>\n",
       "      <td>Yes</td>\n",
       "    </tr>\n",
       "    <tr>\n",
       "      <th>2</th>\n",
       "      <td>Yes</td>\n",
       "      <td>Yes</td>\n",
       "    </tr>\n",
       "    <tr>\n",
       "      <th>3</th>\n",
       "      <td>Yes</td>\n",
       "      <td>Yes</td>\n",
       "    </tr>\n",
       "    <tr>\n",
       "      <th>4</th>\n",
       "      <td>No</td>\n",
       "      <td>No</td>\n",
       "    </tr>\n",
       "    <tr>\n",
       "      <th>...</th>\n",
       "      <td>...</td>\n",
       "      <td>...</td>\n",
       "    </tr>\n",
       "    <tr>\n",
       "      <th>1995</th>\n",
       "      <td>No</td>\n",
       "      <td>No</td>\n",
       "    </tr>\n",
       "    <tr>\n",
       "      <th>1996</th>\n",
       "      <td>Yes</td>\n",
       "      <td>Yes</td>\n",
       "    </tr>\n",
       "    <tr>\n",
       "      <th>1997</th>\n",
       "      <td>Yes</td>\n",
       "      <td>Yes</td>\n",
       "    </tr>\n",
       "    <tr>\n",
       "      <th>1998</th>\n",
       "      <td>Yes</td>\n",
       "      <td>Yes</td>\n",
       "    </tr>\n",
       "    <tr>\n",
       "      <th>1999</th>\n",
       "      <td>Yes</td>\n",
       "      <td>No</td>\n",
       "    </tr>\n",
       "  </tbody>\n",
       "</table>\n",
       "<p>2000 rows × 2 columns</p>\n",
       "</div>"
      ],
      "text/plain": [
       "     Data_Y Prediction\n",
       "0       Yes        Yes\n",
       "1        No        Yes\n",
       "2       Yes        Yes\n",
       "3       Yes        Yes\n",
       "4        No         No\n",
       "...     ...        ...\n",
       "1995     No         No\n",
       "1996    Yes        Yes\n",
       "1997    Yes        Yes\n",
       "1998    Yes        Yes\n",
       "1999    Yes         No\n",
       "\n",
       "[2000 rows x 2 columns]"
      ]
     },
     "execution_count": 7,
     "metadata": {},
     "output_type": "execute_result"
    }
   ],
   "source": [
    "compare"
   ]
  },
  {
   "cell_type": "code",
   "execution_count": 8,
   "id": "5a92e562",
   "metadata": {},
   "outputs": [
    {
     "data": {
      "text/plain": [
       "LabelEncoder()"
      ]
     },
     "execution_count": 8,
     "metadata": {},
     "output_type": "execute_result"
    }
   ],
   "source": [
    "# To draw the graph Let's convert Yes and No to 1 and 0\n",
    "from sklearn.preprocessing import LabelEncoder\n",
    "RainEncoder = LabelEncoder()\n",
    "RainEncoder.fit(['Yes','No'])"
   ]
  },
  {
   "cell_type": "code",
   "execution_count": 9,
   "id": "2c1c1216",
   "metadata": {},
   "outputs": [],
   "source": [
    "compare['Data_Y'] = RainEncoder.transform(compare['Data_Y'])\n",
    "compare['Prediction'] = RainEncoder.transform(compare['Prediction'])"
   ]
  },
  {
   "cell_type": "code",
   "execution_count": 10,
   "id": "646c07a1",
   "metadata": {},
   "outputs": [
    {
     "data": {
      "text/plain": [
       "<AxesSubplot:ylabel='Density'>"
      ]
     },
     "execution_count": 10,
     "metadata": {},
     "output_type": "execute_result"
    },
    {
     "data": {
      "image/png": "[encoded data removed]",
      "text/plain": [
       "<Figure size 432x288 with 1 Axes>"
      ]
     },
     "metadata": {
      "needs_background": "light"
     },
     "output_type": "display_data"
    }
   ],
   "source": [
    "compare.plot(kind='density')"
   ]
  },
  {
   "cell_type": "code",
   "execution_count": 11,
   "id": "9d9bb1fe",
   "metadata": {},
   "outputs": [
    {
     "name": "stdout",
     "output_type": "stream",
     "text": [
      "Accuracy =  88.9 %\n"
     ]
    }
   ],
   "source": [
    "from sklearn.metrics import accuracy_score\n",
    "Percentage_accuracy = accuracy_score(test_y,Hypothesis)*100\n",
    "print('Accuracy = ',Percentage_accuracy,'%')"
   ]
  },
  {
   "cell_type": "code",
   "execution_count": null,
   "id": "02bc36d9",
   "metadata": {},
   "outputs": [],
   "source": []
  }
 ],
 "metadata": {
  "kernelspec": {
   "display_name": "Python 3 (ipykernel)",
   "language": "python",
   "name": "python3"
  },
  "language_info": {
   "codemirror_mode": {
    "name": "ipython",
    "version": 3
   },
   "file_extension": ".py",
   "mimetype": "text/x-python",
   "name": "python",
   "nbconvert_exporter": "python",
   "pygments_lexer": "ipython3",
   "version": "3.9.2"
  }
 },
 "nbformat": 4,
 "nbformat_minor": 5
}
