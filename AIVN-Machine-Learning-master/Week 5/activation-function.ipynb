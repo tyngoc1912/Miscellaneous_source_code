{
 "cells": [
  {
   "cell_type": "markdown",
   "metadata": {},
   "source": [
    "Trong bài này, chúng ta sẽ tìm hiểu về các hàm activation phổ biến trong machine learning và cài đặt các hàm này với input là danh sách các giá trị số (Việc cài đặt chi tiết từng hàm sẽ có trong phần bài tập tuần này). Activation Function giúp đưa các giá trị đầu vào về khoảng [0,1] hay [-1,1] (tuỳ thuộc vào các hàm).\n",
    "\n",
    "<img src=\"images/activation-function-2.png\" style=\"width:50%;height:50%;\">"
   ]
  },
  {
   "cell_type": "markdown",
   "metadata": {},
   "source": [
    "### 1. Hàm sigmoid (logistic)"
   ]
  },
  {
   "cell_type": "markdown",
   "metadata": {},
   "source": [
    "Hàm sigmoid có hình dạng như sau: \n",
    "\n",
    "<img src=\"images/sigmoid_function.png\" style=\"width:50%;height:50%;\">\n",
    "\n",
    "\n",
    "**Phân tích hàm sigmoid:**\n",
    "\n",
    "- Giá trị $x \\in R$ và $y \\in (0, 1)$. Chúng ta có thể hình dùng hàm sigmoid giống như hàm ánh xạ từ $(-\\infty , \\infty) \\rightarrow (0, 1)$.\n",
    "\n",
    "- Hàm sigmoid là hàm không giảm (monotonic increasing), nghĩa là nếu $x_1 \\leq x_2$ thì $f(x_1) \\leq  f(x_2)$. Chúng ta thường dùng tính chất này khi chúng ta quan tâm đến thứ tự lớn hơn, nhỏ hơn, hơn là giá trị độ lớn của chúng.\n",
    "\n",
    "- Hàm sigmoid có độ dốc (tương đương với đạo hàm) lớn xung quanh giá trị $x = 0$ và độ dốc rất nhỏ ở 2 đầu. Điều này gây ra vấn đề khi tính toán dựa vào giá trị đạo hàm. Vì giá trị đạo hàm quả nhỏ nên hầu như nó không có hữu ích gì.\n",
    "\n",
    "*Ví dụ về tính sigmoid cho một danh sách các số:*\n",
    "\n",
    "<img src=\"images/activation-sigmoid.png\" style=\"width:30%;height:30%;\">\n",
    "\n",
    "Đồ thị hàm sigmoid và đạo hàm của nó như sau:\n",
    "\n",
    "<img src=\"images/chap2_activation_sigmoid_plot.png\" style=\"width:50%;height:50%;\">\n",
    "\n",
    "Cài đặt hàm Sigmoid:"
   ]
  },
  {
   "cell_type": "code",
   "execution_count": 1,
   "metadata": {},
   "outputs": [
    {
     "name": "stdout",
     "output_type": "stream",
     "text": [
      "[0.73105858 0.99330715 0.01798621 0.95257413 0.11920292]\n"
     ]
    }
   ],
   "source": [
    "import numpy as np \n",
    "\n",
    "def sigmoid_function(data):\n",
    "    result = 1 / (1 + np.exp(-data))\n",
    "    return result\n",
    "data = np.asarray([1,5,-4,3,-2])\n",
    "\n",
    "result = sigmoid_function(data)\n",
    "print(result)"
   ]
  },
  {
   "cell_type": "markdown",
   "metadata": {},
   "source": [
    "### 2. Hàm tanh "
   ]
  },
  {
   "cell_type": "markdown",
   "metadata": {},
   "source": [
    "Ví dụ về tính `tanh` cho một danh sách:\n",
    "<img src=\"images/activation_tanh.png\" style=\"width:30%;height:30%;\">\n",
    "\n",
    "Đồ thị hàm `tanh` và đạo hàm của nó như sau:\n",
    "<img src=\"images/chap2_activation_tanh_plot.png\" style=\"width:50%;height:50%;\">"
   ]
  },
  {
   "cell_type": "markdown",
   "metadata": {},
   "source": [
    "### 3. Hàm ReLU"
   ]
  },
  {
   "cell_type": "markdown",
   "metadata": {},
   "source": [
    "Ví dụ về tính `ReLU` cho một danh sách:\n",
    "<img src=\"images/activation_relu.png\" style=\"width:30%;height:30%;\">\n",
    "\n",
    "Đồ thị hàm `ReLU` và đạo hàm của nó như sau:\n",
    "<img src=\"images/chap2_activation_relu_plot.png\" style=\"width:50%;height:50%;\">"
   ]
  },
  {
   "cell_type": "markdown",
   "metadata": {},
   "source": [
    "### 4. Hàm PReLU"
   ]
  },
  {
   "cell_type": "markdown",
   "metadata": {},
   "source": [
    "<img src=\"images/chap2_activation_prelu.png\" style=\"width:30%;height:30%;\">\n",
    "\n",
    "Ví dụ về tính `PReLU` cho một danh sách với $\\alpha = 0.1$.\n",
    "\n",
    "<img src=\"images/activation_prelu.png\" style=\"width:30%;height:30%;\">\n"
   ]
  },
  {
   "cell_type": "markdown",
   "metadata": {},
   "source": [
    "### 5. Hàm ELU"
   ]
  },
  {
   "cell_type": "markdown",
   "metadata": {},
   "source": [
    "<img src=\"images/chap2_activation_elu.png\" style=\"width:30%;height:30%;\">\n",
    "\n",
    "Ví dụ về tính `ELU` cho một danh sách với $\\alpha = 0.1$.\n",
    "\n",
    "<img src=\"images/activation_elu.png\" style=\"width:30%;height:30%;\">\n"
   ]
  },
  {
   "cell_type": "markdown",
   "metadata": {},
   "source": [
    "### 6. Hàm Softplus"
   ]
  },
  {
   "cell_type": "markdown",
   "metadata": {},
   "source": [
    "<img src=\"images/chap2_activation_softplus.png\" style=\"width:30%;height:30%;\">\n",
    "\n",
    "Ví dụ về tính `Softplus` cho một danh sách.\n",
    "\n",
    "<img src=\"images/activation_softplus.png\" style=\"width:30%;height:30%;\">\n"
   ]
  }
 ],
 "metadata": {
  "kernelspec": {
   "display_name": "Python 3",
   "language": "python",
   "name": "python3"
  },
  "language_info": {
   "codemirror_mode": {
    "name": "ipython",
    "version": 3
   },
   "file_extension": ".py",
   "mimetype": "text/x-python",
   "name": "python",
   "nbconvert_exporter": "python",
   "pygments_lexer": "ipython3",
   "version": "3.7.3"
  }
 },
 "nbformat": 4,
 "nbformat_minor": 2
}
