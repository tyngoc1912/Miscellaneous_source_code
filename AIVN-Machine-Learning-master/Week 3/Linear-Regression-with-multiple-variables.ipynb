{
 "cells": [
  {
   "cell_type": "markdown",
   "metadata": {},
   "source": [
    "Trong bài trước, chúng ta đã tìm hiểu về bài toán hồi quy tuyến tính đơn biến. Nhắc lại bài toán hồi quy tuyến tính đơn biến (chỉ có 1 đặc trưng (feature)) ta có hàm dự đoán: \n",
    "\n",
    "<center> $\\hat{y} = h_{\\theta}(x) = \\theta_0 + \\theta_1{x}$ </center>"
   ]
  },
  {
   "cell_type": "markdown",
   "metadata": {},
   "source": [
    "Bây giờ, chúng ta xét bài toán dự đoán doanh thu bán hàng (Sales) dựa trên số tiền cho quảng cáo:\n",
    "\n",
    "<img src=\"images/image-1.png\" style=\"width:70%;height:70%;\">"
   ]
  },
  {
   "cell_type": "markdown",
   "metadata": {},
   "source": [
    "Trong bài toán này, chúng ta có đến 3 đặc trưng (3 features): TV, Radio, Newspaper để thực hiện dự đoán doanh thu (Sales). Khi đó, hàm dự đoán:\n",
    "\n",
    "<br><center> $\\hat{y} = h_{\\theta}(x) = \\theta_0 + \\theta_1{x_1} + \\theta_2{x_2} + \\theta_3{x_3}$ </center>\n",
    "\n",
    "Với: $x_1$ - TV; $x_2$ - Radio; $x_3$ - Newspaper."
   ]
  },
  {
   "cell_type": "markdown",
   "metadata": {},
   "source": [
    "**Chú ý:** Một vài ký hiệu cần nhớ \n",
    "\n",
    "> n: số đặc trưng (features)\n",
    "><br> m: số lượng ví dụ đào tạo \n",
    "><br> $x^{(i)}$: vector cột của tất cả giá trị ở vị trí $i^{th}$ training example (ví dụ đào tạo)\n",
    "><br> $x^{(i)}_j$: giá trị của feature $j$ trong $i^{th}$ training example (ví dụ đào tạo)"
   ]
  },
  {
   "cell_type": "markdown",
   "metadata": {},
   "source": [
    "Trong bài toán trên ta có:\n",
    "\n",
    "> n: 3 (gồm 3 đặc trưng: TV, Radio, Newspaper)\n",
    "><br><br> m: 200 (200 entries)\n",
    "><br><br> $x^{(1)} = \\begin{bmatrix} 203.1\\\\ 37.8\\\\  69.2\\end{bmatrix}$; $x^{(3)} = \\begin{bmatrix} 17.2\\\\ 45.9\\\\  69.3\\end{bmatrix}$\n",
    "><br><br> $x^{(1)}_2 = 37.8$ "
   ]
  },
  {
   "cell_type": "markdown",
   "metadata": {},
   "source": [
    "### 1. Bài toán hồi quy tuyến tính đa biến (Linear Regression with Multiple Variables)\n",
    "\n",
    "Trong bài toán hồi quy tuyến tính đa biến, chúng ta có nhiều đặc trưng (feature) hơn nên khi đó hàm giả thuyết của chúng ta có dạng:\n",
    "\n",
    "<br><center> $\\hat{y} = h_{\\theta}(x) = \\theta_0 + \\theta_1{x_1} + \\theta_2{x_2} + \\theta_3{x_3} + ... +    \\theta_n{x_n}$</center>\n"
   ]
  },
  {
   "cell_type": "markdown",
   "metadata": {},
   "source": [
    "Để thuận tiện cho việc tính toán, chúng ta coi $\\theta_0 \\times x_0$ với $x_0 = 1$. Khi đó:\n",
    "\n",
    "<br><center> $\\hat{y} = h_{\\theta}(x) = \\theta_0{x_0} + \\theta_1{x_1} + \\theta_2{x_2} + \\theta_3{x_3} + ... +    \\theta_n{x_n}$</center>\n",
    "\n",
    "**Chú ý:** $x_0 = 1$"
   ]
  },
  {
   "cell_type": "markdown",
   "metadata": {},
   "source": [
    "Thực hiện định nghĩa nhân ma trận, hàm giả thuyết khi này sẽ:\n",
    "\n",
    "<br><center>$h_{\\theta}(x) = \\begin{bmatrix}\n",
    "\\theta_0 & \\theta_1 & \\cdots & \\theta_n\n",
    "\\end{bmatrix}\\begin{bmatrix}\n",
    "x_0\\\\ \n",
    "x_1\\\\ \n",
    "\\vdots \\\\ \n",
    "x_n\n",
    "\\end{bmatrix} = \\theta^Tx$</center>\n",
    "\n",
    "Đây là phương thức Vector hoá để thực hiện tính toán nhanh hơn."
   ]
  },
  {
   "cell_type": "markdown",
   "metadata": {},
   "source": [
    "Các training example được lưu trữ theo hàng trong $X$ như sau:\n",
    "\n",
    ">$ X = \\begin{bmatrix}\n",
    " x_0^{(1)}& x_1 ^{(1)}\\\\ \n",
    " x_0^{(2)}& x_1^{(2)} \\\\ \n",
    " x_0^{(3)}& x_1^{(3)} \n",
    "\\end{bmatrix}; \\theta = \\begin{bmatrix}\n",
    "\\theta_0\\\\ \n",
    "\\theta_1\n",
    "\\end{bmatrix} $"
   ]
  },
  {
   "cell_type": "markdown",
   "metadata": {},
   "source": [
    "Chúng ta có thể tính toán hàm giả thuyết dưới dạng vector cột $(m \\times 1)$:\n",
    "\n",
    "> $h_{\\theta}(X) = X\\theta$"
   ]
  },
  {
   "cell_type": "markdown",
   "metadata": {},
   "source": [
    "### 2. Hàm mất mát - Cost Function \n",
    "\n",
    "Tương tự như trong bài toán hồi quy tuyến tính đơn biến, Cost Function của chúng ta có dạng:\n",
    "\n",
    "<br><center>$J(\\theta) = \\dfrac{1}{2m}  \\sum_{i = 1}^{m} {(h_{\\theta}(x^{(i)}) - y^{(i)})^2}$</center>"
   ]
  },
  {
   "cell_type": "markdown",
   "metadata": {},
   "source": [
    "Sử dụng Vector hoá:\n",
    "\n",
    "<br><center>$J(\\theta) = \\dfrac{1}{2m} (X\\theta - \\vec{y} )^T(X\\theta - \\vec{y})$</center>\n",
    "\n",
    "Với $\\vec{y}$ là vector của tất cả các giá trị $y$"
   ]
  },
  {
   "cell_type": "markdown",
   "metadata": {},
   "source": [
    "### 3. Gradient Descent cho bài toán Linear Regression "
   ]
  },
  {
   "cell_type": "markdown",
   "metadata": {},
   "source": [
    "> Thực hiện đạo hàm $J$ lần lượt theo các tham số $\\theta_0, \\theta_1 ... \\theta_n$ .\n",
    "> Lặp lại cho đến khi hội tụ:\n",
    ">\n",
    "> {\n",
    ">\n",
    "> $\\theta_0 := \\theta_0 - \\alpha \\dfrac{1}{m} \\sum_{i=1}^m {(h_{\\theta}(x^{(i)}) - y^{(i)})}.x_0^{(i)} $\n",
    ">\n",
    "> $\\theta_1 := \\theta_1 - \\alpha \\dfrac{1}{m} \\sum_{i=1}^m {(h_{\\theta}(x^{(i)}) -y^{(i)})}.x_1^{(i)} $\n",
    ">\n",
    "> $\\vdots$ \n",
    ">\n",
    "> $\\theta_n := \\theta_n - \\alpha \\dfrac{1}{m} \\sum_{i=1}^m {(h_{\\theta}(x^{(i)}) -y^{(i)})}.x_n^{(i)} $\n",
    "> \n",
    "> }"
   ]
  },
  {
   "cell_type": "markdown",
   "metadata": {},
   "source": [
    "Một cách biểu diễn khác:\n",
    "\n",
    "> $\\theta_j := \\theta_j - \\alpha \\dfrac{1}{m} \\sum_{i=1}^m {(h_{\\theta}(x^{(i)}) - y^{(i)})}.x_j^{(i)} $ for j := 0..n \n"
   ]
  },
  {
   "cell_type": "markdown",
   "metadata": {},
   "source": [
    "### 4. Gradient Descent thực hiện bằng Vector"
   ]
  },
  {
   "cell_type": "markdown",
   "metadata": {},
   "source": [
    "Công thức của Gradient Descent có thể biểu thị bằng Vector như sau:\n",
    "\n",
    "> $\\theta:= \\theta - \\alpha \\Delta{J(\\theta)}$\n",
    "\n",
    "trong đó, $\\Delta{J(\\theta)}$ là vector cột có dạng:\n",
    "\n",
    "> $\\Delta{J(\\theta)} = \\begin{bmatrix}\n",
    "\\frac{\\partial J(\\theta)}{\\partial \\theta_0}\\\\ \n",
    "\\frac{\\partial J(\\theta)}{\\partial \\theta_1}\\\\ \n",
    "\\vdots \\\\ \n",
    "\\frac{\\partial J(\\theta)}{\\partial \\theta_n}\n",
    "\\end{bmatrix}$"
   ]
  },
  {
   "cell_type": "markdown",
   "metadata": {},
   "source": [
    "Xét $\\frac{\\partial J(\\theta)}{\\partial \\theta_j}$ ở vị trí thứ $j$ ta có:\n",
    "\n",
    "> $\\frac{\\partial J(\\theta)}{\\partial \\theta_j} = \\frac{1}{m} \\sum_{i=1}^{m} (h_{\\theta}(x^{(i))}) - y^{(i)} ).x_j^{(i)} = \\frac{1}{m} \\sum_{i=1}^{m} x_j^{(i)}.(h_{\\theta}(x^{(i))}) - y^{(i)} )$\n",
    "\n",
    "Thực hiện vector hoá:\n",
    "\n",
    "> $\\frac{\\partial J(\\theta)}{\\partial \\theta_j} = \\frac{1}{m} \\vec{x_j}^T(X\\theta - \\vec{y})$\n",
    "\n",
    "khi đó:\n",
    "\n",
    "> $\\Delta {J(\\theta)} = \\frac{1}{m} X^T (X\\theta - \\vec{y})$\n",
    "\n",
    "Cuối cùng, vector hoá của Gradient Descent: \n",
    "\n",
    "> $\\theta:= \\theta - \\frac{\\alpha}{m} X^T (X\\theta - \\vec{y}) $\n",
    "\n"
   ]
  },
  {
   "cell_type": "markdown",
   "metadata": {},
   "source": [
    "### 5. Tổng kết \n",
    "\n",
    "1. Hàm giả thuyết\n",
    "\n",
    ">$h_{\\theta}(x) = \\begin{bmatrix}\n",
    "\\theta_0 & \\theta_1 & \\cdots & \\theta_n\n",
    "\\end{bmatrix}\\begin{bmatrix}\n",
    "x_0\\\\ \n",
    "x_1\\\\ \n",
    "\\vdots \\\\ \n",
    "x_n\n",
    "\\end{bmatrix} = \\theta^Tx$\n",
    "\n",
    "Tính toán hàm giả thuyết dưới dạng vector cột $(m \\times 1)$:\n",
    ">$h_{\\theta}(X) = X\\theta$\n",
    "\n",
    "2. Cost Function\n",
    "\n",
    "> $J(\\theta) = \\dfrac{1}{2m} (X\\theta - \\vec{y} )^T(X\\theta - \\vec{y})$\n",
    "\n",
    "3. Gradient Descent \n",
    "\n",
    "\n",
    "> $\\theta:= \\theta - \\frac{\\alpha}{m} X^T (X\\theta - \\vec{y}) $\n"
   ]
  },
  {
   "cell_type": "markdown",
   "metadata": {},
   "source": [
    "### Tài liệu tham khảo \n",
    "\n",
    "[1] [CS229 - Machine Learning Course](http://cs229.stanford.edu)\n"
   ]
  }
 ],
 "metadata": {
  "kernelspec": {
   "display_name": "Python 3",
   "language": "python",
   "name": "python3"
  },
  "language_info": {
   "codemirror_mode": {
    "name": "ipython",
    "version": 3
   },
   "file_extension": ".py",
   "mimetype": "text/x-python",
   "name": "python",
   "nbconvert_exporter": "python",
   "pygments_lexer": "ipython3",
   "version": "3.7.3"
  }
 },
 "nbformat": 4,
 "nbformat_minor": 2
}
