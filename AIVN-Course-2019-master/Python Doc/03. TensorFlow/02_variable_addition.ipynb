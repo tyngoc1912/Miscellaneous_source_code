{
 "cells": [
  {
   "cell_type": "markdown",
   "metadata": {},
   "source": [
    "![image.png](https://camo.githubusercontent.com/068330b94e95dc233a78a4800526fbcaae406f60/68747470733a2f2f6c68332e676f6f676c6575736572636f6e74656e742e636f6d2f32494c7978746e39452d55463376746a5f53714d61434f6c516c7653684877476b304878727a54444a45383147736a505041472d394357336e4878584f365a6c33515139506f56543069525a4759346d51356c6b49454749516a594363654773516f495649784e31702d7734414c37647458634157346d34515969726c6976506535796a4c2d524e37784f42724d6d4161303054504c4d4d51763231585957527637797a4e59704b7131314456394a57524a6d626d39663858745851416c35643231676b786b5136336f4a55736c73346a53347a58517869647951716365747268534157335172656d526f6c476e384f773159436d4843394f376274662d5a653755717a6e51684168726e33776e6c45544154514c6d513834543747366b6772443069516b743737574c547355587a5046693057706f534b5a6c70354452684b70556148564b634d777a306d72427075415f69766f4e49647a4c4d37364d6e755545664c33454c4d6b5f5661673767434b6643677642705444374d6d6e77575675566d7949674c57483354477444576675736378545349675450573856306731354c6a447749356b6a314c774a4b7970556a315574697068586e783149756f3678386b6737324635633664532d68513637495547747a51616733634154773869666646396277744a7758336177656867664a534f307763624f754d61685f57554548697953516b396f4b63466e58655f62754c784a6532416567657764486c333074636d374d5053527448434e785f536a6550746f41522d75624b44565536635748684b793179414870374b43464b38376a7563704b442d545a737a504d424b4850567a66574b34316a484a786466716c3271327867413541364b553149736c376657536242705836364143466a35724b71617a4b7a6768413863415a545345487472795a4378304e466e747639357773737741672d623345673d773430302d683330302d6e6f)"
   ]
  },
  {
   "cell_type": "code",
   "execution_count": 2,
   "metadata": {},
   "outputs": [],
   "source": [
    "import tensorflow as tf"
   ]
  },
  {
   "cell_type": "code",
   "execution_count": 3,
   "metadata": {},
   "outputs": [],
   "source": [
    "a = tf.Variable(4) # 4: gia tri se duoc khoi tao ban dau"
   ]
  },
  {
   "cell_type": "code",
   "execution_count": 4,
   "metadata": {},
   "outputs": [],
   "source": [
    "b = tf.Variable(5) # 5: gia tri se duoc khoi tao ban dau"
   ]
  },
  {
   "cell_type": "markdown",
   "metadata": {},
   "source": [
    "Chú ý: a, b chưa có giá trị đến khi nó **được khởi tạo trong phiên(session)**, tức là hàm itialize_all_variables() được chạy"
   ]
  },
  {
   "cell_type": "code",
   "execution_count": 15,
   "metadata": {},
   "outputs": [],
   "source": [
    "# Khởi tạo toàn bộ \n",
    "init = tf.global_variables_initializer()"
   ]
  },
  {
   "cell_type": "code",
   "execution_count": 16,
   "metadata": {},
   "outputs": [],
   "source": [
    "c = a + b"
   ]
  },
  {
   "cell_type": "code",
   "execution_count": 19,
   "metadata": {},
   "outputs": [
    {
     "name": "stdout",
     "output_type": "stream",
     "text": [
      "9\n"
     ]
    }
   ],
   "source": [
    "with tf.Session() as sess:\n",
    "    # initialize_all_variables lúc này mới chạy thực sự -> các node x và y mới bắt đầu có giá trị\n",
    "    sess.run(init)\n",
    "    sess.run(c) # Chạy Graph\n",
    "    print(c.eval())"
   ]
  }
 ],
 "metadata": {
  "kernelspec": {
   "display_name": "Python 3",
   "language": "python",
   "name": "python3"
  },
  "language_info": {
   "codemirror_mode": {
    "name": "ipython",
    "version": 3
   },
   "file_extension": ".py",
   "mimetype": "text/x-python",
   "name": "python",
   "nbconvert_exporter": "python",
   "pygments_lexer": "ipython3",
   "version": "3.7.3"
  }
 },
 "nbformat": 4,
 "nbformat_minor": 2
}
