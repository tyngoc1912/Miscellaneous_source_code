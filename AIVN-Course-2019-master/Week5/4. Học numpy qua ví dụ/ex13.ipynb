{
 "cells": [
  {
   "cell_type": "markdown",
   "metadata": {},
   "source": [
    "Cho mảng sau\n",
    "\n",
    "`arr = np.array([1, 7, 3, 9, 4, 8])`\n",
    "\n",
    "Tìm tất cả vị trí và giá trị của các phần tử có giá trị trong phạm vi cho trước."
   ]
  },
  {
   "cell_type": "code",
   "execution_count": 1,
   "metadata": {},
   "outputs": [
    {
     "name": "stdout",
     "output_type": "stream",
     "text": [
      "(array([1, 3, 4, 5]),)\n",
      "[7 9 4 8]\n"
     ]
    }
   ],
   "source": [
    "import numpy as np\n",
    "\n",
    "arr = np.array([1, 7, 3, 9, 4, 8])\n",
    "\n",
    "# value >= 4 in arr \n",
    "out = np.where(arr >= 4)\n",
    "print(out)\n",
    "\n",
    "# Value\n",
    "arr = arr[out[0]]\n",
    "print(arr)"
   ]
  }
 ],
 "metadata": {
  "kernelspec": {
   "display_name": "Python 3",
   "language": "python",
   "name": "python3"
  },
  "language_info": {
   "codemirror_mode": {
    "name": "ipython",
    "version": 3
   },
   "file_extension": ".py",
   "mimetype": "text/x-python",
   "name": "python",
   "nbconvert_exporter": "python",
   "pygments_lexer": "ipython3",
   "version": "3.7.3"
  }
 },
 "nbformat": 4,
 "nbformat_minor": 2
}
